{
 "cells": [
  {
   "cell_type": "code",
   "execution_count": 2,
   "id": "2ae51d87-b9cd-496d-a20e-74af9f1d4a31",
   "metadata": {
    "tags": []
   },
   "outputs": [],
   "source": [
    "import dust_emissivity\n",
    "from astropy import units as u\n",
    "from astropy import constants as const\n",
    "from matplotlib import pyplot as pl\n",
    "import numpy as np\n",
    "import regions\n",
    "from astropy.io import fits\n",
    "from astropy import wcs\n"
   ]
  },
  {
   "cell_type": "code",
   "execution_count": 3,
   "id": "d2cebc17-46f8-4a02-85cb-adc8b0ad5c3c",
   "metadata": {},
   "outputs": [
    {
     "name": "stdout",
     "output_type": "stream",
     "text": [
      "test\n"
     ]
    }
   ],
   "source": [
    "print('test')"
   ]
  },
  {
   "cell_type": "code",
   "execution_count": 4,
   "id": "1f0b51bd-ecbe-4f9e-a460-e804e8788de7",
   "metadata": {},
   "outputs": [],
   "source": [
    "#  Collision site\n",
    "pacs160 = 358.38372 * u.Jy\n",
    "pacs70  = 31.272129 * u.Jy\n",
    "her350  = 184.0481 * u.Jy\n",
    "her250  = 320.71168 * u.Jy\n",
    "her500  = 78.398848 * u.Jy\n",
    "bolo11  = 4.7052907 * u.Jy\n",
    "atlas850= 22.663 * u.Jy\n",
    "reg = regions.Regions.read('../G5/sum/spw17_12CO/ccc.reg')"
   ]
  },
  {
   "cell_type": "code",
   "execution_count": 62,
   "id": "77dfa44b-23d5-41cc-91fe-8f339ebd19a8",
   "metadata": {},
   "outputs": [],
   "source": [
    "# G5b \n",
    "pacs160 = 935.72057 * u.Jy #1695.505 * u.Jy #358.38372 * u.Jy\n",
    "pacs70  = 81.665705 * u.Jy #273.89817 * u.Jy #31.272129 * u.Jy\n",
    "her350  = 436.96762 * u.Jy #758.69611 * u.Jy #184.0481 * u.Jy\n",
    "her250  = 798.94536 * u.Jy #1399.1185 * u.Jy #320.71168 * u.Jy\n",
    "her500  = 175.17277 * u.Jy #334.23452 * u.Jy #78.398848 * u.Jy\n",
    "bolo11  = 8.5816241 * u.Jy #13.466688 * u.Jy #4.7052907 * u.Jy\n",
    "atlas850= 45.911349 * u.Jy #99.474503 * u.Jy #22.663 * u.Jy\n",
    "reg = regions.Regions.read('/orange/adamginsburg/cmz/g5/code/g5-lowvelo.reg')"
   ]
  },
  {
   "cell_type": "code",
   "execution_count": 90,
   "id": "54217a7b-a131-4834-9078-0c03dfce1fb6",
   "metadata": {},
   "outputs": [],
   "source": [
    "# G5a\n",
    "pacs160 = 1695.505 * u.Jy #358.38372 * u.Jy\n",
    "pacs70  = 273.89817 * u.Jy #31.272129 * u.Jy\n",
    "her350  = 758.69611 * u.Jy #184.0481 * u.Jy\n",
    "her250  = 1399.1185 * u.Jy #320.71168 * u.Jy\n",
    "her500  = 334.23452 * u.Jy #78.398848 * u.Jy\n",
    "bolo11  = 13.466688 * u.Jy #4.7052907 * u.Jy\n",
    "atlas850= 99.474503 * u.Jy #22.663 * u.Jy\n",
    "reg = regions.Regions.read('/orange/adamginsburg/cmz/g5/code/g5-highvelo.reg')\n"
   ]
  },
  {
   "cell_type": "code",
   "execution_count": null,
   "id": "fc8ffc83-138d-4ec3-8ec1-55559fb3a10b",
   "metadata": {},
   "outputs": [],
   "source": []
  },
  {
   "cell_type": "code",
   "execution_count": 91,
   "id": "0c436cc6-69cb-46c0-a04e-26d98a26d96e",
   "metadata": {},
   "outputs": [
    {
     "data": {
      "text/latex": [
       "$291.8161 \\; \\mathrm{{}^{\\prime\\prime}}$"
      ],
      "text/plain": [
       "<Quantity 291.8161 arcsec>"
      ]
     },
     "execution_count": 91,
     "metadata": {},
     "output_type": "execute_result"
    }
   ],
   "source": [
    "reg[0].width"
   ]
  },
  {
   "cell_type": "code",
   "execution_count": 92,
   "id": "397c2bcf-755b-4206-9629-5d4bbe119cf1",
   "metadata": {},
   "outputs": [
    {
     "data": {
      "text/latex": [
       "$80746.22 \\; \\mathrm{M_{\\odot}}$"
      ],
      "text/plain": [
       "<Quantity 80746.22047836 solMass>"
      ]
     },
     "execution_count": 92,
     "metadata": {},
     "output_type": "execute_result"
    }
   ],
   "source": [
    "area_as = reg[0].width*reg[0].height#195.4252*u.arcsec*163.3396*u.arcsec\n",
    "total_mass = 2e22*u.cm**-2 * (area_as*(7*u.kpc)**2).to(u.cm**2, u.dimensionless_angles()) * 2.8*u.Da\n",
    "total_mass.to(u.M_sun)"
   ]
  },
  {
   "cell_type": "code",
   "execution_count": 93,
   "id": "8edd9104-7153-46ae-8062-eb3e062b9b97",
   "metadata": {},
   "outputs": [],
   "source": [
    "freq = [160*u.micron, 70*u.micron, 350*u.micron, 250*u.micron, 500*u.micron, ]"
   ]
  },
  {
   "cell_type": "code",
   "execution_count": null,
   "id": "45a107e1-f865-43e0-b6b9-bba4174df78d",
   "metadata": {},
   "outputs": [],
   "source": []
  },
  {
   "cell_type": "code",
   "execution_count": 94,
   "id": "cc050aa9-d6ae-4929-b62e-455baf80f937",
   "metadata": {},
   "outputs": [],
   "source": [
    "# Error bars are quadrature sum of statistical uncertainty (background noise) and inherent uncertainty due to flux calibration \n",
    "err70  = np.sqrt((0.05 * pacs70)**2 + (0.0090522 * u.Jy)**2) # Hi-GAL\n",
    "err160 = np.sqrt((0.05 * pacs160)**2 + (0.022673243 * u.Jy)**2) # ---\n",
    "err250 = np.sqrt((0.05 * her250)**2 + (0.10495919 * u.Jy)**2) # ---\n",
    "err350 = np.sqrt((0.05 * her350)**2 + (0.10400883 * u.Jy)**2) # ---\n",
    "err500 = np.sqrt((0.05 * her500)**2 + (0.095411145 * u.Jy)**2) # Hi-GAL\n",
    "err850 = np.sqrt((0.15 * atlas850)**2 + (0.0022267786 * u.Jy)**2) # Atlasgal\n",
    "err11  = np.sqrt((0.20 * bolo11)**2 + (0.0024273499 * u.Jy)**2) # Bolocam"
   ]
  },
  {
   "cell_type": "code",
   "execution_count": 95,
   "id": "6dbac20b-c6a3-4dfb-9d43-f0b546bf30bf",
   "metadata": {
    "jupyter": {
     "source_hidden": true
    },
    "tags": []
   },
   "outputs": [
    {
     "data": {
      "text/plain": [
       "\"\\nsed = [(160*u.micron, pacs160, 'pacs', '160 um'), # pacsfn_1\\n(70*u.micron, pacs70, 'pacs', '70 um'), # pacsfn_1\\n(350*u.micron, her350, 'Herschel', '350 um'), # herfn_2\\n(250*u.micron, her250, 'Herschel', '250 um'), # herfn_1\\n(500*u.micron, her500, 'Herschel', '500 um'), # herfn_3\\n((1.1*u.mm).to(u.micron), bolo11, 'Bolocam' ,'1.1 mm'), # Bolocam\\n(850*u.micron, atlas850, 'ATLASGAL', '850 um')]      \\n#((353 * u.GHz).to(u.micron, equivalencies=u.spectral()), atlas850, 'ATLASGAL', '850 um')] # ATLASGAL\\n\""
      ]
     },
     "execution_count": 95,
     "metadata": {},
     "output_type": "execute_result"
    }
   ],
   "source": [
    "'''\n",
    "sed = [(160*u.micron, pacs160, 'pacs', '160 um'), # pacsfn_1\n",
    "(70*u.micron, pacs70, 'pacs', '70 um'), # pacsfn_1\n",
    "(350*u.micron, her350, 'Herschel', '350 um'), # herfn_2\n",
    "(250*u.micron, her250, 'Herschel', '250 um'), # herfn_1\n",
    "(500*u.micron, her500, 'Herschel', '500 um'), # herfn_3\n",
    "((1.1*u.mm).to(u.micron), bolo11, 'Bolocam' ,'1.1 mm'), # Bolocam\n",
    "(850*u.micron, atlas850, 'ATLASGAL', '850 um')]      \n",
    "#((353 * u.GHz).to(u.micron, equivalencies=u.spectral()), atlas850, 'ATLASGAL', '850 um')] # ATLASGAL\n",
    "'''"
   ]
  },
  {
   "cell_type": "code",
   "execution_count": 96,
   "id": "2b17e279-b9b8-4693-8e0b-13b3147dc484",
   "metadata": {},
   "outputs": [],
   "source": [
    "sed = [\n",
    "    (70*u.micron, pacs70, 'pacs', '70 um', err70), # pacsfn_1\n",
    "    (160*u.micron, pacs160, 'pacs', '160 um', err160), # pacsfn_1\n",
    "    (250*u.micron, her250, 'Herschel', '250 um', err250), # herfn_1\n",
    "    (350*u.micron, her350, 'Herschel', '350 um', err350), # herfn_2\n",
    "    (500*u.micron, her500, 'Herschel', '500 um', err500), # herfn_3\n",
    "    (850*u.micron, atlas850, 'ATLASGAL', '850 um', err850),\n",
    "    ((1.1*u.mm).to(u.micron), bolo11, 'Bolocam' ,'1.1 mm', err11) # Bolocam\n",
    "]      \n",
    "#((353 * u.GHz).to(u.micron, equivalencies=u.spectral()), atlas850, 'ATLASGAL', '850 um')] # ATLASGAL"
   ]
  },
  {
   "cell_type": "code",
   "execution_count": 97,
   "id": "74d13100-3755-43df-844c-4488759d3047",
   "metadata": {
    "tags": []
   },
   "outputs": [
    {
     "data": {
      "text/plain": [
       "[(<Quantity 70. micron>,\n",
       "  <Quantity 273.89817 Jy>,\n",
       "  'pacs',\n",
       "  '70 um',\n",
       "  <Quantity 13.69491149 Jy>),\n",
       " (<Quantity 160. micron>,\n",
       "  <Quantity 1695.505 Jy>,\n",
       "  'pacs',\n",
       "  '160 um',\n",
       "  <Quantity 84.77525303 Jy>),\n",
       " (<Quantity 250. micron>,\n",
       "  <Quantity 1399.1185 Jy>,\n",
       "  'Herschel',\n",
       "  '250 um',\n",
       "  <Quantity 69.95600374 Jy>),\n",
       " (<Quantity 350. micron>,\n",
       "  <Quantity 758.69611 Jy>,\n",
       "  'Herschel',\n",
       "  '350 um',\n",
       "  <Quantity 37.93494808 Jy>),\n",
       " (<Quantity 500. micron>,\n",
       "  <Quantity 334.23452 Jy>,\n",
       "  'Herschel',\n",
       "  '500 um',\n",
       "  <Quantity 16.71199836 Jy>),\n",
       " (<Quantity 850. micron>,\n",
       "  <Quantity 99.474503 Jy>,\n",
       "  'ATLASGAL',\n",
       "  '850 um',\n",
       "  <Quantity 14.92117562 Jy>),\n",
       " (<Quantity 1100. micron>,\n",
       "  <Quantity 13.466688 Jy>,\n",
       "  'Bolocam',\n",
       "  '1.1 mm',\n",
       "  <Quantity 2.69333869 Jy>)]"
      ]
     },
     "execution_count": 97,
     "metadata": {},
     "output_type": "execute_result"
    }
   ],
   "source": [
    "sed"
   ]
  },
  {
   "cell_type": "code",
   "execution_count": 98,
   "id": "3ca981af-ca10-4534-aae4-79dbb04052c0",
   "metadata": {},
   "outputs": [
    {
     "data": {
      "text/plain": [
       "\"\\nmodfit = dust_emissivity.fit_sed.fit_modified_bb(xdata=u.Quantity([p[0] for p in sed]).to(u.Hz, u.spectral()),\\n                                        flux=u.Quantity([p[1] for p in sed]),\\n                                        error=u.Quantity([1*u.Jy for p in sed]),\\n                                        guesses=[15*u.K, 2, 1e18*u.cm**-2],\\n                                        fitter='lmfit'\\n                                       )\\n\""
      ]
     },
     "execution_count": 98,
     "metadata": {},
     "output_type": "execute_result"
    }
   ],
   "source": [
    "'''\n",
    "modfit = dust_emissivity.fit_sed.fit_modified_bb(xdata=u.Quantity([p[0] for p in sed]).to(u.Hz, u.spectral()),\n",
    "                                        flux=u.Quantity([p[1] for p in sed]),\n",
    "                                        error=u.Quantity([1*u.Jy for p in sed]),\n",
    "                                        guesses=[15*u.K, 2, 1e18*u.cm**-2],\n",
    "                                        fitter='lmfit'\n",
    "                                       )\n",
    "'''"
   ]
  },
  {
   "cell_type": "code",
   "execution_count": 99,
   "id": "843b8a72-8ce4-4d42-aa82-1d926bccd89f",
   "metadata": {},
   "outputs": [
    {
     "data": {
      "text/latex": [
       "$[3700542.6,~22907372,~18903019,~10250515,~4515798.6,~4031895.1,~727775.03] \\; \\mathrm{\\frac{Jy}{sr}}$"
      ],
      "text/plain": [
       "<Quantity [ 3700542.62576203, 22907372.39482096, 18903019.11906578,\n",
       "           10250514.76068871,  4515798.61106854,  4031895.08946507,\n",
       "             727775.03148611] Jy / sr>"
      ]
     },
     "execution_count": 99,
     "metadata": {},
     "output_type": "execute_result"
    }
   ],
   "source": [
    "u.Quantity([p[4]/area_as.to(u.sr) for p in sed])"
   ]
  },
  {
   "cell_type": "code",
   "execution_count": 100,
   "id": "cac1be60-70a6-4f19-8d21-8ac7b317a471",
   "metadata": {},
   "outputs": [
    {
     "data": {
      "text/latex": [
       "$[7401083.6,~45814743,~37805996,~20500952,~9031450,~2687930,~363887.37] \\; \\mathrm{\\frac{Jy}{sr}}$"
      ],
      "text/plain": [
       "<Quantity [ 7401083.63472787, 45814743.15107426, 37805995.6858967 ,\n",
       "           20500952.46511758,  9031450.03171479,  2687930.02971136,\n",
       "             363887.36796155] Jy / sr>"
      ]
     },
     "execution_count": 100,
     "metadata": {},
     "output_type": "execute_result"
    }
   ],
   "source": [
    "u.Quantity([p[1]*0.1/area_as.to(u.sr) for p in sed])"
   ]
  },
  {
   "cell_type": "code",
   "execution_count": 101,
   "id": "6e89462a-9fa2-4287-9079-d107968c4949",
   "metadata": {},
   "outputs": [
    {
     "data": {
      "text/latex": [
       "$[74010836,~4.5814743 \\times 10^{8},~3.7805996 \\times 10^{8},~2.0500952 \\times 10^{8},~90314500,~26879300,~3638873.7] \\; \\mathrm{\\frac{Jy}{sr}}$"
      ],
      "text/plain": [
       "<Quantity [7.40108363e+07, 4.58147432e+08, 3.78059957e+08, 2.05009525e+08,\n",
       "           9.03145003e+07, 2.68793003e+07, 3.63887368e+06] Jy / sr>"
      ]
     },
     "execution_count": 101,
     "metadata": {},
     "output_type": "execute_result"
    }
   ],
   "source": [
    "u.Quantity([p[1]/area_as.to(u.sr) for p in sed])"
   ]
  },
  {
   "cell_type": "code",
   "execution_count": 102,
   "id": "2c42fee3-4a46-4db5-a8cd-43579eacf350",
   "metadata": {},
   "outputs": [
    {
     "data": {
      "text/plain": [
       "[<Quantity 19.83803587 K>,\n",
       " 1.6252491652207572,\n",
       " <Quantity 3.21244358e+21 1 / cm2>]"
      ]
     },
     "execution_count": 102,
     "metadata": {},
     "output_type": "execute_result"
    }
   ],
   "source": [
    "modfit = dust_emissivity.fit_sed.fit_modified_bb(xdata=u.Quantity([p[0] for p in sed]).to(u.Hz, u.spectral()),\n",
    "                                        flux=u.Quantity([p[1]/area_as.to(u.sr) for p in sed]),\n",
    "                                        #error=u.Quantity([p[1]*0.1/area_as.to(u.sr) for p in sed]),\n",
    "                                        error=u.Quantity([p[4]/area_as.to(u.sr) for p in sed]),\n",
    "                                        guesses=[15*u.K, 2, 1e18*u.cm**-2],\n",
    "                                        fitter='lmfit'\n",
    "                                       )\n",
    "modfit"
   ]
  },
  {
   "cell_type": "code",
   "execution_count": 103,
   "id": "fcb6ec54-bf98-4200-bd14-851319b118a7",
   "metadata": {},
   "outputs": [],
   "source": [
    "freq = (np.linspace(70, 1100, num=50) * u.micron).to(u.Hz, u.spectral())"
   ]
  },
  {
   "cell_type": "code",
   "execution_count": 104,
   "id": "9445bc81-4533-4eed-9765-312d78acb4a9",
   "metadata": {},
   "outputs": [
    {
     "data": {
      "text/latex": [
       "$[7.052196 \\times 10^{-16},~2.2994188 \\times 10^{-15},~3.933647 \\times 10^{-15},~4.9566866 \\times 10^{-15},~5.3197265 \\times 10^{-15},~5.219631 \\times 10^{-15},~4.8618892 \\times 10^{-15},~4.391878 \\times 10^{-15},~3.8964346 \\times 10^{-15},~3.4215629 \\times 10^{-15},~2.9884064 \\times 10^{-15},~2.6041634 \\times 10^{-15},~2.2687509 \\times 10^{-15},~1.9786279 \\times 10^{-15},~1.7288887 \\times 10^{-15},~1.5143565 \\times 10^{-15},~1.3301162 \\times 10^{-15},~1.1717424 \\times 10^{-15},~1.0353678 \\times 10^{-15},~9.176719 \\times 10^{-16},~8.1583309 \\times 10^{-16},~7.2746836 \\times 10^{-16},~6.5057145 \\times 10^{-16},~5.8345548 \\times 10^{-16},~5.2470202 \\times 10^{-16},~4.7311728 \\times 10^{-16},~4.2769491 \\times 10^{-16},~3.8758493 \\times 10^{-16},~3.5206771 \\times 10^{-16},~3.205325 \\times 10^{-16},~2.9245954 \\times 10^{-16},~2.6740535 \\times 10^{-16},~2.4499047 \\times 10^{-16},~2.2488933 \\times 10^{-16},~2.0682181 \\times 10^{-16},~1.9054625 \\times 10^{-16},~1.7585364 \\times 10^{-16},~1.6256267 \\times 10^{-16},~1.5051573 \\times 10^{-16},~1.395754 \\times 10^{-16},~1.296216 \\times 10^{-16},~1.2054915 \\times 10^{-16},~1.1226572 \\times 10^{-16},~1.0469003 \\times 10^{-16},~9.7750421 \\times 10^{-17},~9.1383552 \\times 10^{-17},~8.5533325 \\times 10^{-17},~8.0149954 \\times 10^{-17},~7.5189171 \\times 10^{-17},~7.0611538 \\times 10^{-17}] \\; \\mathrm{\\frac{erg}{Hz\\,s\\,sr\\,cm^{2}}}$"
      ],
      "text/plain": [
       "<Quantity [7.05219597e-16, 2.29941879e-15, 3.93364699e-15, 4.95668663e-15,\n",
       "           5.31972646e-15, 5.21963101e-15, 4.86188917e-15, 4.39187797e-15,\n",
       "           3.89643462e-15, 3.42156288e-15, 2.98840641e-15, 2.60416339e-15,\n",
       "           2.26875093e-15, 1.97862787e-15, 1.72888868e-15, 1.51435653e-15,\n",
       "           1.33011622e-15, 1.17174239e-15, 1.03536782e-15, 9.17671902e-16,\n",
       "           8.15833090e-16, 7.27468355e-16, 6.50571449e-16, 5.83455478e-16,\n",
       "           5.24702021e-16, 4.73117276e-16, 4.27694914e-16, 3.87584932e-16,\n",
       "           3.52067714e-16, 3.20532496e-16, 2.92459538e-16, 2.67405351e-16,\n",
       "           2.44990474e-16, 2.24889330e-16, 2.06821805e-16, 1.90546251e-16,\n",
       "           1.75853636e-16, 1.62562673e-16, 1.50515729e-16, 1.39575396e-16,\n",
       "           1.29621596e-16, 1.20549152e-16, 1.12265717e-16, 1.04690029e-16,\n",
       "           9.77504212e-17, 9.13835523e-17, 8.55333247e-17, 8.01499538e-17,\n",
       "           7.51891712e-17, 7.06115379e-17] erg / (cm2 Hz s sr)>"
      ]
     },
     "execution_count": 104,
     "metadata": {},
     "output_type": "execute_result"
    }
   ],
   "source": [
    "du = dust_emissivity.blackbody.modified_blackbody(\n",
    "    #u.Quantity([p[0] for p in sed]).to(u.Hz, u.spectral()), \n",
    "    freq,\n",
    "    temperature = modfit[0], \n",
    "    beta = modfit[1], \n",
    "    column = modfit[2])\n",
    "du"
   ]
  },
  {
   "cell_type": "code",
   "execution_count": 105,
   "id": "347d85f6-fe9b-4684-b51f-be9eee71c3bb",
   "metadata": {},
   "outputs": [],
   "source": [
    "#be = 1.1744228 * 10**(-8) * u.sr\n",
    "#pixarea = 2.6813453 * 10**(-10) * u.sr"
   ]
  },
  {
   "cell_type": "code",
   "execution_count": 106,
   "id": "645b362c-432d-4031-867f-350197e2ca8c",
   "metadata": {},
   "outputs": [
    {
     "data": {
      "text/latex": [
       "$[70521960,~2.2994188 \\times 10^{8},~3.933647 \\times 10^{8},~4.9566866 \\times 10^{8},~5.3197265 \\times 10^{8},~5.219631 \\times 10^{8},~4.8618892 \\times 10^{8},~4.391878 \\times 10^{8},~3.8964346 \\times 10^{8},~3.4215629 \\times 10^{8},~2.9884064 \\times 10^{8},~2.6041634 \\times 10^{8},~2.2687509 \\times 10^{8},~1.9786279 \\times 10^{8},~1.7288887 \\times 10^{8},~1.5143565 \\times 10^{8},~1.3301162 \\times 10^{8},~1.1717424 \\times 10^{8},~1.0353678 \\times 10^{8},~91767190,~81583309,~72746836,~65057145,~58345548,~52470202,~47311728,~42769491,~38758493,~35206771,~32053250,~29245954,~26740535,~24499047,~22488933,~20682181,~19054625,~17585364,~16256267,~15051573,~13957540,~12962160,~12054915,~11226572,~10469003,~9775042.1,~9138355.2,~8553332.5,~8014995.4,~7518917.1,~7061153.8] \\; \\mathrm{\\frac{Jy}{sr}}$"
      ],
      "text/plain": [
       "<Quantity [7.05219597e+07, 2.29941879e+08, 3.93364699e+08, 4.95668663e+08,\n",
       "           5.31972646e+08, 5.21963101e+08, 4.86188917e+08, 4.39187797e+08,\n",
       "           3.89643462e+08, 3.42156288e+08, 2.98840641e+08, 2.60416339e+08,\n",
       "           2.26875093e+08, 1.97862787e+08, 1.72888868e+08, 1.51435653e+08,\n",
       "           1.33011622e+08, 1.17174239e+08, 1.03536782e+08, 9.17671902e+07,\n",
       "           8.15833090e+07, 7.27468355e+07, 6.50571449e+07, 5.83455478e+07,\n",
       "           5.24702021e+07, 4.73117276e+07, 4.27694914e+07, 3.87584932e+07,\n",
       "           3.52067714e+07, 3.20532496e+07, 2.92459538e+07, 2.67405351e+07,\n",
       "           2.44990474e+07, 2.24889330e+07, 2.06821805e+07, 1.90546251e+07,\n",
       "           1.75853636e+07, 1.62562673e+07, 1.50515729e+07, 1.39575396e+07,\n",
       "           1.29621596e+07, 1.20549152e+07, 1.12265717e+07, 1.04690029e+07,\n",
       "           9.77504212e+06, 9.13835523e+06, 8.55333247e+06, 8.01499538e+06,\n",
       "           7.51891712e+06, 7.06115379e+06] Jy / sr>"
      ]
     },
     "execution_count": 106,
     "metadata": {},
     "output_type": "execute_result"
    }
   ],
   "source": [
    "du.to(u.Jy / u.sr)\n",
    "#    10−23 erg⋅s−1⋅cm−2⋅Hz−1"
   ]
  },
  {
   "cell_type": "code",
   "execution_count": 107,
   "id": "2ee0579b-8b94-46f5-b8f4-c141ea80bca3",
   "metadata": {},
   "outputs": [
    {
     "data": {
      "text/plain": [
       "\"\\n#pl.loglog(u.Quantity([p[0] for p in sed]).to(u.Hz, u.spectral()), du.to(u.Jy / u.sr))\\nfig, ax1 = pl.subplots()\\npl.yscale('log')\\n\\nax2 = ax1.twinx()\\npl.yscale('log')\\n\\nax1.plot(freq.to(u.micron, u.spectral()), du.to(u.Jy / u.sr), color='green')\\nax2.scatter(u.Quantity([p[0] for p in sed]).to(u.micron, u.spectral()), u.Quantity([p[1] for p in sed]), color='blue')\\n\\nax1.set_xlabel('Wavelength ($\\\\mu$m)')\\nax1.set_ylabel('Jy/ster', color='green')\\nax2.set_ylabel('Jy', color='blue')\\n\\npl.show()\\n\\n\\n#pl.loglog(freq.to(u.micron, u.spectral()), du.to(u.Jy / u.sr), color='orange')\\n#pl.scatter(u.Quantity([p[0] for p in sed]).to(u.micron, u.spectral()), u.Quantity([p[1] for p in sed]))\\n#pl.xlabel('Wavelength ($\\\\mu$m)')\\n\""
      ]
     },
     "execution_count": 107,
     "metadata": {},
     "output_type": "execute_result"
    }
   ],
   "source": [
    "'''\n",
    "#pl.loglog(u.Quantity([p[0] for p in sed]).to(u.Hz, u.spectral()), du.to(u.Jy / u.sr))\n",
    "fig, ax1 = pl.subplots()\n",
    "pl.yscale('log')\n",
    "\n",
    "ax2 = ax1.twinx()\n",
    "pl.yscale('log')\n",
    "\n",
    "ax1.plot(freq.to(u.micron, u.spectral()), du.to(u.Jy / u.sr), color='green')\n",
    "ax2.scatter(u.Quantity([p[0] for p in sed]).to(u.micron, u.spectral()), u.Quantity([p[1] for p in sed]), color='blue')\n",
    "\n",
    "ax1.set_xlabel('Wavelength ($\\mu$m)')\n",
    "ax1.set_ylabel('Jy/ster', color='green')\n",
    "ax2.set_ylabel('Jy', color='blue')\n",
    "\n",
    "pl.show()\n",
    "\n",
    "\n",
    "#pl.loglog(freq.to(u.micron, u.spectral()), du.to(u.Jy / u.sr), color='orange')\n",
    "#pl.scatter(u.Quantity([p[0] for p in sed]).to(u.micron, u.spectral()), u.Quantity([p[1] for p in sed]))\n",
    "#pl.xlabel('Wavelength ($\\mu$m)')\n",
    "'''"
   ]
  },
  {
   "cell_type": "code",
   "execution_count": 108,
   "id": "d87d6c45-5f2f-4dac-ac34-d55edfa39553",
   "metadata": {},
   "outputs": [
    {
     "data": {
      "image/png": "[encoded data removed]",
      "text/plain": [
       "<Figure size 864x576 with 1 Axes>"
      ]
     },
     "metadata": {
      "needs_background": "light"
     },
     "output_type": "display_data"
    }
   ],
   "source": [
    "pl.figure(figsize=(12,8))\n",
    "pl.rcParams.update({'font.size': 18})\n",
    "pl.plot(freq.to(u.micron, u.spectral()), (du*area_as).to(u.Jy))#, color='#de541e')\n",
    "pl.scatter(u.Quantity([p[0] for p in sed]).to(u.micron, u.spectral()), u.Quantity([p[1] for p in sed]))#, color='#ad2831')\n",
    "pl.errorbar(x=u.Quantity([p[0] for p in sed]).to(u.micron, u.spectral()), y=u.Quantity([p[1] for p in sed]), yerr=u.Quantity([p[4] for p in sed]), fmt='o')#, color='#ad2831')\n",
    "\n",
    "pl.xlabel('Wavelength ($\\mu$m)')\n",
    "pl.ylabel('Jy')\n",
    "pl.yscale('log')\n",
    "#pl.savefig('./plots/sed.pdf')\n",
    "#pl.savefig('./plots/sed.png')"
   ]
  },
  {
   "cell_type": "code",
   "execution_count": 109,
   "id": "7dc248cf-c0cb-4a1a-91fa-4f08cf1c28dc",
   "metadata": {},
   "outputs": [
    {
     "data": {
      "text/plain": [
       "Text(0, 0.5, 'Jy')"
      ]
     },
     "execution_count": 109,
     "metadata": {},
     "output_type": "execute_result"
    },
    {
     "data": {
      "image/png": "[encoded data removed]",
      "text/plain": [
       "<Figure size 432x288 with 1 Axes>"
      ]
     },
     "metadata": {
      "needs_background": "light"
     },
     "output_type": "display_data"
    }
   ],
   "source": [
    "pl.loglog(freq.to(u.micron, u.spectral()), (du*area_as).to(u.Jy))#, color='green')\n",
    "pl.scatter(u.Quantity([p[0] for p in sed]).to(u.micron, u.spectral()), u.Quantity([p[1] for p in sed]))#, color='blue')\n",
    "pl.errorbar(x=u.Quantity([p[0] for p in sed]).to(u.micron, u.spectral()), y=u.Quantity([p[1] for p in sed]), yerr=u.Quantity([p[4] for p in sed]), fmt='o')\n",
    "\n",
    "pl.xlabel('Wavelength ($\\mu$m)')\n",
    "pl.ylabel('Jy')"
   ]
  },
  {
   "cell_type": "code",
   "execution_count": 110,
   "id": "d4630c70-ad8e-4e53-bd59-fa0dbf4c6dd9",
   "metadata": {},
   "outputs": [
    {
     "data": {
      "text/latex": [
       "$1347.6978 \\; \\mathrm{\\frac{u}{cm^{3}}}$"
      ],
      "text/plain": [
       "<Quantity 1347.69784035 u / cm3>"
      ]
     },
     "execution_count": 110,
     "metadata": {},
     "output_type": "execute_result"
    }
   ],
   "source": [
    "area = (area_as*(7*u.kpc)**2).to(u.cm**2, u.dimensionless_angles()) \n",
    "density = total_mass/(area**1.5) # very coarsely\n",
    "density"
   ]
  },
  {
   "cell_type": "code",
   "execution_count": 111,
   "id": "3f3be041-e74f-4758-a46d-ebd41f972e05",
   "metadata": {},
   "outputs": [
    {
     "data": {
      "text/latex": [
       "$13.466197 \\; \\mathrm{pc}$"
      ],
      "text/plain": [
       "<Quantity 13.46619656 pc>"
      ]
     },
     "execution_count": 111,
     "metadata": {},
     "output_type": "execute_result"
    }
   ],
   "source": [
    "column_density = modfit[2]\n",
    "(area**0.5).to(u.pc)\n"
   ]
  },
  {
   "cell_type": "code",
   "execution_count": 112,
   "id": "44b7ddaf-809e-447e-9323-933fd8c6c68b",
   "metadata": {},
   "outputs": [
    {
     "data": {
      "text/latex": [
       "$6.8927243 \\times 10^{18} \\; \\mathrm{\\frac{km\\,s}{K\\,cm^{2}}}$"
      ],
      "text/plain": [
       "<Quantity 6.89272434e+18 km s / (cm2 K)>"
      ]
     },
     "execution_count": 112,
     "metadata": {},
     "output_type": "execute_result"
    }
   ],
   "source": [
    "# X_CO Calculation \n",
    "WCO = 466.06297*u.K/u.km/u.s #300*u.K/u.km/u.s\n",
    "XCO = column_density / WCO\n",
    "XCO"
   ]
  },
  {
   "cell_type": "code",
   "execution_count": 113,
   "id": "6ba6dfed-454f-4b4b-a5db-64b7f9cadef2",
   "metadata": {},
   "outputs": [
    {
     "data": {
      "text/latex": [
       "$12969.634 \\; \\mathrm{M_{\\odot}}$"
      ],
      "text/plain": [
       "<Quantity 12969.63387649 solMass>"
      ]
     },
     "execution_count": 113,
     "metadata": {},
     "output_type": "execute_result"
    }
   ],
   "source": [
    "#column_density* 2.8*u.Da\n",
    "mass_t = (area * column_density * 2.8*u.Da).to(u.M_sun)\n",
    "mass_t"
   ]
  },
  {
   "cell_type": "code",
   "execution_count": 114,
   "id": "828b3787-c815-4dc4-b778-6f87d5f4c044",
   "metadata": {},
   "outputs": [
    {
     "data": {
      "text/latex": [
       "$216.47016 \\; \\mathrm{\\frac{u}{cm^{3}}}$"
      ],
      "text/plain": [
       "<Quantity 216.4701637 u / cm3>"
      ]
     },
     "execution_count": 114,
     "metadata": {},
     "output_type": "execute_result"
    }
   ],
   "source": [
    "density_1 = mass_t/(area**1.5) # very coarsely\n",
    "density_1.to(u.Da / u.cm**3)"
   ]
  },
  {
   "cell_type": "code",
   "execution_count": 115,
   "id": "75cf0d66-be0e-4441-816d-776b828937fb",
   "metadata": {},
   "outputs": [
    {
     "data": {
      "text/latex": [
       "$3.2124436 \\times 10^{21} \\; \\mathrm{\\frac{1}{cm^{2}}}$"
      ],
      "text/plain": [
       "<Quantity 3.21244358e+21 1 / cm2>"
      ]
     },
     "execution_count": 115,
     "metadata": {},
     "output_type": "execute_result"
    }
   ],
   "source": [
    "column_density"
   ]
  },
  {
   "cell_type": "code",
   "execution_count": 116,
   "id": "c2c1caaf-a282-4bad-b643-762fe0c26c9c",
   "metadata": {},
   "outputs": [
    {
     "data": {
      "text/latex": [
       "$181.33845 \\; \\mathrm{pc^{2}}$"
      ],
      "text/plain": [
       "<Quantity 181.33844978 pc2>"
      ]
     },
     "execution_count": 116,
     "metadata": {},
     "output_type": "execute_result"
    }
   ],
   "source": [
    "area.to(u.pc**2)"
   ]
  },
  {
   "cell_type": "code",
   "execution_count": 117,
   "id": "b74eb28f-5409-4d1c-8577-a7a8a1ede07c",
   "metadata": {},
   "outputs": [
    {
     "data": {
      "text/latex": [
       "$43.736254 \\; \\mathrm{arcmin^{2}}$"
      ],
      "text/plain": [
       "<Quantity 43.73625412 arcmin2>"
      ]
     },
     "execution_count": 117,
     "metadata": {},
     "output_type": "execute_result"
    }
   ],
   "source": [
    "area_as.to(u.arcmin**2)"
   ]
  },
  {
   "cell_type": "code",
   "execution_count": null,
   "id": "c3566d5d-22ff-4ec9-9a98-499ad743db52",
   "metadata": {},
   "outputs": [],
   "source": []
  },
  {
   "cell_type": "code",
   "execution_count": null,
   "id": "9958056f-6ebc-49e1-99bb-62029388f595",
   "metadata": {},
   "outputs": [],
   "source": []
  },
  {
   "cell_type": "code",
   "execution_count": null,
   "id": "7e6b7223-3cde-49ef-a913-075347fbf339",
   "metadata": {},
   "outputs": [],
   "source": []
  },
  {
   "cell_type": "code",
   "execution_count": null,
   "id": "9f1d673a-93a3-4310-8a2a-d6dd48d26ea2",
   "metadata": {},
   "outputs": [],
   "source": []
  },
  {
   "cell_type": "code",
   "execution_count": null,
   "id": "3df19339-61a8-486a-b2e6-f6baf8eb36d3",
   "metadata": {},
   "outputs": [],
   "source": []
  },
  {
   "cell_type": "code",
   "execution_count": null,
   "id": "96100f28-8fb5-4b80-b2f0-b3f98dae30ac",
   "metadata": {},
   "outputs": [],
   "source": []
  },
  {
   "cell_type": "code",
   "execution_count": null,
   "id": "3900fabe-a7a8-439c-a8cc-48ee335a3b36",
   "metadata": {},
   "outputs": [],
   "source": []
  },
  {
   "cell_type": "code",
   "execution_count": 16,
   "id": "7ed25f1d-ed0c-407f-ae2d-2c3a288c1d83",
   "metadata": {},
   "outputs": [],
   "source": [
    "sed_nobolo = [\n",
    "    (70*u.micron, pacs70, 'pacs', '70 um'), # pacsfn_1\n",
    "    (160*u.micron, pacs160, 'pacs', '160 um'), # pacsfn_1\n",
    "    (250*u.micron, her250, 'Herschel', '250 um'), # herfn_1\n",
    "    (350*u.micron, her350, 'Herschel', '350 um'), # herfn_2\n",
    "    (500*u.micron, her500, 'Herschel', '500 um'), # herfn_3\n",
    "    (850*u.micron, atlas850, 'ATLASGAL', '850 um')#,\n",
    "    #((1.1*u.mm).to(u.micron), bolo11, 'Bolocam' ,'1.1 mm') # Bolocam\n",
    "] "
   ]
  },
  {
   "cell_type": "code",
   "execution_count": 17,
   "id": "359802af-e63b-4240-ae12-6639366e5aaf",
   "metadata": {},
   "outputs": [
    {
     "data": {
      "text/plain": [
       "[<Quantity 16.13994505 K>,\n",
       " 1.8170865229324795,\n",
       " <Quantity 4.79698333e+15 1 / cm2>]"
      ]
     },
     "execution_count": 17,
     "metadata": {},
     "output_type": "execute_result"
    }
   ],
   "source": [
    "modfit_nobolo = dust_emissivity.fit_sed.fit_modified_bb(xdata=u.Quantity([p[0] for p in sed_nobolo]).to(u.Hz, u.spectral()),\n",
    "                                        flux=u.Quantity([p[1] for p in sed_nobolo]),\n",
    "                                        error=u.Quantity([1*u.Jy for p in sed_nobolo]),\n",
    "                                        guesses=[16*u.K, 1.5, 1e22*u.cm**-2],\n",
    "                                        fitter='lmfit'\n",
    "                                       )\n",
    "modfit_nobolo"
   ]
  },
  {
   "cell_type": "code",
   "execution_count": 18,
   "id": "250f53db-1432-4c3b-9f9c-e092612986b3",
   "metadata": {},
   "outputs": [
    {
     "data": {
      "text/latex": [
       "$[1.4920001 \\times 10^{-22},~7.9746169 \\times 10^{-22},~1.8414251 \\times 10^{-21},~2.8293697 \\times 10^{-21},~3.4879946 \\times 10^{-21},~3.7844896 \\times 10^{-21},~3.7998013 \\times 10^{-21},~3.6344103 \\times 10^{-21},~3.3703827 \\times 10^{-21},~3.0642396 \\times 10^{-21},~2.7510443 \\times 10^{-21},~2.4506674 \\times 10^{-21},~2.1731463 \\times 10^{-21},~1.9225315 \\times 10^{-21},~1.6994254 \\times 10^{-21},~1.5025722 \\times 10^{-21},~1.329818 \\times 10^{-21},~1.1786704 \\times 10^{-21},~1.04661 \\times 10^{-21},~9.3125449 \\times 10^{-22},~8.3043376 \\times 10^{-22},~7.4221667 \\times 10^{-22},~6.6490928 \\times 10^{-22},~5.9703968 \\times 10^{-22},~5.3733637 \\times 10^{-22},~4.8470527 \\times 10^{-22},~4.3820657 \\times 10^{-22},~3.9703365 \\times 10^{-22},~3.6049452 \\times 10^{-22},~3.2799477 \\times 10^{-22},~2.9902366 \\times 10^{-22},~2.7314136 \\times 10^{-22},~2.499689 \\times 10^{-22},~2.2917875 \\times 10^{-22},~2.1048768 \\times 10^{-22},~1.9364998 \\times 10^{-22},~1.784523 \\times 10^{-22},~1.6470878 \\times 10^{-22},~1.5225734 \\times 10^{-22},~1.4095628 \\times 10^{-22},~1.3068138 \\times 10^{-22},~1.2132375 \\times 10^{-22},~1.1278743 \\times 10^{-22},~1.0498797 \\times 10^{-22},~9.7850755 \\times 10^{-23},~9.1309722 \\times 10^{-23},~8.5306371 \\times 10^{-23},~7.9788744 \\times 10^{-23},~7.4710512 \\times 10^{-23},~7.0030521 \\times 10^{-23}] \\; \\mathrm{\\frac{erg}{Hz\\,s\\,sr\\,cm^{2}}}$"
      ],
      "text/plain": [
       "<Quantity [1.49200009e-22, 7.97461689e-22, 1.84142506e-21, 2.82936967e-21,\n",
       "           3.48799458e-21, 3.78448959e-21, 3.79980128e-21, 3.63441028e-21,\n",
       "           3.37038269e-21, 3.06423955e-21, 2.75104426e-21, 2.45066742e-21,\n",
       "           2.17314626e-21, 1.92253147e-21, 1.69942543e-21, 1.50257219e-21,\n",
       "           1.32981800e-21, 1.17867040e-21, 1.04661001e-21, 9.31254491e-22,\n",
       "           8.30433763e-22, 7.42216672e-22, 6.64909276e-22, 5.97039684e-22,\n",
       "           5.37336367e-22, 4.84705270e-22, 4.38206572e-22, 3.97033646e-22,\n",
       "           3.60494517e-22, 3.27994773e-22, 2.99023661e-22, 2.73141363e-22,\n",
       "           2.49968902e-22, 2.29178746e-22, 2.10487682e-22, 1.93649982e-22,\n",
       "           1.78452296e-22, 1.64708783e-22, 1.52257340e-22, 1.40956276e-22,\n",
       "           1.30681381e-22, 1.21323749e-22, 1.12787430e-22, 1.04987975e-22,\n",
       "           9.78507545e-23, 9.13097224e-23, 8.53063707e-23, 7.97887440e-23,\n",
       "           7.47105116e-23, 7.00305213e-23] erg / (cm2 Hz s sr)>"
      ]
     },
     "execution_count": 18,
     "metadata": {},
     "output_type": "execute_result"
    }
   ],
   "source": [
    "du_nobolo = dust_emissivity.blackbody.modified_blackbody(\n",
    "    #u.Quantity([p[0] for p in sed]).to(u.Hz, u.spectral()), \n",
    "    freq,\n",
    "    temperature = modfit_nobolo[0], \n",
    "    beta = modfit_nobolo[1], \n",
    "    column = modfit_nobolo[2])\n",
    "du_nobolo"
   ]
  },
  {
   "cell_type": "code",
   "execution_count": 19,
   "id": "e458af87-20f8-4236-a2b3-57cf9597996d",
   "metadata": {},
   "outputs": [
    {
     "data": {
      "image/png": "[encoded data removed]",
      "text/plain": [
       "<Figure size 432x288 with 1 Axes>"
      ]
     },
     "metadata": {
      "needs_background": "light"
     },
     "output_type": "display_data"
    }
   ],
   "source": [
    "pl.plot(freq.to(u.micron, u.spectral()), du_nobolo.to(u.Jy / u.sr), color='green')\n",
    "pl.scatter(u.Quantity([p[0] for p in sed_nobolo]).to(u.micron, u.spectral()), u.Quantity([p[1] for p in sed_nobolo]), color='blue')\n",
    "\n",
    "pl.xlabel('Wavelength ($\\mu$m)')\n",
    "pl.ylabel('Jy')\n",
    "pl.yscale('log')"
   ]
  },
  {
   "cell_type": "code",
   "execution_count": 20,
   "id": "ba304d3b-c567-4b11-93de-e02d91c7dff5",
   "metadata": {},
   "outputs": [
    {
     "data": {
      "text/plain": [
       "Text(0, 0.5, 'Jy')"
      ]
     },
     "execution_count": 20,
     "metadata": {},
     "output_type": "execute_result"
    },
    {
     "data": {
      "image/png": "[encoded data removed]",
      "text/plain": [
       "<Figure size 432x288 with 1 Axes>"
      ]
     },
     "metadata": {
      "needs_background": "light"
     },
     "output_type": "display_data"
    }
   ],
   "source": [
    "pl.loglog(freq.to(u.micron, u.spectral()), du_nobolo.to(u.Jy / u.sr), color='green')\n",
    "pl.scatter(u.Quantity([p[0] for p in sed_nobolo]).to(u.micron, u.spectral()), u.Quantity([p[1] for p in sed_nobolo]), color='blue')\n",
    "pl.xlabel('Wavelength ($\\mu$m)')\n",
    "pl.ylabel('Jy')"
   ]
  },
  {
   "cell_type": "code",
   "execution_count": 21,
   "id": "62cf0fac-f5e9-4ed5-829c-457697957bbb",
   "metadata": {},
   "outputs": [],
   "source": [
    "sed_noatlas = [\n",
    "    (70*u.micron, pacs70, 'pacs', '70 um'), # pacsfn_1\n",
    "    (160*u.micron, pacs160, 'pacs', '160 um'), # pacsfn_1\n",
    "    (250*u.micron, her250, 'Herschel', '250 um'), # herfn_1\n",
    "    (350*u.micron, her350, 'Herschel', '350 um'), # herfn_2\n",
    "    (500*u.micron, her500, 'Herschel', '500 um'), # herfn_3\n",
    "    #(850*u.micron, atlas850, 'ATLASGAL', '850 um')#,\n",
    "    ((1.1*u.mm).to(u.micron), bolo11, 'Bolocam' ,'1.1 mm') # Bolocam\n",
    "] "
   ]
  },
  {
   "cell_type": "code",
   "execution_count": 22,
   "id": "caa65bee-b10d-4521-b49c-cf3de6d5143e",
   "metadata": {},
   "outputs": [
    {
     "data": {
      "text/plain": [
       "[<Quantity 16.22928261 K>,\n",
       " 1.7951860064828236,\n",
       " <Quantity 4.78519432e+15 1 / cm2>]"
      ]
     },
     "execution_count": 22,
     "metadata": {},
     "output_type": "execute_result"
    }
   ],
   "source": [
    "modfit_noatlas = dust_emissivity.fit_sed.fit_modified_bb(xdata=u.Quantity([p[0] for p in sed_noatlas]).to(u.Hz, u.spectral()),\n",
    "                                        flux=u.Quantity([p[1] for p in sed_noatlas]),\n",
    "                                        error=u.Quantity([1*u.Jy for p in sed_noatlas]),\n",
    "                                        guesses=[16*u.K, 2, 1e22*u.cm**-2],\n",
    "                                        fitter='lmfit'\n",
    "                                       )\n",
    "modfit_noatlas"
   ]
  },
  {
   "cell_type": "code",
   "execution_count": 23,
   "id": "b209b34a-4450-4be4-a9ea-52caa23176df",
   "metadata": {},
   "outputs": [
    {
     "data": {
      "text/latex": [
       "$[1.5233929 \\times 10^{-22},~8.0578792 \\times 10^{-22},~1.8503503 \\times 10^{-21},~2.8342194 \\times 10^{-21},~3.48781 \\times 10^{-21},~3.7807104 \\times 10^{-21},~3.7943945 \\times 10^{-21},~3.6289448 \\times 10^{-21},~3.3658226 \\times 10^{-21},~3.0610423 \\times 10^{-21},~2.7493269 \\times 10^{-21},~2.4503501 \\times 10^{-21},~2.1740525 \\times 10^{-21},~1.9244506 \\times 10^{-21},~1.7021476 \\times 10^{-21},~1.5059061 \\times 10^{-21},~1.3335982 \\times 10^{-21},~1.1827586 \\times 10^{-21},~1.0508936 \\times 10^{-21},~9.3564349 \\times 10^{-22},~8.3485767 \\times 10^{-22},~7.46621 \\times 10^{-22},~6.6925266 \\times 10^{-22},~6.0129142 \\times 10^{-22},~5.4147445 \\times 10^{-22},~4.8871421 \\times 10^{-22},~4.4207626 \\times 10^{-22},~4.007581 \\times 10^{-22},~3.6407079 \\times 10^{-22},~3.3142252 \\times 10^{-22},~3.0230416 \\times 10^{-22},~2.7627741 \\times 10^{-22},~2.5296418 \\times 10^{-22},~2.3203771 \\times 10^{-22},~2.1321515 \\times 10^{-22},~1.9625114 \\times 10^{-22},~1.8093244 \\times 10^{-22},~1.6707327 \\times 10^{-22},~1.5451153 \\times 10^{-22},~1.431054 \\times 10^{-22},~1.3273056 \\times 10^{-22},~1.2327793 \\times 10^{-22},~1.1465146 \\times 10^{-22},~1.0676641 \\times 10^{-22},~9.9547972 \\times 10^{-23},~9.2929937 \\times 10^{-23},~8.6853563 \\times 10^{-23},~8.1266692 \\times 10^{-23},~7.6122823 \\times 10^{-23},~7.1380607 \\times 10^{-23}] \\; \\mathrm{\\frac{erg}{Hz\\,s\\,sr\\,cm^{2}}}$"
      ],
      "text/plain": [
       "<Quantity [1.52339294e-22, 8.05787923e-22, 1.85035025e-21, 2.83421936e-21,\n",
       "           3.48780995e-21, 3.78071037e-21, 3.79439452e-21, 3.62894485e-21,\n",
       "           3.36582255e-21, 3.06104228e-21, 2.74932694e-21, 2.45035012e-21,\n",
       "           2.17405246e-21, 1.92445062e-21, 1.70214761e-21, 1.50590608e-21,\n",
       "           1.33359823e-21, 1.18275863e-21, 1.05089363e-21, 9.35643495e-22,\n",
       "           8.34857669e-22, 7.46620996e-22, 6.69252658e-22, 6.01291423e-22,\n",
       "           5.41474446e-22, 4.88714214e-22, 4.42076264e-22, 4.00758098e-22,\n",
       "           3.64070789e-22, 3.31422523e-22, 3.02304163e-22, 2.76277410e-22,\n",
       "           2.52964185e-22, 2.32037706e-22, 2.13215145e-22, 1.96251137e-22,\n",
       "           1.80932441e-22, 1.67073273e-22, 1.54511526e-22, 1.43105396e-22,\n",
       "           1.32730562e-22, 1.23277931e-22, 1.14651458e-22, 1.06766412e-22,\n",
       "           9.95479716e-23, 9.29299374e-23, 8.68535628e-23, 8.12666918e-23,\n",
       "           7.61228232e-23, 7.13806074e-23] erg / (cm2 Hz s sr)>"
      ]
     },
     "execution_count": 23,
     "metadata": {},
     "output_type": "execute_result"
    }
   ],
   "source": [
    "du_noatlas = dust_emissivity.blackbody.modified_blackbody(\n",
    "    #u.Quantity([p[0] for p in sed]).to(u.Hz, u.spectral()), \n",
    "    freq,\n",
    "    temperature = modfit_noatlas[0], \n",
    "    beta = modfit_noatlas[1], \n",
    "    column = modfit_noatlas[2])\n",
    "du_noatlas"
   ]
  },
  {
   "cell_type": "code",
   "execution_count": 24,
   "id": "44537fed-2d77-479e-a685-730d08383943",
   "metadata": {},
   "outputs": [
    {
     "data": {
      "image/png": "[encoded data removed]",
      "text/plain": [
       "<Figure size 432x288 with 1 Axes>"
      ]
     },
     "metadata": {
      "needs_background": "light"
     },
     "output_type": "display_data"
    }
   ],
   "source": [
    "pl.plot(freq.to(u.micron, u.spectral()), du_noatlas.to(u.Jy / u.sr), color='green')\n",
    "pl.scatter(u.Quantity([p[0] for p in sed_noatlas]).to(u.micron, u.spectral()), u.Quantity([p[1] for p in sed_noatlas]), color='blue')\n",
    "#pl.scatter(u.Quantity([p[0] for p in sed]).to(u.micron, u.spectral()), u.Quantity([p[1] for p in sed]), color='orange')\n",
    "\n",
    "pl.xlabel('Wavelength ($\\mu$m)')\n",
    "pl.ylabel('Jy')\n",
    "pl.yscale('log')"
   ]
  },
  {
   "cell_type": "code",
   "execution_count": 25,
   "id": "f453d166-35e8-4e09-88f7-52416c01ef9c",
   "metadata": {},
   "outputs": [
    {
     "data": {
      "text/plain": [
       "Text(0, 0.5, 'Jy')"
      ]
     },
     "execution_count": 25,
     "metadata": {},
     "output_type": "execute_result"
    },
    {
     "data": {
      "image/png": "[encoded data removed]",
      "text/plain": [
       "<Figure size 432x288 with 1 Axes>"
      ]
     },
     "metadata": {
      "needs_background": "light"
     },
     "output_type": "display_data"
    }
   ],
   "source": [
    "pl.loglog(freq.to(u.micron, u.spectral()), du_noatlas.to(u.Jy / u.sr), color='green')\n",
    "pl.scatter(u.Quantity([p[0] for p in sed_noatlas]).to(u.micron, u.spectral()), u.Quantity([p[1] for p in sed_noatlas]), color='blue')\n",
    "pl.xlabel('Wavelength ($\\mu$m)')\n",
    "pl.ylabel('Jy')"
   ]
  },
  {
   "cell_type": "code",
   "execution_count": 26,
   "id": "20df33f1-c230-4e69-925a-fc4c7758f85d",
   "metadata": {},
   "outputs": [
    {
     "data": {
      "text/plain": [
       "\u001b[0;31mSignature:\u001b[0m\n",
       "\u001b[0mdust_emissivity\u001b[0m\u001b[0;34m.\u001b[0m\u001b[0mdust\u001b[0m\u001b[0;34m.\u001b[0m\u001b[0mmassofsnu\u001b[0m\u001b[0;34m(\u001b[0m\u001b[0;34m\u001b[0m\n",
       "\u001b[0;34m\u001b[0m    \u001b[0mnu\u001b[0m\u001b[0;34m,\u001b[0m\u001b[0;34m\u001b[0m\n",
       "\u001b[0;34m\u001b[0m    \u001b[0msnu\u001b[0m\u001b[0;34m,\u001b[0m\u001b[0;34m\u001b[0m\n",
       "\u001b[0;34m\u001b[0m    \u001b[0mdistance\u001b[0m\u001b[0;34m=\u001b[0m\u001b[0;34m<\u001b[0m\u001b[0mQuantity\u001b[0m \u001b[0;36m1.\u001b[0m \u001b[0mkpc\u001b[0m\u001b[0;34m>\u001b[0m\u001b[0;34m,\u001b[0m\u001b[0;34m\u001b[0m\n",
       "\u001b[0;34m\u001b[0m    \u001b[0mtemperature\u001b[0m\u001b[0;34m=\u001b[0m\u001b[0;34m<\u001b[0m\u001b[0mQuantity\u001b[0m \u001b[0;36m20.\u001b[0m \u001b[0mK\u001b[0m\u001b[0;34m>\u001b[0m\u001b[0;34m,\u001b[0m\u001b[0;34m\u001b[0m\n",
       "\u001b[0;34m\u001b[0m    \u001b[0mmuh2\u001b[0m\u001b[0;34m=\u001b[0m\u001b[0;36m2.8\u001b[0m\u001b[0;34m,\u001b[0m\u001b[0;34m\u001b[0m\n",
       "\u001b[0;34m\u001b[0m    \u001b[0mbeta\u001b[0m\u001b[0;34m=\u001b[0m\u001b[0;36m1.75\u001b[0m\u001b[0;34m,\u001b[0m\u001b[0;34m\u001b[0m\n",
       "\u001b[0;34m\u001b[0m    \u001b[0mbeamomega\u001b[0m\u001b[0;34m=\u001b[0m\u001b[0;34m<\u001b[0m\u001b[0mQuantity\u001b[0m \u001b[0;36m1.\u001b[0m \u001b[0msr\u001b[0m\u001b[0;34m>\u001b[0m\u001b[0;34m,\u001b[0m\u001b[0;34m\u001b[0m\n",
       "\u001b[0;34m\u001b[0m\u001b[0;34m)\u001b[0m\u001b[0;34m\u001b[0m\u001b[0;34m\u001b[0m\u001b[0m\n",
       "\u001b[0;31mDocstring:\u001b[0m <no docstring>\n",
       "\u001b[0;31mFile:\u001b[0m      /blue/adamginsburg/adamginsburg/repos/dust_emissivity/dust_emissivity/dust.py\n",
       "\u001b[0;31mType:\u001b[0m      function\n"
      ]
     },
     "metadata": {},
     "output_type": "display_data"
    }
   ],
   "source": [
    "dust_emissivity.dust.massofsnu?"
   ]
  },
  {
   "cell_type": "code",
   "execution_count": 27,
   "id": "c1f6d370-7e9c-44bd-8048-22ede999bd41",
   "metadata": {},
   "outputs": [
    {
     "data": {
      "text/latex": [
       "$8812.072 \\; \\mathrm{M_{\\odot}}$"
      ],
      "text/plain": [
       "<Quantity 8812.07200452 solMass>"
      ]
     },
     "execution_count": 27,
     "metadata": {},
     "output_type": "execute_result"
    }
   ],
   "source": [
    "dust_emissivity.dust.massofsnu(271.1*u.GHz, 4.7052907*u.Jy, 7*u.kpc, temperature=10*u.K)"
   ]
  },
  {
   "cell_type": "code",
   "execution_count": 28,
   "id": "85198c7e-d326-4df7-9b53-a0240fbb53fb",
   "metadata": {},
   "outputs": [
    {
     "data": {
      "text/latex": [
       "$4189.639 \\; \\mathrm{M_{\\odot}}$"
      ],
      "text/plain": [
       "<Quantity 4189.63901774 solMass>"
      ]
     },
     "execution_count": 28,
     "metadata": {},
     "output_type": "execute_result"
    }
   ],
   "source": [
    "dust_emissivity.dust.massofsnu(271.1*u.GHz, 4.7052907*u.Jy, 7*u.kpc, temperature=modfit[0], beta=modfit[1])\n",
    "#temp,beta,col"
   ]
  },
  {
   "cell_type": "code",
   "execution_count": 29,
   "id": "0ef497e1-bc20-4a74-8f8c-684ff477e32f",
   "metadata": {},
   "outputs": [
    {
     "data": {
      "text/latex": [
       "$19793.546 \\; \\mathrm{M_{\\odot}}$"
      ],
      "text/plain": [
       "<Quantity 19793.54583619 solMass>"
      ]
     },
     "execution_count": 29,
     "metadata": {},
     "output_type": "execute_result"
    }
   ],
   "source": [
    "dust_emissivity.dust.massofsnu(345*u.GHz, 50*u.Jy, 7*u.kpc, temperature=modfit[0], beta=modfit[1])"
   ]
  },
  {
   "cell_type": "code",
   "execution_count": 30,
   "id": "fdbf8913-ac46-4c58-9b19-d67080dc41f2",
   "metadata": {},
   "outputs": [
    {
     "data": {
      "text/latex": [
       "$1199.1698 \\; \\mathrm{GHz}$"
      ],
      "text/plain": [
       "<Quantity 1199.169832 GHz>"
      ]
     },
     "execution_count": 30,
     "metadata": {},
     "output_type": "execute_result"
    }
   ],
   "source": [
    "(250*u.micron).to(u.GHz, u.spectral())"
   ]
  },
  {
   "cell_type": "code",
   "execution_count": 31,
   "id": "4563456a-cee0-4c8c-a96e-6ad6b160616c",
   "metadata": {},
   "outputs": [
    {
     "data": {
      "text/latex": [
       "$5662.453 \\; \\mathrm{M_{\\odot}}$"
      ],
      "text/plain": [
       "<Quantity 5662.45297363 solMass>"
      ]
     },
     "execution_count": 31,
     "metadata": {},
     "output_type": "execute_result"
    }
   ],
   "source": [
    "dust_emissivity.dust.massofsnu((250*u.micron).to(u.GHz, u.spectral()), her250, 7*u.kpc, temperature=modfit[0], beta=modfit[1])"
   ]
  },
  {
   "cell_type": "code",
   "execution_count": null,
   "id": "4f3ff6ed-459e-42e5-bd93-588098385b8d",
   "metadata": {},
   "outputs": [],
   "source": []
  },
  {
   "cell_type": "code",
   "execution_count": null,
   "id": "fb0dbbf7-e1ef-419f-8ff2-0c7e2a75eed4",
   "metadata": {},
   "outputs": [],
   "source": []
  },
  {
   "cell_type": "code",
   "execution_count": 7,
   "id": "13c0f9f5-468f-4e37-9355-b6857316912d",
   "metadata": {},
   "outputs": [],
   "source": []
  },
  {
   "cell_type": "code",
   "execution_count": 8,
   "id": "5a73e9cb-fc43-4cac-afc0-35a9e5b85e51",
   "metadata": {},
   "outputs": [],
   "source": []
  },
  {
   "cell_type": "code",
   "execution_count": null,
   "id": "63176643-1b11-49c1-9ca7-c8fb2110efe5",
   "metadata": {},
   "outputs": [],
   "source": []
  },
  {
   "cell_type": "code",
   "execution_count": null,
   "id": "9d4bc050-3620-4080-8045-1609ddacfbbc",
   "metadata": {},
   "outputs": [],
   "source": []
  },
  {
   "cell_type": "code",
   "execution_count": null,
   "id": "97d787f7-fbc0-422c-aa96-c0f048a9c691",
   "metadata": {},
   "outputs": [],
   "source": []
  }
 ],
 "metadata": {
  "kernelspec": {
   "display_name": "Python 3 (ipykernel)",
   "language": "python",
   "name": "python3"
  },
  "language_info": {
   "codemirror_mode": {
    "name": "ipython",
    "version": 3
   },
   "file_extension": ".py",
   "mimetype": "text/x-python",
   "name": "python",
   "nbconvert_exporter": "python",
   "pygments_lexer": "ipython3",
   "version": "3.9.13"
  }
 },
 "nbformat": 4,
 "nbformat_minor": 5
}
