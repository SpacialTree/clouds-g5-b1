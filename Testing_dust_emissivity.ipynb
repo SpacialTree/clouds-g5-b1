{
 "cells": [
  {
   "cell_type": "code",
   "execution_count": 73,
   "id": "2ae51d87-b9cd-496d-a20e-74af9f1d4a31",
   "metadata": {
    "tags": []
   },
   "outputs": [],
   "source": [
    "import dust_emissivity\n",
    "from astropy import units as u\n",
    "from astropy import constants as const\n",
    "from matplotlib import pyplot as pl\n",
    "import numpy as np\n",
    "import regions\n",
    "from astropy.io import fits\n",
    "from astropy import wcs\n",
    "from spectral_cube import SpectralCube\n"
   ]
  },
  {
   "cell_type": "code",
   "execution_count": 3,
   "id": "d2cebc17-46f8-4a02-85cb-adc8b0ad5c3c",
   "metadata": {},
   "outputs": [
    {
     "name": "stdout",
     "output_type": "stream",
     "text": [
      "test\n"
     ]
    }
   ],
   "source": [
    "print('test')"
   ]
  },
  {
   "cell_type": "code",
   "execution_count": 4,
   "id": "1f0b51bd-ecbe-4f9e-a460-e804e8788de7",
   "metadata": {},
   "outputs": [],
   "source": [
    "#  Collision site\n",
    "pacs160 = 358.38372 * u.Jy\n",
    "pacs70  = 31.272129 * u.Jy\n",
    "her350  = 184.0481 * u.Jy\n",
    "her250  = 320.71168 * u.Jy\n",
    "her500  = 78.398848 * u.Jy\n",
    "bolo11  = 4.7052907 * u.Jy\n",
    "atlas850= 22.663 * u.Jy\n",
    "reg = regions.Regions.read('../G5/sum/spw17_12CO/ccc.reg')"
   ]
  },
  {
   "cell_type": "code",
   "execution_count": 62,
   "id": "77dfa44b-23d5-41cc-91fe-8f339ebd19a8",
   "metadata": {},
   "outputs": [],
   "source": [
    "# G5b \n",
    "pacs160 = 935.72057 * u.Jy #1695.505 * u.Jy #358.38372 * u.Jy\n",
    "pacs70  = 81.665705 * u.Jy #273.89817 * u.Jy #31.272129 * u.Jy\n",
    "her350  = 436.96762 * u.Jy #758.69611 * u.Jy #184.0481 * u.Jy\n",
    "her250  = 798.94536 * u.Jy #1399.1185 * u.Jy #320.71168 * u.Jy\n",
    "her500  = 175.17277 * u.Jy #334.23452 * u.Jy #78.398848 * u.Jy\n",
    "bolo11  = 8.5816241 * u.Jy #13.466688 * u.Jy #4.7052907 * u.Jy\n",
    "atlas850= 45.911349 * u.Jy #99.474503 * u.Jy #22.663 * u.Jy\n",
    "reg = regions.Regions.read('/orange/adamginsburg/cmz/g5/code/g5-lowvelo.reg')"
   ]
  },
  {
   "cell_type": "code",
   "execution_count": 90,
   "id": "54217a7b-a131-4834-9078-0c03dfce1fb6",
   "metadata": {},
   "outputs": [],
   "source": [
    "# G5a\n",
    "pacs160 = 1695.505 * u.Jy #358.38372 * u.Jy\n",
    "pacs70  = 273.89817 * u.Jy #31.272129 * u.Jy\n",
    "her350  = 758.69611 * u.Jy #184.0481 * u.Jy\n",
    "her250  = 1399.1185 * u.Jy #320.71168 * u.Jy\n",
    "her500  = 334.23452 * u.Jy #78.398848 * u.Jy\n",
    "bolo11  = 13.466688 * u.Jy #4.7052907 * u.Jy\n",
    "atlas850= 99.474503 * u.Jy #22.663 * u.Jy\n",
    "reg = regions.Regions.read('/orange/adamginsburg/cmz/g5/code/g5-highvelo.reg')\n"
   ]
  },
  {
   "cell_type": "code",
   "execution_count": 4,
   "id": "fc8ffc83-138d-4ec3-8ec1-55559fb3a10b",
   "metadata": {},
   "outputs": [],
   "source": [
    "# Field 2\n",
    "pacs160 = 1293.3408711236984 * u.Jy\n",
    "pacs70  = 139.69878764504287 * u.Jy\n",
    "her350  = 696.3290434110337  * u.Jy\n",
    "her250  = 1296.7746088093395 * u.Jy\n",
    "her500  = 290.8775740884424  * u.Jy\n",
    "bolo11  = 11.132808608750626 * u.Jy\n",
    "atlas850= 80.42944585935663  * u.Jy\n",
    "reg = regions.Regions.read('/orange/adamginsburg/cmz/g5/code/g5-field2.reg')"
   ]
  },
  {
   "cell_type": "code",
   "execution_count": 77,
   "id": "28524757-da30-4a49-bd9f-cac9a7354ccc",
   "metadata": {},
   "outputs": [],
   "source": [
    "r0 = reg[0]\n"
   ]
  },
  {
   "cell_type": "code",
   "execution_count": 5,
   "id": "0c436cc6-69cb-46c0-a04e-26d98a26d96e",
   "metadata": {},
   "outputs": [
    {
     "data": {
      "text/latex": [
       "$753.1274 \\; \\mathrm{{}^{\\prime\\prime}}$"
      ],
      "text/plain": [
       "<Quantity 753.1274 arcsec>"
      ]
     },
     "execution_count": 5,
     "metadata": {},
     "output_type": "execute_result"
    }
   ],
   "source": [
    "reg[0].width"
   ]
  },
  {
   "cell_type": "code",
   "execution_count": 6,
   "id": "397c2bcf-755b-4206-9629-5d4bbe119cf1",
   "metadata": {},
   "outputs": [
    {
     "data": {
      "text/latex": [
       "$62228.222 \\; \\mathrm{M_{\\odot}}$"
      ],
      "text/plain": [
       "<Quantity 62228.22224045 solMass>"
      ]
     },
     "execution_count": 6,
     "metadata": {},
     "output_type": "execute_result"
    }
   ],
   "source": [
    "area_as = reg[0].width*reg[0].height#195.4252*u.arcsec*163.3396*u.arcsec\n",
    "total_mass = 2e22*u.cm**-2 * (area_as*(7*u.kpc)**2).to(u.cm**2, u.dimensionless_angles()) * 2.8*u.Da\n",
    "total_mass.to(u.M_sun)"
   ]
  },
  {
   "cell_type": "code",
   "execution_count": 7,
   "id": "8edd9104-7153-46ae-8062-eb3e062b9b97",
   "metadata": {},
   "outputs": [],
   "source": [
    "freq = [160*u.micron, 70*u.micron, 350*u.micron, 250*u.micron, 500*u.micron, ]"
   ]
  },
  {
   "cell_type": "code",
   "execution_count": null,
   "id": "45a107e1-f865-43e0-b6b9-bba4174df78d",
   "metadata": {},
   "outputs": [],
   "source": []
  },
  {
   "cell_type": "code",
   "execution_count": 10,
   "id": "cc050aa9-d6ae-4929-b62e-455baf80f937",
   "metadata": {},
   "outputs": [],
   "source": [
    "# Error bars are quadrature sum of statistical uncertainty (background noise) and inherent uncertainty due to flux calibration \n",
    "err70  = np.sqrt((0.05 * pacs70)**2 + (0.0090522 * u.Jy)**2) # Hi-GAL\n",
    "err160 = np.sqrt((0.05 * pacs160)**2 + (0.022673243 * u.Jy)**2) # ---\n",
    "err250 = np.sqrt((0.05 * her250)**2 + (0.10495919 * u.Jy)**2) # ---\n",
    "err350 = np.sqrt((0.05 * her350)**2 + (0.10400883 * u.Jy)**2) # ---\n",
    "err500 = np.sqrt((0.05 * her500)**2 + (0.095411145 * u.Jy)**2) # Hi-GAL\n",
    "err850 = np.sqrt((0.15 * atlas850)**2 + (0.0022267786 * u.Jy)**2) # Atlasgal\n",
    "err11  = np.sqrt((0.20 * bolo11)**2 + (0.0024273499 * u.Jy)**2) # Bolocam"
   ]
  },
  {
   "cell_type": "code",
   "execution_count": 11,
   "id": "6dbac20b-c6a3-4dfb-9d43-f0b546bf30bf",
   "metadata": {
    "jupyter": {
     "source_hidden": true
    },
    "tags": []
   },
   "outputs": [
    {
     "data": {
      "text/plain": [
       "\"\\nsed = [(160*u.micron, pacs160, 'pacs', '160 um'), # pacsfn_1\\n(70*u.micron, pacs70, 'pacs', '70 um'), # pacsfn_1\\n(350*u.micron, her350, 'Herschel', '350 um'), # herfn_2\\n(250*u.micron, her250, 'Herschel', '250 um'), # herfn_1\\n(500*u.micron, her500, 'Herschel', '500 um'), # herfn_3\\n((1.1*u.mm).to(u.micron), bolo11, 'Bolocam' ,'1.1 mm'), # Bolocam\\n(850*u.micron, atlas850, 'ATLASGAL', '850 um')]      \\n#((353 * u.GHz).to(u.micron, equivalencies=u.spectral()), atlas850, 'ATLASGAL', '850 um')] # ATLASGAL\\n\""
      ]
     },
     "execution_count": 11,
     "metadata": {},
     "output_type": "execute_result"
    }
   ],
   "source": [
    "'''\n",
    "sed = [(160*u.micron, pacs160, 'pacs', '160 um'), # pacsfn_1\n",
    "(70*u.micron, pacs70, 'pacs', '70 um'), # pacsfn_1\n",
    "(350*u.micron, her350, 'Herschel', '350 um'), # herfn_2\n",
    "(250*u.micron, her250, 'Herschel', '250 um'), # herfn_1\n",
    "(500*u.micron, her500, 'Herschel', '500 um'), # herfn_3\n",
    "((1.1*u.mm).to(u.micron), bolo11, 'Bolocam' ,'1.1 mm'), # Bolocam\n",
    "(850*u.micron, atlas850, 'ATLASGAL', '850 um')]      \n",
    "#((353 * u.GHz).to(u.micron, equivalencies=u.spectral()), atlas850, 'ATLASGAL', '850 um')] # ATLASGAL\n",
    "'''"
   ]
  },
  {
   "cell_type": "code",
   "execution_count": 12,
   "id": "2b17e279-b9b8-4693-8e0b-13b3147dc484",
   "metadata": {},
   "outputs": [],
   "source": [
    "sed = [\n",
    "    (70*u.micron, pacs70, 'pacs', '70 um', err70), # pacsfn_1\n",
    "    (160*u.micron, pacs160, 'pacs', '160 um', err160), # pacsfn_1\n",
    "    (250*u.micron, her250, 'Herschel', '250 um', err250), # herfn_1\n",
    "    (350*u.micron, her350, 'Herschel', '350 um', err350), # herfn_2\n",
    "    (500*u.micron, her500, 'Herschel', '500 um', err500), # herfn_3\n",
    "    (850*u.micron, atlas850, 'ATLASGAL', '850 um', err850),\n",
    "    ((1.1*u.mm).to(u.micron), bolo11, 'Bolocam' ,'1.1 mm', err11) # Bolocam\n",
    "]      \n",
    "#((353 * u.GHz).to(u.micron, equivalencies=u.spectral()), atlas850, 'ATLASGAL', '850 um')] # ATLASGAL"
   ]
  },
  {
   "cell_type": "code",
   "execution_count": 13,
   "id": "74d13100-3755-43df-844c-4488759d3047",
   "metadata": {
    "tags": []
   },
   "outputs": [
    {
     "data": {
      "text/plain": [
       "[(<Quantity 70. micron>,\n",
       "  <Quantity 139.69878765 Jy>,\n",
       "  'pacs',\n",
       "  '70 um',\n",
       "  <Quantity 6.98494525 Jy>),\n",
       " (<Quantity 160. micron>,\n",
       "  <Quantity 1293.34087112 Jy>,\n",
       "  'pacs',\n",
       "  '160 um',\n",
       "  <Quantity 64.66704753 Jy>),\n",
       " (<Quantity 250. micron>,\n",
       "  <Quantity 1296.77460881 Jy>,\n",
       "  'Herschel',\n",
       "  '250 um',\n",
       "  <Quantity 64.83881539 Jy>),\n",
       " (<Quantity 350. micron>,\n",
       "  <Quantity 696.32904341 Jy>,\n",
       "  'Herschel',\n",
       "  '350 um',\n",
       "  <Quantity 34.81660753 Jy>),\n",
       " (<Quantity 500. micron>,\n",
       "  <Quantity 290.87757409 Jy>,\n",
       "  'Herschel',\n",
       "  '500 um',\n",
       "  <Quantity 14.54419166 Jy>),\n",
       " (<Quantity 850. micron>,\n",
       "  <Quantity 80.42944586 Jy>,\n",
       "  'ATLASGAL',\n",
       "  '850 um',\n",
       "  <Quantity 12.06441708 Jy>),\n",
       " (<Quantity 1100. micron>,\n",
       "  <Quantity 11.13280861 Jy>,\n",
       "  'Bolocam',\n",
       "  '1.1 mm',\n",
       "  <Quantity 2.22656304 Jy>)]"
      ]
     },
     "execution_count": 13,
     "metadata": {},
     "output_type": "execute_result"
    }
   ],
   "source": [
    "sed"
   ]
  },
  {
   "cell_type": "code",
   "execution_count": 14,
   "id": "3ca981af-ca10-4534-aae4-79dbb04052c0",
   "metadata": {},
   "outputs": [
    {
     "data": {
      "text/plain": [
       "\"\\nmodfit = dust_emissivity.fit_sed.fit_modified_bb(xdata=u.Quantity([p[0] for p in sed]).to(u.Hz, u.spectral()),\\n                                        flux=u.Quantity([p[1] for p in sed]),\\n                                        error=u.Quantity([1*u.Jy for p in sed]),\\n                                        guesses=[15*u.K, 2, 1e18*u.cm**-2],\\n                                        fitter='lmfit'\\n                                       )\\n\""
      ]
     },
     "execution_count": 14,
     "metadata": {},
     "output_type": "execute_result"
    }
   ],
   "source": [
    "'''\n",
    "modfit = dust_emissivity.fit_sed.fit_modified_bb(xdata=u.Quantity([p[0] for p in sed]).to(u.Hz, u.spectral()),\n",
    "                                        flux=u.Quantity([p[1] for p in sed]),\n",
    "                                        error=u.Quantity([1*u.Jy for p in sed]),\n",
    "                                        guesses=[15*u.K, 2, 1e18*u.cm**-2],\n",
    "                                        fitter='lmfit'\n",
    "                                       )\n",
    "'''"
   ]
  },
  {
   "cell_type": "code",
   "execution_count": 15,
   "id": "843b8a72-8ce4-4d42-aa82-1d926bccd89f",
   "metadata": {},
   "outputs": [
    {
     "data": {
      "text/latex": [
       "$[2449085.8,~22673785,~22734011,~12207520,~5099535,~4230067.9,~780685.27] \\; \\mathrm{\\frac{Jy}{sr}}$"
      ],
      "text/plain": [
       "<Quantity [ 2449085.780156  , 22673784.96639763, 22734010.81117642,\n",
       "           12207519.94148668,  5099535.03074139,  4230067.85002413,\n",
       "             780685.27358353] Jy / sr>"
      ]
     },
     "execution_count": 15,
     "metadata": {},
     "output_type": "execute_result"
    }
   ],
   "source": [
    "u.Quantity([p[4]/area_as.to(u.sr) for p in sed])"
   ]
  },
  {
   "cell_type": "code",
   "execution_count": 16,
   "id": "cac1be60-70a6-4f19-8d21-8ac7b317a471",
   "metadata": {},
   "outputs": [
    {
     "data": {
      "text/latex": [
       "$[4898167.4,~45347567,~45467962,~24414931,~10198851,~2820045.2,~390342.4] \\; \\mathrm{\\frac{Jy}{sr}}$"
      ],
      "text/plain": [
       "<Quantity [ 4898167.4470493 , 45347567.14548537, 45467962.049672  ,\n",
       "           24414930.94082647, 10198850.60203124,  2820045.18531335,\n",
       "             390342.40483294] Jy / sr>"
      ]
     },
     "execution_count": 16,
     "metadata": {},
     "output_type": "execute_result"
    }
   ],
   "source": [
    "u.Quantity([p[1]*0.1/area_as.to(u.sr) for p in sed])"
   ]
  },
  {
   "cell_type": "code",
   "execution_count": 17,
   "id": "6e89462a-9fa2-4287-9079-d107968c4949",
   "metadata": {},
   "outputs": [
    {
     "data": {
      "text/latex": [
       "$[48981674,~4.5347567 \\times 10^{8},~4.5467962 \\times 10^{8},~2.4414931 \\times 10^{8},~1.0198851 \\times 10^{8},~28200452,~3903424] \\; \\mathrm{\\frac{Jy}{sr}}$"
      ],
      "text/plain": [
       "<Quantity [4.89816745e+07, 4.53475671e+08, 4.54679620e+08, 2.44149309e+08,\n",
       "           1.01988506e+08, 2.82004519e+07, 3.90342405e+06] Jy / sr>"
      ]
     },
     "execution_count": 17,
     "metadata": {},
     "output_type": "execute_result"
    }
   ],
   "source": [
    "u.Quantity([p[1]/area_as.to(u.sr) for p in sed])"
   ]
  },
  {
   "cell_type": "code",
   "execution_count": 60,
   "id": "2c42fee3-4a46-4db5-a8cd-43579eacf350",
   "metadata": {},
   "outputs": [
    {
     "data": {
      "text/plain": [
       "[<Quantity 18.08840215 K>,\n",
       " 1.7573612692123384,\n",
       " <Quantity 4.33752352e+21 1 / cm2>]"
      ]
     },
     "execution_count": 60,
     "metadata": {},
     "output_type": "execute_result"
    }
   ],
   "source": [
    "modfit,errs = dust_emissivity.fit_sed.fit_modified_bb(xdata=u.Quantity([p[0] for p in sed]).to(u.Hz, u.spectral()),\n",
    "                                        flux=u.Quantity([p[1]/area_as.to(u.sr) for p in sed]),\n",
    "                                        #error=u.Quantity([p[1]*0.1/area_as.to(u.sr) for p in sed]),\n",
    "                                        error=u.Quantity([p[4]/area_as.to(u.sr) for p in sed]),\n",
    "                                        guesses=[15*u.K, 2, 1e18*u.cm**-2],\n",
    "                                        fitter='lmfit',\n",
    "                                        return_error=True\n",
    "                                       )\n",
    "modfit"
   ]
  },
  {
   "cell_type": "code",
   "execution_count": 61,
   "id": "17f1a114-3c56-41ff-b040-80887a101e60",
   "metadata": {},
   "outputs": [
    {
     "data": {
      "text/plain": [
       "[<Quantity 1.19502387 K>,\n",
       " 0.2970170702774626,\n",
       " <Quantity 6.84314103e+20 1 / cm2>]"
      ]
     },
     "execution_count": 61,
     "metadata": {},
     "output_type": "execute_result"
    }
   ],
   "source": [
    "errs"
   ]
  },
  {
   "cell_type": "code",
   "execution_count": 19,
   "id": "fcb6ec54-bf98-4200-bd14-851319b118a7",
   "metadata": {},
   "outputs": [],
   "source": [
    "freq = (np.linspace(70, 1100, num=50) * u.micron).to(u.Hz, u.spectral())"
   ]
  },
  {
   "cell_type": "code",
   "execution_count": 20,
   "id": "9445bc81-4533-4eed-9765-312d78acb4a9",
   "metadata": {},
   "outputs": [
    {
     "data": {
      "text/latex": [
       "$[4.6006457 \\times 10^{-16},~1.8314996 \\times 10^{-15},~3.5261001 \\times 10^{-15},~4.7941364 \\times 10^{-15},~5.4173944 \\times 10^{-15},~5.5110809 \\times 10^{-15},~5.2682022 \\times 10^{-15},~4.8496235 \\times 10^{-15},~4.362647 \\times 10^{-15},~3.8703314 \\times 10^{-15},~3.4058704 \\times 10^{-15},~2.9842405 \\times 10^{-15},~2.6100581 \\times 10^{-15},~2.2824388 \\times 10^{-15},~1.9978465 \\times 10^{-15},~1.7516951 \\times 10^{-15},~1.5392073 \\times 10^{-15},~1.3558459 \\times 10^{-15},~1.1975057 \\times 10^{-15},~1.0605746 \\times 10^{-15},~9.4192783 \\times 10^{-16},~8.3889029 \\times 10^{-16},~7.4918596 \\times 10^{-16},~6.7088527 \\times 10^{-16},~6.0235507 \\times 10^{-16},~5.4221361 \\times 10^{-16},~4.8929126 \\times 10^{-16},~4.4259676 \\times 10^{-16},~4.0128867 \\times 10^{-16},~3.6465134 \\times 10^{-16},~3.320748 \\times 10^{-16},~3.0303789 \\times 10^{-16},~2.7709434 \\times 10^{-16},~2.5386097 \\times 10^{-16},~2.3300802 \\times 10^{-16},~2.1425095 \\times 10^{-16},~1.9734364 \\times 10^{-16},~1.8207266 \\times 10^{-16},~1.6825249 \\times 10^{-16},~1.557215 \\times 10^{-16},~1.4433848 \\times 10^{-16},~1.3397985 \\times 10^{-16},~1.2453717 \\times 10^{-16},~1.1591509 \\times 10^{-16},~1.0802959 \\times 10^{-16},~1.0080646 \\times 10^{-16},~9.4180062 \\times 10^{-17},~8.8092175 \\times 10^{-17},~8.2491094 \\times 10^{-17},~7.7330799 \\times 10^{-17}] \\; \\mathrm{\\frac{erg}{Hz\\,s\\,sr\\,cm^{2}}}$"
      ],
      "text/plain": [
       "<Quantity [4.60064572e-16, 1.83149955e-15, 3.52610005e-15, 4.79413640e-15,\n",
       "           5.41739441e-15, 5.51108086e-15, 5.26820222e-15, 4.84962353e-15,\n",
       "           4.36264704e-15, 3.87033140e-15, 3.40587036e-15, 2.98424049e-15,\n",
       "           2.61005814e-15, 2.28243880e-15, 1.99784652e-15, 1.75169513e-15,\n",
       "           1.53920728e-15, 1.35584591e-15, 1.19750571e-15, 1.06057459e-15,\n",
       "           9.41927835e-16, 8.38890288e-16, 7.49185958e-16, 6.70885268e-16,\n",
       "           6.02355065e-16, 5.42213609e-16, 4.89291257e-16, 4.42596756e-16,\n",
       "           4.01288668e-16, 3.64651345e-16, 3.32074797e-16, 3.03037893e-16,\n",
       "           2.77094336e-16, 2.53860969e-16, 2.33008021e-16, 2.14250952e-16,\n",
       "           1.97343639e-16, 1.82072660e-16, 1.68252495e-16, 1.55721495e-16,\n",
       "           1.44338478e-16, 1.33979850e-16, 1.24537172e-16, 1.15915093e-16,\n",
       "           1.08029590e-16, 1.00806464e-16, 9.41800621e-17, 8.80921752e-17,\n",
       "           8.24910945e-17, 7.73307992e-17] erg / (cm2 Hz s sr)>"
      ]
     },
     "execution_count": 20,
     "metadata": {},
     "output_type": "execute_result"
    }
   ],
   "source": [
    "du = dust_emissivity.blackbody.modified_blackbody(\n",
    "    #u.Quantity([p[0] for p in sed]).to(u.Hz, u.spectral()), \n",
    "    freq,\n",
    "    temperature = modfit[0], \n",
    "    beta = modfit[1], \n",
    "    column = modfit[2])\n",
    "du"
   ]
  },
  {
   "cell_type": "code",
   "execution_count": 21,
   "id": "347d85f6-fe9b-4684-b51f-be9eee71c3bb",
   "metadata": {},
   "outputs": [],
   "source": [
    "#be = 1.1744228 * 10**(-8) * u.sr\n",
    "#pixarea = 2.6813453 * 10**(-10) * u.sr"
   ]
  },
  {
   "cell_type": "code",
   "execution_count": 22,
   "id": "645b362c-432d-4031-867f-350197e2ca8c",
   "metadata": {},
   "outputs": [
    {
     "data": {
      "text/latex": [
       "$[46006457,~1.8314996 \\times 10^{8},~3.5261001 \\times 10^{8},~4.7941364 \\times 10^{8},~5.4173944 \\times 10^{8},~5.5110809 \\times 10^{8},~5.2682022 \\times 10^{8},~4.8496235 \\times 10^{8},~4.362647 \\times 10^{8},~3.8703314 \\times 10^{8},~3.4058704 \\times 10^{8},~2.9842405 \\times 10^{8},~2.6100581 \\times 10^{8},~2.2824388 \\times 10^{8},~1.9978465 \\times 10^{8},~1.7516951 \\times 10^{8},~1.5392073 \\times 10^{8},~1.3558459 \\times 10^{8},~1.1975057 \\times 10^{8},~1.0605746 \\times 10^{8},~94192783,~83889029,~74918596,~67088527,~60235507,~54221361,~48929126,~44259676,~40128867,~36465134,~33207480,~30303789,~27709434,~25386097,~23300802,~21425095,~19734364,~18207266,~16825249,~15572150,~14433848,~13397985,~12453717,~11591509,~10802959,~10080646,~9418006.2,~8809217.5,~8249109.4,~7733079.9] \\; \\mathrm{\\frac{Jy}{sr}}$"
      ],
      "text/plain": [
       "<Quantity [4.60064572e+07, 1.83149955e+08, 3.52610005e+08, 4.79413640e+08,\n",
       "           5.41739441e+08, 5.51108086e+08, 5.26820222e+08, 4.84962353e+08,\n",
       "           4.36264704e+08, 3.87033140e+08, 3.40587036e+08, 2.98424049e+08,\n",
       "           2.61005814e+08, 2.28243880e+08, 1.99784652e+08, 1.75169513e+08,\n",
       "           1.53920728e+08, 1.35584591e+08, 1.19750571e+08, 1.06057459e+08,\n",
       "           9.41927835e+07, 8.38890288e+07, 7.49185958e+07, 6.70885268e+07,\n",
       "           6.02355065e+07, 5.42213609e+07, 4.89291257e+07, 4.42596756e+07,\n",
       "           4.01288668e+07, 3.64651345e+07, 3.32074797e+07, 3.03037893e+07,\n",
       "           2.77094336e+07, 2.53860969e+07, 2.33008021e+07, 2.14250952e+07,\n",
       "           1.97343639e+07, 1.82072660e+07, 1.68252495e+07, 1.55721495e+07,\n",
       "           1.44338478e+07, 1.33979850e+07, 1.24537172e+07, 1.15915093e+07,\n",
       "           1.08029590e+07, 1.00806464e+07, 9.41800621e+06, 8.80921752e+06,\n",
       "           8.24910945e+06, 7.73307992e+06] Jy / sr>"
      ]
     },
     "execution_count": 22,
     "metadata": {},
     "output_type": "execute_result"
    }
   ],
   "source": [
    "du.to(u.Jy / u.sr)\n",
    "#    10−23 erg⋅s−1⋅cm−2⋅Hz−1"
   ]
  },
  {
   "cell_type": "code",
   "execution_count": 23,
   "id": "2ee0579b-8b94-46f5-b8f4-c141ea80bca3",
   "metadata": {},
   "outputs": [
    {
     "data": {
      "text/plain": [
       "\"\\n#pl.loglog(u.Quantity([p[0] for p in sed]).to(u.Hz, u.spectral()), du.to(u.Jy / u.sr))\\nfig, ax1 = pl.subplots()\\npl.yscale('log')\\n\\nax2 = ax1.twinx()\\npl.yscale('log')\\n\\nax1.plot(freq.to(u.micron, u.spectral()), du.to(u.Jy / u.sr), color='green')\\nax2.scatter(u.Quantity([p[0] for p in sed]).to(u.micron, u.spectral()), u.Quantity([p[1] for p in sed]), color='blue')\\n\\nax1.set_xlabel('Wavelength ($\\\\mu$m)')\\nax1.set_ylabel('Jy/ster', color='green')\\nax2.set_ylabel('Jy', color='blue')\\n\\npl.show()\\n\\n\\n#pl.loglog(freq.to(u.micron, u.spectral()), du.to(u.Jy / u.sr), color='orange')\\n#pl.scatter(u.Quantity([p[0] for p in sed]).to(u.micron, u.spectral()), u.Quantity([p[1] for p in sed]))\\n#pl.xlabel('Wavelength ($\\\\mu$m)')\\n\""
      ]
     },
     "execution_count": 23,
     "metadata": {},
     "output_type": "execute_result"
    }
   ],
   "source": [
    "'''\n",
    "#pl.loglog(u.Quantity([p[0] for p in sed]).to(u.Hz, u.spectral()), du.to(u.Jy / u.sr))\n",
    "fig, ax1 = pl.subplots()\n",
    "pl.yscale('log')\n",
    "\n",
    "ax2 = ax1.twinx()\n",
    "pl.yscale('log')\n",
    "\n",
    "ax1.plot(freq.to(u.micron, u.spectral()), du.to(u.Jy / u.sr), color='green')\n",
    "ax2.scatter(u.Quantity([p[0] for p in sed]).to(u.micron, u.spectral()), u.Quantity([p[1] for p in sed]), color='blue')\n",
    "\n",
    "ax1.set_xlabel('Wavelength ($\\mu$m)')\n",
    "ax1.set_ylabel('Jy/ster', color='green')\n",
    "ax2.set_ylabel('Jy', color='blue')\n",
    "\n",
    "pl.show()\n",
    "\n",
    "\n",
    "#pl.loglog(freq.to(u.micron, u.spectral()), du.to(u.Jy / u.sr), color='orange')\n",
    "#pl.scatter(u.Quantity([p[0] for p in sed]).to(u.micron, u.spectral()), u.Quantity([p[1] for p in sed]))\n",
    "#pl.xlabel('Wavelength ($\\mu$m)')\n",
    "'''"
   ]
  },
  {
   "cell_type": "code",
   "execution_count": 24,
   "id": "d87d6c45-5f2f-4dac-ac34-d55edfa39553",
   "metadata": {},
   "outputs": [
    {
     "data": {
      "image/png": "[encoded data removed]",
      "text/plain": [
       "<Figure size 864x576 with 1 Axes>"
      ]
     },
     "metadata": {
      "needs_background": "light"
     },
     "output_type": "display_data"
    }
   ],
   "source": [
    "pl.figure(figsize=(12,8))\n",
    "pl.rcParams.update({'font.size': 18})\n",
    "pl.plot(freq.to(u.micron, u.spectral()), (du*area_as).to(u.Jy))#, color='#de541e')\n",
    "pl.scatter(u.Quantity([p[0] for p in sed]).to(u.micron, u.spectral()), u.Quantity([p[1] for p in sed]))#, color='#ad2831')\n",
    "pl.errorbar(x=u.Quantity([p[0] for p in sed]).to(u.micron, u.spectral()), y=u.Quantity([p[1] for p in sed]), yerr=u.Quantity([p[4] for p in sed]), fmt='o')#, color='#ad2831')\n",
    "\n",
    "pl.xlabel('Wavelength ($\\mu$m)')\n",
    "pl.ylabel('Jy')\n",
    "pl.yscale('log')\n",
    "#pl.savefig('./plots/sed.pdf')\n",
    "#pl.savefig('./plots/sed.png')"
   ]
  },
  {
   "cell_type": "code",
   "execution_count": 96,
   "id": "7dc248cf-c0cb-4a1a-91fa-4f08cf1c28dc",
   "metadata": {},
   "outputs": [
    {
     "data": {
      "image/png": "[encoded data removed]",
      "text/plain": [
       "<Figure size 432x288 with 1 Axes>"
      ]
     },
     "metadata": {
      "needs_background": "light"
     },
     "output_type": "display_data"
    }
   ],
   "source": [
    "pl.figure(figsize=(6,4))\n",
    "pl.rcParams.update({'font.size': 12})\n",
    "\n",
    "pl.loglog(freq.to(u.micron, u.spectral()), (du*area_as).to(u.Jy), color='k')\n",
    "#pl.scatter(u.Quantity([p[0] for p in sed]).to(u.micron, u.spectral()), u.Quantity([p[1] for p in sed]))#, color='blue')\n",
    "pl.errorbar(x=u.Quantity([p[0] for p in sed]).to(u.micron, u.spectral()), y=u.Quantity([p[1] for p in sed]), yerr=u.Quantity([p[4] for p in sed]), fmt=',', color='k')\n",
    "\n",
    "pl.xlabel('Wavelength ($\\mu$m)')\n",
    "pl.ylabel('Jy')\n",
    "pl.savefig('/orange/adamginsburg/cmz/g5/code/plots/dustsed.pdf', bbox_inches='tight')"
   ]
  },
  {
   "cell_type": "code",
   "execution_count": 97,
   "id": "d4630c70-ad8e-4e53-bd59-fa0dbf4c6dd9",
   "metadata": {},
   "outputs": [
    {
     "data": {
      "text/latex": [
       "$1535.1822 \\; \\mathrm{\\frac{u}{cm^{3}}}$"
      ],
      "text/plain": [
       "<Quantity 1535.18223814 u / cm3>"
      ]
     },
     "execution_count": 97,
     "metadata": {},
     "output_type": "execute_result"
    }
   ],
   "source": [
    "area = (area_as*(7*u.kpc)**2).to(u.cm**2, u.dimensionless_angles()) \n",
    "density = total_mass/(area**1.5) # very coarsely\n",
    "density"
   ]
  },
  {
   "cell_type": "code",
   "execution_count": 98,
   "id": "3f3be041-e74f-4758-a46d-ebd41f972e05",
   "metadata": {},
   "outputs": [
    {
     "data": {
      "text/latex": [
       "$11.821635 \\; \\mathrm{pc}$"
      ],
      "text/plain": [
       "<Quantity 11.82163496 pc>"
      ]
     },
     "execution_count": 98,
     "metadata": {},
     "output_type": "execute_result"
    }
   ],
   "source": [
    "column_density = modfit[2]\n",
    "(area**0.5).to(u.pc)\n"
   ]
  },
  {
   "cell_type": "code",
   "execution_count": 99,
   "id": "44b7ddaf-809e-447e-9323-933fd8c6c68b",
   "metadata": {},
   "outputs": [
    {
     "data": {
      "text/latex": [
       "$9.3067328 \\times 10^{18} \\; \\mathrm{\\frac{km\\,s}{K\\,cm^{2}}}$"
      ],
      "text/plain": [
       "<Quantity 9.30673278e+18 km s / (cm2 K)>"
      ]
     },
     "execution_count": 99,
     "metadata": {},
     "output_type": "execute_result"
    }
   ],
   "source": [
    "# X_CO Calculation \n",
    "WCO = 466.06297*u.K/u.km/u.s #300*u.K/u.km/u.s\n",
    "XCO = column_density / WCO\n",
    "XCO"
   ]
  },
  {
   "cell_type": "code",
   "execution_count": 100,
   "id": "6ba6dfed-454f-4b4b-a5db-64b7f9cadef2",
   "metadata": {},
   "outputs": [
    {
     "data": {
      "text/latex": [
       "$13495.819 \\; \\mathrm{M_{\\odot}}$"
      ],
      "text/plain": [
       "<Quantity 13495.81888741 solMass>"
      ]
     },
     "execution_count": 100,
     "metadata": {},
     "output_type": "execute_result"
    }
   ],
   "source": [
    "#column_density* 2.8*u.Da\n",
    "mass_t = (area * column_density * 2.8*u.Da).to(u.M_sun)\n",
    "mass_t"
   ]
  },
  {
   "cell_type": "code",
   "execution_count": 101,
   "id": "828b3787-c815-4dc4-b778-6f87d5f4c044",
   "metadata": {},
   "outputs": [
    {
     "data": {
      "text/latex": [
       "$332.94445 \\; \\mathrm{\\frac{u}{cm^{3}}}$"
      ],
      "text/plain": [
       "<Quantity 332.94445348 u / cm3>"
      ]
     },
     "execution_count": 101,
     "metadata": {},
     "output_type": "execute_result"
    }
   ],
   "source": [
    "density_1 = mass_t/(area**1.5) # very coarsely\n",
    "density_1.to(u.Da / u.cm**3)"
   ]
  },
  {
   "cell_type": "code",
   "execution_count": 102,
   "id": "75cf0d66-be0e-4441-816d-776b828937fb",
   "metadata": {},
   "outputs": [
    {
     "data": {
      "text/latex": [
       "$4.3375235 \\times 10^{21} \\; \\mathrm{\\frac{1}{cm^{2}}}$"
      ],
      "text/plain": [
       "<Quantity 4.33752352e+21 1 / cm2>"
      ]
     },
     "execution_count": 102,
     "metadata": {},
     "output_type": "execute_result"
    }
   ],
   "source": [
    "column_density"
   ]
  },
  {
   "cell_type": "code",
   "execution_count": 103,
   "id": "c2c1caaf-a282-4bad-b643-762fe0c26c9c",
   "metadata": {},
   "outputs": [
    {
     "data": {
      "text/latex": [
       "$139.75105 \\; \\mathrm{pc^{2}}$"
      ],
      "text/plain": [
       "<Quantity 139.7510532 pc2>"
      ]
     },
     "execution_count": 103,
     "metadata": {},
     "output_type": "execute_result"
    }
   ],
   "source": [
    "area.to(u.pc**2)"
   ]
  },
  {
   "cell_type": "code",
   "execution_count": 104,
   "id": "b74eb28f-5409-4d1c-8577-a7a8a1ede07c",
   "metadata": {},
   "outputs": [
    {
     "data": {
      "text/latex": [
       "$33.705966 \\; \\mathrm{arcmin^{2}}$"
      ],
      "text/plain": [
       "<Quantity 33.70596574 arcmin2>"
      ]
     },
     "execution_count": 104,
     "metadata": {},
     "output_type": "execute_result"
    }
   ],
   "source": [
    "area_as.to(u.arcmin**2)"
   ]
  },
  {
   "cell_type": "code",
   "execution_count": null,
   "id": "f3a7514e-7210-4aba-94c5-5a07d382f6a4",
   "metadata": {},
   "outputs": [],
   "source": []
  },
  {
   "cell_type": "code",
   "execution_count": 74,
   "id": "c3566d5d-22ff-4ec9-9a98-499ad743db52",
   "metadata": {},
   "outputs": [
    {
     "name": "stderr",
     "output_type": "stream",
     "text": [
      "WARNING: PossiblySlowWarning: This function (<function BaseSpectralCube.to at 0x2b89bdbfd820>) requires loading the entire cube into memory and may therefore be slow. [spectral_cube.utils]\n"
     ]
    }
   ],
   "source": [
    "name_12co = '/orange/adamginsburg/cmz/g5/G5/sum/newcombination/galcorrected/g5.12CO.spw17.fits'\n",
    "cube_12co = SpectralCube.read(name_12co).with_spectral_unit(u.km / u.s, velocity_convention='radio')\n",
    "cut_cube_12co = cube_12co.with_mask(cube_12co>0.05*u.K).spectral_slab(0*u.km / u.second, 225*u.km/u.second).to(u.K)\n"
   ]
  },
  {
   "cell_type": "code",
   "execution_count": 79,
   "id": "9958056f-6ebc-49e1-99bb-62029388f595",
   "metadata": {},
   "outputs": [],
   "source": [
    "mom0_12co = cut_cube_12co.moment0()\n",
    "ww = wcs.WCS(mom0_12co.header)\n",
    "preg = r0.to_pixel(ww)\n",
    "mask = preg.to_mask()"
   ]
  },
  {
   "cell_type": "code",
   "execution_count": 80,
   "id": "7e6b7223-3cde-49ef-a913-075347fbf339",
   "metadata": {},
   "outputs": [],
   "source": [
    "cutout = mask.cutout(mom0_12co.data)"
   ]
  },
  {
   "cell_type": "code",
   "execution_count": 81,
   "id": "9f1d673a-93a3-4310-8a2a-d6dd48d26ea2",
   "metadata": {},
   "outputs": [
    {
     "data": {
      "text/plain": [
       "<matplotlib.image.AxesImage at 0x2b8a01995ee0>"
      ]
     },
     "execution_count": 81,
     "metadata": {},
     "output_type": "execute_result"
    },
    {
     "data": {
      "image/png": "[encoded data removed]",
      "text/plain": [
       "<Figure size 432x288 with 1 Axes>"
      ]
     },
     "metadata": {
      "needs_background": "light"
     },
     "output_type": "display_data"
    }
   ],
   "source": [
    "pl.imshow(mask.multiply(mom0_12co.data))"
   ]
  },
  {
   "cell_type": "code",
   "execution_count": 93,
   "id": "3df19339-61a8-486a-b2e6-f6baf8eb36d3",
   "metadata": {},
   "outputs": [
    {
     "data": {
      "text/latex": [
       "$373.28364 \\; \\mathrm{\\frac{K\\,km}{s}}$"
      ],
      "text/plain": [
       "<Projection 373.28364278 K km / s>"
      ]
     },
     "execution_count": 93,
     "metadata": {},
     "output_type": "execute_result"
    }
   ],
   "source": [
    "W = np.nanmean(mask.multiply(mom0_12co))\n",
    "W"
   ]
  },
  {
   "cell_type": "code",
   "execution_count": 94,
   "id": "0a8a5ef4-5639-468e-bda2-4f1f4a6a88dd",
   "metadata": {},
   "outputs": [
    {
     "data": {
      "text/latex": [
       "$148.82109 \\; \\mathrm{\\frac{K\\,km}{s}}$"
      ],
      "text/plain": [
       "<Projection 148.82109491 K km / s>"
      ]
     },
     "execution_count": 94,
     "metadata": {},
     "output_type": "execute_result"
    }
   ],
   "source": [
    "np.nanstd(mask.multiply(mom0_12co))"
   ]
  },
  {
   "cell_type": "code",
   "execution_count": 83,
   "id": "96100f28-8fb5-4b80-b2f0-b3f98dae30ac",
   "metadata": {},
   "outputs": [],
   "source": [
    "col_density_Xstrong = mask.multiply(mom0_12co) * 2.3*10**20 * u.cm**(-2) * (u.K * u.km / u.s)**(-1) * 0.8\n"
   ]
  },
  {
   "cell_type": "code",
   "execution_count": 95,
   "id": "9be84b63-fdd1-4fd7-b6c1-b90ab577ccf4",
   "metadata": {},
   "outputs": [
    {
     "data": {
      "text/latex": [
       "$1.1619913 \\times 10^{19} \\; \\mathrm{\\frac{s}{K\\,km\\,cm^{2}}}$"
      ],
      "text/plain": [
       "<Projection 1.16199132e+19 s / (cm2 K km)>"
      ]
     },
     "execution_count": 95,
     "metadata": {},
     "output_type": "execute_result"
    }
   ],
   "source": [
    "column_density/W"
   ]
  },
  {
   "cell_type": "code",
   "execution_count": 105,
   "id": "29f5e21f-7476-4933-8daf-97454f8a266a",
   "metadata": {},
   "outputs": [
    {
     "data": {
      "text/latex": [
       "$19.793607 \\; \\mathrm{}$"
      ],
      "text/plain": [
       "<Projection 19.79360743>"
      ]
     },
     "execution_count": 105,
     "metadata": {},
     "output_type": "execute_result"
    }
   ],
   "source": [
    "(column_density/W / (2.3*10**20 * u.cm**(-2) * (u.K * u.km / u.s)**(-1)))**(-1)"
   ]
  },
  {
   "cell_type": "code",
   "execution_count": 89,
   "id": "16fce0dc-72f6-421d-8485-22ab8ce6fc1b",
   "metadata": {},
   "outputs": [
    {
     "data": {
      "text/latex": [
       "$2.7 \\; \\mathrm{\\frac{M_{\\odot}}{yr}}$"
      ],
      "text/plain": [
       "<Quantity 2.7 solMass / yr>"
      ]
     },
     "execution_count": 89,
     "metadata": {},
     "output_type": "execute_result"
    }
   ],
   "source": [
    "2.7 * u.Msun / u.year"
   ]
  },
  {
   "cell_type": "code",
   "execution_count": 106,
   "id": "96b01f7d-e42e-492d-b29e-93d74b0c7837",
   "metadata": {},
   "outputs": [
    {
     "data": {
      "text/latex": [
       "$0.1705096 \\; \\mathrm{\\frac{M_{\\odot}}{yr}}$"
      ],
      "text/plain": [
       "<Projection 0.1705096 solMass / yr>"
      ]
     },
     "execution_count": 106,
     "metadata": {},
     "output_type": "execute_result"
    }
   ],
   "source": [
    "2.7 * u.Msun / u.year * column_density/(W*0.8) / (2.3*10**20 * u.cm**(-2) * (u.K * u.km / u.s)**(-1))"
   ]
  },
  {
   "cell_type": "code",
   "execution_count": null,
   "id": "2e9fd771-9e4b-4051-8cef-aee3aec600ec",
   "metadata": {},
   "outputs": [],
   "source": []
  },
  {
   "cell_type": "code",
   "execution_count": null,
   "id": "f9b358db-b1a9-459a-b191-db2d8e240157",
   "metadata": {},
   "outputs": [],
   "source": []
  },
  {
   "cell_type": "code",
   "execution_count": null,
   "id": "3900fabe-a7a8-439c-a8cc-48ee335a3b36",
   "metadata": {},
   "outputs": [],
   "source": []
  },
  {
   "cell_type": "code",
   "execution_count": 16,
   "id": "7ed25f1d-ed0c-407f-ae2d-2c3a288c1d83",
   "metadata": {},
   "outputs": [],
   "source": [
    "sed_nobolo = [\n",
    "    (70*u.micron, pacs70, 'pacs', '70 um'), # pacsfn_1\n",
    "    (160*u.micron, pacs160, 'pacs', '160 um'), # pacsfn_1\n",
    "    (250*u.micron, her250, 'Herschel', '250 um'), # herfn_1\n",
    "    (350*u.micron, her350, 'Herschel', '350 um'), # herfn_2\n",
    "    (500*u.micron, her500, 'Herschel', '500 um'), # herfn_3\n",
    "    (850*u.micron, atlas850, 'ATLASGAL', '850 um')#,\n",
    "    #((1.1*u.mm).to(u.micron), bolo11, 'Bolocam' ,'1.1 mm') # Bolocam\n",
    "] "
   ]
  },
  {
   "cell_type": "code",
   "execution_count": 17,
   "id": "359802af-e63b-4240-ae12-6639366e5aaf",
   "metadata": {},
   "outputs": [
    {
     "data": {
      "text/plain": [
       "[<Quantity 16.13994505 K>,\n",
       " 1.8170865229324795,\n",
       " <Quantity 4.79698333e+15 1 / cm2>]"
      ]
     },
     "execution_count": 17,
     "metadata": {},
     "output_type": "execute_result"
    }
   ],
   "source": [
    "modfit_nobolo = dust_emissivity.fit_sed.fit_modified_bb(xdata=u.Quantity([p[0] for p in sed_nobolo]).to(u.Hz, u.spectral()),\n",
    "                                        flux=u.Quantity([p[1] for p in sed_nobolo]),\n",
    "                                        error=u.Quantity([1*u.Jy for p in sed_nobolo]),\n",
    "                                        guesses=[16*u.K, 1.5, 1e22*u.cm**-2],\n",
    "                                        fitter='lmfit'\n",
    "                                       )\n",
    "modfit_nobolo"
   ]
  },
  {
   "cell_type": "code",
   "execution_count": 18,
   "id": "250f53db-1432-4c3b-9f9c-e092612986b3",
   "metadata": {},
   "outputs": [
    {
     "data": {
      "text/latex": [
       "$[1.4920001 \\times 10^{-22},~7.9746169 \\times 10^{-22},~1.8414251 \\times 10^{-21},~2.8293697 \\times 10^{-21},~3.4879946 \\times 10^{-21},~3.7844896 \\times 10^{-21},~3.7998013 \\times 10^{-21},~3.6344103 \\times 10^{-21},~3.3703827 \\times 10^{-21},~3.0642396 \\times 10^{-21},~2.7510443 \\times 10^{-21},~2.4506674 \\times 10^{-21},~2.1731463 \\times 10^{-21},~1.9225315 \\times 10^{-21},~1.6994254 \\times 10^{-21},~1.5025722 \\times 10^{-21},~1.329818 \\times 10^{-21},~1.1786704 \\times 10^{-21},~1.04661 \\times 10^{-21},~9.3125449 \\times 10^{-22},~8.3043376 \\times 10^{-22},~7.4221667 \\times 10^{-22},~6.6490928 \\times 10^{-22},~5.9703968 \\times 10^{-22},~5.3733637 \\times 10^{-22},~4.8470527 \\times 10^{-22},~4.3820657 \\times 10^{-22},~3.9703365 \\times 10^{-22},~3.6049452 \\times 10^{-22},~3.2799477 \\times 10^{-22},~2.9902366 \\times 10^{-22},~2.7314136 \\times 10^{-22},~2.499689 \\times 10^{-22},~2.2917875 \\times 10^{-22},~2.1048768 \\times 10^{-22},~1.9364998 \\times 10^{-22},~1.784523 \\times 10^{-22},~1.6470878 \\times 10^{-22},~1.5225734 \\times 10^{-22},~1.4095628 \\times 10^{-22},~1.3068138 \\times 10^{-22},~1.2132375 \\times 10^{-22},~1.1278743 \\times 10^{-22},~1.0498797 \\times 10^{-22},~9.7850755 \\times 10^{-23},~9.1309722 \\times 10^{-23},~8.5306371 \\times 10^{-23},~7.9788744 \\times 10^{-23},~7.4710512 \\times 10^{-23},~7.0030521 \\times 10^{-23}] \\; \\mathrm{\\frac{erg}{Hz\\,s\\,sr\\,cm^{2}}}$"
      ],
      "text/plain": [
       "<Quantity [1.49200009e-22, 7.97461689e-22, 1.84142506e-21, 2.82936967e-21,\n",
       "           3.48799458e-21, 3.78448959e-21, 3.79980128e-21, 3.63441028e-21,\n",
       "           3.37038269e-21, 3.06423955e-21, 2.75104426e-21, 2.45066742e-21,\n",
       "           2.17314626e-21, 1.92253147e-21, 1.69942543e-21, 1.50257219e-21,\n",
       "           1.32981800e-21, 1.17867040e-21, 1.04661001e-21, 9.31254491e-22,\n",
       "           8.30433763e-22, 7.42216672e-22, 6.64909276e-22, 5.97039684e-22,\n",
       "           5.37336367e-22, 4.84705270e-22, 4.38206572e-22, 3.97033646e-22,\n",
       "           3.60494517e-22, 3.27994773e-22, 2.99023661e-22, 2.73141363e-22,\n",
       "           2.49968902e-22, 2.29178746e-22, 2.10487682e-22, 1.93649982e-22,\n",
       "           1.78452296e-22, 1.64708783e-22, 1.52257340e-22, 1.40956276e-22,\n",
       "           1.30681381e-22, 1.21323749e-22, 1.12787430e-22, 1.04987975e-22,\n",
       "           9.78507545e-23, 9.13097224e-23, 8.53063707e-23, 7.97887440e-23,\n",
       "           7.47105116e-23, 7.00305213e-23] erg / (cm2 Hz s sr)>"
      ]
     },
     "execution_count": 18,
     "metadata": {},
     "output_type": "execute_result"
    }
   ],
   "source": [
    "du_nobolo = dust_emissivity.blackbody.modified_blackbody(\n",
    "    #u.Quantity([p[0] for p in sed]).to(u.Hz, u.spectral()), \n",
    "    freq,\n",
    "    temperature = modfit_nobolo[0], \n",
    "    beta = modfit_nobolo[1], \n",
    "    column = modfit_nobolo[2])\n",
    "du_nobolo"
   ]
  },
  {
   "cell_type": "code",
   "execution_count": 19,
   "id": "e458af87-20f8-4236-a2b3-57cf9597996d",
   "metadata": {},
   "outputs": [
    {
     "data": {
      "image/png": "[encoded data removed]",
      "text/plain": [
       "<Figure size 432x288 with 1 Axes>"
      ]
     },
     "metadata": {
      "needs_background": "light"
     },
     "output_type": "display_data"
    }
   ],
   "source": [
    "pl.plot(freq.to(u.micron, u.spectral()), du_nobolo.to(u.Jy / u.sr), color='green')\n",
    "pl.scatter(u.Quantity([p[0] for p in sed_nobolo]).to(u.micron, u.spectral()), u.Quantity([p[1] for p in sed_nobolo]), color='blue')\n",
    "\n",
    "pl.xlabel('Wavelength ($\\mu$m)')\n",
    "pl.ylabel('Jy')\n",
    "pl.yscale('log')"
   ]
  },
  {
   "cell_type": "code",
   "execution_count": 20,
   "id": "ba304d3b-c567-4b11-93de-e02d91c7dff5",
   "metadata": {},
   "outputs": [
    {
     "data": {
      "text/plain": [
       "Text(0, 0.5, 'Jy')"
      ]
     },
     "execution_count": 20,
     "metadata": {},
     "output_type": "execute_result"
    },
    {
     "data": {
      "image/png": "[encoded data removed]",
      "text/plain": [
       "<Figure size 432x288 with 1 Axes>"
      ]
     },
     "metadata": {
      "needs_background": "light"
     },
     "output_type": "display_data"
    }
   ],
   "source": [
    "pl.loglog(freq.to(u.micron, u.spectral()), du_nobolo.to(u.Jy / u.sr), color='green')\n",
    "pl.scatter(u.Quantity([p[0] for p in sed_nobolo]).to(u.micron, u.spectral()), u.Quantity([p[1] for p in sed_nobolo]), color='blue')\n",
    "pl.xlabel('Wavelength ($\\mu$m)')\n",
    "pl.ylabel('Jy')"
   ]
  },
  {
   "cell_type": "code",
   "execution_count": 21,
   "id": "62cf0fac-f5e9-4ed5-829c-457697957bbb",
   "metadata": {},
   "outputs": [],
   "source": [
    "sed_noatlas = [\n",
    "    (70*u.micron, pacs70, 'pacs', '70 um'), # pacsfn_1\n",
    "    (160*u.micron, pacs160, 'pacs', '160 um'), # pacsfn_1\n",
    "    (250*u.micron, her250, 'Herschel', '250 um'), # herfn_1\n",
    "    (350*u.micron, her350, 'Herschel', '350 um'), # herfn_2\n",
    "    (500*u.micron, her500, 'Herschel', '500 um'), # herfn_3\n",
    "    #(850*u.micron, atlas850, 'ATLASGAL', '850 um')#,\n",
    "    ((1.1*u.mm).to(u.micron), bolo11, 'Bolocam' ,'1.1 mm') # Bolocam\n",
    "] "
   ]
  },
  {
   "cell_type": "code",
   "execution_count": 22,
   "id": "caa65bee-b10d-4521-b49c-cf3de6d5143e",
   "metadata": {},
   "outputs": [
    {
     "data": {
      "text/plain": [
       "[<Quantity 16.22928261 K>,\n",
       " 1.7951860064828236,\n",
       " <Quantity 4.78519432e+15 1 / cm2>]"
      ]
     },
     "execution_count": 22,
     "metadata": {},
     "output_type": "execute_result"
    }
   ],
   "source": [
    "modfit_noatlas = dust_emissivity.fit_sed.fit_modified_bb(xdata=u.Quantity([p[0] for p in sed_noatlas]).to(u.Hz, u.spectral()),\n",
    "                                        flux=u.Quantity([p[1] for p in sed_noatlas]),\n",
    "                                        error=u.Quantity([1*u.Jy for p in sed_noatlas]),\n",
    "                                        guesses=[16*u.K, 2, 1e22*u.cm**-2],\n",
    "                                        fitter='lmfit'\n",
    "                                       )\n",
    "modfit_noatlas"
   ]
  },
  {
   "cell_type": "code",
   "execution_count": 23,
   "id": "b209b34a-4450-4be4-a9ea-52caa23176df",
   "metadata": {},
   "outputs": [
    {
     "data": {
      "text/latex": [
       "$[1.5233929 \\times 10^{-22},~8.0578792 \\times 10^{-22},~1.8503503 \\times 10^{-21},~2.8342194 \\times 10^{-21},~3.48781 \\times 10^{-21},~3.7807104 \\times 10^{-21},~3.7943945 \\times 10^{-21},~3.6289448 \\times 10^{-21},~3.3658226 \\times 10^{-21},~3.0610423 \\times 10^{-21},~2.7493269 \\times 10^{-21},~2.4503501 \\times 10^{-21},~2.1740525 \\times 10^{-21},~1.9244506 \\times 10^{-21},~1.7021476 \\times 10^{-21},~1.5059061 \\times 10^{-21},~1.3335982 \\times 10^{-21},~1.1827586 \\times 10^{-21},~1.0508936 \\times 10^{-21},~9.3564349 \\times 10^{-22},~8.3485767 \\times 10^{-22},~7.46621 \\times 10^{-22},~6.6925266 \\times 10^{-22},~6.0129142 \\times 10^{-22},~5.4147445 \\times 10^{-22},~4.8871421 \\times 10^{-22},~4.4207626 \\times 10^{-22},~4.007581 \\times 10^{-22},~3.6407079 \\times 10^{-22},~3.3142252 \\times 10^{-22},~3.0230416 \\times 10^{-22},~2.7627741 \\times 10^{-22},~2.5296418 \\times 10^{-22},~2.3203771 \\times 10^{-22},~2.1321515 \\times 10^{-22},~1.9625114 \\times 10^{-22},~1.8093244 \\times 10^{-22},~1.6707327 \\times 10^{-22},~1.5451153 \\times 10^{-22},~1.431054 \\times 10^{-22},~1.3273056 \\times 10^{-22},~1.2327793 \\times 10^{-22},~1.1465146 \\times 10^{-22},~1.0676641 \\times 10^{-22},~9.9547972 \\times 10^{-23},~9.2929937 \\times 10^{-23},~8.6853563 \\times 10^{-23},~8.1266692 \\times 10^{-23},~7.6122823 \\times 10^{-23},~7.1380607 \\times 10^{-23}] \\; \\mathrm{\\frac{erg}{Hz\\,s\\,sr\\,cm^{2}}}$"
      ],
      "text/plain": [
       "<Quantity [1.52339294e-22, 8.05787923e-22, 1.85035025e-21, 2.83421936e-21,\n",
       "           3.48780995e-21, 3.78071037e-21, 3.79439452e-21, 3.62894485e-21,\n",
       "           3.36582255e-21, 3.06104228e-21, 2.74932694e-21, 2.45035012e-21,\n",
       "           2.17405246e-21, 1.92445062e-21, 1.70214761e-21, 1.50590608e-21,\n",
       "           1.33359823e-21, 1.18275863e-21, 1.05089363e-21, 9.35643495e-22,\n",
       "           8.34857669e-22, 7.46620996e-22, 6.69252658e-22, 6.01291423e-22,\n",
       "           5.41474446e-22, 4.88714214e-22, 4.42076264e-22, 4.00758098e-22,\n",
       "           3.64070789e-22, 3.31422523e-22, 3.02304163e-22, 2.76277410e-22,\n",
       "           2.52964185e-22, 2.32037706e-22, 2.13215145e-22, 1.96251137e-22,\n",
       "           1.80932441e-22, 1.67073273e-22, 1.54511526e-22, 1.43105396e-22,\n",
       "           1.32730562e-22, 1.23277931e-22, 1.14651458e-22, 1.06766412e-22,\n",
       "           9.95479716e-23, 9.29299374e-23, 8.68535628e-23, 8.12666918e-23,\n",
       "           7.61228232e-23, 7.13806074e-23] erg / (cm2 Hz s sr)>"
      ]
     },
     "execution_count": 23,
     "metadata": {},
     "output_type": "execute_result"
    }
   ],
   "source": [
    "du_noatlas = dust_emissivity.blackbody.modified_blackbody(\n",
    "    #u.Quantity([p[0] for p in sed]).to(u.Hz, u.spectral()), \n",
    "    freq,\n",
    "    temperature = modfit_noatlas[0], \n",
    "    beta = modfit_noatlas[1], \n",
    "    column = modfit_noatlas[2])\n",
    "du_noatlas"
   ]
  },
  {
   "cell_type": "code",
   "execution_count": 24,
   "id": "44537fed-2d77-479e-a685-730d08383943",
   "metadata": {},
   "outputs": [
    {
     "data": {
      "image/png": "[encoded data removed]",
      "text/plain": [
       "<Figure size 432x288 with 1 Axes>"
      ]
     },
     "metadata": {
      "needs_background": "light"
     },
     "output_type": "display_data"
    }
   ],
   "source": [
    "pl.plot(freq.to(u.micron, u.spectral()), du_noatlas.to(u.Jy / u.sr), color='green')\n",
    "pl.scatter(u.Quantity([p[0] for p in sed_noatlas]).to(u.micron, u.spectral()), u.Quantity([p[1] for p in sed_noatlas]), color='blue')\n",
    "#pl.scatter(u.Quantity([p[0] for p in sed]).to(u.micron, u.spectral()), u.Quantity([p[1] for p in sed]), color='orange')\n",
    "\n",
    "pl.xlabel('Wavelength ($\\mu$m)')\n",
    "pl.ylabel('Jy')\n",
    "pl.yscale('log')"
   ]
  },
  {
   "cell_type": "code",
   "execution_count": 25,
   "id": "f453d166-35e8-4e09-88f7-52416c01ef9c",
   "metadata": {},
   "outputs": [
    {
     "data": {
      "text/plain": [
       "Text(0, 0.5, 'Jy')"
      ]
     },
     "execution_count": 25,
     "metadata": {},
     "output_type": "execute_result"
    },
    {
     "data": {
      "image/png": "[encoded data removed]",
      "text/plain": [
       "<Figure size 432x288 with 1 Axes>"
      ]
     },
     "metadata": {
      "needs_background": "light"
     },
     "output_type": "display_data"
    }
   ],
   "source": [
    "pl.loglog(freq.to(u.micron, u.spectral()), du_noatlas.to(u.Jy / u.sr), color='green')\n",
    "pl.scatter(u.Quantity([p[0] for p in sed_noatlas]).to(u.micron, u.spectral()), u.Quantity([p[1] for p in sed_noatlas]), color='blue')\n",
    "pl.xlabel('Wavelength ($\\mu$m)')\n",
    "pl.ylabel('Jy')"
   ]
  },
  {
   "cell_type": "code",
   "execution_count": 26,
   "id": "20df33f1-c230-4e69-925a-fc4c7758f85d",
   "metadata": {},
   "outputs": [
    {
     "data": {
      "text/plain": [
       "\u001b[0;31mSignature:\u001b[0m\n",
       "\u001b[0mdust_emissivity\u001b[0m\u001b[0;34m.\u001b[0m\u001b[0mdust\u001b[0m\u001b[0;34m.\u001b[0m\u001b[0mmassofsnu\u001b[0m\u001b[0;34m(\u001b[0m\u001b[0;34m\u001b[0m\n",
       "\u001b[0;34m\u001b[0m    \u001b[0mnu\u001b[0m\u001b[0;34m,\u001b[0m\u001b[0;34m\u001b[0m\n",
       "\u001b[0;34m\u001b[0m    \u001b[0msnu\u001b[0m\u001b[0;34m,\u001b[0m\u001b[0;34m\u001b[0m\n",
       "\u001b[0;34m\u001b[0m    \u001b[0mdistance\u001b[0m\u001b[0;34m=\u001b[0m\u001b[0;34m<\u001b[0m\u001b[0mQuantity\u001b[0m \u001b[0;36m1.\u001b[0m \u001b[0mkpc\u001b[0m\u001b[0;34m>\u001b[0m\u001b[0;34m,\u001b[0m\u001b[0;34m\u001b[0m\n",
       "\u001b[0;34m\u001b[0m    \u001b[0mtemperature\u001b[0m\u001b[0;34m=\u001b[0m\u001b[0;34m<\u001b[0m\u001b[0mQuantity\u001b[0m \u001b[0;36m20.\u001b[0m \u001b[0mK\u001b[0m\u001b[0;34m>\u001b[0m\u001b[0;34m,\u001b[0m\u001b[0;34m\u001b[0m\n",
       "\u001b[0;34m\u001b[0m    \u001b[0mmuh2\u001b[0m\u001b[0;34m=\u001b[0m\u001b[0;36m2.8\u001b[0m\u001b[0;34m,\u001b[0m\u001b[0;34m\u001b[0m\n",
       "\u001b[0;34m\u001b[0m    \u001b[0mbeta\u001b[0m\u001b[0;34m=\u001b[0m\u001b[0;36m1.75\u001b[0m\u001b[0;34m,\u001b[0m\u001b[0;34m\u001b[0m\n",
       "\u001b[0;34m\u001b[0m    \u001b[0mbeamomega\u001b[0m\u001b[0;34m=\u001b[0m\u001b[0;34m<\u001b[0m\u001b[0mQuantity\u001b[0m \u001b[0;36m1.\u001b[0m \u001b[0msr\u001b[0m\u001b[0;34m>\u001b[0m\u001b[0;34m,\u001b[0m\u001b[0;34m\u001b[0m\n",
       "\u001b[0;34m\u001b[0m\u001b[0;34m)\u001b[0m\u001b[0;34m\u001b[0m\u001b[0;34m\u001b[0m\u001b[0m\n",
       "\u001b[0;31mDocstring:\u001b[0m <no docstring>\n",
       "\u001b[0;31mFile:\u001b[0m      /blue/adamginsburg/adamginsburg/repos/dust_emissivity/dust_emissivity/dust.py\n",
       "\u001b[0;31mType:\u001b[0m      function\n"
      ]
     },
     "metadata": {},
     "output_type": "display_data"
    }
   ],
   "source": [
    "dust_emissivity.dust.massofsnu?"
   ]
  },
  {
   "cell_type": "code",
   "execution_count": 27,
   "id": "c1f6d370-7e9c-44bd-8048-22ede999bd41",
   "metadata": {},
   "outputs": [
    {
     "data": {
      "text/latex": [
       "$8812.072 \\; \\mathrm{M_{\\odot}}$"
      ],
      "text/plain": [
       "<Quantity 8812.07200452 solMass>"
      ]
     },
     "execution_count": 27,
     "metadata": {},
     "output_type": "execute_result"
    }
   ],
   "source": [
    "dust_emissivity.dust.massofsnu(271.1*u.GHz, 4.7052907*u.Jy, 7*u.kpc, temperature=10*u.K)"
   ]
  },
  {
   "cell_type": "code",
   "execution_count": 28,
   "id": "85198c7e-d326-4df7-9b53-a0240fbb53fb",
   "metadata": {},
   "outputs": [
    {
     "data": {
      "text/latex": [
       "$4189.639 \\; \\mathrm{M_{\\odot}}$"
      ],
      "text/plain": [
       "<Quantity 4189.63901774 solMass>"
      ]
     },
     "execution_count": 28,
     "metadata": {},
     "output_type": "execute_result"
    }
   ],
   "source": [
    "dust_emissivity.dust.massofsnu(271.1*u.GHz, 4.7052907*u.Jy, 7*u.kpc, temperature=modfit[0], beta=modfit[1])\n",
    "#temp,beta,col"
   ]
  },
  {
   "cell_type": "code",
   "execution_count": 29,
   "id": "0ef497e1-bc20-4a74-8f8c-684ff477e32f",
   "metadata": {},
   "outputs": [
    {
     "data": {
      "text/latex": [
       "$19793.546 \\; \\mathrm{M_{\\odot}}$"
      ],
      "text/plain": [
       "<Quantity 19793.54583619 solMass>"
      ]
     },
     "execution_count": 29,
     "metadata": {},
     "output_type": "execute_result"
    }
   ],
   "source": [
    "dust_emissivity.dust.massofsnu(345*u.GHz, 50*u.Jy, 7*u.kpc, temperature=modfit[0], beta=modfit[1])"
   ]
  },
  {
   "cell_type": "code",
   "execution_count": 30,
   "id": "fdbf8913-ac46-4c58-9b19-d67080dc41f2",
   "metadata": {},
   "outputs": [
    {
     "data": {
      "text/latex": [
       "$1199.1698 \\; \\mathrm{GHz}$"
      ],
      "text/plain": [
       "<Quantity 1199.169832 GHz>"
      ]
     },
     "execution_count": 30,
     "metadata": {},
     "output_type": "execute_result"
    }
   ],
   "source": [
    "(250*u.micron).to(u.GHz, u.spectral())"
   ]
  },
  {
   "cell_type": "code",
   "execution_count": 31,
   "id": "4563456a-cee0-4c8c-a96e-6ad6b160616c",
   "metadata": {},
   "outputs": [
    {
     "data": {
      "text/latex": [
       "$5662.453 \\; \\mathrm{M_{\\odot}}$"
      ],
      "text/plain": [
       "<Quantity 5662.45297363 solMass>"
      ]
     },
     "execution_count": 31,
     "metadata": {},
     "output_type": "execute_result"
    }
   ],
   "source": [
    "dust_emissivity.dust.massofsnu((250*u.micron).to(u.GHz, u.spectral()), her250, 7*u.kpc, temperature=modfit[0], beta=modfit[1])"
   ]
  },
  {
   "cell_type": "code",
   "execution_count": null,
   "id": "4f3ff6ed-459e-42e5-bd93-588098385b8d",
   "metadata": {},
   "outputs": [],
   "source": []
  },
  {
   "cell_type": "code",
   "execution_count": null,
   "id": "fb0dbbf7-e1ef-419f-8ff2-0c7e2a75eed4",
   "metadata": {},
   "outputs": [],
   "source": []
  },
  {
   "cell_type": "code",
   "execution_count": 7,
   "id": "13c0f9f5-468f-4e37-9355-b6857316912d",
   "metadata": {},
   "outputs": [],
   "source": []
  },
  {
   "cell_type": "code",
   "execution_count": 8,
   "id": "5a73e9cb-fc43-4cac-afc0-35a9e5b85e51",
   "metadata": {},
   "outputs": [],
   "source": []
  },
  {
   "cell_type": "code",
   "execution_count": null,
   "id": "63176643-1b11-49c1-9ca7-c8fb2110efe5",
   "metadata": {},
   "outputs": [],
   "source": []
  },
  {
   "cell_type": "code",
   "execution_count": null,
   "id": "9d4bc050-3620-4080-8045-1609ddacfbbc",
   "metadata": {},
   "outputs": [],
   "source": []
  },
  {
   "cell_type": "code",
   "execution_count": null,
   "id": "97d787f7-fbc0-422c-aa96-c0f048a9c691",
   "metadata": {},
   "outputs": [],
   "source": []
  }
 ],
 "metadata": {
  "kernelspec": {
   "display_name": "Python 3 (ipykernel)",
   "language": "python",
   "name": "python3"
  },
  "language_info": {
   "codemirror_mode": {
    "name": "ipython",
    "version": 3
   },
   "file_extension": ".py",
   "mimetype": "text/x-python",
   "name": "python",
   "nbconvert_exporter": "python",
   "pygments_lexer": "ipython3",
   "version": "3.9.13"
  }
 },
 "nbformat": 4,
 "nbformat_minor": 5
}
