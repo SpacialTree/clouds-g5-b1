{
 "cells": [
  {
   "cell_type": "code",
   "execution_count": 1,
   "id": "2ae51d87-b9cd-496d-a20e-74af9f1d4a31",
   "metadata": {
    "tags": []
   },
   "outputs": [
    {
     "name": "stderr",
     "output_type": "stream",
     "text": [
      "fatal: detected dubious ownership in repository at '/blue/adamginsburg/adamginsburg/repos/dask'\n",
      "To add an exception for this directory, call:\n",
      "\n",
      "\tgit config --global --add safe.directory /blue/adamginsburg/adamginsburg/repos/dask\n"
     ]
    }
   ],
   "source": [
    "import dust_emissivity\n",
    "from astropy import units as u\n",
    "from astropy import constants as const\n",
    "from matplotlib import pyplot as pl\n",
    "import numpy as np\n",
    "import regions\n",
    "from astropy.io import fits\n",
    "from astropy import wcs\n",
    "from spectral_cube import SpectralCube\n",
    "from astropy.table import QTable\n"
   ]
  },
  {
   "cell_type": "code",
   "execution_count": 2,
   "id": "d2cebc17-46f8-4a02-85cb-adc8b0ad5c3c",
   "metadata": {},
   "outputs": [
    {
     "name": "stdout",
     "output_type": "stream",
     "text": [
      "test\n"
     ]
    }
   ],
   "source": [
    "print('test')"
   ]
  },
  {
   "cell_type": "code",
   "execution_count": 3,
   "id": "1f0b51bd-ecbe-4f9e-a460-e804e8788de7",
   "metadata": {
    "collapsed": true,
    "jupyter": {
     "outputs_hidden": true
    },
    "tags": []
   },
   "outputs": [
    {
     "ename": "FileNotFoundError",
     "evalue": "[Errno 2] No such file or directory: '../G5/sum/spw17_12CO/ccc.reg'",
     "output_type": "error",
     "traceback": [
      "\u001b[0;31m---------------------------------------------------------------------------\u001b[0m",
      "\u001b[0;31mFileNotFoundError\u001b[0m                         Traceback (most recent call last)",
      "\u001b[0;32m/scratch/local/62075387/ipykernel_6991/4182379627.py\u001b[0m in \u001b[0;36m<module>\u001b[0;34m\u001b[0m\n\u001b[1;32m      7\u001b[0m \u001b[0mbolo11\u001b[0m  \u001b[0;34m=\u001b[0m \u001b[0;36m4.7052907\u001b[0m \u001b[0;34m*\u001b[0m \u001b[0mu\u001b[0m\u001b[0;34m.\u001b[0m\u001b[0mJy\u001b[0m\u001b[0;34m\u001b[0m\u001b[0;34m\u001b[0m\u001b[0m\n\u001b[1;32m      8\u001b[0m \u001b[0matlas850\u001b[0m\u001b[0;34m=\u001b[0m \u001b[0;36m22.663\u001b[0m \u001b[0;34m*\u001b[0m \u001b[0mu\u001b[0m\u001b[0;34m.\u001b[0m\u001b[0mJy\u001b[0m\u001b[0;34m\u001b[0m\u001b[0;34m\u001b[0m\u001b[0m\n\u001b[0;32m----> 9\u001b[0;31m \u001b[0mreg\u001b[0m \u001b[0;34m=\u001b[0m \u001b[0mregions\u001b[0m\u001b[0;34m.\u001b[0m\u001b[0mRegions\u001b[0m\u001b[0;34m.\u001b[0m\u001b[0mread\u001b[0m\u001b[0;34m(\u001b[0m\u001b[0;34m'../G5/sum/spw17_12CO/ccc.reg'\u001b[0m\u001b[0;34m)\u001b[0m\u001b[0;34m\u001b[0m\u001b[0;34m\u001b[0m\u001b[0m\n\u001b[0m",
      "\u001b[0;32m/blue/adamginsburg/adamginsburg/repos/regions/regions/core/regions.py\u001b[0m in \u001b[0;36mread\u001b[0;34m(cls, filename, format, cache, **kwargs)\u001b[0m\n\u001b[1;32m    158\u001b[0m             \u001b[0mA\u001b[0m\u001b[0;31m \u001b[0m\u001b[0;31m`\u001b[0m\u001b[0;34m~\u001b[0m\u001b[0mregions\u001b[0m\u001b[0;34m.\u001b[0m\u001b[0mRegions\u001b[0m\u001b[0;31m`\u001b[0m \u001b[0mobject\u001b[0m \u001b[0mcontaining\u001b[0m \u001b[0mthe\u001b[0m \u001b[0mfile\u001b[0m \u001b[0mcontents\u001b[0m\u001b[0;34m.\u001b[0m\u001b[0;34m\u001b[0m\u001b[0;34m\u001b[0m\u001b[0m\n\u001b[1;32m    159\u001b[0m         \"\"\"\n\u001b[0;32m--> 160\u001b[0;31m         return RegionsRegistry.read(filename, cls, format=format,\n\u001b[0m\u001b[1;32m    161\u001b[0m                                     cache=cache, **kwargs)\n\u001b[1;32m    162\u001b[0m \u001b[0;34m\u001b[0m\u001b[0m\n",
      "\u001b[0;32m/blue/adamginsburg/adamginsburg/repos/regions/regions/core/registry.py\u001b[0m in \u001b[0;36mread\u001b[0;34m(cls, filename, classobj, format, **kwargs)\u001b[0m\n\u001b[1;32m     65\u001b[0m         \"\"\"\n\u001b[1;32m     66\u001b[0m         \u001b[0;32mif\u001b[0m \u001b[0mformat\u001b[0m \u001b[0;32mis\u001b[0m \u001b[0;32mNone\u001b[0m\u001b[0;34m:\u001b[0m\u001b[0;34m\u001b[0m\u001b[0;34m\u001b[0m\u001b[0m\n\u001b[0;32m---> 67\u001b[0;31m             \u001b[0mformat\u001b[0m \u001b[0;34m=\u001b[0m \u001b[0mcls\u001b[0m\u001b[0;34m.\u001b[0m\u001b[0midentify_format\u001b[0m\u001b[0;34m(\u001b[0m\u001b[0mfilename\u001b[0m\u001b[0;34m,\u001b[0m \u001b[0mclassobj\u001b[0m\u001b[0;34m,\u001b[0m \u001b[0;34m'read'\u001b[0m\u001b[0;34m)\u001b[0m\u001b[0;34m\u001b[0m\u001b[0;34m\u001b[0m\u001b[0m\n\u001b[0m\u001b[1;32m     68\u001b[0m \u001b[0;34m\u001b[0m\u001b[0m\n\u001b[1;32m     69\u001b[0m         \u001b[0mkey\u001b[0m \u001b[0;34m=\u001b[0m \u001b[0;34m(\u001b[0m\u001b[0mclassobj\u001b[0m\u001b[0;34m,\u001b[0m \u001b[0;34m'read'\u001b[0m\u001b[0;34m,\u001b[0m \u001b[0mformat\u001b[0m\u001b[0;34m)\u001b[0m\u001b[0;34m\u001b[0m\u001b[0;34m\u001b[0m\u001b[0m\n",
      "\u001b[0;32m/blue/adamginsburg/adamginsburg/repos/regions/regions/core/registry.py\u001b[0m in \u001b[0;36midentify_format\u001b[0;34m(cls, filename, classobj, methodname)\u001b[0m\n\u001b[1;32m     50\u001b[0m         \u001b[0;32mif\u001b[0m \u001b[0midentifiers\u001b[0m\u001b[0;34m:\u001b[0m\u001b[0;34m\u001b[0m\u001b[0;34m\u001b[0m\u001b[0m\n\u001b[1;32m     51\u001b[0m             \u001b[0;32mfor\u001b[0m \u001b[0midentifier\u001b[0m \u001b[0;32min\u001b[0m \u001b[0midentifiers\u001b[0m\u001b[0;34m:\u001b[0m\u001b[0;34m\u001b[0m\u001b[0;34m\u001b[0m\u001b[0m\n\u001b[0;32m---> 52\u001b[0;31m                 \u001b[0;32mif\u001b[0m \u001b[0mcls\u001b[0m\u001b[0;34m.\u001b[0m\u001b[0mregistry\u001b[0m\u001b[0;34m[\u001b[0m\u001b[0midentifier\u001b[0m\u001b[0;34m]\u001b[0m\u001b[0;34m(\u001b[0m\u001b[0mmethodname\u001b[0m\u001b[0;34m,\u001b[0m \u001b[0mfilename\u001b[0m\u001b[0;34m)\u001b[0m\u001b[0;34m:\u001b[0m\u001b[0;34m\u001b[0m\u001b[0;34m\u001b[0m\u001b[0m\n\u001b[0m\u001b[1;32m     53\u001b[0m                     \u001b[0mformat\u001b[0m \u001b[0;34m=\u001b[0m \u001b[0midentifier\u001b[0m\u001b[0;34m[\u001b[0m\u001b[0;36m2\u001b[0m\u001b[0;34m]\u001b[0m\u001b[0;34m\u001b[0m\u001b[0;34m\u001b[0m\u001b[0m\n\u001b[1;32m     54\u001b[0m                     \u001b[0;32mbreak\u001b[0m  \u001b[0;31m# finds the first valid filetype\u001b[0m\u001b[0;34m\u001b[0m\u001b[0;34m\u001b[0m\u001b[0m\n",
      "\u001b[0;32m/blue/adamginsburg/adamginsburg/repos/regions/regions/io/crtf/connect.py\u001b[0m in \u001b[0;36mis_crtf\u001b[0;34m(methodname, filepath)\u001b[0m\n\u001b[1;32m     39\u001b[0m             \u001b[0;32mreturn\u001b[0m \u001b[0;32mTrue\u001b[0m\u001b[0;34m\u001b[0m\u001b[0;34m\u001b[0m\u001b[0m\n\u001b[1;32m     40\u001b[0m         \u001b[0;32melse\u001b[0m\u001b[0;34m:\u001b[0m\u001b[0;34m\u001b[0m\u001b[0;34m\u001b[0m\u001b[0m\n\u001b[0;32m---> 41\u001b[0;31m             \u001b[0;32mwith\u001b[0m \u001b[0mget_readable_fileobj\u001b[0m\u001b[0;34m(\u001b[0m\u001b[0mfilepath\u001b[0m\u001b[0;34m,\u001b[0m \u001b[0mencoding\u001b[0m\u001b[0;34m=\u001b[0m\u001b[0;34m'binary'\u001b[0m\u001b[0;34m)\u001b[0m \u001b[0;32mas\u001b[0m \u001b[0mfileobj\u001b[0m\u001b[0;34m:\u001b[0m\u001b[0;34m\u001b[0m\u001b[0;34m\u001b[0m\u001b[0m\n\u001b[0m\u001b[1;32m     42\u001b[0m                 \u001b[0msignature\u001b[0m \u001b[0;34m=\u001b[0m \u001b[0;34m'#CRTF'\u001b[0m\u001b[0;34m\u001b[0m\u001b[0;34m\u001b[0m\u001b[0m\n\u001b[1;32m     43\u001b[0m                 \u001b[0mpos\u001b[0m \u001b[0;34m=\u001b[0m \u001b[0mfileobj\u001b[0m\u001b[0;34m.\u001b[0m\u001b[0mtell\u001b[0m\u001b[0;34m(\u001b[0m\u001b[0;34m)\u001b[0m\u001b[0;34m\u001b[0m\u001b[0;34m\u001b[0m\u001b[0m\n",
      "\u001b[0;32m/orange/adamginsburg/miniconda3/envs/python39/lib/python3.9/contextlib.py\u001b[0m in \u001b[0;36m__enter__\u001b[0;34m(self)\u001b[0m\n\u001b[1;32m    117\u001b[0m         \u001b[0;32mdel\u001b[0m \u001b[0mself\u001b[0m\u001b[0;34m.\u001b[0m\u001b[0margs\u001b[0m\u001b[0;34m,\u001b[0m \u001b[0mself\u001b[0m\u001b[0;34m.\u001b[0m\u001b[0mkwds\u001b[0m\u001b[0;34m,\u001b[0m \u001b[0mself\u001b[0m\u001b[0;34m.\u001b[0m\u001b[0mfunc\u001b[0m\u001b[0;34m\u001b[0m\u001b[0;34m\u001b[0m\u001b[0m\n\u001b[1;32m    118\u001b[0m         \u001b[0;32mtry\u001b[0m\u001b[0;34m:\u001b[0m\u001b[0;34m\u001b[0m\u001b[0;34m\u001b[0m\u001b[0m\n\u001b[0;32m--> 119\u001b[0;31m             \u001b[0;32mreturn\u001b[0m \u001b[0mnext\u001b[0m\u001b[0;34m(\u001b[0m\u001b[0mself\u001b[0m\u001b[0;34m.\u001b[0m\u001b[0mgen\u001b[0m\u001b[0;34m)\u001b[0m\u001b[0;34m\u001b[0m\u001b[0;34m\u001b[0m\u001b[0m\n\u001b[0m\u001b[1;32m    120\u001b[0m         \u001b[0;32mexcept\u001b[0m \u001b[0mStopIteration\u001b[0m\u001b[0;34m:\u001b[0m\u001b[0;34m\u001b[0m\u001b[0;34m\u001b[0m\u001b[0m\n\u001b[1;32m    121\u001b[0m             \u001b[0;32mraise\u001b[0m \u001b[0mRuntimeError\u001b[0m\u001b[0;34m(\u001b[0m\u001b[0;34m\"generator didn't yield\"\u001b[0m\u001b[0;34m)\u001b[0m \u001b[0;32mfrom\u001b[0m \u001b[0;32mNone\u001b[0m\u001b[0;34m\u001b[0m\u001b[0;34m\u001b[0m\u001b[0m\n",
      "\u001b[0;32m/blue/adamginsburg/adamginsburg/repos/astropy/astropy/utils/data.py\u001b[0m in \u001b[0;36mget_readable_fileobj\u001b[0;34m(name_or_obj, encoding, cache, show_progress, remote_timeout, sources, http_headers, use_fsspec, fsspec_kwargs, close_files)\u001b[0m\n\u001b[1;32m    349\u001b[0m                     \u001b[0mhttp_headers\u001b[0m\u001b[0;34m=\u001b[0m\u001b[0mhttp_headers\u001b[0m\u001b[0;34m,\u001b[0m\u001b[0;34m\u001b[0m\u001b[0;34m\u001b[0m\u001b[0m\n\u001b[1;32m    350\u001b[0m                 )\n\u001b[0;32m--> 351\u001b[0;31m             \u001b[0mfileobj\u001b[0m \u001b[0;34m=\u001b[0m \u001b[0mio\u001b[0m\u001b[0;34m.\u001b[0m\u001b[0mFileIO\u001b[0m\u001b[0;34m(\u001b[0m\u001b[0mname_or_obj\u001b[0m\u001b[0;34m,\u001b[0m \u001b[0;34m\"r\"\u001b[0m\u001b[0;34m)\u001b[0m\u001b[0;34m\u001b[0m\u001b[0;34m\u001b[0m\u001b[0m\n\u001b[0m\u001b[1;32m    352\u001b[0m             \u001b[0;32mif\u001b[0m \u001b[0mis_url\u001b[0m \u001b[0;32mand\u001b[0m \u001b[0;32mnot\u001b[0m \u001b[0mcache\u001b[0m\u001b[0;34m:\u001b[0m\u001b[0;34m\u001b[0m\u001b[0;34m\u001b[0m\u001b[0m\n\u001b[1;32m    353\u001b[0m                 \u001b[0mdelete_fds\u001b[0m\u001b[0;34m.\u001b[0m\u001b[0mappend\u001b[0m\u001b[0;34m(\u001b[0m\u001b[0mfileobj\u001b[0m\u001b[0;34m)\u001b[0m\u001b[0;34m\u001b[0m\u001b[0;34m\u001b[0m\u001b[0m\n",
      "\u001b[0;31mFileNotFoundError\u001b[0m: [Errno 2] No such file or directory: '../G5/sum/spw17_12CO/ccc.reg'"
     ]
    }
   ],
   "source": [
    "#  Collision site\n",
    "pacs160 = 358.38372 * u.Jy\n",
    "pacs70  = 31.272129 * u.Jy\n",
    "her350  = 184.0481 * u.Jy\n",
    "her250  = 320.71168 * u.Jy\n",
    "her500  = 78.398848 * u.Jy\n",
    "bolo11  = 4.7052907 * u.Jy\n",
    "atlas850= 22.663 * u.Jy\n",
    "reg = regions.Regions.read('../G5/sum/spw17_12CO/ccc.reg')"
   ]
  },
  {
   "cell_type": "code",
   "execution_count": null,
   "id": "77dfa44b-23d5-41cc-91fe-8f339ebd19a8",
   "metadata": {},
   "outputs": [],
   "source": [
    "# G5b \n",
    "pacs160 = 935.72057 * u.Jy #1695.505 * u.Jy #358.38372 * u.Jy\n",
    "pacs70  = 81.665705 * u.Jy #273.89817 * u.Jy #31.272129 * u.Jy\n",
    "her350  = 436.96762 * u.Jy #758.69611 * u.Jy #184.0481 * u.Jy\n",
    "her250  = 798.94536 * u.Jy #1399.1185 * u.Jy #320.71168 * u.Jy\n",
    "her500  = 175.17277 * u.Jy #334.23452 * u.Jy #78.398848 * u.Jy\n",
    "bolo11  = 8.5816241 * u.Jy #13.466688 * u.Jy #4.7052907 * u.Jy\n",
    "atlas850= 45.911349 * u.Jy #99.474503 * u.Jy #22.663 * u.Jy\n",
    "reg = regions.Regions.read('/orange/adamginsburg/cmz/g5/code/g5-lowvelo.reg')"
   ]
  },
  {
   "cell_type": "code",
   "execution_count": 4,
   "id": "54217a7b-a131-4834-9078-0c03dfce1fb6",
   "metadata": {},
   "outputs": [],
   "source": [
    "# G5a\n",
    "pacs160 = 1695.505 * u.Jy #358.38372 * u.Jy\n",
    "pacs70  = 273.89817 * u.Jy #31.272129 * u.Jy\n",
    "her350  = 758.69611 * u.Jy #184.0481 * u.Jy\n",
    "her250  = 1399.1185 * u.Jy #320.71168 * u.Jy\n",
    "her500  = 334.23452 * u.Jy #78.398848 * u.Jy\n",
    "bolo11  = 13.466688 * u.Jy #4.7052907 * u.Jy\n",
    "atlas850= 99.474503 * u.Jy #22.663 * u.Jy\n",
    "reg = regions.Regions.read('/orange/adamginsburg/cmz/g5/code/g5-highvelo.reg')\n"
   ]
  },
  {
   "cell_type": "code",
   "execution_count": 7,
   "id": "fc8ffc83-138d-4ec3-8ec1-55559fb3a10b",
   "metadata": {},
   "outputs": [],
   "source": [
    "# Field 2\n",
    "pacs160 = 1293.3408711236984 * u.Jy\n",
    "pacs70  = 139.69878764504287 * u.Jy\n",
    "her350  = 696.3290434110337  * u.Jy\n",
    "her250  = 1296.7746088093395 * u.Jy\n",
    "her500  = 290.8775740884424  * u.Jy\n",
    "bolo11  = 11.132808608750626 * u.Jy\n",
    "atlas850= 80.42944585935663  * u.Jy\n",
    "reg = regions.Regions.read('/orange/adamginsburg/cmz/g5/code/g5-field2.reg')"
   ]
  },
  {
   "cell_type": "code",
   "execution_count": 8,
   "id": "28524757-da30-4a49-bd9f-cac9a7354ccc",
   "metadata": {},
   "outputs": [],
   "source": [
    "r0 = reg[0]\n"
   ]
  },
  {
   "cell_type": "code",
   "execution_count": 9,
   "id": "0c436cc6-69cb-46c0-a04e-26d98a26d96e",
   "metadata": {},
   "outputs": [
    {
     "data": {
      "text/latex": [
       "$753.1274 \\; \\mathrm{{}^{\\prime\\prime}}$"
      ],
      "text/plain": [
       "<Quantity 753.1274 arcsec>"
      ]
     },
     "execution_count": 9,
     "metadata": {},
     "output_type": "execute_result"
    }
   ],
   "source": [
    "reg[0].width"
   ]
  },
  {
   "cell_type": "code",
   "execution_count": 10,
   "id": "397c2bcf-755b-4206-9629-5d4bbe119cf1",
   "metadata": {},
   "outputs": [
    {
     "data": {
      "text/latex": [
       "$62228.222 \\; \\mathrm{M_{\\odot}}$"
      ],
      "text/plain": [
       "<Quantity 62228.22224045 solMass>"
      ]
     },
     "execution_count": 10,
     "metadata": {},
     "output_type": "execute_result"
    }
   ],
   "source": [
    "area_as = reg[0].width*reg[0].height#195.4252*u.arcsec*163.3396*u.arcsec\n",
    "total_mass = 2e22*u.cm**-2 * (area_as*(7*u.kpc)**2).to(u.cm**2, u.dimensionless_angles()) * 2.8*u.Da\n",
    "total_mass.to(u.M_sun)"
   ]
  },
  {
   "cell_type": "code",
   "execution_count": 11,
   "id": "8edd9104-7153-46ae-8062-eb3e062b9b97",
   "metadata": {},
   "outputs": [],
   "source": [
    "freq = [160*u.micron, 70*u.micron, 350*u.micron, 250*u.micron, 500*u.micron, ]"
   ]
  },
  {
   "cell_type": "code",
   "execution_count": null,
   "id": "45a107e1-f865-43e0-b6b9-bba4174df78d",
   "metadata": {},
   "outputs": [],
   "source": []
  },
  {
   "cell_type": "code",
   "execution_count": 12,
   "id": "cc050aa9-d6ae-4929-b62e-455baf80f937",
   "metadata": {},
   "outputs": [],
   "source": [
    "# Error bars are quadrature sum of statistical uncertainty (background noise) and inherent uncertainty due to flux calibration \n",
    "err70  = np.sqrt((0.05 * pacs70)**2 + (0.0090522 * u.Jy)**2) # Hi-GAL\n",
    "err160 = np.sqrt((0.05 * pacs160)**2 + (0.022673243 * u.Jy)**2) # ---\n",
    "err250 = np.sqrt((0.05 * her250)**2 + (0.10495919 * u.Jy)**2) # ---\n",
    "err350 = np.sqrt((0.05 * her350)**2 + (0.10400883 * u.Jy)**2) # ---\n",
    "err500 = np.sqrt((0.05 * her500)**2 + (0.095411145 * u.Jy)**2) # Hi-GAL\n",
    "err850 = np.sqrt((0.15 * atlas850)**2 + (0.0022267786 * u.Jy)**2) # Atlasgal\n",
    "err11  = np.sqrt((0.20 * bolo11)**2 + (0.0024273499 * u.Jy)**2) # Bolocam"
   ]
  },
  {
   "cell_type": "code",
   "execution_count": 13,
   "id": "6dbac20b-c6a3-4dfb-9d43-f0b546bf30bf",
   "metadata": {
    "jupyter": {
     "source_hidden": true
    },
    "tags": []
   },
   "outputs": [
    {
     "data": {
      "text/plain": [
       "\"\\nsed = [(160*u.micron, pacs160, 'pacs', '160 um'), # pacsfn_1\\n(70*u.micron, pacs70, 'pacs', '70 um'), # pacsfn_1\\n(350*u.micron, her350, 'Herschel', '350 um'), # herfn_2\\n(250*u.micron, her250, 'Herschel', '250 um'), # herfn_1\\n(500*u.micron, her500, 'Herschel', '500 um'), # herfn_3\\n((1.1*u.mm).to(u.micron), bolo11, 'Bolocam' ,'1.1 mm'), # Bolocam\\n(850*u.micron, atlas850, 'ATLASGAL', '850 um')]      \\n#((353 * u.GHz).to(u.micron, equivalencies=u.spectral()), atlas850, 'ATLASGAL', '850 um')] # ATLASGAL\\n\""
      ]
     },
     "execution_count": 13,
     "metadata": {},
     "output_type": "execute_result"
    }
   ],
   "source": [
    "'''\n",
    "sed = [(160*u.micron, pacs160, 'pacs', '160 um'), # pacsfn_1\n",
    "(70*u.micron, pacs70, 'pacs', '70 um'), # pacsfn_1\n",
    "(350*u.micron, her350, 'Herschel', '350 um'), # herfn_2\n",
    "(250*u.micron, her250, 'Herschel', '250 um'), # herfn_1\n",
    "(500*u.micron, her500, 'Herschel', '500 um'), # herfn_3\n",
    "((1.1*u.mm).to(u.micron), bolo11, 'Bolocam' ,'1.1 mm'), # Bolocam\n",
    "(850*u.micron, atlas850, 'ATLASGAL', '850 um')]      \n",
    "#((353 * u.GHz).to(u.micron, equivalencies=u.spectral()), atlas850, 'ATLASGAL', '850 um')] # ATLASGAL\n",
    "'''"
   ]
  },
  {
   "cell_type": "code",
   "execution_count": 14,
   "id": "2b17e279-b9b8-4693-8e0b-13b3147dc484",
   "metadata": {},
   "outputs": [],
   "source": [
    "sed = [\n",
    "    (70*u.micron, pacs70, 'PACS', '70 um', err70), # pacsfn_1\n",
    "    (160*u.micron, pacs160, 'PACS', '160 um', err160), # pacsfn_1\n",
    "    (250*u.micron, her250, 'Herschel', '250 um', err250), # herfn_1\n",
    "    (350*u.micron, her350, 'Herschel', '350 um', err350), # herfn_2\n",
    "    (500*u.micron, her500, 'Herschel', '500 um', err500), # herfn_3\n",
    "    (850*u.micron, atlas850, 'ATLASGAL', '850 um', err850),\n",
    "    ((1.1*u.mm).to(u.micron), bolo11, 'Bolocam' ,'1.1 mm', err11) # Bolocam\n",
    "]      \n",
    "#((353 * u.GHz).to(u.micron, equivalencies=u.spectral()), atlas850, 'ATLASGAL', '850 um')] # ATLASGAL"
   ]
  },
  {
   "cell_type": "code",
   "execution_count": 15,
   "id": "74d13100-3755-43df-844c-4488759d3047",
   "metadata": {
    "tags": []
   },
   "outputs": [
    {
     "data": {
      "text/plain": [
       "[(<Quantity 70. micron>,\n",
       "  <Quantity 139.69878765 Jy>,\n",
       "  'PACS',\n",
       "  '70 um',\n",
       "  <Quantity 6.98494525 Jy>),\n",
       " (<Quantity 160. micron>,\n",
       "  <Quantity 1293.34087112 Jy>,\n",
       "  'PACS',\n",
       "  '160 um',\n",
       "  <Quantity 64.66704753 Jy>),\n",
       " (<Quantity 250. micron>,\n",
       "  <Quantity 1296.77460881 Jy>,\n",
       "  'Herschel',\n",
       "  '250 um',\n",
       "  <Quantity 64.83881539 Jy>),\n",
       " (<Quantity 350. micron>,\n",
       "  <Quantity 696.32904341 Jy>,\n",
       "  'Herschel',\n",
       "  '350 um',\n",
       "  <Quantity 34.81660753 Jy>),\n",
       " (<Quantity 500. micron>,\n",
       "  <Quantity 290.87757409 Jy>,\n",
       "  'Herschel',\n",
       "  '500 um',\n",
       "  <Quantity 14.54419166 Jy>),\n",
       " (<Quantity 850. micron>,\n",
       "  <Quantity 80.42944586 Jy>,\n",
       "  'ATLASGAL',\n",
       "  '850 um',\n",
       "  <Quantity 12.06441708 Jy>),\n",
       " (<Quantity 1100. micron>,\n",
       "  <Quantity 11.13280861 Jy>,\n",
       "  'Bolocam',\n",
       "  '1.1 mm',\n",
       "  <Quantity 2.22656304 Jy>)]"
      ]
     },
     "execution_count": 15,
     "metadata": {},
     "output_type": "execute_result"
    }
   ],
   "source": [
    "sed"
   ]
  },
  {
   "cell_type": "code",
   "execution_count": 16,
   "id": "3ca981af-ca10-4534-aae4-79dbb04052c0",
   "metadata": {},
   "outputs": [
    {
     "data": {
      "text/plain": [
       "\"\\nmodfit = dust_emissivity.fit_sed.fit_modified_bb(xdata=u.Quantity([p[0] for p in sed]).to(u.Hz, u.spectral()),\\n                                        flux=u.Quantity([p[1] for p in sed]),\\n                                        error=u.Quantity([1*u.Jy for p in sed]),\\n                                        guesses=[15*u.K, 2, 1e18*u.cm**-2],\\n                                        fitter='lmfit'\\n                                       )\\n\""
      ]
     },
     "execution_count": 16,
     "metadata": {},
     "output_type": "execute_result"
    }
   ],
   "source": [
    "'''\n",
    "modfit = dust_emissivity.fit_sed.fit_modified_bb(xdata=u.Quantity([p[0] for p in sed]).to(u.Hz, u.spectral()),\n",
    "                                        flux=u.Quantity([p[1] for p in sed]),\n",
    "                                        error=u.Quantity([1*u.Jy for p in sed]),\n",
    "                                        guesses=[15*u.K, 2, 1e18*u.cm**-2],\n",
    "                                        fitter='lmfit'\n",
    "                                       )\n",
    "'''"
   ]
  },
  {
   "cell_type": "code",
   "execution_count": 17,
   "id": "843b8a72-8ce4-4d42-aa82-1d926bccd89f",
   "metadata": {},
   "outputs": [
    {
     "data": {
      "text/latex": [
       "$[2449085.8,~22673785,~22734011,~12207520,~5099535,~4230067.9,~780685.27] \\; \\mathrm{\\frac{Jy}{sr}}$"
      ],
      "text/plain": [
       "<Quantity [ 2449085.780156  , 22673784.96639763, 22734010.81117642,\n",
       "           12207519.94148668,  5099535.03074139,  4230067.85002413,\n",
       "             780685.27358353] Jy / sr>"
      ]
     },
     "execution_count": 17,
     "metadata": {},
     "output_type": "execute_result"
    }
   ],
   "source": [
    "u.Quantity([p[4]/area_as.to(u.sr) for p in sed])"
   ]
  },
  {
   "cell_type": "code",
   "execution_count": 18,
   "id": "cac1be60-70a6-4f19-8d21-8ac7b317a471",
   "metadata": {},
   "outputs": [
    {
     "data": {
      "text/latex": [
       "$[4898167.4,~45347567,~45467962,~24414931,~10198851,~2820045.2,~390342.4] \\; \\mathrm{\\frac{Jy}{sr}}$"
      ],
      "text/plain": [
       "<Quantity [ 4898167.4470493 , 45347567.14548537, 45467962.049672  ,\n",
       "           24414930.94082647, 10198850.60203124,  2820045.18531335,\n",
       "             390342.40483294] Jy / sr>"
      ]
     },
     "execution_count": 18,
     "metadata": {},
     "output_type": "execute_result"
    }
   ],
   "source": [
    "u.Quantity([p[1]*0.1/area_as.to(u.sr) for p in sed])"
   ]
  },
  {
   "cell_type": "code",
   "execution_count": 19,
   "id": "6e89462a-9fa2-4287-9079-d107968c4949",
   "metadata": {},
   "outputs": [
    {
     "data": {
      "text/latex": [
       "$[48981674,~4.5347567 \\times 10^{8},~4.5467962 \\times 10^{8},~2.4414931 \\times 10^{8},~1.0198851 \\times 10^{8},~28200452,~3903424] \\; \\mathrm{\\frac{Jy}{sr}}$"
      ],
      "text/plain": [
       "<Quantity [4.89816745e+07, 4.53475671e+08, 4.54679620e+08, 2.44149309e+08,\n",
       "           1.01988506e+08, 2.82004519e+07, 3.90342405e+06] Jy / sr>"
      ]
     },
     "execution_count": 19,
     "metadata": {},
     "output_type": "execute_result"
    }
   ],
   "source": [
    "u.Quantity([p[1]/area_as.to(u.sr) for p in sed])"
   ]
  },
  {
   "cell_type": "code",
   "execution_count": 20,
   "id": "2c42fee3-4a46-4db5-a8cd-43579eacf350",
   "metadata": {},
   "outputs": [
    {
     "data": {
      "text/plain": [
       "[<Quantity 18.08840215 K>,\n",
       " 1.7573612692123384,\n",
       " <Quantity 4.33752352e+21 1 / cm2>]"
      ]
     },
     "execution_count": 20,
     "metadata": {},
     "output_type": "execute_result"
    }
   ],
   "source": [
    "modfit,errs = dust_emissivity.fit_sed.fit_modified_bb(xdata=u.Quantity([p[0] for p in sed]).to(u.Hz, u.spectral()),\n",
    "                                        flux=u.Quantity([p[1]/area_as.to(u.sr) for p in sed]),\n",
    "                                        #error=u.Quantity([p[1]*0.1/area_as.to(u.sr) for p in sed]),\n",
    "                                        error=u.Quantity([p[4]/area_as.to(u.sr) for p in sed]),\n",
    "                                        guesses=[15*u.K, 2, 1e18*u.cm**-2],\n",
    "                                        fitter='lmfit',\n",
    "                                        return_error=True\n",
    "                                       )\n",
    "modfit"
   ]
  },
  {
   "cell_type": "code",
   "execution_count": 21,
   "id": "17f1a114-3c56-41ff-b040-80887a101e60",
   "metadata": {},
   "outputs": [
    {
     "data": {
      "text/plain": [
       "[<Quantity 1.19502387 K>,\n",
       " 0.2970170702774626,\n",
       " <Quantity 6.84314103e+20 1 / cm2>]"
      ]
     },
     "execution_count": 21,
     "metadata": {},
     "output_type": "execute_result"
    }
   ],
   "source": [
    "errs"
   ]
  },
  {
   "cell_type": "code",
   "execution_count": 22,
   "id": "fcb6ec54-bf98-4200-bd14-851319b118a7",
   "metadata": {},
   "outputs": [],
   "source": [
    "freq = (np.linspace(70, 1100, num=50) * u.micron).to(u.Hz, u.spectral())"
   ]
  },
  {
   "cell_type": "code",
   "execution_count": 23,
   "id": "9445bc81-4533-4eed-9765-312d78acb4a9",
   "metadata": {},
   "outputs": [
    {
     "data": {
      "text/latex": [
       "$[4.6006457 \\times 10^{-16},~1.8314996 \\times 10^{-15},~3.5261001 \\times 10^{-15},~4.7941364 \\times 10^{-15},~5.4173944 \\times 10^{-15},~5.5110809 \\times 10^{-15},~5.2682022 \\times 10^{-15},~4.8496235 \\times 10^{-15},~4.362647 \\times 10^{-15},~3.8703314 \\times 10^{-15},~3.4058704 \\times 10^{-15},~2.9842405 \\times 10^{-15},~2.6100581 \\times 10^{-15},~2.2824388 \\times 10^{-15},~1.9978465 \\times 10^{-15},~1.7516951 \\times 10^{-15},~1.5392073 \\times 10^{-15},~1.3558459 \\times 10^{-15},~1.1975057 \\times 10^{-15},~1.0605746 \\times 10^{-15},~9.4192783 \\times 10^{-16},~8.3889029 \\times 10^{-16},~7.4918596 \\times 10^{-16},~6.7088527 \\times 10^{-16},~6.0235507 \\times 10^{-16},~5.4221361 \\times 10^{-16},~4.8929126 \\times 10^{-16},~4.4259676 \\times 10^{-16},~4.0128867 \\times 10^{-16},~3.6465134 \\times 10^{-16},~3.320748 \\times 10^{-16},~3.0303789 \\times 10^{-16},~2.7709434 \\times 10^{-16},~2.5386097 \\times 10^{-16},~2.3300802 \\times 10^{-16},~2.1425095 \\times 10^{-16},~1.9734364 \\times 10^{-16},~1.8207266 \\times 10^{-16},~1.6825249 \\times 10^{-16},~1.557215 \\times 10^{-16},~1.4433848 \\times 10^{-16},~1.3397985 \\times 10^{-16},~1.2453717 \\times 10^{-16},~1.1591509 \\times 10^{-16},~1.0802959 \\times 10^{-16},~1.0080646 \\times 10^{-16},~9.4180062 \\times 10^{-17},~8.8092175 \\times 10^{-17},~8.2491094 \\times 10^{-17},~7.7330799 \\times 10^{-17}] \\; \\mathrm{\\frac{erg}{Hz\\,s\\,sr\\,cm^{2}}}$"
      ],
      "text/plain": [
       "<Quantity [4.60064572e-16, 1.83149955e-15, 3.52610005e-15, 4.79413640e-15,\n",
       "           5.41739441e-15, 5.51108086e-15, 5.26820222e-15, 4.84962353e-15,\n",
       "           4.36264704e-15, 3.87033140e-15, 3.40587036e-15, 2.98424049e-15,\n",
       "           2.61005814e-15, 2.28243880e-15, 1.99784652e-15, 1.75169513e-15,\n",
       "           1.53920728e-15, 1.35584591e-15, 1.19750571e-15, 1.06057459e-15,\n",
       "           9.41927835e-16, 8.38890288e-16, 7.49185958e-16, 6.70885268e-16,\n",
       "           6.02355065e-16, 5.42213609e-16, 4.89291257e-16, 4.42596756e-16,\n",
       "           4.01288668e-16, 3.64651345e-16, 3.32074797e-16, 3.03037893e-16,\n",
       "           2.77094336e-16, 2.53860969e-16, 2.33008021e-16, 2.14250952e-16,\n",
       "           1.97343639e-16, 1.82072660e-16, 1.68252495e-16, 1.55721495e-16,\n",
       "           1.44338478e-16, 1.33979850e-16, 1.24537172e-16, 1.15915093e-16,\n",
       "           1.08029590e-16, 1.00806464e-16, 9.41800621e-17, 8.80921752e-17,\n",
       "           8.24910945e-17, 7.73307992e-17] erg / (Hz s sr cm2)>"
      ]
     },
     "execution_count": 23,
     "metadata": {},
     "output_type": "execute_result"
    }
   ],
   "source": [
    "du = dust_emissivity.blackbody.modified_blackbody(\n",
    "    #u.Quantity([p[0] for p in sed]).to(u.Hz, u.spectral()), \n",
    "    freq,\n",
    "    temperature = modfit[0], \n",
    "    beta = modfit[1], \n",
    "    column = modfit[2])\n",
    "du"
   ]
  },
  {
   "cell_type": "code",
   "execution_count": 24,
   "id": "347d85f6-fe9b-4684-b51f-be9eee71c3bb",
   "metadata": {},
   "outputs": [],
   "source": [
    "#be = 1.1744228 * 10**(-8) * u.sr\n",
    "#pixarea = 2.6813453 * 10**(-10) * u.sr"
   ]
  },
  {
   "cell_type": "code",
   "execution_count": 25,
   "id": "645b362c-432d-4031-867f-350197e2ca8c",
   "metadata": {},
   "outputs": [
    {
     "data": {
      "text/latex": [
       "$[46006457,~1.8314996 \\times 10^{8},~3.5261001 \\times 10^{8},~4.7941364 \\times 10^{8},~5.4173944 \\times 10^{8},~5.5110809 \\times 10^{8},~5.2682022 \\times 10^{8},~4.8496235 \\times 10^{8},~4.362647 \\times 10^{8},~3.8703314 \\times 10^{8},~3.4058704 \\times 10^{8},~2.9842405 \\times 10^{8},~2.6100581 \\times 10^{8},~2.2824388 \\times 10^{8},~1.9978465 \\times 10^{8},~1.7516951 \\times 10^{8},~1.5392073 \\times 10^{8},~1.3558459 \\times 10^{8},~1.1975057 \\times 10^{8},~1.0605746 \\times 10^{8},~94192783,~83889029,~74918596,~67088527,~60235507,~54221361,~48929126,~44259676,~40128867,~36465134,~33207480,~30303789,~27709434,~25386097,~23300802,~21425095,~19734364,~18207266,~16825249,~15572150,~14433848,~13397985,~12453717,~11591509,~10802959,~10080646,~9418006.2,~8809217.5,~8249109.4,~7733079.9] \\; \\mathrm{\\frac{Jy}{sr}}$"
      ],
      "text/plain": [
       "<Quantity [4.60064572e+07, 1.83149955e+08, 3.52610005e+08, 4.79413640e+08,\n",
       "           5.41739441e+08, 5.51108086e+08, 5.26820222e+08, 4.84962353e+08,\n",
       "           4.36264704e+08, 3.87033140e+08, 3.40587036e+08, 2.98424049e+08,\n",
       "           2.61005814e+08, 2.28243880e+08, 1.99784652e+08, 1.75169513e+08,\n",
       "           1.53920728e+08, 1.35584591e+08, 1.19750571e+08, 1.06057459e+08,\n",
       "           9.41927835e+07, 8.38890288e+07, 7.49185958e+07, 6.70885268e+07,\n",
       "           6.02355065e+07, 5.42213609e+07, 4.89291257e+07, 4.42596756e+07,\n",
       "           4.01288668e+07, 3.64651345e+07, 3.32074797e+07, 3.03037893e+07,\n",
       "           2.77094336e+07, 2.53860969e+07, 2.33008021e+07, 2.14250952e+07,\n",
       "           1.97343639e+07, 1.82072660e+07, 1.68252495e+07, 1.55721495e+07,\n",
       "           1.44338478e+07, 1.33979850e+07, 1.24537172e+07, 1.15915093e+07,\n",
       "           1.08029590e+07, 1.00806464e+07, 9.41800621e+06, 8.80921752e+06,\n",
       "           8.24910945e+06, 7.73307992e+06] Jy / sr>"
      ]
     },
     "execution_count": 25,
     "metadata": {},
     "output_type": "execute_result"
    }
   ],
   "source": [
    "du.to(u.Jy / u.sr)\n",
    "#    10−23 erg⋅s−1⋅cm−2⋅Hz−1"
   ]
  },
  {
   "cell_type": "code",
   "execution_count": 26,
   "id": "2ee0579b-8b94-46f5-b8f4-c141ea80bca3",
   "metadata": {},
   "outputs": [
    {
     "data": {
      "text/plain": [
       "\"\\n#pl.loglog(u.Quantity([p[0] for p in sed]).to(u.Hz, u.spectral()), du.to(u.Jy / u.sr))\\nfig, ax1 = pl.subplots()\\npl.yscale('log')\\n\\nax2 = ax1.twinx()\\npl.yscale('log')\\n\\nax1.plot(freq.to(u.micron, u.spectral()), du.to(u.Jy / u.sr), color='green')\\nax2.scatter(u.Quantity([p[0] for p in sed]).to(u.micron, u.spectral()), u.Quantity([p[1] for p in sed]), color='blue')\\n\\nax1.set_xlabel('Wavelength ($\\\\mu$m)')\\nax1.set_ylabel('Jy/ster', color='green')\\nax2.set_ylabel('Jy', color='blue')\\n\\npl.show()\\n\\n\\n#pl.loglog(freq.to(u.micron, u.spectral()), du.to(u.Jy / u.sr), color='orange')\\n#pl.scatter(u.Quantity([p[0] for p in sed]).to(u.micron, u.spectral()), u.Quantity([p[1] for p in sed]))\\n#pl.xlabel('Wavelength ($\\\\mu$m)')\\n\""
      ]
     },
     "execution_count": 26,
     "metadata": {},
     "output_type": "execute_result"
    }
   ],
   "source": [
    "'''\n",
    "#pl.loglog(u.Quantity([p[0] for p in sed]).to(u.Hz, u.spectral()), du.to(u.Jy / u.sr))\n",
    "fig, ax1 = pl.subplots()\n",
    "pl.yscale('log')\n",
    "\n",
    "ax2 = ax1.twinx()\n",
    "pl.yscale('log')\n",
    "\n",
    "ax1.plot(freq.to(u.micron, u.spectral()), du.to(u.Jy / u.sr), color='green')\n",
    "ax2.scatter(u.Quantity([p[0] for p in sed]).to(u.micron, u.spectral()), u.Quantity([p[1] for p in sed]), color='blue')\n",
    "\n",
    "ax1.set_xlabel('Wavelength ($\\mu$m)')\n",
    "ax1.set_ylabel('Jy/ster', color='green')\n",
    "ax2.set_ylabel('Jy', color='blue')\n",
    "\n",
    "pl.show()\n",
    "\n",
    "\n",
    "#pl.loglog(freq.to(u.micron, u.spectral()), du.to(u.Jy / u.sr), color='orange')\n",
    "#pl.scatter(u.Quantity([p[0] for p in sed]).to(u.micron, u.spectral()), u.Quantity([p[1] for p in sed]))\n",
    "#pl.xlabel('Wavelength ($\\mu$m)')\n",
    "'''"
   ]
  },
  {
   "cell_type": "code",
   "execution_count": 27,
   "id": "d87d6c45-5f2f-4dac-ac34-d55edfa39553",
   "metadata": {},
   "outputs": [
    {
     "data": {
      "image/png": "[encoded data removed]",
      "text/plain": [
       "<Figure size 864x576 with 1 Axes>"
      ]
     },
     "metadata": {
      "needs_background": "light"
     },
     "output_type": "display_data"
    }
   ],
   "source": [
    "pl.figure(figsize=(12,8))\n",
    "pl.rcParams.update({'font.size': 18})\n",
    "pl.plot(freq.to(u.micron, u.spectral()), (du*area_as).to(u.Jy))#, color='#de541e')\n",
    "pl.scatter(u.Quantity([p[0] for p in sed]).to(u.micron, u.spectral()), u.Quantity([p[1] for p in sed]))#, color='#ad2831')\n",
    "pl.errorbar(x=u.Quantity([p[0] for p in sed]).to(u.micron, u.spectral()), y=u.Quantity([p[1] for p in sed]), yerr=u.Quantity([p[4] for p in sed]), fmt='o')#, color='#ad2831')\n",
    "\n",
    "pl.xlabel('Wavelength ($\\mu$m)')\n",
    "pl.ylabel('Jy')\n",
    "pl.yscale('log')\n",
    "#pl.savefig('./plots/sed.pdf')\n",
    "#pl.savefig('./plots/sed.png')"
   ]
  },
  {
   "cell_type": "code",
   "execution_count": 28,
   "id": "7dc248cf-c0cb-4a1a-91fa-4f08cf1c28dc",
   "metadata": {},
   "outputs": [
    {
     "data": {
      "image/png": "[encoded data removed]",
      "text/plain": [
       "<Figure size 432x288 with 1 Axes>"
      ]
     },
     "metadata": {
      "needs_background": "light"
     },
     "output_type": "display_data"
    }
   ],
   "source": [
    "pl.figure(figsize=(6,4))\n",
    "pl.rcParams.update({'font.size': 14})\n",
    "\n",
    "pl.loglog(freq.to(u.micron, u.spectral()), (du*area_as).to(u.Jy), color='k')\n",
    "#pl.scatter(u.Quantity([p[0] for p in sed]).to(u.micron, u.spectral()), u.Quantity([p[1] for p in sed]))#, color='blue')\n",
    "pl.errorbar(x=u.Quantity([p[0] for p in sed]).to(u.micron, u.spectral()), y=u.Quantity([p[1] for p in sed]), yerr=u.Quantity([p[4] for p in sed]), fmt=',', color='k')\n",
    "#pl.text(110, 10, str(modfit[0]))\n",
    "#pl.text(110, 15, str(modfit[1]))\n",
    "#pl.text(110, 22, str(modfit[2]))\n",
    "\n",
    "#pl.title('All Points')\n",
    "pl.xlabel('Wavelength ($\\mu$m)')\n",
    "pl.ylabel('Jy')\n",
    "pl.savefig('/orange/adamginsburg/cmz/g5/code/plots/dustsed.pdf', bbox_inches='tight')\n",
    "pl.savefig('/orange/adamginsburg/cmz/g5/code/plots/dustsed.png', bbox_inches='tight', dpi=150)"
   ]
  },
  {
   "cell_type": "code",
   "execution_count": 41,
   "id": "397a99ae-3923-468a-bd2f-419f45586c7a",
   "metadata": {},
   "outputs": [
    {
     "data": {
      "text/html": [
       "<div><i>QTable length=7</i>\n",
       "<table id=\"table47822350863424\" class=\"table-striped table-bordered table-condensed\">\n",
       "<thead><tr><th>Survey</th><th>Wavelength</th><th>Flux</th><th>Error</th></tr></thead>\n",
       "<thead><tr><th></th><th>micron</th><th>Jy</th><th>Jy</th></tr></thead>\n",
       "<thead><tr><th>str8</th><th>float64</th><th>float64</th><th>float64</th></tr></thead>\n",
       "<tr><td>PACS</td><td>70.0</td><td>139.7</td><td>7.0</td></tr>\n",
       "<tr><td>PACS</td><td>160.0</td><td>1293.3</td><td>64.7</td></tr>\n",
       "<tr><td>Herschel</td><td>250.0</td><td>1296.8</td><td>64.8</td></tr>\n",
       "<tr><td>Herschel</td><td>350.0</td><td>696.3</td><td>34.8</td></tr>\n",
       "<tr><td>Herschel</td><td>500.0</td><td>290.9</td><td>14.5</td></tr>\n",
       "<tr><td>ATLASGAL</td><td>850.0</td><td>80.4</td><td>12.1</td></tr>\n",
       "<tr><td>Bolocam</td><td>1100.0</td><td>11.1</td><td>2.2</td></tr>\n",
       "</table></div>"
      ],
      "text/plain": [
       "<QTable length=7>\n",
       " Survey  Wavelength   Flux   Error \n",
       "           micron      Jy      Jy  \n",
       "  str8    float64   float64 float64\n",
       "-------- ---------- ------- -------\n",
       "    PACS       70.0   139.7     7.0\n",
       "    PACS      160.0  1293.3    64.7\n",
       "Herschel      250.0  1296.8    64.8\n",
       "Herschel      350.0   696.3    34.8\n",
       "Herschel      500.0   290.9    14.5\n",
       "ATLASGAL      850.0    80.4    12.1\n",
       " Bolocam     1100.0    11.1     2.2"
      ]
     },
     "execution_count": 41,
     "metadata": {},
     "output_type": "execute_result"
    }
   ],
   "source": [
    "names = ['Survey', 'Wavelength', 'Flux', 'Error']\n",
    "t_survey = [p[2] for p in sed]\n",
    "t_wavelength = u.Quantity([p[0] for p in sed]).to(u.micron, u.spectral())\n",
    "t_fluxes = u.Quantity([p[1] for p in sed])\n",
    "t_errors = u.Quantity([p[4] for p in sed])\n",
    "\n",
    "for ii in range(len(t_survey)):\n",
    "    t_wavelength[ii] = round(t_wavelength[ii].value)*t_wavelength[ii].unit\n",
    "    t_fluxes[ii] = round(t_fluxes[ii].value, 1)*t_fluxes[ii].unit\n",
    "    t_errors[ii] = round(t_errors[ii].value, 1)*t_errors[ii].unit\n",
    "\n",
    "t = QTable([\n",
    "            t_survey, \n",
    "            t_wavelength,\n",
    "            t_fluxes,\n",
    "            t_errors\n",
    "           ],\n",
    "           names=names\n",
    "          )\n",
    "#t.write('/orange/adamginsburg/cmz/g5/code/plots/table_sed.txt', format='latex')\n",
    "t"
   ]
  },
  {
   "cell_type": "code",
   "execution_count": 160,
   "id": "d4630c70-ad8e-4e53-bd59-fa0dbf4c6dd9",
   "metadata": {},
   "outputs": [
    {
     "data": {
      "text/latex": [
       "$1535.1822 \\; \\mathrm{\\frac{u}{cm^{3}}}$"
      ],
      "text/plain": [
       "<Quantity 1535.18223814 u / cm3>"
      ]
     },
     "execution_count": 160,
     "metadata": {},
     "output_type": "execute_result"
    }
   ],
   "source": [
    "area = (area_as*(7*u.kpc)**2).to(u.cm**2, u.dimensionless_angles()) \n",
    "density = total_mass/(area**1.5) # very coarsely\n",
    "density"
   ]
  },
  {
   "cell_type": "code",
   "execution_count": 161,
   "id": "3f3be041-e74f-4758-a46d-ebd41f972e05",
   "metadata": {},
   "outputs": [
    {
     "data": {
      "text/latex": [
       "$11.821635 \\; \\mathrm{pc}$"
      ],
      "text/plain": [
       "<Quantity 11.82163496 pc>"
      ]
     },
     "execution_count": 161,
     "metadata": {},
     "output_type": "execute_result"
    }
   ],
   "source": [
    "column_density = modfit[2]\n",
    "(area**0.5).to(u.pc)\n"
   ]
  },
  {
   "cell_type": "code",
   "execution_count": 162,
   "id": "44b7ddaf-809e-447e-9323-933fd8c6c68b",
   "metadata": {},
   "outputs": [
    {
     "data": {
      "text/latex": [
       "$9.3067328 \\times 10^{18} \\; \\mathrm{\\frac{km\\,s}{K\\,cm^{2}}}$"
      ],
      "text/plain": [
       "<Quantity 9.30673278e+18 km s / (cm2 K)>"
      ]
     },
     "execution_count": 162,
     "metadata": {},
     "output_type": "execute_result"
    }
   ],
   "source": [
    "# X_CO Calculation \n",
    "WCO = 466.06297*u.K/u.km/u.s #300*u.K/u.km/u.s\n",
    "XCO = column_density / WCO\n",
    "XCO"
   ]
  },
  {
   "cell_type": "code",
   "execution_count": 163,
   "id": "6ba6dfed-454f-4b4b-a5db-64b7f9cadef2",
   "metadata": {},
   "outputs": [
    {
     "data": {
      "text/latex": [
       "$13495.819 \\; \\mathrm{M_{\\odot}}$"
      ],
      "text/plain": [
       "<Quantity 13495.81888741 solMass>"
      ]
     },
     "execution_count": 163,
     "metadata": {},
     "output_type": "execute_result"
    }
   ],
   "source": [
    "#column_density* 2.8*u.Da\n",
    "mass_t = (area * column_density * 2.8*u.Da).to(u.M_sun)\n",
    "mass_t"
   ]
  },
  {
   "cell_type": "code",
   "execution_count": 164,
   "id": "828b3787-c815-4dc4-b778-6f87d5f4c044",
   "metadata": {},
   "outputs": [
    {
     "data": {
      "text/latex": [
       "$332.94445 \\; \\mathrm{\\frac{u}{cm^{3}}}$"
      ],
      "text/plain": [
       "<Quantity 332.94445348 u / cm3>"
      ]
     },
     "execution_count": 164,
     "metadata": {},
     "output_type": "execute_result"
    }
   ],
   "source": [
    "density_1 = mass_t/(area**1.5) # very coarsely\n",
    "density_1.to(u.Da / u.cm**3)"
   ]
  },
  {
   "cell_type": "code",
   "execution_count": 165,
   "id": "75cf0d66-be0e-4441-816d-776b828937fb",
   "metadata": {},
   "outputs": [
    {
     "data": {
      "text/latex": [
       "$4.3375235 \\times 10^{21} \\; \\mathrm{\\frac{1}{cm^{2}}}$"
      ],
      "text/plain": [
       "<Quantity 4.33752352e+21 1 / cm2>"
      ]
     },
     "execution_count": 165,
     "metadata": {},
     "output_type": "execute_result"
    }
   ],
   "source": [
    "column_density"
   ]
  },
  {
   "cell_type": "code",
   "execution_count": 166,
   "id": "c2c1caaf-a282-4bad-b643-762fe0c26c9c",
   "metadata": {},
   "outputs": [
    {
     "data": {
      "text/latex": [
       "$139.75105 \\; \\mathrm{pc^{2}}$"
      ],
      "text/plain": [
       "<Quantity 139.7510532 pc2>"
      ]
     },
     "execution_count": 166,
     "metadata": {},
     "output_type": "execute_result"
    }
   ],
   "source": [
    "area.to(u.pc**2)"
   ]
  },
  {
   "cell_type": "code",
   "execution_count": 167,
   "id": "b74eb28f-5409-4d1c-8577-a7a8a1ede07c",
   "metadata": {},
   "outputs": [
    {
     "data": {
      "text/latex": [
       "$33.705966 \\; \\mathrm{arcmin^{2}}$"
      ],
      "text/plain": [
       "<Quantity 33.70596574 arcmin2>"
      ]
     },
     "execution_count": 167,
     "metadata": {},
     "output_type": "execute_result"
    }
   ],
   "source": [
    "area_as.to(u.arcmin**2)"
   ]
  },
  {
   "cell_type": "code",
   "execution_count": null,
   "id": "f3a7514e-7210-4aba-94c5-5a07d382f6a4",
   "metadata": {},
   "outputs": [],
   "source": []
  },
  {
   "cell_type": "code",
   "execution_count": 168,
   "id": "c3566d5d-22ff-4ec9-9a98-499ad743db52",
   "metadata": {},
   "outputs": [
    {
     "name": "stderr",
     "output_type": "stream",
     "text": [
      "WARNING: PossiblySlowWarning: This function (<function BaseSpectralCube.to at 0x2acb1e687e50>) requires loading the entire cube into memory and may therefore be slow. [spectral_cube.utils]\n"
     ]
    }
   ],
   "source": [
    "name_12co = '/orange/adamginsburg/cmz/g5/G5/sum/newcombination/galcorrected/g5.12CO.spw17.fits'\n",
    "cube_12co = SpectralCube.read(name_12co).with_spectral_unit(u.km / u.s, velocity_convention='radio')\n",
    "cut_cube_12co = cube_12co.with_mask(cube_12co>0.05*u.K).spectral_slab(0*u.km / u.second, 225*u.km/u.second).to(u.K)\n"
   ]
  },
  {
   "cell_type": "code",
   "execution_count": 169,
   "id": "9958056f-6ebc-49e1-99bb-62029388f595",
   "metadata": {},
   "outputs": [],
   "source": [
    "mom0_12co = cut_cube_12co.moment0()\n",
    "ww = wcs.WCS(mom0_12co.header)\n",
    "preg = r0.to_pixel(ww)\n",
    "mask = preg.to_mask()"
   ]
  },
  {
   "cell_type": "code",
   "execution_count": 170,
   "id": "7e6b7223-3cde-49ef-a913-075347fbf339",
   "metadata": {},
   "outputs": [],
   "source": [
    "cutout = mask.cutout(mom0_12co.data)"
   ]
  },
  {
   "cell_type": "code",
   "execution_count": 171,
   "id": "9f1d673a-93a3-4310-8a2a-d6dd48d26ea2",
   "metadata": {},
   "outputs": [
    {
     "data": {
      "text/plain": [
       "<matplotlib.image.AxesImage at 0x2acb2fb71d90>"
      ]
     },
     "execution_count": 171,
     "metadata": {},
     "output_type": "execute_result"
    },
    {
     "data": {
      "image/png": "[encoded data removed]",
      "text/plain": [
       "<Figure size 432x288 with 1 Axes>"
      ]
     },
     "metadata": {
      "needs_background": "light"
     },
     "output_type": "display_data"
    }
   ],
   "source": [
    "pl.imshow(mask.multiply(mom0_12co.data))"
   ]
  },
  {
   "cell_type": "code",
   "execution_count": 172,
   "id": "3df19339-61a8-486a-b2e6-f6baf8eb36d3",
   "metadata": {},
   "outputs": [
    {
     "data": {
      "text/latex": [
       "$373.28364 \\; \\mathrm{\\frac{K\\,km}{s}}$"
      ],
      "text/plain": [
       "<Projection 373.28364278 K km / s>"
      ]
     },
     "execution_count": 172,
     "metadata": {},
     "output_type": "execute_result"
    }
   ],
   "source": [
    "W = np.nanmean(mask.multiply(mom0_12co))\n",
    "W"
   ]
  },
  {
   "cell_type": "code",
   "execution_count": 173,
   "id": "0a8a5ef4-5639-468e-bda2-4f1f4a6a88dd",
   "metadata": {},
   "outputs": [
    {
     "data": {
      "text/latex": [
       "$148.82109 \\; \\mathrm{\\frac{K\\,km}{s}}$"
      ],
      "text/plain": [
       "<Projection 148.82109491 K km / s>"
      ]
     },
     "execution_count": 173,
     "metadata": {},
     "output_type": "execute_result"
    }
   ],
   "source": [
    "np.nanstd(mask.multiply(mom0_12co))"
   ]
  },
  {
   "cell_type": "code",
   "execution_count": 174,
   "id": "96100f28-8fb5-4b80-b2f0-b3f98dae30ac",
   "metadata": {},
   "outputs": [],
   "source": [
    "col_density_Xstrong = mask.multiply(mom0_12co) * 2.3*10**20 * u.cm**(-2) * (u.K * u.km / u.s)**(-1) * 0.8\n"
   ]
  },
  {
   "cell_type": "code",
   "execution_count": 175,
   "id": "9be84b63-fdd1-4fd7-b6c1-b90ab577ccf4",
   "metadata": {},
   "outputs": [
    {
     "data": {
      "text/latex": [
       "$1.1619913 \\times 10^{19} \\; \\mathrm{\\frac{s}{K\\,km\\,cm^{2}}}$"
      ],
      "text/plain": [
       "<Projection 1.16199132e+19 s / (cm2 K km)>"
      ]
     },
     "execution_count": 175,
     "metadata": {},
     "output_type": "execute_result"
    }
   ],
   "source": [
    "column_density/W"
   ]
  },
  {
   "cell_type": "code",
   "execution_count": 176,
   "id": "29f5e21f-7476-4933-8daf-97454f8a266a",
   "metadata": {},
   "outputs": [
    {
     "data": {
      "text/latex": [
       "$19.793607 \\; \\mathrm{}$"
      ],
      "text/plain": [
       "<Projection 19.79360743>"
      ]
     },
     "execution_count": 176,
     "metadata": {},
     "output_type": "execute_result"
    }
   ],
   "source": [
    "(column_density/W / (2.3*10**20 * u.cm**(-2) * (u.K * u.km / u.s)**(-1)))**(-1)"
   ]
  },
  {
   "cell_type": "code",
   "execution_count": 177,
   "id": "16fce0dc-72f6-421d-8485-22ab8ce6fc1b",
   "metadata": {},
   "outputs": [
    {
     "data": {
      "text/latex": [
       "$2.7 \\; \\mathrm{\\frac{M_{\\odot}}{yr}}$"
      ],
      "text/plain": [
       "<Quantity 2.7 solMass / yr>"
      ]
     },
     "execution_count": 177,
     "metadata": {},
     "output_type": "execute_result"
    }
   ],
   "source": [
    "2.7 * u.Msun / u.year"
   ]
  },
  {
   "cell_type": "code",
   "execution_count": 178,
   "id": "96b01f7d-e42e-492d-b29e-93d74b0c7837",
   "metadata": {},
   "outputs": [
    {
     "data": {
      "text/latex": [
       "$0.1705096 \\; \\mathrm{\\frac{M_{\\odot}}{yr}}$"
      ],
      "text/plain": [
       "<Projection 0.1705096 solMass / yr>"
      ]
     },
     "execution_count": 178,
     "metadata": {},
     "output_type": "execute_result"
    }
   ],
   "source": [
    "2.7 * u.Msun / u.year * column_density/(W*0.8) / (2.3*10**20 * u.cm**(-2) * (u.K * u.km / u.s)**(-1))"
   ]
  },
  {
   "cell_type": "code",
   "execution_count": null,
   "id": "fa271a90-2d49-4f48-99fb-7ee4d25b39d1",
   "metadata": {},
   "outputs": [],
   "source": [
    "# mass_inflow_rate * new_X_CO / old_X_CO"
   ]
  },
  {
   "cell_type": "markdown",
   "id": "7f4686cd-0322-4dcf-a28f-c5f952d14318",
   "metadata": {},
   "source": [
    "# Alternate Fits"
   ]
  },
  {
   "cell_type": "markdown",
   "id": "cfd7803f-5554-42a5-b704-32c82f81615a",
   "metadata": {},
   "source": [
    "## Fit without 24$\\mu$m"
   ]
  },
  {
   "cell_type": "code",
   "execution_count": 179,
   "id": "ceacaeb0-80e7-4591-b8e1-0c75ef0dbd88",
   "metadata": {},
   "outputs": [
    {
     "data": {
      "text/plain": [
       "[<Quantity 12.94520228 K>,\n",
       " 2.6170622633279885,\n",
       " <Quantity 8.50135229e+21 1 / cm2>]"
      ]
     },
     "execution_count": 179,
     "metadata": {},
     "output_type": "execute_result"
    }
   ],
   "source": [
    "modfit,errs = dust_emissivity.fit_sed.fit_modified_bb(xdata=u.Quantity([p[0] for p in sed]).to(u.Hz, u.spectral())[1:],\n",
    "                                        flux=u.Quantity([p[1]/area_as.to(u.sr) for p in sed])[1:],\n",
    "                                        #error=u.Quantity([p[1]*0.1/area_as.to(u.sr) for p in sed]),\n",
    "                                        error=u.Quantity([p[4]/area_as.to(u.sr) for p in sed])[1:],\n",
    "                                        guesses=[15*u.K, 2, 1e18*u.cm**-2],\n",
    "                                        fitter='lmfit',\n",
    "                                        return_error=True\n",
    "                                       )\n",
    "modfit"
   ]
  },
  {
   "cell_type": "code",
   "execution_count": 180,
   "id": "9fe9918c-9995-48fa-a0eb-d647c1e9c310",
   "metadata": {},
   "outputs": [
    {
     "data": {
      "text/latex": [
       "$[5.1331558 \\times 10^{-17},~5.0821956 \\times 10^{-16},~1.6338288 \\times 10^{-15},~3.0485452 \\times 10^{-15},~4.2350227 \\times 10^{-15},~4.9513434 \\times 10^{-15},~5.2061246 \\times 10^{-15},~5.1162861 \\times 10^{-15},~4.8113564 \\times 10^{-15},~4.394982 \\times 10^{-15},~3.9381544 \\times 10^{-15},~3.4845449 \\times 10^{-15},~3.0583437 \\times 10^{-15},~2.6710631 \\times 10^{-15},~2.3265079 \\times 10^{-15},~2.0241 \\times 10^{-15},~1.7609787 \\times 10^{-15},~1.5332698 \\times 10^{-15},~1.3368178 \\times 10^{-15},~1.1675854 \\times 10^{-15},~1.0218519 \\times 10^{-15},~8.9629455 \\times 10^{-16},~7.8800406 \\times 10^{-16},~6.9446582 \\times 10^{-16},~6.1352431 \\times 10^{-16},~5.433417 \\times 10^{-16},~4.8235612 \\times 10^{-16},~4.2924254 \\times 10^{-16},~3.8287765 \\times 10^{-16},~3.4230904 \\times 10^{-16},~3.0672868 \\times 10^{-16},~2.7545023 \\times 10^{-16},~2.478899 \\times 10^{-16},~2.2355028 \\times 10^{-16},~2.0200681 \\times 10^{-16},~1.8289635 \\times 10^{-16},~1.659077 \\times 10^{-16},~1.5077355 \\times 10^{-16},~1.3726387 \\times 10^{-16},~1.2518023 \\times 10^{-16},~1.1435109 \\times 10^{-16},~1.0462788 \\times 10^{-16},~9.5881582 \\times 10^{-17},~8.7999983 \\times 10^{-17},~8.0885242 \\times 10^{-17},~7.4451891 \\times 10^{-17},~6.8625112 \\times 10^{-17},~6.3339288 \\times 10^{-17},~5.8536752 \\times 10^{-17},~5.416673 \\times 10^{-17}] \\; \\mathrm{\\frac{erg}{Hz\\,s\\,sr\\,cm^{2}}}$"
      ],
      "text/plain": [
       "<Quantity [5.13315579e-17, 5.08219564e-16, 1.63382879e-15, 3.04854523e-15,\n",
       "           4.23502266e-15, 4.95134343e-15, 5.20612465e-15, 5.11628613e-15,\n",
       "           4.81135638e-15, 4.39498202e-15, 3.93815439e-15, 3.48454492e-15,\n",
       "           3.05834370e-15, 2.67106306e-15, 2.32650788e-15, 2.02409998e-15,\n",
       "           1.76097870e-15, 1.53326977e-15, 1.33681777e-15, 1.16758539e-15,\n",
       "           1.02185192e-15, 8.96294549e-16, 7.88004060e-16, 6.94465816e-16,\n",
       "           6.13524306e-16, 5.43341702e-16, 4.82356122e-16, 4.29242542e-16,\n",
       "           3.82877649e-16, 3.42309044e-16, 3.06728682e-16, 2.75450230e-16,\n",
       "           2.47889897e-16, 2.23550284e-16, 2.02006813e-16, 1.82896355e-16,\n",
       "           1.65907695e-16, 1.50773550e-16, 1.37263871e-16, 1.25180227e-16,\n",
       "           1.14351093e-16, 1.04627877e-16, 9.58815823e-17, 8.79999832e-17,\n",
       "           8.08852424e-17, 7.44518907e-17, 6.86251124e-17, 6.33392881e-17,\n",
       "           5.85367516e-17, 5.41667302e-17] erg / (cm2 Hz s sr)>"
      ]
     },
     "execution_count": 180,
     "metadata": {},
     "output_type": "execute_result"
    }
   ],
   "source": [
    "du = dust_emissivity.blackbody.modified_blackbody(\n",
    "    #u.Quantity([p[0] for p in sed]).to(u.Hz, u.spectral()), \n",
    "    freq,\n",
    "    temperature = modfit[0], \n",
    "    beta = modfit[1], \n",
    "    column = modfit[2])\n",
    "du"
   ]
  },
  {
   "cell_type": "code",
   "execution_count": 181,
   "id": "24ebc19d-9186-47ef-8cb4-7fef69436ce7",
   "metadata": {},
   "outputs": [
    {
     "data": {
      "text/plain": [
       "Text(0.5, 1.0, 'No 24$\\\\mu$m')"
      ]
     },
     "execution_count": 181,
     "metadata": {},
     "output_type": "execute_result"
    },
    {
     "data": {
      "image/png": "[encoded data removed]",
      "text/plain": [
       "<Figure size 432x288 with 1 Axes>"
      ]
     },
     "metadata": {
      "needs_background": "light"
     },
     "output_type": "display_data"
    }
   ],
   "source": [
    "pl.figure(figsize=(6,4))\n",
    "pl.rcParams.update({'font.size': 12})\n",
    "\n",
    "pl.loglog(freq.to(u.micron, u.spectral()), (du*area_as).to(u.Jy), color='k')\n",
    "#pl.scatter(u.Quantity([p[0] for p in sed]).to(u.micron, u.spectral()), u.Quantity([p[1] for p in sed]))#, color='blue')\n",
    "pl.errorbar(x=u.Quantity([p[0] for p in sed]).to(u.micron, u.spectral())[1:], y=u.Quantity([p[1] for p in sed])[1:], yerr=u.Quantity([p[4] for p in sed])[1:], fmt=',', color='k')\n",
    "pl.text(110, 10, str(modfit[0]))\n",
    "pl.text(110, 15, str(modfit[1]))\n",
    "pl.text(110, 22, str(modfit[2]))\n",
    "\n",
    "pl.xlabel('Wavelength ($\\mu$m)')\n",
    "pl.ylabel('Jy')\n",
    "pl.title('No 24$\\mu$m')\n",
    "#pl.savefig('/orange/adamginsburg/cmz/g5/code/plots/dustsed.pdf', bbox_inches='tight')"
   ]
  },
  {
   "cell_type": "markdown",
   "id": "ef7c2311-5718-4e3b-a5e1-110d6b1c89b9",
   "metadata": {},
   "source": [
    "## Fit without 1.1mm"
   ]
  },
  {
   "cell_type": "code",
   "execution_count": 182,
   "id": "2ce203e3-40fd-4a73-b08b-549b32f44c69",
   "metadata": {},
   "outputs": [
    {
     "data": {
      "text/plain": [
       "[<Quantity 19.73275536 K>,\n",
       " 1.2822757693930409,\n",
       " <Quantity 4.81507384e+21 1 / cm2>]"
      ]
     },
     "execution_count": 182,
     "metadata": {},
     "output_type": "execute_result"
    }
   ],
   "source": [
    "modfit,errs = dust_emissivity.fit_sed.fit_modified_bb(xdata=u.Quantity([p[0] for p in sed]).to(u.Hz, u.spectral())[:-1],\n",
    "                                        flux=u.Quantity([p[1]/area_as.to(u.sr) for p in sed])[:-1],\n",
    "                                        #error=u.Quantity([p[1]*0.1/area_as.to(u.sr) for p in sed]),\n",
    "                                        error=u.Quantity([p[4]/area_as.to(u.sr) for p in sed])[:-1],\n",
    "                                        guesses=[15*u.K, 2, 1e18*u.cm**-2],\n",
    "                                        fitter='lmfit',\n",
    "                                        return_error=True\n",
    "                                       )\n",
    "modfit"
   ]
  },
  {
   "cell_type": "code",
   "execution_count": 183,
   "id": "9e52b9fa-ffae-4a40-9534-d02ea25c5c45",
   "metadata": {},
   "outputs": [
    {
     "data": {
      "text/latex": [
       "$[4.817641 \\times 10^{-16},~1.7385409 \\times 10^{-15},~3.2171971 \\times 10^{-15},~4.3218949 \\times 10^{-15},~4.895661 \\times 10^{-15},~5.0328313 \\times 10^{-15},~4.8842467 \\times 10^{-15},~4.5766781 \\times 10^{-15},~4.1969329 \\times 10^{-15},~3.7982451 \\times 10^{-15},~3.4105754 \\times 10^{-15},~3.0491692 \\times 10^{-15},~2.7204937 \\times 10^{-15},~2.4260332 \\times 10^{-15},~2.1646043 \\times 10^{-15},~1.9337229 \\times 10^{-15},~1.7303879 \\times 10^{-15},~1.5515129 \\times 10^{-15},~1.394152 \\times 10^{-15},~1.255606 \\times 10^{-15},~1.1334614 \\times 10^{-15},~1.025592 \\times 10^{-15},~9.3014298 \\times 10^{-16},~8.455053 \\times 10^{-16},~7.7028816 \\times 10^{-16},~7.0329155 \\times 10^{-16},~6.4348075 \\times 10^{-16},~5.8996338 \\times 10^{-16},~5.4196924 \\times 10^{-16},~4.9883276 \\times 10^{-16},~4.5997792 \\times 10^{-16},~4.2490534 \\times 10^{-16},~3.9318125 \\times 10^{-16},~3.6442813 \\times 10^{-16},~3.3831671 \\times 10^{-16},~3.1455923 \\times 10^{-16},~2.9290366 \\times 10^{-16},~2.7312878 \\times 10^{-16},~2.5504004 \\times 10^{-16},~2.3846593 \\times 10^{-16},~2.2325499 \\times 10^{-16},~2.0927318 \\times 10^{-16},~1.9640161 \\times 10^{-16},~1.8453468 \\times 10^{-16},~1.7357835 \\times 10^{-16},~1.6344877 \\times 10^{-16},~1.54071 \\times 10^{-16},~1.4537797 \\times 10^{-16},~1.3730955 \\times 10^{-16},~1.2981172 \\times 10^{-16}] \\; \\mathrm{\\frac{erg}{Hz\\,s\\,sr\\,cm^{2}}}$"
      ],
      "text/plain": [
       "<Quantity [4.81764104e-16, 1.73854092e-15, 3.21719712e-15, 4.32189487e-15,\n",
       "           4.89566102e-15, 5.03283125e-15, 4.88424674e-15, 4.57667809e-15,\n",
       "           4.19693287e-15, 3.79824513e-15, 3.41057542e-15, 3.04916918e-15,\n",
       "           2.72049371e-15, 2.42603321e-15, 2.16460425e-15, 1.93372292e-15,\n",
       "           1.73038792e-15, 1.55151289e-15, 1.39415196e-15, 1.25560600e-15,\n",
       "           1.13346135e-15, 1.02559200e-15, 9.30142984e-16, 8.45505300e-16,\n",
       "           7.70288159e-16, 7.03291550e-16, 6.43480748e-16, 5.89963378e-16,\n",
       "           5.41969236e-16, 4.98832756e-16, 4.59977919e-16, 4.24905340e-16,\n",
       "           3.93181252e-16, 3.64428126e-16, 3.38316707e-16, 3.14559229e-16,\n",
       "           2.92903659e-16, 2.73128784e-16, 2.55040037e-16, 2.38465928e-16,\n",
       "           2.23254990e-16, 2.09273175e-16, 1.96401611e-16, 1.84534677e-16,\n",
       "           1.73578349e-16, 1.63448766e-16, 1.54070998e-16, 1.45377975e-16,\n",
       "           1.37309554e-16, 1.29811719e-16] erg / (cm2 Hz s sr)>"
      ]
     },
     "execution_count": 183,
     "metadata": {},
     "output_type": "execute_result"
    }
   ],
   "source": [
    "du = dust_emissivity.blackbody.modified_blackbody(\n",
    "    #u.Quantity([p[0] for p in sed]).to(u.Hz, u.spectral()), \n",
    "    freq,\n",
    "    temperature = modfit[0], \n",
    "    beta = modfit[1], \n",
    "    column = modfit[2])\n",
    "du"
   ]
  },
  {
   "cell_type": "code",
   "execution_count": 184,
   "id": "5a23ed8c-d8fc-4f44-8c78-0ab492a798d2",
   "metadata": {},
   "outputs": [
    {
     "data": {
      "text/plain": [
       "Text(0.5, 1.0, 'No 1.1mm')"
      ]
     },
     "execution_count": 184,
     "metadata": {},
     "output_type": "execute_result"
    },
    {
     "data": {
      "image/png": "[encoded data removed]",
      "text/plain": [
       "<Figure size 432x288 with 1 Axes>"
      ]
     },
     "metadata": {
      "needs_background": "light"
     },
     "output_type": "display_data"
    }
   ],
   "source": [
    "pl.figure(figsize=(6,4))\n",
    "pl.rcParams.update({'font.size': 12})\n",
    "\n",
    "pl.loglog(freq.to(u.micron, u.spectral()), (du*area_as).to(u.Jy), color='k')\n",
    "#pl.scatter(u.Quantity([p[0] for p in sed]).to(u.micron, u.spectral()), u.Quantity([p[1] for p in sed]))#, color='blue')\n",
    "pl.errorbar(x=u.Quantity([p[0] for p in sed]).to(u.micron, u.spectral())[:-1], y=u.Quantity([p[1] for p in sed])[:-1], yerr=u.Quantity([p[4] for p in sed])[:-1], fmt=',', color='k')\n",
    "pl.text(110, 40, str(modfit[0]))\n",
    "pl.text(110, 50, str(modfit[1]))\n",
    "pl.text(110, 65, str(modfit[2]))\n",
    "\n",
    "pl.xlabel('Wavelength ($\\mu$m)')\n",
    "pl.ylabel('Jy')\n",
    "pl.title('No 1.1mm')\n",
    "#pl.savefig('/orange/adamginsburg/cmz/g5/code/plots/dustsed.pdf', bbox_inches='tight')"
   ]
  },
  {
   "cell_type": "markdown",
   "id": "dcd7c26c-3c4b-4844-8459-f68112f8d7eb",
   "metadata": {},
   "source": [
    "## Central Five"
   ]
  },
  {
   "cell_type": "code",
   "execution_count": 185,
   "id": "00ca82d9-d3bc-45e8-a250-b77e9e07fd5c",
   "metadata": {},
   "outputs": [
    {
     "data": {
      "text/plain": [
       "[<Quantity 15.48794861 K>,\n",
       " 1.9108116207101766,\n",
       " <Quantity 6.92299117e+21 1 / cm2>]"
      ]
     },
     "execution_count": 185,
     "metadata": {},
     "output_type": "execute_result"
    }
   ],
   "source": [
    "modfit,errs = dust_emissivity.fit_sed.fit_modified_bb(xdata=u.Quantity([p[0] for p in sed]).to(u.Hz, u.spectral())[1:-1],\n",
    "                                        flux=u.Quantity([p[1]/area_as.to(u.sr) for p in sed])[1:-1],\n",
    "                                        #error=u.Quantity([p[1]*0.1/area_as.to(u.sr) for p in sed]),\n",
    "                                        error=u.Quantity([p[4]/area_as.to(u.sr) for p in sed])[1:-1],\n",
    "                                        guesses=[15*u.K, 2, 1e18*u.cm**-2],\n",
    "                                        fitter='lmfit',\n",
    "                                        return_error=True\n",
    "                                       )\n",
    "modfit"
   ]
  },
  {
   "cell_type": "code",
   "execution_count": 186,
   "id": "7f5d148b-9fed-41f5-b79e-3c860d071f8f",
   "metadata": {},
   "outputs": [
    {
     "data": {
      "text/latex": [
       "$[1.4813421 \\times 10^{-16},~8.8757492 \\times 10^{-16},~2.18801 \\times 10^{-15},~3.5024888 \\times 10^{-15},~4.4364919 \\times 10^{-15},~4.9038349 \\times 10^{-15},~4.9879527 \\times 10^{-15},~4.8146546 \\times 10^{-15},~4.4937136 \\times 10^{-15},~4.1038683 \\times 10^{-15},~3.6956004 \\times 10^{-15},~3.2985105 \\times 10^{-15},~2.9282703 \\times 10^{-15},~2.5918528 \\times 10^{-15},~2.2910876 \\times 10^{-15},~2.0249425 \\times 10^{-15},~1.7909288 \\times 10^{-15},~1.5859376 \\times 10^{-15},~1.4067172 \\times 10^{-15},~1.2501325 \\times 10^{-15},~1.1132935 \\times 10^{-15},~9.9360627 \\times 10^{-16},~8.8878266 \\times 10^{-16},~7.9682603 \\times 10^{-16},~7.1600657 \\times 10^{-16},~6.448323 \\times 10^{-16},~5.8201979 \\times 10^{-16},~5.2646648 \\times 10^{-16},~4.7722555 \\times 10^{-16},~4.3348372 \\times 10^{-16},~3.9454183 \\times 10^{-16},~3.5979814 \\times 10^{-16},~3.2873399 \\times 10^{-16},~3.0090161 \\times 10^{-16},~2.7591374 \\times 10^{-16},~2.5343481 \\times 10^{-16},~2.3317345 \\times 10^{-16},~2.1487622 \\times 10^{-16},~1.9832215 \\times 10^{-16},~1.8331826 \\times 10^{-16},~1.696956 \\times 10^{-16},~1.5730604 \\times 10^{-16},~1.4601936 \\times 10^{-16},~1.3572092 \\times 10^{-16},~1.2630959 \\times 10^{-16},~1.1769596 \\times 10^{-16},~1.0980086 \\times 10^{-16},~1.0255404 \\times 10^{-16},~9.5893083 \\times 10^{-17},~8.9762391 \\times 10^{-17}] \\; \\mathrm{\\frac{erg}{Hz\\,s\\,sr\\,cm^{2}}}$"
      ],
      "text/plain": [
       "<Quantity [1.48134215e-16, 8.87574922e-16, 2.18801000e-15, 3.50248879e-15,\n",
       "           4.43649187e-15, 4.90383487e-15, 4.98795271e-15, 4.81465456e-15,\n",
       "           4.49371363e-15, 4.10386826e-15, 3.69560039e-15, 3.29851050e-15,\n",
       "           2.92827035e-15, 2.59185281e-15, 2.29108758e-15, 2.02494245e-15,\n",
       "           1.79092884e-15, 1.58593760e-15, 1.40671716e-15, 1.25013254e-15,\n",
       "           1.11329349e-15, 9.93606274e-16, 8.88782661e-16, 7.96826030e-16,\n",
       "           7.16006566e-16, 6.44832298e-16, 5.82019790e-16, 5.26466477e-16,\n",
       "           4.77225551e-16, 4.33483722e-16, 3.94541831e-16, 3.59798137e-16,\n",
       "           3.28733986e-16, 3.00901610e-16, 2.75913741e-16, 2.53434805e-16,\n",
       "           2.33173452e-16, 2.14876217e-16, 1.98322152e-16, 1.83318256e-16,\n",
       "           1.69695603e-16, 1.57306036e-16, 1.46019358e-16, 1.35720924e-16,\n",
       "           1.26309593e-16, 1.17695963e-16, 1.09800860e-16, 1.02554044e-16,\n",
       "           9.58930834e-17, 8.97623912e-17] erg / (cm2 Hz s sr)>"
      ]
     },
     "execution_count": 186,
     "metadata": {},
     "output_type": "execute_result"
    }
   ],
   "source": [
    "du = dust_emissivity.blackbody.modified_blackbody(\n",
    "    #u.Quantity([p[0] for p in sed]).to(u.Hz, u.spectral()), \n",
    "    freq,\n",
    "    temperature = modfit[0], \n",
    "    beta = modfit[1], \n",
    "    column = modfit[2])\n",
    "du"
   ]
  },
  {
   "cell_type": "code",
   "execution_count": 187,
   "id": "f9b358db-b1a9-459a-b191-db2d8e240157",
   "metadata": {},
   "outputs": [
    {
     "data": {
      "text/plain": [
       "Text(0.5, 1.0, 'Central Five')"
      ]
     },
     "execution_count": 187,
     "metadata": {},
     "output_type": "execute_result"
    },
    {
     "data": {
      "image/png": "[encoded data removed]",
      "text/plain": [
       "<Figure size 432x288 with 1 Axes>"
      ]
     },
     "metadata": {
      "needs_background": "light"
     },
     "output_type": "display_data"
    }
   ],
   "source": [
    "pl.figure(figsize=(6,4))\n",
    "pl.rcParams.update({'font.size': 12})\n",
    "\n",
    "pl.loglog(freq.to(u.micron, u.spectral()), (du*area_as).to(u.Jy), color='k')\n",
    "#pl.scatter(u.Quantity([p[0] for p in sed]).to(u.micron, u.spectral()), u.Quantity([p[1] for p in sed]))#, color='blue')\n",
    "pl.errorbar(x=u.Quantity([p[0] for p in sed]).to(u.micron, u.spectral())[1:-1], y=u.Quantity([p[1] for p in sed])[1:-1], yerr=u.Quantity([p[4] for p in sed])[1:-1], fmt=',', color='k')\n",
    "pl.text(110, 40, str(modfit[0]))\n",
    "pl.text(110, 50, str(modfit[1]))\n",
    "pl.text(110, 65, str(modfit[2]))\n",
    "\n",
    "pl.xlabel('Wavelength ($\\mu$m)')\n",
    "pl.ylabel('Jy')\n",
    "pl.title('Central Five')\n",
    "#pl.savefig('/orange/adamginsburg/cmz/g5/code/plots/dustsed.pdf', bbox_inches='tight')"
   ]
  },
  {
   "cell_type": "markdown",
   "id": "c54d2f49-474f-4fc5-837d-3e9d0b13d044",
   "metadata": {},
   "source": [
    "## Left Five"
   ]
  },
  {
   "cell_type": "code",
   "execution_count": 188,
   "id": "7daad7f8-a317-466a-9b43-e231d498a79d",
   "metadata": {},
   "outputs": [
    {
     "data": {
      "text/plain": [
       "[<Quantity 19.68437156 K>,\n",
       " 1.2950533755730562,\n",
       " <Quantity 4.80270465e+21 1 / cm2>]"
      ]
     },
     "execution_count": 188,
     "metadata": {},
     "output_type": "execute_result"
    }
   ],
   "source": [
    "modfit,errs = dust_emissivity.fit_sed.fit_modified_bb(xdata=u.Quantity([p[0] for p in sed]).to(u.Hz, u.spectral())[:-2],\n",
    "                                        flux=u.Quantity([p[1]/area_as.to(u.sr) for p in sed])[:-2],\n",
    "                                        #error=u.Quantity([p[1]*0.1/area_as.to(u.sr) for p in sed]),\n",
    "                                        error=u.Quantity([p[4]/area_as.to(u.sr) for p in sed])[:-2],\n",
    "                                        guesses=[15*u.K, 2, 1e18*u.cm**-2],\n",
    "                                        fitter='lmfit',\n",
    "                                        return_error=True\n",
    "                                       )\n",
    "modfit"
   ]
  },
  {
   "cell_type": "code",
   "execution_count": 189,
   "id": "cb9d3009-a552-4374-82f0-16cfabfa83f6",
   "metadata": {},
   "outputs": [
    {
     "data": {
      "text/latex": [
       "$[4.8126595 \\times 10^{-16},~1.7412973 \\times 10^{-15},~3.2257072 \\times 10^{-15},~4.3347084 \\times 10^{-15},~4.909833 \\times 10^{-15},~5.0459542 \\times 10^{-15},~4.8949716 \\times 10^{-15},~4.5845195 \\times 10^{-15},~4.2019366 \\times 10^{-15},~3.8007231 \\times 10^{-15},~3.4109381 \\times 10^{-15},~3.0478335 \\times 10^{-15},~2.7178394 \\times 10^{-15},~2.4223858 \\times 10^{-15},~2.1602328 \\times 10^{-15},~1.9288447 \\times 10^{-15},~1.725175 \\times 10^{-15},~1.5460997 \\times 10^{-15},~1.3886423 \\times 10^{-15},~1.2500791 \\times 10^{-15},~1.1279767 \\times 10^{-15},~1.0201938 \\times 10^{-15},~9.2486336 \\times 10^{-16},~8.4036687 \\times 10^{-16},~7.6530629 \\times 10^{-16},~6.98476 \\times 10^{-16},~6.3883694 \\times 10^{-16},~5.8549349 \\times 10^{-16},~5.3767295 \\times 10^{-16},~4.9470794 \\times 10^{-16},~4.5602107 \\times 10^{-16},~4.2111202 \\times 10^{-16},~3.8954633 \\times 10^{-16},~3.6094604 \\times 10^{-16},~3.3498163 \\times 10^{-16},~3.1136522 \\times 10^{-16},~2.8984472 \\times 10^{-16},~2.70199 \\times 10^{-16},~2.5223358 \\times 10^{-16},~2.3577712 \\times 10^{-16},~2.2067834 \\times 10^{-16},~2.0680337 \\times 10^{-16},~1.9403356 \\times 10^{-16},~1.8226351 \\times 10^{-16},~1.7139939 \\times 10^{-16},~1.6135758 \\times 10^{-16},~1.5206335 \\times 10^{-16},~1.4344984 \\times 10^{-16},~1.3545711 \\times 10^{-16},~1.2803134 \\times 10^{-16}] \\; \\mathrm{\\frac{erg}{Hz\\,s\\,sr\\,cm^{2}}}$"
      ],
      "text/plain": [
       "<Quantity [4.81265952e-16, 1.74129733e-15, 3.22570722e-15, 4.33470841e-15,\n",
       "           4.90983303e-15, 5.04595425e-15, 4.89497161e-15, 4.58451949e-15,\n",
       "           4.20193662e-15, 3.80072310e-15, 3.41093807e-15, 3.04783353e-15,\n",
       "           2.71783938e-15, 2.42238576e-15, 2.16023284e-15, 1.92884469e-15,\n",
       "           1.72517497e-15, 1.54609969e-15, 1.38864232e-15, 1.25007908e-15,\n",
       "           1.12797673e-15, 1.02019385e-15, 9.24863360e-16, 8.40366872e-16,\n",
       "           7.65306295e-16, 6.98475997e-16, 6.38836944e-16, 5.85493487e-16,\n",
       "           5.37672952e-16, 4.94707936e-16, 4.56021074e-16, 4.21112017e-16,\n",
       "           3.89546327e-16, 3.60946040e-16, 3.34981633e-16, 3.11365216e-16,\n",
       "           2.89844725e-16, 2.70199000e-16, 2.52233581e-16, 2.35777123e-16,\n",
       "           2.20678338e-16, 2.06803373e-16, 1.94033564e-16, 1.82263507e-16,\n",
       "           1.71399393e-16, 1.61357579e-16, 1.52063348e-16, 1.43449837e-16,\n",
       "           1.35457108e-16, 1.28031338e-16] erg / (cm2 Hz s sr)>"
      ]
     },
     "execution_count": 189,
     "metadata": {},
     "output_type": "execute_result"
    }
   ],
   "source": [
    "du = dust_emissivity.blackbody.modified_blackbody(\n",
    "    #u.Quantity([p[0] for p in sed]).to(u.Hz, u.spectral()), \n",
    "    freq,\n",
    "    temperature = modfit[0], \n",
    "    beta = modfit[1], \n",
    "    column = modfit[2])\n",
    "du"
   ]
  },
  {
   "cell_type": "code",
   "execution_count": 190,
   "id": "fa6cca4f-7f14-435c-95ff-8c7f93be3f1e",
   "metadata": {},
   "outputs": [
    {
     "data": {
      "text/plain": [
       "Text(0.5, 1.0, 'Left Five')"
      ]
     },
     "execution_count": 190,
     "metadata": {},
     "output_type": "execute_result"
    },
    {
     "data": {
      "image/png": "[encoded data removed]",
      "text/plain": [
       "<Figure size 432x288 with 1 Axes>"
      ]
     },
     "metadata": {
      "needs_background": "light"
     },
     "output_type": "display_data"
    }
   ],
   "source": [
    "pl.figure(figsize=(6,4))\n",
    "pl.rcParams.update({'font.size': 12})\n",
    "\n",
    "pl.loglog(freq.to(u.micron, u.spectral()), (du*area_as).to(u.Jy), color='k')\n",
    "#pl.scatter(u.Quantity([p[0] for p in sed]).to(u.micron, u.spectral()), u.Quantity([p[1] for p in sed]))#, color='blue')\n",
    "pl.errorbar(x=u.Quantity([p[0] for p in sed]).to(u.micron, u.spectral())[:-2], y=u.Quantity([p[1] for p in sed])[:-2], yerr=u.Quantity([p[4] for p in sed])[:-2], fmt=',', color='k')\n",
    "pl.text(110, 40, str(modfit[0]))\n",
    "pl.text(110, 50, str(modfit[1]))\n",
    "pl.text(110, 65, str(modfit[2]))\n",
    "\n",
    "pl.xlabel('Wavelength ($\\mu$m)')\n",
    "pl.ylabel('Jy')\n",
    "pl.title('Left Five')\n",
    "#pl.savefig('/orange/adamginsburg/cmz/g5/code/plots/dustsed.pdf', bbox_inches='tight')"
   ]
  },
  {
   "cell_type": "markdown",
   "id": "2ae37b60-ccba-40df-99be-f2e9818f47c4",
   "metadata": {},
   "source": [
    "## Right Five"
   ]
  },
  {
   "cell_type": "code",
   "execution_count": 191,
   "id": "70cb2464-e2fc-4ad6-86f5-7cfcc1bf1826",
   "metadata": {},
   "outputs": [
    {
     "data": {
      "text/plain": [
       "[<Quantity 11.89962323 K>,\n",
       " 2.804959513020188,\n",
       " <Quantity 1.04121744e+22 1 / cm2>]"
      ]
     },
     "execution_count": 191,
     "metadata": {},
     "output_type": "execute_result"
    }
   ],
   "source": [
    "modfit,errs = dust_emissivity.fit_sed.fit_modified_bb(xdata=u.Quantity([p[0] for p in sed]).to(u.Hz, u.spectral())[2:],\n",
    "                                        flux=u.Quantity([p[1]/area_as.to(u.sr) for p in sed])[2:],\n",
    "                                        #error=u.Quantity([p[1]*0.1/area_as.to(u.sr) for p in sed]),\n",
    "                                        error=u.Quantity([p[4]/area_as.to(u.sr) for p in sed])[2:],\n",
    "                                        guesses=[15*u.K, 2, 1e18*u.cm**-2],\n",
    "                                        fitter='lmfit',\n",
    "                                        return_error=True\n",
    "                                       )\n",
    "modfit"
   ]
  },
  {
   "cell_type": "code",
   "execution_count": 192,
   "id": "e2ecae4a-6dd2-4183-8da1-a81ffeede5bf",
   "metadata": {},
   "outputs": [
    {
     "data": {
      "text/latex": [
       "$[1.9838747 \\times 10^{-17},~2.8063526 \\times 10^{-16},~1.0988388 \\times 10^{-15},~2.3163068 \\times 10^{-15},~3.4899941 \\times 10^{-15},~4.318562 \\times 10^{-15},~4.7307736 \\times 10^{-15},~4.7920074 \\times 10^{-15},~4.6097522 \\times 10^{-15},~4.2835711 \\times 10^{-15},~3.888467 \\times 10^{-15},~3.4745156 \\times 10^{-15},~3.0720808 \\times 10^{-15},~2.6977004 \\times 10^{-15},~2.3589322 \\times 10^{-15},~2.0578554 \\times 10^{-15},~1.7934213 \\times 10^{-15},~1.5629539 \\times 10^{-15},~1.3630668 \\times 10^{-15},~1.1902 \\times 10^{-15},~1.0409164 \\times 10^{-15},~9.1205048 \\times 10^{-16},~8.0076994 \\times 10^{-16},~7.0458717 \\times 10^{-16},~6.2134394 \\times 10^{-16},~5.4918292 \\times 10^{-16},~4.8651421 \\times 10^{-16},~4.3198137 \\times 10^{-16},~3.8442937 \\times 10^{-16},~3.4287558 \\times 10^{-16},~3.0648411 \\times 10^{-16},~2.7454356 \\times 10^{-16},~2.4644798 \\times 10^{-16},~2.2168059 \\times 10^{-16},~1.9979999 \\times 10^{-16},~1.8042859 \\times 10^{-16},~1.6324278 \\times 10^{-16},~1.4796469 \\times 10^{-16},~1.3435529 \\times 10^{-16},~1.2220852 \\times 10^{-16},~1.113464 \\times 10^{-16},~1.0161491 \\times 10^{-16},~9.288045 \\times 10^{-17},~8.5026939 \\times 10^{-17},~7.79533 \\times 10^{-17},~7.1571346 \\times 10^{-17},~6.5803989 \\times 10^{-17},~6.0583712 \\times 10^{-17},~5.5851271 \\times 10^{-17},~5.1554581 \\times 10^{-17}] \\; \\mathrm{\\frac{erg}{Hz\\,s\\,sr\\,cm^{2}}}$"
      ],
      "text/plain": [
       "<Quantity [1.98387466e-17, 2.80635259e-16, 1.09883875e-15, 2.31630684e-15,\n",
       "           3.48999406e-15, 4.31856195e-15, 4.73077363e-15, 4.79200740e-15,\n",
       "           4.60975218e-15, 4.28357114e-15, 3.88846695e-15, 3.47451561e-15,\n",
       "           3.07208082e-15, 2.69770043e-15, 2.35893221e-15, 2.05785536e-15,\n",
       "           1.79342132e-15, 1.56295391e-15, 1.36306676e-15, 1.19019998e-15,\n",
       "           1.04091639e-15, 9.12050479e-16, 8.00769935e-16, 7.04587166e-16,\n",
       "           6.21343938e-16, 5.49182920e-16, 4.86514208e-16, 4.31981365e-16,\n",
       "           3.84429371e-16, 3.42875582e-16, 3.06484106e-16, 2.74543559e-16,\n",
       "           2.46447983e-16, 2.21680588e-16, 1.99799991e-16, 1.80428590e-16,\n",
       "           1.63242776e-16, 1.47964688e-16, 1.34355286e-16, 1.22208516e-16,\n",
       "           1.11346403e-16, 1.01614909e-16, 9.28804495e-17, 8.50269391e-17,\n",
       "           7.79532997e-17, 7.15713455e-17, 6.58039887e-17, 6.05837125e-17,\n",
       "           5.58512714e-17, 5.15545807e-17] erg / (cm2 Hz s sr)>"
      ]
     },
     "execution_count": 192,
     "metadata": {},
     "output_type": "execute_result"
    }
   ],
   "source": [
    "du = dust_emissivity.blackbody.modified_blackbody(\n",
    "    #u.Quantity([p[0] for p in sed]).to(u.Hz, u.spectral()), \n",
    "    freq,\n",
    "    temperature = modfit[0], \n",
    "    beta = modfit[1], \n",
    "    column = modfit[2])\n",
    "du"
   ]
  },
  {
   "cell_type": "code",
   "execution_count": 193,
   "id": "b4012b55-9276-4967-bb3b-b9e28fcc34a1",
   "metadata": {},
   "outputs": [
    {
     "data": {
      "text/plain": [
       "Text(0.5, 1.0, 'Right Five')"
      ]
     },
     "execution_count": 193,
     "metadata": {},
     "output_type": "execute_result"
    },
    {
     "data": {
      "image/png": "[encoded data removed]",
      "text/plain": [
       "<Figure size 432x288 with 1 Axes>"
      ]
     },
     "metadata": {
      "needs_background": "light"
     },
     "output_type": "display_data"
    }
   ],
   "source": [
    "pl.figure(figsize=(6,4))\n",
    "pl.rcParams.update({'font.size': 12})\n",
    "\n",
    "pl.loglog(freq.to(u.micron, u.spectral()), (du*area_as).to(u.Jy), color='k')\n",
    "#pl.scatter(u.Quantity([p[0] for p in sed]).to(u.micron, u.spectral()), u.Quantity([p[1] for p in sed]))#, color='blue')\n",
    "pl.errorbar(x=u.Quantity([p[0] for p in sed]).to(u.micron, u.spectral())[2:], y=u.Quantity([p[1] for p in sed])[2:], yerr=u.Quantity([p[4] for p in sed])[2:], fmt=',', color='k')\n",
    "pl.text(110, 10, str(modfit[0]))\n",
    "pl.text(110, 15, str(modfit[1]))\n",
    "pl.text(110, 22, str(modfit[2]))\n",
    "\n",
    "pl.xlabel('Wavelength ($\\mu$m)')\n",
    "pl.ylabel('Jy')\n",
    "pl.title('Right Five')\n",
    "#pl.savefig('/orange/adamginsburg/cmz/g5/code/plots/dustsed.pdf', bbox_inches='tight')"
   ]
  },
  {
   "cell_type": "markdown",
   "id": "b1331aef-e859-492c-92b0-4835ff27350a",
   "metadata": {
    "jp-MarkdownHeadingCollapsed": true,
    "tags": []
   },
   "source": [
    "# Old"
   ]
  },
  {
   "cell_type": "code",
   "execution_count": null,
   "id": "7ed25f1d-ed0c-407f-ae2d-2c3a288c1d83",
   "metadata": {},
   "outputs": [],
   "source": [
    "sed_nobolo = [\n",
    "    (70*u.micron, pacs70, 'pacs', '70 um'), # pacsfn_1\n",
    "    (160*u.micron, pacs160, 'pacs', '160 um'), # pacsfn_1\n",
    "    (250*u.micron, her250, 'Herschel', '250 um'), # herfn_1\n",
    "    (350*u.micron, her350, 'Herschel', '350 um'), # herfn_2\n",
    "    (500*u.micron, her500, 'Herschel', '500 um'), # herfn_3\n",
    "    (850*u.micron, atlas850, 'ATLASGAL', '850 um')#,\n",
    "    #((1.1*u.mm).to(u.micron), bolo11, 'Bolocam' ,'1.1 mm') # Bolocam\n",
    "] "
   ]
  },
  {
   "cell_type": "code",
   "execution_count": null,
   "id": "359802af-e63b-4240-ae12-6639366e5aaf",
   "metadata": {},
   "outputs": [],
   "source": [
    "modfit_nobolo = dust_emissivity.fit_sed.fit_modified_bb(xdata=u.Quantity([p[0] for p in sed_nobolo]).to(u.Hz, u.spectral()),\n",
    "                                        flux=u.Quantity([p[1] for p in sed_nobolo]),\n",
    "                                        error=u.Quantity([1*u.Jy for p in sed_nobolo]),\n",
    "                                        guesses=[16*u.K, 1.5, 1e22*u.cm**-2],\n",
    "                                        fitter='lmfit'\n",
    "                                       )\n",
    "modfit_nobolo"
   ]
  },
  {
   "cell_type": "code",
   "execution_count": null,
   "id": "250f53db-1432-4c3b-9f9c-e092612986b3",
   "metadata": {},
   "outputs": [],
   "source": [
    "du_nobolo = dust_emissivity.blackbody.modified_blackbody(\n",
    "    #u.Quantity([p[0] for p in sed]).to(u.Hz, u.spectral()), \n",
    "    freq,\n",
    "    temperature = modfit_nobolo[0], \n",
    "    beta = modfit_nobolo[1], \n",
    "    column = modfit_nobolo[2])\n",
    "du_nobolo"
   ]
  },
  {
   "cell_type": "code",
   "execution_count": null,
   "id": "e458af87-20f8-4236-a2b3-57cf9597996d",
   "metadata": {},
   "outputs": [],
   "source": [
    "pl.plot(freq.to(u.micron, u.spectral()), du_nobolo.to(u.Jy / u.sr), color='green')\n",
    "pl.scatter(u.Quantity([p[0] for p in sed_nobolo]).to(u.micron, u.spectral()), u.Quantity([p[1] for p in sed_nobolo]), color='blue')\n",
    "\n",
    "pl.xlabel('Wavelength ($\\mu$m)')\n",
    "pl.ylabel('Jy')\n",
    "pl.yscale('log')"
   ]
  },
  {
   "cell_type": "code",
   "execution_count": null,
   "id": "ba304d3b-c567-4b11-93de-e02d91c7dff5",
   "metadata": {},
   "outputs": [],
   "source": [
    "pl.loglog(freq.to(u.micron, u.spectral()), du_nobolo.to(u.Jy / u.sr), color='green')\n",
    "pl.scatter(u.Quantity([p[0] for p in sed_nobolo]).to(u.micron, u.spectral()), u.Quantity([p[1] for p in sed_nobolo]), color='blue')\n",
    "pl.xlabel('Wavelength ($\\mu$m)')\n",
    "pl.ylabel('Jy')"
   ]
  },
  {
   "cell_type": "code",
   "execution_count": null,
   "id": "62cf0fac-f5e9-4ed5-829c-457697957bbb",
   "metadata": {},
   "outputs": [],
   "source": [
    "sed_noatlas = [\n",
    "    (70*u.micron, pacs70, 'pacs', '70 um'), # pacsfn_1\n",
    "    (160*u.micron, pacs160, 'pacs', '160 um'), # pacsfn_1\n",
    "    (250*u.micron, her250, 'Herschel', '250 um'), # herfn_1\n",
    "    (350*u.micron, her350, 'Herschel', '350 um'), # herfn_2\n",
    "    (500*u.micron, her500, 'Herschel', '500 um'), # herfn_3\n",
    "    #(850*u.micron, atlas850, 'ATLASGAL', '850 um')#,\n",
    "    ((1.1*u.mm).to(u.micron), bolo11, 'Bolocam' ,'1.1 mm') # Bolocam\n",
    "] "
   ]
  },
  {
   "cell_type": "code",
   "execution_count": null,
   "id": "caa65bee-b10d-4521-b49c-cf3de6d5143e",
   "metadata": {},
   "outputs": [],
   "source": [
    "modfit_noatlas = dust_emissivity.fit_sed.fit_modified_bb(xdata=u.Quantity([p[0] for p in sed_noatlas]).to(u.Hz, u.spectral()),\n",
    "                                        flux=u.Quantity([p[1] for p in sed_noatlas]),\n",
    "                                        error=u.Quantity([1*u.Jy for p in sed_noatlas]),\n",
    "                                        guesses=[16*u.K, 2, 1e22*u.cm**-2],\n",
    "                                        fitter='lmfit'\n",
    "                                       )\n",
    "modfit_noatlas"
   ]
  },
  {
   "cell_type": "code",
   "execution_count": null,
   "id": "b209b34a-4450-4be4-a9ea-52caa23176df",
   "metadata": {},
   "outputs": [],
   "source": [
    "du_noatlas = dust_emissivity.blackbody.modified_blackbody(\n",
    "    #u.Quantity([p[0] for p in sed]).to(u.Hz, u.spectral()), \n",
    "    freq,\n",
    "    temperature = modfit_noatlas[0], \n",
    "    beta = modfit_noatlas[1], \n",
    "    column = modfit_noatlas[2])\n",
    "du_noatlas"
   ]
  },
  {
   "cell_type": "code",
   "execution_count": null,
   "id": "44537fed-2d77-479e-a685-730d08383943",
   "metadata": {},
   "outputs": [],
   "source": [
    "pl.plot(freq.to(u.micron, u.spectral()), du_noatlas.to(u.Jy / u.sr), color='green')\n",
    "pl.scatter(u.Quantity([p[0] for p in sed_noatlas]).to(u.micron, u.spectral()), u.Quantity([p[1] for p in sed_noatlas]), color='blue')\n",
    "#pl.scatter(u.Quantity([p[0] for p in sed]).to(u.micron, u.spectral()), u.Quantity([p[1] for p in sed]), color='orange')\n",
    "\n",
    "pl.xlabel('Wavelength ($\\mu$m)')\n",
    "pl.ylabel('Jy')\n",
    "pl.yscale('log')"
   ]
  },
  {
   "cell_type": "code",
   "execution_count": null,
   "id": "f453d166-35e8-4e09-88f7-52416c01ef9c",
   "metadata": {},
   "outputs": [],
   "source": [
    "pl.loglog(freq.to(u.micron, u.spectral()), du_noatlas.to(u.Jy / u.sr), color='green')\n",
    "pl.scatter(u.Quantity([p[0] for p in sed_noatlas]).to(u.micron, u.spectral()), u.Quantity([p[1] for p in sed_noatlas]), color='blue')\n",
    "pl.xlabel('Wavelength ($\\mu$m)')\n",
    "pl.ylabel('Jy')"
   ]
  },
  {
   "cell_type": "code",
   "execution_count": null,
   "id": "20df33f1-c230-4e69-925a-fc4c7758f85d",
   "metadata": {},
   "outputs": [],
   "source": [
    "dust_emissivity.dust.massofsnu?"
   ]
  },
  {
   "cell_type": "code",
   "execution_count": null,
   "id": "c1f6d370-7e9c-44bd-8048-22ede999bd41",
   "metadata": {},
   "outputs": [],
   "source": [
    "dust_emissivity.dust.massofsnu(271.1*u.GHz, 4.7052907*u.Jy, 7*u.kpc, temperature=10*u.K)"
   ]
  },
  {
   "cell_type": "code",
   "execution_count": null,
   "id": "85198c7e-d326-4df7-9b53-a0240fbb53fb",
   "metadata": {},
   "outputs": [],
   "source": [
    "dust_emissivity.dust.massofsnu(271.1*u.GHz, 4.7052907*u.Jy, 7*u.kpc, temperature=modfit[0], beta=modfit[1])\n",
    "#temp,beta,col"
   ]
  },
  {
   "cell_type": "code",
   "execution_count": null,
   "id": "0ef497e1-bc20-4a74-8f8c-684ff477e32f",
   "metadata": {},
   "outputs": [],
   "source": [
    "dust_emissivity.dust.massofsnu(345*u.GHz, 50*u.Jy, 7*u.kpc, temperature=modfit[0], beta=modfit[1])"
   ]
  },
  {
   "cell_type": "code",
   "execution_count": null,
   "id": "fdbf8913-ac46-4c58-9b19-d67080dc41f2",
   "metadata": {},
   "outputs": [],
   "source": [
    "(250*u.micron).to(u.GHz, u.spectral())"
   ]
  },
  {
   "cell_type": "code",
   "execution_count": null,
   "id": "4563456a-cee0-4c8c-a96e-6ad6b160616c",
   "metadata": {},
   "outputs": [],
   "source": [
    "dust_emissivity.dust.massofsnu((250*u.micron).to(u.GHz, u.spectral()), her250, 7*u.kpc, temperature=modfit[0], beta=modfit[1])"
   ]
  },
  {
   "cell_type": "code",
   "execution_count": null,
   "id": "4f3ff6ed-459e-42e5-bd93-588098385b8d",
   "metadata": {},
   "outputs": [],
   "source": []
  },
  {
   "cell_type": "code",
   "execution_count": null,
   "id": "fb0dbbf7-e1ef-419f-8ff2-0c7e2a75eed4",
   "metadata": {},
   "outputs": [],
   "source": []
  },
  {
   "cell_type": "code",
   "execution_count": null,
   "id": "13c0f9f5-468f-4e37-9355-b6857316912d",
   "metadata": {},
   "outputs": [],
   "source": []
  },
  {
   "cell_type": "code",
   "execution_count": null,
   "id": "5a73e9cb-fc43-4cac-afc0-35a9e5b85e51",
   "metadata": {},
   "outputs": [],
   "source": []
  },
  {
   "cell_type": "code",
   "execution_count": null,
   "id": "63176643-1b11-49c1-9ca7-c8fb2110efe5",
   "metadata": {},
   "outputs": [],
   "source": []
  },
  {
   "cell_type": "code",
   "execution_count": null,
   "id": "9d4bc050-3620-4080-8045-1609ddacfbbc",
   "metadata": {},
   "outputs": [],
   "source": []
  },
  {
   "cell_type": "code",
   "execution_count": null,
   "id": "97d787f7-fbc0-422c-aa96-c0f048a9c691",
   "metadata": {},
   "outputs": [],
   "source": []
  }
 ],
 "metadata": {
  "kernelspec": {
   "display_name": "Python 3 (ipykernel)",
   "language": "python",
   "name": "python3"
  },
  "language_info": {
   "codemirror_mode": {
    "name": "ipython",
    "version": 3
   },
   "file_extension": ".py",
   "mimetype": "text/x-python",
   "name": "python",
   "nbconvert_exporter": "python",
   "pygments_lexer": "ipython3",
   "version": "3.9.13"
  }
 },
 "nbformat": 4,
 "nbformat_minor": 5
}
