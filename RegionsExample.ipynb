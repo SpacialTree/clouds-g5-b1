{
 "cells": [
  {
   "cell_type": "code",
   "execution_count": 1,
   "id": "6f0286d9-cc76-4db0-b6bd-e0d3b9f9ea73",
   "metadata": {},
   "outputs": [],
   "source": [
    "from dust_emissivity import dust\n",
    "from astropy.io import fits\n",
    "from astropy import wcs\n",
    "from astropy import units as u, coordinates\n",
    "import regions\n",
    "%matplotlib inline\n",
    "import pylab as pl\n",
    "# for bolocam (and maybe ATLASGAL?)\n",
    "import radio_beam \n",
    "from spectral_cube import SpectralCube\n",
    "import numpy as np"
   ]
  },
  {
   "cell_type": "code",
   "execution_count": 2,
   "id": "4a3e677b-5d9f-4175-b128-60559a0afec5",
   "metadata": {},
   "outputs": [
    {
     "data": {
      "text/plain": [
       "'/orange/adamginsburg/cmz/g5/code'"
      ]
     },
     "execution_count": 2,
     "metadata": {},
     "output_type": "execute_result"
    }
   ],
   "source": [
    "pwd"
   ]
  },
  {
   "cell_type": "code",
   "execution_count": 3,
   "id": "eabc3aa8-19f8-4f45-9845-4e4d2f23843e",
   "metadata": {
    "collapsed": true,
    "jupyter": {
     "outputs_hidden": true
    },
    "tags": []
   },
   "outputs": [
    {
     "name": "stdout",
     "output_type": "stream",
     "text": [
      "\u001b[0m\u001b[01;34mALMA22\u001b[0m/\n",
      "BaselineFixes.ipynb\n",
      "ContextImages.ipynb\n",
      "ContextImages_bck.ipynb\n",
      "ContextImages_bck2.ipynb\n",
      "CopyRegionsExample.ipynb\n",
      "DESPOTIC-2.1.tar.gz\n",
      "DespoticSiO.ipynb\n",
      "DistanceToG5.ipynb\n",
      "\u001b[01;34mLAMDA\u001b[0m/\n",
      "MakingSpectra.ipynb\n",
      "MomentMaps.ipynb\n",
      "PV_Diagrams.ipynb\n",
      "RegionsExample.ipynb\n",
      "Spectra.ipynb\n",
      "Testing_dust_emissivity.ipynb\n",
      "TryingGlueviz.ipynb\n",
      "TryingPyRADEX.ipynb\n",
      "TryingPyRADEX2.ipynb\n",
      "\u001b[01;32marrayMoms.py\u001b[0m*\n",
      "bigreg.reg\n",
      "combination.ipynb\n",
      "combine_methods.py\n",
      "core.ipython-11-1643745431-3663-3389-c0709a-s11.ufhpc.2852\n",
      "core.python-11-1643147061-21287-3389-c0706a-s14.ufhpc.106037\n",
      "core.python-11-1643147129-21287-3389-c0706a-s14.ufhpc.106468\n",
      "core.python-11-1643148750-21287-3389-c0706a-s14.ufhpc.107148\n",
      "core.python-11-1643381679-21287-3389-c0702a-s19.ufhpc.87038\n",
      "\u001b[01;34mdespotic\u001b[0m/\n",
      "despotic_comp.inp\n",
      "\u001b[01;32mfitting.py\u001b[0m*\n",
      "footprint.reg\n",
      "formalRatios.ipynb\n",
      "f{key}_cutout.fits\n",
      "g5-highvelo.reg\n",
      "g5-lowvelo.reg\n",
      "g5.12CO.spw17.fits\n",
      "\u001b[01;32mg5_code.py\u001b[0m*\n",
      "gasMassEstimate.ipynb\n",
      "gmcChem.pdf\n",
      "\u001b[01;32mimcontsub.last\u001b[0m*\n",
      "\u001b[01;32mimportfits.last\u001b[0m*\n",
      "ipython_log_2021-11-30.py\n",
      "ipython_log_2021-12-04.py\n",
      "ipython_log_2022-01-11.py\n",
      "ipython_log_2022-01-25.py\n",
      "ipython_log_2022-01-28.py\n",
      "ipython_log_2022-02-01.py\n",
      "ipython_log_2022-03-22.py\n",
      "ipython_log_2022-03-29.py\n",
      "ipython_log_2022-04-11.py\n",
      "ipython_log_2022-04-13.py\n",
      "ipython_log_2022-04-19.py\n",
      "ipython_log_2022-05-10.py\n",
      "ipython_log_2022-05-11.py\n",
      "ipython_log_2022-05-31.py\n",
      "ipython_log_2022-06-01.py\n",
      "ipython_log_2022-06-14.py\n",
      "ipython_log_2022-07-01.py\n",
      "ipython_log_2022-07-14.py\n",
      "ipython_log_2022-07-19.py\n",
      "isotopRatio.ipynb\n",
      "noisy.reg\n",
      "oldContextImages.ipynb\n",
      "output.np\n",
      "\u001b[01;34mplots\u001b[0m/\n",
      "pyRADEXchecks.ipynb\n",
      "\u001b[01;32mregridding.py\u001b[0m*\n",
      "reproject_cube17.ipynb\n",
      "reprojected_image.fits\n",
      "\u001b[01;34mscouse\u001b[0m/\n",
      "\u001b[01;34msio-h2.dat\u001b[0m/\n",
      "sio.dat\n",
      "\u001b[01;34mtestimages\u001b[0m/\n",
      "\u001b[01;32mviewer.last\u001b[0m*\n",
      "\u001b[01;32myoratios.py\u001b[0m*\n"
     ]
    }
   ],
   "source": [
    "ls "
   ]
  },
  {
   "cell_type": "code",
   "execution_count": 2,
   "id": "eee0fa86-f03b-424b-8e36-90f032e44a76",
   "metadata": {},
   "outputs": [],
   "source": [
    "herfn_1 = '/orange/adamginsburg/higal/Field4_0_Combined_SPIRE_SpirePacsParallel_250_1342214761-1342214762_extd.fits'\n",
    "herfn_2 = '/orange/adamginsburg/higal/Field4_0_Combined_SPIRE_SpirePacsParallel_350_1342214761-1342214762_extd.fits'\n",
    "herfn_3 = '/orange/adamginsburg/higal/Field4_0_Combined_SPIRE_SpirePacsParallel_500_1342214761-1342214762_extd.fits'\n",
    "pacsfn_1 = '/orange/adamginsburg/higal/Field4_0_PACS_SpirePacsParallel_160_1342214761-1342214762_jscanam.fits'\n",
    "pacsfn_2 = '/orange/adamginsburg/higal/Field4_0_PACS_SpirePacsParallel_70_1342214761-1342214762_jscanam.fits'"
   ]
  },
  {
   "cell_type": "code",
   "execution_count": 3,
   "id": "ef584269-1a1a-4849-9a48-40f485479cc1",
   "metadata": {},
   "outputs": [],
   "source": [
    "#reg = regions.Regions.read('../G5/sum/spw17_12CO/ccc.reg')\n",
    "#reg = regions.Regions.read('/orange/adamginsburg/cmz/g5/code/bigreg.reg')\n",
    "reg = regions.Regions.read('/orange/adamginsburg/cmz/g5/code/g5-field2.reg')\n",
    "#reg = regions.Regions.read('/orange/adamginsburg/cmz/g5/code/g5-highvelo.reg')\n",
    "#reg = regions.Regions.read('/orange/adamginsburg/cmz/g5/code/g5-lowvelo.reg')\n",
    "#reg = regions.Regions.read('/orange/adamginsburg/cmz/g5/code/noisy.reg')\n",
    "r0 = reg[0]\n",
    "bgreg = regions.RectangleAnnulusSkyRegion(center=reg[0].center, inner_width=reg[0].width, inner_height=reg[0].height, outer_width=reg[0].width*2, outer_height=reg[0].height*2)\n",
    "\n"
   ]
  },
  {
   "cell_type": "code",
   "execution_count": 4,
   "id": "ec87dfcc-f16f-4a22-a517-558820036a12",
   "metadata": {},
   "outputs": [
    {
     "data": {
      "text/plain": [
       "<Regions([<RectangleSkyRegion(center=<SkyCoord (Galactic): (l, b) in deg\n",
       "    (5.37788441, -0.40722636)>, width=753.1274 arcsec, height=161.1168 arcsec, angle=0.0 deg)>])>"
      ]
     },
     "execution_count": 4,
     "metadata": {},
     "output_type": "execute_result"
    }
   ],
   "source": [
    "reg"
   ]
  },
  {
   "cell_type": "code",
   "execution_count": null,
   "id": "64981f4e-2885-4b84-acb7-116237f0fd5d",
   "metadata": {},
   "outputs": [],
   "source": []
  },
  {
   "cell_type": "code",
   "execution_count": 5,
   "id": "7abd4847-7946-403b-a2ae-6539cfc626d5",
   "metadata": {},
   "outputs": [
    {
     "data": {
      "text/plain": [
       "<RectangleAnnulusSkyRegion(center=<SkyCoord (Galactic): (l, b) in deg\n",
       "    (5.37788441, -0.40722636)>, inner_width=753.1274 arcsec, outer_width=1506.2548 arcsec, inner_height=161.1168 arcsec, outer_height=322.2336 arcsec, angle=0.0 deg)>"
      ]
     },
     "execution_count": 5,
     "metadata": {},
     "output_type": "execute_result"
    }
   ],
   "source": [
    "bgreg"
   ]
  },
  {
   "cell_type": "markdown",
   "id": "6f6714b1-9ef5-4dec-a99d-b0c004338969",
   "metadata": {},
   "source": [
    "### $^{12}$CO"
   ]
  },
  {
   "cell_type": "code",
   "execution_count": 6,
   "id": "1c516e91-c772-402f-8e16-f54893f75836",
   "metadata": {},
   "outputs": [],
   "source": [
    "name_12co = '/orange/adamginsburg/cmz/g5/G5/sum/newcombination/galcorrected/g5.12CO.spw17.fits'\n",
    "cube_12co = SpectralCube.read(name_12co).with_spectral_unit(u.km / u.s, velocity_convention='radio')\n"
   ]
  },
  {
   "cell_type": "code",
   "execution_count": 13,
   "id": "8436e5fc-532c-4037-931a-c881e77b3b94",
   "metadata": {},
   "outputs": [
    {
     "name": "stderr",
     "output_type": "stream",
     "text": [
      "WARNING: PossiblySlowWarning: This function (<function BaseSpectralCube.to at 0x2b67c75d3280>) requires loading the entire cube into memory and may therefore be slow. [spectral_cube.utils]\n"
     ]
    }
   ],
   "source": [
    "cut_cube_12co = cube_12co.with_mask(cube_12co>0.05*u.K).spectral_slab(0*u.km / u.second, 225*u.km/u.second).to(u.K)\n"
   ]
  },
  {
   "cell_type": "code",
   "execution_count": 14,
   "id": "b20c5c67-12e2-49ec-aef5-4122f233a6e3",
   "metadata": {
    "tags": []
   },
   "outputs": [],
   "source": [
    "mom0_12co = cut_cube_12co.moment0()"
   ]
  },
  {
   "cell_type": "code",
   "execution_count": null,
   "id": "187afcb4-6694-4c75-9492-3e518224c6c4",
   "metadata": {},
   "outputs": [],
   "source": []
  },
  {
   "cell_type": "code",
   "execution_count": 15,
   "id": "5ad7e3a0-a852-4c42-907f-c14c2bbff527",
   "metadata": {},
   "outputs": [],
   "source": []
  },
  {
   "cell_type": "code",
   "execution_count": 16,
   "id": "05a0d253-7311-4a1b-ab73-467241a51a28",
   "metadata": {},
   "outputs": [],
   "source": [
    "ww = wcs.WCS(mom0_12co.header)\n",
    "preg = r0.to_pixel(ww)\n",
    "mask = preg.to_mask()\n",
    "cutout = mask.cutout(mom0_12co.data)"
   ]
  },
  {
   "cell_type": "code",
   "execution_count": 17,
   "id": "0866bdd7-e8a8-4e72-89cd-1bc1368930ed",
   "metadata": {},
   "outputs": [],
   "source": []
  },
  {
   "cell_type": "code",
   "execution_count": 18,
   "id": "a137dc79-6916-4e49-aabe-27405f719cb8",
   "metadata": {},
   "outputs": [
    {
     "data": {
      "text/plain": [
       "<matplotlib.image.AxesImage at 0x2b680b529610>"
      ]
     },
     "execution_count": 18,
     "metadata": {},
     "output_type": "execute_result"
    },
    {
     "data": {
      "image/png": "[encoded data removed]",
      "text/plain": [
       "<Figure size 432x288 with 1 Axes>"
      ]
     },
     "metadata": {
      "needs_background": "light"
     },
     "output_type": "display_data"
    }
   ],
   "source": [
    "pl.imshow(mask.multiply(mom0_12co.data))"
   ]
  },
  {
   "cell_type": "code",
   "execution_count": 19,
   "id": "5d592f2e-8c90-4db8-96b4-272bbf04269b",
   "metadata": {},
   "outputs": [
    {
     "data": {
      "text/latex": [
       "$373.28364 \\; \\mathrm{\\frac{K\\,km}{s}}$"
      ],
      "text/plain": [
       "<Projection 373.28364278 K km / s>"
      ]
     },
     "execution_count": 19,
     "metadata": {},
     "output_type": "execute_result"
    }
   ],
   "source": [
    "np.nanmean(mask.multiply(mom0_12co))"
   ]
  },
  {
   "cell_type": "code",
   "execution_count": 20,
   "id": "96f77862-3c6e-408b-aff9-3860fa36748f",
   "metadata": {
    "tags": []
   },
   "outputs": [],
   "source": [
    "col_density = mask.multiply(mom0_12co) * 2.3*10**20 * u.cm**(-2) * (u.K * u.km / u.s)**(-1) * 0.8\n"
   ]
  },
  {
   "cell_type": "code",
   "execution_count": 21,
   "id": "0d64450d-d49c-4d62-b0ec-3fc0644b00f9",
   "metadata": {},
   "outputs": [],
   "source": [
    "pix_area = mom0_12co.wcs.celestial.proj_plane_pixel_area()\n"
   ]
  },
  {
   "cell_type": "code",
   "execution_count": 22,
   "id": "225b22ae-688d-4010-9281-0f50e609650c",
   "metadata": {},
   "outputs": [],
   "source": [
    "d=7*u.kpc\n",
    "pix_area_cm = (pix_area * d**2).to(u.parsec**2, equivalencies=u.dimensionless_angles()).to(u.cm**2)\n"
   ]
  },
  {
   "cell_type": "code",
   "execution_count": 23,
   "id": "9f488d73-748a-435f-8651-9b1edabd604f",
   "metadata": {},
   "outputs": [],
   "source": [
    "mass_conv = 2.8 * u.Da\n",
    "mass_map = (col_density * pix_area_cm * mass_conv).to(u.M_sun)"
   ]
  },
  {
   "cell_type": "code",
   "execution_count": 24,
   "id": "ff57cd77-31fc-46ce-8a5f-3e54a38e612e",
   "metadata": {},
   "outputs": [
    {
     "data": {
      "text/latex": [
       "$220974.83 \\; \\mathrm{M_{\\odot}}$"
      ],
      "text/plain": [
       "<Projection 220974.8335829 solMass>"
      ]
     },
     "execution_count": 24,
     "metadata": {},
     "output_type": "execute_result"
    }
   ],
   "source": [
    "np.nansum(mass_map)"
   ]
  },
  {
   "cell_type": "code",
   "execution_count": 144,
   "id": "b65c5cf5-2cb6-452b-934d-c392c4040319",
   "metadata": {},
   "outputs": [
    {
     "data": {
      "text/latex": [
       "$16.373577 \\; \\mathrm{}$"
      ],
      "text/plain": [
       "<Projection 16.37357715>"
      ]
     },
     "execution_count": 144,
     "metadata": {},
     "output_type": "execute_result"
    }
   ],
   "source": [
    "np.nansum(mass_map)/(13495.819 * u.Msun)"
   ]
  },
  {
   "cell_type": "code",
   "execution_count": 145,
   "id": "f7019482-cf3d-4aef-8361-bfe9d02f45d2",
   "metadata": {},
   "outputs": [
    {
     "data": {
      "text/latex": [
       "$7.8148553 \\; \\mathrm{}$"
      ],
      "text/plain": [
       "<Projection 7.81485531>"
      ]
     },
     "execution_count": 145,
     "metadata": {},
     "output_type": "execute_result"
    }
   ],
   "source": [
    "np.nansum(mass_map)/(28276.254* u.Msun)"
   ]
  },
  {
   "cell_type": "markdown",
   "id": "2553898d-5ed7-4a85-9f6f-8bf429e94f06",
   "metadata": {},
   "source": [
    "### 160 $\\mu$m"
   ]
  },
  {
   "cell_type": "code",
   "execution_count": 25,
   "id": "70b4024c-22d2-48db-b3eb-a96788930034",
   "metadata": {},
   "outputs": [],
   "source": [
    "hdul = fits.open(pacsfn_1)"
   ]
  },
  {
   "cell_type": "code",
   "execution_count": 26,
   "id": "92c7efb3-3bd4-4907-b81d-181074718c10",
   "metadata": {},
   "outputs": [],
   "source": [
    "ww = wcs.WCS(hdul[1].header)"
   ]
  },
  {
   "cell_type": "code",
   "execution_count": 27,
   "id": "4d1f1096-3048-4aae-a7b6-74892e9c371c",
   "metadata": {},
   "outputs": [],
   "source": [
    "# preg is short for pixel region\n",
    "preg = r0.to_pixel(ww)\n",
    "mask = preg.to_mask()"
   ]
  },
  {
   "cell_type": "code",
   "execution_count": 28,
   "id": "0eb39842-18d7-48a5-9cf6-028ee61969c0",
   "metadata": {},
   "outputs": [],
   "source": [
    "cutout = mask.cutout(hdul[1].data)"
   ]
  },
  {
   "cell_type": "code",
   "execution_count": 29,
   "id": "8c77d880-a250-456a-beeb-a1824e91effb",
   "metadata": {
    "collapsed": true,
    "jupyter": {
     "outputs_hidden": true
    },
    "tags": []
   },
   "outputs": [
    {
     "ename": "FileNotFoundError",
     "evalue": "[Errno 2] No such file or directory: 'plots/160micron.png'",
     "output_type": "error",
     "traceback": [
      "\u001b[0;31m---------------------------------------------------------------------------\u001b[0m",
      "\u001b[0;31mFileNotFoundError\u001b[0m                         Traceback (most recent call last)",
      "\u001b[0;32m/scratch/local/46750417/ipykernel_119823/560082556.py\u001b[0m in \u001b[0;36m<module>\u001b[0;34m\u001b[0m\n\u001b[1;32m      1\u001b[0m \u001b[0mpl\u001b[0m\u001b[0;34m.\u001b[0m\u001b[0maxis\u001b[0m\u001b[0;34m(\u001b[0m\u001b[0;34m'off'\u001b[0m\u001b[0;34m)\u001b[0m\u001b[0;34m\u001b[0m\u001b[0;34m\u001b[0m\u001b[0m\n\u001b[1;32m      2\u001b[0m \u001b[0mpl\u001b[0m\u001b[0;34m.\u001b[0m\u001b[0mimshow\u001b[0m\u001b[0;34m(\u001b[0m\u001b[0mmask\u001b[0m\u001b[0;34m.\u001b[0m\u001b[0mmultiply\u001b[0m\u001b[0;34m(\u001b[0m\u001b[0mhdul\u001b[0m\u001b[0;34m[\u001b[0m\u001b[0;36m1\u001b[0m\u001b[0;34m]\u001b[0m\u001b[0;34m.\u001b[0m\u001b[0mdata\u001b[0m\u001b[0;34m)\u001b[0m\u001b[0;34m)\u001b[0m\u001b[0;31m#, cmap='afmhot')\u001b[0m\u001b[0;34m\u001b[0m\u001b[0;34m\u001b[0m\u001b[0m\n\u001b[0;32m----> 3\u001b[0;31m \u001b[0mpl\u001b[0m\u001b[0;34m.\u001b[0m\u001b[0msavefig\u001b[0m\u001b[0;34m(\u001b[0m\u001b[0;34m'plots/160micron.png'\u001b[0m\u001b[0;34m)\u001b[0m\u001b[0;34m\u001b[0m\u001b[0;34m\u001b[0m\u001b[0m\n\u001b[0m",
      "\u001b[0;32m/orange/adamginsburg/miniconda3/envs/python39/lib/python3.9/site-packages/matplotlib/pyplot.py\u001b[0m in \u001b[0;36msavefig\u001b[0;34m(*args, **kwargs)\u001b[0m\n\u001b[1;32m    977\u001b[0m \u001b[0;32mdef\u001b[0m \u001b[0msavefig\u001b[0m\u001b[0;34m(\u001b[0m\u001b[0;34m*\u001b[0m\u001b[0margs\u001b[0m\u001b[0;34m,\u001b[0m \u001b[0;34m**\u001b[0m\u001b[0mkwargs\u001b[0m\u001b[0;34m)\u001b[0m\u001b[0;34m:\u001b[0m\u001b[0;34m\u001b[0m\u001b[0;34m\u001b[0m\u001b[0m\n\u001b[1;32m    978\u001b[0m     \u001b[0mfig\u001b[0m \u001b[0;34m=\u001b[0m \u001b[0mgcf\u001b[0m\u001b[0;34m(\u001b[0m\u001b[0;34m)\u001b[0m\u001b[0;34m\u001b[0m\u001b[0;34m\u001b[0m\u001b[0m\n\u001b[0;32m--> 979\u001b[0;31m     \u001b[0mres\u001b[0m \u001b[0;34m=\u001b[0m \u001b[0mfig\u001b[0m\u001b[0;34m.\u001b[0m\u001b[0msavefig\u001b[0m\u001b[0;34m(\u001b[0m\u001b[0;34m*\u001b[0m\u001b[0margs\u001b[0m\u001b[0;34m,\u001b[0m \u001b[0;34m**\u001b[0m\u001b[0mkwargs\u001b[0m\u001b[0;34m)\u001b[0m\u001b[0;34m\u001b[0m\u001b[0;34m\u001b[0m\u001b[0m\n\u001b[0m\u001b[1;32m    980\u001b[0m     \u001b[0mfig\u001b[0m\u001b[0;34m.\u001b[0m\u001b[0mcanvas\u001b[0m\u001b[0;34m.\u001b[0m\u001b[0mdraw_idle\u001b[0m\u001b[0;34m(\u001b[0m\u001b[0;34m)\u001b[0m   \u001b[0;31m# need this if 'transparent=True' to reset colors\u001b[0m\u001b[0;34m\u001b[0m\u001b[0;34m\u001b[0m\u001b[0m\n\u001b[1;32m    981\u001b[0m     \u001b[0;32mreturn\u001b[0m \u001b[0mres\u001b[0m\u001b[0;34m\u001b[0m\u001b[0;34m\u001b[0m\u001b[0m\n",
      "\u001b[0;32m/orange/adamginsburg/miniconda3/envs/python39/lib/python3.9/site-packages/matplotlib/figure.py\u001b[0m in \u001b[0;36msavefig\u001b[0;34m(self, fname, transparent, **kwargs)\u001b[0m\n\u001b[1;32m   3044\u001b[0m                         ax.patch._cm_set(facecolor='none', edgecolor='none'))\n\u001b[1;32m   3045\u001b[0m \u001b[0;34m\u001b[0m\u001b[0m\n\u001b[0;32m-> 3046\u001b[0;31m             \u001b[0mself\u001b[0m\u001b[0;34m.\u001b[0m\u001b[0mcanvas\u001b[0m\u001b[0;34m.\u001b[0m\u001b[0mprint_figure\u001b[0m\u001b[0;34m(\u001b[0m\u001b[0mfname\u001b[0m\u001b[0;34m,\u001b[0m \u001b[0;34m**\u001b[0m\u001b[0mkwargs\u001b[0m\u001b[0;34m)\u001b[0m\u001b[0;34m\u001b[0m\u001b[0;34m\u001b[0m\u001b[0m\n\u001b[0m\u001b[1;32m   3047\u001b[0m \u001b[0;34m\u001b[0m\u001b[0m\n\u001b[1;32m   3048\u001b[0m     def ginput(self, n=1, timeout=30, show_clicks=True,\n",
      "\u001b[0;32m/orange/adamginsburg/miniconda3/envs/python39/lib/python3.9/site-packages/matplotlib/backend_bases.py\u001b[0m in \u001b[0;36mprint_figure\u001b[0;34m(self, filename, dpi, facecolor, edgecolor, orientation, format, bbox_inches, pad_inches, bbox_extra_artists, backend, **kwargs)\u001b[0m\n\u001b[1;32m   2317\u001b[0m                 \u001b[0;31m# force the figure dpi to 72), so we need to set it again here.\u001b[0m\u001b[0;34m\u001b[0m\u001b[0;34m\u001b[0m\u001b[0m\n\u001b[1;32m   2318\u001b[0m                 \u001b[0;32mwith\u001b[0m \u001b[0mcbook\u001b[0m\u001b[0;34m.\u001b[0m\u001b[0m_setattr_cm\u001b[0m\u001b[0;34m(\u001b[0m\u001b[0mself\u001b[0m\u001b[0;34m.\u001b[0m\u001b[0mfigure\u001b[0m\u001b[0;34m,\u001b[0m \u001b[0mdpi\u001b[0m\u001b[0;34m=\u001b[0m\u001b[0mdpi\u001b[0m\u001b[0;34m)\u001b[0m\u001b[0;34m:\u001b[0m\u001b[0;34m\u001b[0m\u001b[0;34m\u001b[0m\u001b[0m\n\u001b[0;32m-> 2319\u001b[0;31m                     result = print_method(\n\u001b[0m\u001b[1;32m   2320\u001b[0m                         \u001b[0mfilename\u001b[0m\u001b[0;34m,\u001b[0m\u001b[0;34m\u001b[0m\u001b[0;34m\u001b[0m\u001b[0m\n\u001b[1;32m   2321\u001b[0m                         \u001b[0mfacecolor\u001b[0m\u001b[0;34m=\u001b[0m\u001b[0mfacecolor\u001b[0m\u001b[0;34m,\u001b[0m\u001b[0;34m\u001b[0m\u001b[0;34m\u001b[0m\u001b[0m\n",
      "\u001b[0;32m/orange/adamginsburg/miniconda3/envs/python39/lib/python3.9/site-packages/matplotlib/backend_bases.py\u001b[0m in \u001b[0;36mwrapper\u001b[0;34m(*args, **kwargs)\u001b[0m\n\u001b[1;32m   1646\u001b[0m             \u001b[0mkwargs\u001b[0m\u001b[0;34m.\u001b[0m\u001b[0mpop\u001b[0m\u001b[0;34m(\u001b[0m\u001b[0marg\u001b[0m\u001b[0;34m)\u001b[0m\u001b[0;34m\u001b[0m\u001b[0;34m\u001b[0m\u001b[0m\n\u001b[1;32m   1647\u001b[0m \u001b[0;34m\u001b[0m\u001b[0m\n\u001b[0;32m-> 1648\u001b[0;31m         \u001b[0;32mreturn\u001b[0m \u001b[0mfunc\u001b[0m\u001b[0;34m(\u001b[0m\u001b[0;34m*\u001b[0m\u001b[0margs\u001b[0m\u001b[0;34m,\u001b[0m \u001b[0;34m**\u001b[0m\u001b[0mkwargs\u001b[0m\u001b[0;34m)\u001b[0m\u001b[0;34m\u001b[0m\u001b[0;34m\u001b[0m\u001b[0m\n\u001b[0m\u001b[1;32m   1649\u001b[0m \u001b[0;34m\u001b[0m\u001b[0m\n\u001b[1;32m   1650\u001b[0m     \u001b[0;32mreturn\u001b[0m \u001b[0mwrapper\u001b[0m\u001b[0;34m\u001b[0m\u001b[0;34m\u001b[0m\u001b[0m\n",
      "\u001b[0;32m/orange/adamginsburg/miniconda3/envs/python39/lib/python3.9/site-packages/matplotlib/_api/deprecation.py\u001b[0m in \u001b[0;36mwrapper\u001b[0;34m(*inner_args, **inner_kwargs)\u001b[0m\n\u001b[1;32m    413\u001b[0m                          \u001b[0;32melse\u001b[0m \u001b[0mdeprecation_addendum\u001b[0m\u001b[0;34m,\u001b[0m\u001b[0;34m\u001b[0m\u001b[0;34m\u001b[0m\u001b[0m\n\u001b[1;32m    414\u001b[0m                 **kwargs)\n\u001b[0;32m--> 415\u001b[0;31m         \u001b[0;32mreturn\u001b[0m \u001b[0mfunc\u001b[0m\u001b[0;34m(\u001b[0m\u001b[0;34m*\u001b[0m\u001b[0minner_args\u001b[0m\u001b[0;34m,\u001b[0m \u001b[0;34m**\u001b[0m\u001b[0minner_kwargs\u001b[0m\u001b[0;34m)\u001b[0m\u001b[0;34m\u001b[0m\u001b[0;34m\u001b[0m\u001b[0m\n\u001b[0m\u001b[1;32m    416\u001b[0m \u001b[0;34m\u001b[0m\u001b[0m\n\u001b[1;32m    417\u001b[0m     \u001b[0mDECORATORS\u001b[0m\u001b[0;34m[\u001b[0m\u001b[0mwrapper\u001b[0m\u001b[0;34m]\u001b[0m \u001b[0;34m=\u001b[0m \u001b[0mdecorator\u001b[0m\u001b[0;34m\u001b[0m\u001b[0;34m\u001b[0m\u001b[0m\n",
      "\u001b[0;32m/orange/adamginsburg/miniconda3/envs/python39/lib/python3.9/site-packages/matplotlib/backends/backend_agg.py\u001b[0m in \u001b[0;36mprint_png\u001b[0;34m(self, filename_or_obj, metadata, pil_kwargs, *args)\u001b[0m\n\u001b[1;32m    539\u001b[0m         \"\"\"\n\u001b[1;32m    540\u001b[0m         \u001b[0mFigureCanvasAgg\u001b[0m\u001b[0;34m.\u001b[0m\u001b[0mdraw\u001b[0m\u001b[0;34m(\u001b[0m\u001b[0mself\u001b[0m\u001b[0;34m)\u001b[0m\u001b[0;34m\u001b[0m\u001b[0;34m\u001b[0m\u001b[0m\n\u001b[0;32m--> 541\u001b[0;31m         mpl.image.imsave(\n\u001b[0m\u001b[1;32m    542\u001b[0m             \u001b[0mfilename_or_obj\u001b[0m\u001b[0;34m,\u001b[0m \u001b[0mself\u001b[0m\u001b[0;34m.\u001b[0m\u001b[0mbuffer_rgba\u001b[0m\u001b[0;34m(\u001b[0m\u001b[0;34m)\u001b[0m\u001b[0;34m,\u001b[0m \u001b[0mformat\u001b[0m\u001b[0;34m=\u001b[0m\u001b[0;34m\"png\"\u001b[0m\u001b[0;34m,\u001b[0m \u001b[0morigin\u001b[0m\u001b[0;34m=\u001b[0m\u001b[0;34m\"upper\"\u001b[0m\u001b[0;34m,\u001b[0m\u001b[0;34m\u001b[0m\u001b[0;34m\u001b[0m\u001b[0m\n\u001b[1;32m    543\u001b[0m             dpi=self.figure.dpi, metadata=metadata, pil_kwargs=pil_kwargs)\n",
      "\u001b[0;32m/orange/adamginsburg/miniconda3/envs/python39/lib/python3.9/site-packages/matplotlib/image.py\u001b[0m in \u001b[0;36mimsave\u001b[0;34m(fname, arr, vmin, vmax, cmap, format, origin, dpi, metadata, pil_kwargs)\u001b[0m\n\u001b[1;32m   1673\u001b[0m         \u001b[0mpil_kwargs\u001b[0m\u001b[0;34m.\u001b[0m\u001b[0msetdefault\u001b[0m\u001b[0;34m(\u001b[0m\u001b[0;34m\"format\"\u001b[0m\u001b[0;34m,\u001b[0m \u001b[0mformat\u001b[0m\u001b[0;34m)\u001b[0m\u001b[0;34m\u001b[0m\u001b[0;34m\u001b[0m\u001b[0m\n\u001b[1;32m   1674\u001b[0m         \u001b[0mpil_kwargs\u001b[0m\u001b[0;34m.\u001b[0m\u001b[0msetdefault\u001b[0m\u001b[0;34m(\u001b[0m\u001b[0;34m\"dpi\"\u001b[0m\u001b[0;34m,\u001b[0m \u001b[0;34m(\u001b[0m\u001b[0mdpi\u001b[0m\u001b[0;34m,\u001b[0m \u001b[0mdpi\u001b[0m\u001b[0;34m)\u001b[0m\u001b[0;34m)\u001b[0m\u001b[0;34m\u001b[0m\u001b[0;34m\u001b[0m\u001b[0m\n\u001b[0;32m-> 1675\u001b[0;31m         \u001b[0mimage\u001b[0m\u001b[0;34m.\u001b[0m\u001b[0msave\u001b[0m\u001b[0;34m(\u001b[0m\u001b[0mfname\u001b[0m\u001b[0;34m,\u001b[0m \u001b[0;34m**\u001b[0m\u001b[0mpil_kwargs\u001b[0m\u001b[0;34m)\u001b[0m\u001b[0;34m\u001b[0m\u001b[0;34m\u001b[0m\u001b[0m\n\u001b[0m\u001b[1;32m   1676\u001b[0m \u001b[0;34m\u001b[0m\u001b[0m\n\u001b[1;32m   1677\u001b[0m \u001b[0;34m\u001b[0m\u001b[0m\n",
      "\u001b[0;32m/orange/adamginsburg/miniconda3/envs/python39/lib/python3.9/site-packages/PIL/Image.py\u001b[0m in \u001b[0;36msave\u001b[0;34m(self, fp, format, **params)\u001b[0m\n\u001b[1;32m   2315\u001b[0m                 \u001b[0mfp\u001b[0m \u001b[0;34m=\u001b[0m \u001b[0mbuiltins\u001b[0m\u001b[0;34m.\u001b[0m\u001b[0mopen\u001b[0m\u001b[0;34m(\u001b[0m\u001b[0mfilename\u001b[0m\u001b[0;34m,\u001b[0m \u001b[0;34m\"r+b\"\u001b[0m\u001b[0;34m)\u001b[0m\u001b[0;34m\u001b[0m\u001b[0;34m\u001b[0m\u001b[0m\n\u001b[1;32m   2316\u001b[0m             \u001b[0;32melse\u001b[0m\u001b[0;34m:\u001b[0m\u001b[0;34m\u001b[0m\u001b[0;34m\u001b[0m\u001b[0m\n\u001b[0;32m-> 2317\u001b[0;31m                 \u001b[0mfp\u001b[0m \u001b[0;34m=\u001b[0m \u001b[0mbuiltins\u001b[0m\u001b[0;34m.\u001b[0m\u001b[0mopen\u001b[0m\u001b[0;34m(\u001b[0m\u001b[0mfilename\u001b[0m\u001b[0;34m,\u001b[0m \u001b[0;34m\"w+b\"\u001b[0m\u001b[0;34m)\u001b[0m\u001b[0;34m\u001b[0m\u001b[0;34m\u001b[0m\u001b[0m\n\u001b[0m\u001b[1;32m   2318\u001b[0m \u001b[0;34m\u001b[0m\u001b[0m\n\u001b[1;32m   2319\u001b[0m         \u001b[0;32mtry\u001b[0m\u001b[0;34m:\u001b[0m\u001b[0;34m\u001b[0m\u001b[0;34m\u001b[0m\u001b[0m\n",
      "\u001b[0;31mFileNotFoundError\u001b[0m: [Errno 2] No such file or directory: 'plots/160micron.png'"
     ]
    },
    {
     "data": {
      "image/png": "[encoded data removed]",
      "text/plain": [
       "<Figure size 432x288 with 1 Axes>"
      ]
     },
     "metadata": {
      "needs_background": "light"
     },
     "output_type": "display_data"
    }
   ],
   "source": [
    "pl.axis('off')\n",
    "pl.imshow(mask.multiply(hdul[1].data))#, cmap='afmhot')\n",
    "#pl.savefig('plots/160micron.png')"
   ]
  },
  {
   "cell_type": "code",
   "execution_count": 38,
   "id": "359d78e0-99e5-41bd-80e4-d79b3da30d76",
   "metadata": {},
   "outputs": [
    {
     "data": {
      "text/plain": [
       "0.08049536422073827"
      ]
     },
     "execution_count": 38,
     "metadata": {},
     "output_type": "execute_result"
    },
    {
     "data": {
      "image/png": "[encoded data removed]",
      "text/plain": [
       "<Figure size 432x288 with 1 Axes>"
      ]
     },
     "metadata": {
      "needs_background": "light"
     },
     "output_type": "display_data"
    }
   ],
   "source": [
    "bgpreg = bgreg.to_pixel(ww)\n",
    "bgmask = bgpreg.to_mask()\n",
    "pl.imshow(bgmask.multiply(hdul[1].data))\n",
    "bgim = bgmask.multiply(hdul[1].data)\n",
    "bg = np.nanpercentile(bgim[bgim!=0], 10)\n",
    "bg"
   ]
  },
  {
   "cell_type": "code",
   "execution_count": 39,
   "id": "a037d524-dc2e-470c-af45-a15780e6d283",
   "metadata": {},
   "outputs": [
    {
     "data": {
      "text/plain": [
       "'Jy/pixel'"
      ]
     },
     "execution_count": 39,
     "metadata": {},
     "output_type": "execute_result"
    }
   ],
   "source": [
    "hdul[1].header['BUNIT']"
   ]
  },
  {
   "cell_type": "code",
   "execution_count": 40,
   "id": "31956030-12ad-492b-ab6a-7751c9115ad9",
   "metadata": {},
   "outputs": [],
   "source": [
    "pixelarea = 1*u.pixel"
   ]
  },
  {
   "cell_type": "code",
   "execution_count": 41,
   "id": "09325818-5d89-4dcf-83ba-778ca107c026",
   "metadata": {},
   "outputs": [
    {
     "data": {
      "text/latex": [
       "$2247.6134 \\; \\mathrm{Jy}$"
      ],
      "text/plain": [
       "<Quantity 2247.61341396 Jy>"
      ]
     },
     "execution_count": 41,
     "metadata": {},
     "output_type": "execute_result"
    }
   ],
   "source": [
    "(mask.multiply(hdul[1].data) *u.Unit(hdul[1].header['BUNIT']) * pixelarea).sum().to(u.Jy)"
   ]
  },
  {
   "cell_type": "code",
   "execution_count": 42,
   "id": "b526eb8e-8a56-49fc-b8f1-5cb179684293",
   "metadata": {},
   "outputs": [
    {
     "data": {
      "text/latex": [
       "$1293.3409 \\; \\mathrm{Jy}$"
      ],
      "text/plain": [
       "<Quantity 1293.34087112 Jy>"
      ]
     },
     "execution_count": 42,
     "metadata": {},
     "output_type": "execute_result"
    }
   ],
   "source": [
    "pacs160 = (mask.multiply(hdul[1].data - bg) *u.Unit(hdul[1].header['BUNIT']) * pixelarea).sum().to(u.Jy)\n",
    "pacs160"
   ]
  },
  {
   "cell_type": "code",
   "execution_count": 43,
   "id": "4745670f-78a1-4451-8fc0-14366fb70c1c",
   "metadata": {},
   "outputs": [],
   "source": [
    "#659.9 - 358.8"
   ]
  },
  {
   "cell_type": "code",
   "execution_count": 44,
   "id": "257be0b7-3cb3-4c66-b55b-953edf057b07",
   "metadata": {},
   "outputs": [],
   "source": [
    "#(659.9 - 358.8)/659.9"
   ]
  },
  {
   "cell_type": "code",
   "execution_count": 45,
   "id": "33a80d49-66be-4fca-8601-1554fac00a2b",
   "metadata": {},
   "outputs": [
    {
     "data": {
      "text/latex": [
       "$0.094844233 \\; \\mathrm{Jy}$"
      ],
      "text/plain": [
       "<Quantity 0.09484423 Jy>"
      ]
     },
     "execution_count": 45,
     "metadata": {},
     "output_type": "execute_result"
    }
   ],
   "source": [
    "(mask.multiply(hdul[1].data) *u.Unit(hdul[1].header['BUNIT']) * pixelarea).std().to(u.Jy)"
   ]
  },
  {
   "cell_type": "markdown",
   "id": "8bbdbfc4-a625-4107-85a8-a07e7936def6",
   "metadata": {},
   "source": [
    "## 70 $\\mu$m"
   ]
  },
  {
   "cell_type": "code",
   "execution_count": 46,
   "id": "8a77fa72-4faa-4fd7-9b6e-fc8bfa76f172",
   "metadata": {},
   "outputs": [],
   "source": [
    "hdul = fits.open(pacsfn_2)\n",
    "ww = wcs.WCS(hdul[1].header)"
   ]
  },
  {
   "cell_type": "code",
   "execution_count": 47,
   "id": "b8c911ff-88bb-4ff5-ae34-32aabf333628",
   "metadata": {},
   "outputs": [],
   "source": [
    "# preg is short for pixel region\n",
    "preg = r0.to_pixel(ww)\n",
    "mask = preg.to_mask()"
   ]
  },
  {
   "cell_type": "code",
   "execution_count": 48,
   "id": "92dd5b85-93af-43f6-8528-33e847be623b",
   "metadata": {},
   "outputs": [],
   "source": [
    "cutout = mask.cutout(hdul[1].data)"
   ]
  },
  {
   "cell_type": "code",
   "execution_count": 49,
   "id": "10c92553-44cb-498f-a5d7-fca403a5ae93",
   "metadata": {},
   "outputs": [
    {
     "data": {
      "text/plain": [
       "array([[0., 0., 0., ..., 0., 0., 0.],\n",
       "       [0., 0., 0., ..., 0., 0., 0.],\n",
       "       [0., 0., 0., ..., 0., 0., 0.],\n",
       "       ...,\n",
       "       [0., 0., 0., ..., 0., 0., 0.],\n",
       "       [0., 0., 0., ..., 0., 0., 0.],\n",
       "       [0., 0., 0., ..., 0., 0., 0.]])"
      ]
     },
     "execution_count": 49,
     "metadata": {},
     "output_type": "execute_result"
    }
   ],
   "source": [
    "hdul[1].data"
   ]
  },
  {
   "cell_type": "code",
   "execution_count": 50,
   "id": "ddef1258-e964-487f-9853-e9069a139ed4",
   "metadata": {},
   "outputs": [
    {
     "data": {
      "text/plain": [
       "<matplotlib.image.AxesImage at 0x2b680b5ebfd0>"
      ]
     },
     "execution_count": 50,
     "metadata": {},
     "output_type": "execute_result"
    },
    {
     "data": {
      "image/png": "[encoded data removed]",
      "text/plain": [
       "<Figure size 432x288 with 1 Axes>"
      ]
     },
     "metadata": {
      "needs_background": "light"
     },
     "output_type": "display_data"
    }
   ],
   "source": [
    "pl.imshow(mask.multiply(hdul[1].data))"
   ]
  },
  {
   "cell_type": "code",
   "execution_count": 51,
   "id": "c5ead4e9-b04a-4693-b54c-0092236242d6",
   "metadata": {},
   "outputs": [
    {
     "data": {
      "text/plain": [
       "-0.006112471806225342"
      ]
     },
     "execution_count": 51,
     "metadata": {},
     "output_type": "execute_result"
    },
    {
     "data": {
      "image/png": "[encoded data removed]",
      "text/plain": [
       "<Figure size 432x288 with 1 Axes>"
      ]
     },
     "metadata": {
      "needs_background": "light"
     },
     "output_type": "display_data"
    }
   ],
   "source": [
    "bgpreg = bgreg.to_pixel(ww)\n",
    "bgmask = bgpreg.to_mask()\n",
    "pl.imshow(bgmask.multiply(hdul[1].data))\n",
    "bgim = bgmask.multiply(hdul[1].data)\n",
    "bg = np.nanpercentile(bgim[bgim!=0], 10)\n",
    "bg"
   ]
  },
  {
   "cell_type": "code",
   "execution_count": 52,
   "id": "c1856491-35f6-4356-a702-106d72250c52",
   "metadata": {},
   "outputs": [
    {
     "data": {
      "text/plain": [
       "'Jy/pixel'"
      ]
     },
     "execution_count": 52,
     "metadata": {},
     "output_type": "execute_result"
    }
   ],
   "source": [
    "hdul[1].header['BUNIT']"
   ]
  },
  {
   "cell_type": "code",
   "execution_count": 53,
   "id": "f5087b42-8e80-4861-af32-607d3f90752a",
   "metadata": {},
   "outputs": [],
   "source": [
    "pixelarea = 1*u.pixel"
   ]
  },
  {
   "cell_type": "code",
   "execution_count": 54,
   "id": "737b9bec-3777-459f-aa2c-21e2adb0d497",
   "metadata": {},
   "outputs": [
    {
     "data": {
      "text/latex": [
       "$67.229322 \\; \\mathrm{Jy}$"
      ],
      "text/plain": [
       "<Quantity 67.22932191 Jy>"
      ]
     },
     "execution_count": 54,
     "metadata": {},
     "output_type": "execute_result"
    }
   ],
   "source": [
    "(mask.multiply(hdul[1].data) *u.Unit(hdul[1].header['BUNIT']) * pixelarea).sum().to(u.Jy)"
   ]
  },
  {
   "cell_type": "code",
   "execution_count": 55,
   "id": "9ac1743e-fc09-4eda-842f-818203f3ec2b",
   "metadata": {},
   "outputs": [
    {
     "data": {
      "text/latex": [
       "$139.69879 \\; \\mathrm{Jy}$"
      ],
      "text/plain": [
       "<Quantity 139.69878765 Jy>"
      ]
     },
     "execution_count": 55,
     "metadata": {},
     "output_type": "execute_result"
    }
   ],
   "source": [
    "pacs70 = (mask.multiply(hdul[1].data - bg) *u.Unit(hdul[1].header['BUNIT']) * pixelarea).sum().to(u.Jy)\n",
    "pacs70"
   ]
  },
  {
   "cell_type": "code",
   "execution_count": 56,
   "id": "d96d5179-dbcc-4943-a6d5-97a2bca6035f",
   "metadata": {},
   "outputs": [
    {
     "data": {
      "text/latex": [
       "$0.0052473033 \\; \\mathrm{Jy}$"
      ],
      "text/plain": [
       "<Quantity 0.0052473 Jy>"
      ]
     },
     "execution_count": 56,
     "metadata": {},
     "output_type": "execute_result"
    }
   ],
   "source": [
    "(mask.multiply(hdul[1].data) *u.Unit(hdul[1].header['BUNIT']) * pixelarea).std().to(u.Jy)"
   ]
  },
  {
   "cell_type": "markdown",
   "id": "0e650345-fff4-417c-bd24-0d652e3612e2",
   "metadata": {},
   "source": [
    "## 350 $\\mu$m"
   ]
  },
  {
   "cell_type": "code",
   "execution_count": 57,
   "id": "99b7cdd9-f2f6-440a-aa23-4f92d910fb29",
   "metadata": {},
   "outputs": [],
   "source": [
    "hdul = fits.open(herfn_2)\n",
    "ww = wcs.WCS(hdul[1].header)"
   ]
  },
  {
   "cell_type": "code",
   "execution_count": 58,
   "id": "7571633b-0444-40f6-91bd-6d4f3009abdb",
   "metadata": {},
   "outputs": [
    {
     "data": {
      "text/plain": [
       "'MJy/sr'"
      ]
     },
     "execution_count": 58,
     "metadata": {},
     "output_type": "execute_result"
    }
   ],
   "source": [
    "hdul[1].header['BUNIT']"
   ]
  },
  {
   "cell_type": "code",
   "execution_count": 59,
   "id": "1eb28851-315d-4637-aa80-e9e1919f8583",
   "metadata": {},
   "outputs": [],
   "source": [
    "pixelarea = ww.proj_plane_pixel_area().to(u.sr)"
   ]
  },
  {
   "cell_type": "code",
   "execution_count": 60,
   "id": "6c4cdc87-4c52-4ff8-9135-33a156ff557f",
   "metadata": {},
   "outputs": [
    {
     "data": {
      "text/latex": [
       "$2.3504431 \\times 10^{-9} \\; \\mathrm{sr}$"
      ],
      "text/plain": [
       "<Quantity 2.35044305e-09 sr>"
      ]
     },
     "execution_count": 60,
     "metadata": {},
     "output_type": "execute_result"
    }
   ],
   "source": [
    "pixelarea"
   ]
  },
  {
   "cell_type": "code",
   "execution_count": 61,
   "id": "0f34ee5d-1aa0-4f81-805e-4242455e294e",
   "metadata": {},
   "outputs": [],
   "source": [
    "# preg is short for pixel region\n",
    "preg = r0.to_pixel(ww)\n",
    "mask = preg.to_mask()"
   ]
  },
  {
   "cell_type": "code",
   "execution_count": 62,
   "id": "42333630-b67d-42f6-8ef4-af00b36fa749",
   "metadata": {},
   "outputs": [
    {
     "data": {
      "text/plain": [
       "<matplotlib.image.AxesImage at 0x2b681a3d7d90>"
      ]
     },
     "execution_count": 62,
     "metadata": {},
     "output_type": "execute_result"
    },
    {
     "data": {
      "image/png": "[encoded data removed]",
      "text/plain": [
       "<Figure size 432x288 with 1 Axes>"
      ]
     },
     "metadata": {
      "needs_background": "light"
     },
     "output_type": "display_data"
    }
   ],
   "source": [
    "pl.imshow(mask.multiply(hdul[1].data))"
   ]
  },
  {
   "cell_type": "code",
   "execution_count": 63,
   "id": "ace2b509-e93a-4741-9992-6d7ef7cbfcfb",
   "metadata": {},
   "outputs": [
    {
     "data": {
      "text/plain": [
       "388.92810886092815"
      ]
     },
     "execution_count": 63,
     "metadata": {},
     "output_type": "execute_result"
    },
    {
     "data": {
      "image/png": "[encoded data removed]",
      "text/plain": [
       "<Figure size 432x288 with 1 Axes>"
      ]
     },
     "metadata": {
      "needs_background": "light"
     },
     "output_type": "display_data"
    }
   ],
   "source": [
    "bgpreg = bgreg.to_pixel(ww)\n",
    "bgmask = bgpreg.to_mask()\n",
    "pl.imshow(bgmask.multiply(hdul[1].data))\n",
    "bgim = bgmask.multiply(hdul[1].data)\n",
    "bg = np.nanpercentile(bgim[bgim!=0], 10)\n",
    "bg"
   ]
  },
  {
   "cell_type": "code",
   "execution_count": 64,
   "id": "0405266f-13f2-441f-9a21-1aa15898a239",
   "metadata": {},
   "outputs": [
    {
     "data": {
      "text/latex": [
       "$1806.1112 \\; \\mathrm{Jy}$"
      ],
      "text/plain": [
       "<Quantity 1806.11123695 Jy>"
      ]
     },
     "execution_count": 64,
     "metadata": {},
     "output_type": "execute_result"
    }
   ],
   "source": [
    "(mask.multiply(hdul[1].data) *u.Unit(hdul[1].header['BUNIT']) * pixelarea).sum().to(u.Jy)"
   ]
  },
  {
   "cell_type": "code",
   "execution_count": 65,
   "id": "b9b335e7-4d92-4cba-b5ea-888732212f26",
   "metadata": {},
   "outputs": [
    {
     "data": {
      "text/latex": [
       "$696.32904 \\; \\mathrm{Jy}$"
      ],
      "text/plain": [
       "<Quantity 696.32904341 Jy>"
      ]
     },
     "execution_count": 65,
     "metadata": {},
     "output_type": "execute_result"
    }
   ],
   "source": [
    "her350 = (mask.multiply(hdul[1].data - bg) *u.Unit(hdul[1].header['BUNIT']) * pixelarea).sum().to(u.Jy)\n",
    "her350"
   ]
  },
  {
   "cell_type": "code",
   "execution_count": 66,
   "id": "896e9a33-842c-449a-87e4-d1ddf461e513",
   "metadata": {},
   "outputs": [],
   "source": [
    "#(hdul[1].data > 0.0).sum() * pixelarea"
   ]
  },
  {
   "cell_type": "code",
   "execution_count": 67,
   "id": "370069de-1d78-4481-9576-16ff37b13486",
   "metadata": {},
   "outputs": [
    {
     "data": {
      "text/latex": [
       "$0.70671728 \\; \\mathrm{Jy}$"
      ],
      "text/plain": [
       "<Quantity 0.70671728 Jy>"
      ]
     },
     "execution_count": 67,
     "metadata": {},
     "output_type": "execute_result"
    }
   ],
   "source": [
    "(mask.multiply(hdul[1].data) *u.Unit(hdul[1].header['BUNIT']) * pixelarea).std().to(u.Jy)"
   ]
  },
  {
   "cell_type": "markdown",
   "id": "dbdb6eec-3789-4909-aa8d-0fc8a7976127",
   "metadata": {},
   "source": [
    "## 250 $\\mu$m"
   ]
  },
  {
   "cell_type": "code",
   "execution_count": 68,
   "id": "e3d71af6-d484-416e-8080-19464e4841d5",
   "metadata": {},
   "outputs": [],
   "source": [
    "hdul = fits.open(herfn_1)\n",
    "ww = wcs.WCS(hdul[1].header)"
   ]
  },
  {
   "cell_type": "code",
   "execution_count": 69,
   "id": "fa5b450f-8e75-4dac-91d8-3a3bd00be36d",
   "metadata": {},
   "outputs": [
    {
     "data": {
      "text/plain": [
       "'MJy/sr'"
      ]
     },
     "execution_count": 69,
     "metadata": {},
     "output_type": "execute_result"
    }
   ],
   "source": [
    "hdul[1].header['BUNIT']"
   ]
  },
  {
   "cell_type": "code",
   "execution_count": 70,
   "id": "d374264c-5e3e-4844-9d95-09c8400830f8",
   "metadata": {},
   "outputs": [],
   "source": [
    "pixelarea = ww.proj_plane_pixel_area().to(u.sr)"
   ]
  },
  {
   "cell_type": "code",
   "execution_count": 71,
   "id": "d9c235ea-6d63-43bb-a46a-91d6a76dad20",
   "metadata": {},
   "outputs": [],
   "source": [
    "# preg is short for pixel region\n",
    "preg = r0.to_pixel(ww)\n",
    "mask = preg.to_mask()"
   ]
  },
  {
   "cell_type": "code",
   "execution_count": 72,
   "id": "8066c543-df46-4be4-a0b2-5f0ec568cbfa",
   "metadata": {},
   "outputs": [
    {
     "data": {
      "text/plain": [
       "<matplotlib.image.AxesImage at 0x2b680b7ead60>"
      ]
     },
     "execution_count": 72,
     "metadata": {},
     "output_type": "execute_result"
    },
    {
     "data": {
      "image/png": "[encoded data removed]",
      "text/plain": [
       "<Figure size 432x288 with 1 Axes>"
      ]
     },
     "metadata": {
      "needs_background": "light"
     },
     "output_type": "display_data"
    }
   ],
   "source": [
    "pl.imshow(mask.multiply(hdul[1].data))"
   ]
  },
  {
   "cell_type": "code",
   "execution_count": 73,
   "id": "354eb487-d647-4006-9dd8-5ad30b5f7bb7",
   "metadata": {},
   "outputs": [
    {
     "data": {
      "text/plain": [
       "904.5616987137614"
      ]
     },
     "execution_count": 73,
     "metadata": {},
     "output_type": "execute_result"
    },
    {
     "data": {
      "image/png": "[encoded data removed]",
      "text/plain": [
       "<Figure size 432x288 with 1 Axes>"
      ]
     },
     "metadata": {
      "needs_background": "light"
     },
     "output_type": "display_data"
    }
   ],
   "source": [
    "bgpreg = bgreg.to_pixel(ww)\n",
    "bgmask = bgpreg.to_mask()\n",
    "pl.imshow(bgmask.multiply(hdul[1].data))\n",
    "bgim = bgmask.multiply(hdul[1].data)\n",
    "bg = np.nanpercentile(bgim[bgim!=0], 10)\n",
    "bg"
   ]
  },
  {
   "cell_type": "code",
   "execution_count": 74,
   "id": "ef406104-b804-4bda-a8cc-1ff04c47d2d9",
   "metadata": {},
   "outputs": [
    {
     "data": {
      "text/latex": [
       "$3876.1843 \\; \\mathrm{Jy}$"
      ],
      "text/plain": [
       "<Quantity 3876.18431675 Jy>"
      ]
     },
     "execution_count": 74,
     "metadata": {},
     "output_type": "execute_result"
    }
   ],
   "source": [
    "(mask.multiply(hdul[1].data) *u.Unit(hdul[1].header['BUNIT']) * pixelarea).sum().to(u.Jy)"
   ]
  },
  {
   "cell_type": "code",
   "execution_count": 75,
   "id": "ad372046-ab41-4fdc-bf3b-70878da81b93",
   "metadata": {},
   "outputs": [
    {
     "data": {
      "text/latex": [
       "$1296.7746 \\; \\mathrm{Jy}$"
      ],
      "text/plain": [
       "<Quantity 1296.77460881 Jy>"
      ]
     },
     "execution_count": 75,
     "metadata": {},
     "output_type": "execute_result"
    }
   ],
   "source": [
    "her250 = (mask.multiply(hdul[1].data - bg) *u.Unit(hdul[1].header['BUNIT']) * pixelarea).sum().to(u.Jy)\n",
    "her250"
   ]
  },
  {
   "cell_type": "code",
   "execution_count": 76,
   "id": "e716d9d4-68b0-44ed-adf3-ccf3118b801f",
   "metadata": {},
   "outputs": [
    {
     "data": {
      "text/latex": [
       "$0.54319389 \\; \\mathrm{Jy}$"
      ],
      "text/plain": [
       "<Quantity 0.54319389 Jy>"
      ]
     },
     "execution_count": 76,
     "metadata": {},
     "output_type": "execute_result"
    }
   ],
   "source": [
    "(mask.multiply(hdul[1].data) *u.Unit(hdul[1].header['BUNIT']) * pixelarea).std().to(u.Jy)"
   ]
  },
  {
   "cell_type": "markdown",
   "id": "b97b80e9-c6ce-4dcd-81f2-a53f94f106a7",
   "metadata": {},
   "source": [
    "##  500 $\\mu$m"
   ]
  },
  {
   "cell_type": "code",
   "execution_count": 77,
   "id": "35d769a3-84b5-4163-a213-711e4f5024f6",
   "metadata": {},
   "outputs": [],
   "source": [
    "hdul = fits.open(herfn_3)\n",
    "ww = wcs.WCS(hdul[1].header)"
   ]
  },
  {
   "cell_type": "code",
   "execution_count": 78,
   "id": "c4c87e0b-23d7-4e56-8d8d-2572d085bda3",
   "metadata": {},
   "outputs": [
    {
     "data": {
      "text/plain": [
       "'MJy/sr'"
      ]
     },
     "execution_count": 78,
     "metadata": {},
     "output_type": "execute_result"
    }
   ],
   "source": [
    "hdul[1].header['BUNIT']"
   ]
  },
  {
   "cell_type": "code",
   "execution_count": 79,
   "id": "ea3ae154-902e-49c0-9b3e-252c20a6ea68",
   "metadata": {},
   "outputs": [],
   "source": [
    "pixelarea = ww.proj_plane_pixel_area().to(u.sr)"
   ]
  },
  {
   "cell_type": "code",
   "execution_count": 80,
   "id": "cc6a7b75-2321-49ad-be96-3b94f0bdb27c",
   "metadata": {},
   "outputs": [],
   "source": [
    "# preg is short for pixel region\n",
    "preg = r0.to_pixel(ww)\n",
    "mask = preg.to_mask()"
   ]
  },
  {
   "cell_type": "code",
   "execution_count": 81,
   "id": "ae95e140-0cf6-4dd5-8758-1a096bae93f9",
   "metadata": {},
   "outputs": [
    {
     "data": {
      "text/plain": [
       "<matplotlib.image.AxesImage at 0x2b680b8c4340>"
      ]
     },
     "execution_count": 81,
     "metadata": {},
     "output_type": "execute_result"
    },
    {
     "data": {
      "image/png": "[encoded data removed]",
      "text/plain": [
       "<Figure size 432x288 with 1 Axes>"
      ]
     },
     "metadata": {
      "needs_background": "light"
     },
     "output_type": "display_data"
    }
   ],
   "source": [
    "pl.imshow(mask.multiply(hdul[1].data))"
   ]
  },
  {
   "cell_type": "code",
   "execution_count": 82,
   "id": "68c6b115-5122-425a-b0d5-f8a78c9371a8",
   "metadata": {},
   "outputs": [
    {
     "data": {
      "text/plain": [
       "134.955622392694"
      ]
     },
     "execution_count": 82,
     "metadata": {},
     "output_type": "execute_result"
    },
    {
     "data": {
      "image/png": "[encoded data removed]",
      "text/plain": [
       "<Figure size 432x288 with 1 Axes>"
      ]
     },
     "metadata": {
      "needs_background": "light"
     },
     "output_type": "display_data"
    }
   ],
   "source": [
    "bgpreg = bgreg.to_pixel(ww)\n",
    "bgmask = bgpreg.to_mask()\n",
    "pl.imshow(bgmask.multiply(hdul[1].data))\n",
    "bgim = bgmask.multiply(hdul[1].data)\n",
    "bg = np.nanpercentile(bgim[bgim!=0], 10)\n",
    "bg"
   ]
  },
  {
   "cell_type": "code",
   "execution_count": 83,
   "id": "62b12f1c-60ec-4e0e-8f64-79b9d9d33a15",
   "metadata": {},
   "outputs": [
    {
     "data": {
      "text/latex": [
       "$675.72398 \\; \\mathrm{Jy}$"
      ],
      "text/plain": [
       "<Quantity 675.72398126 Jy>"
      ]
     },
     "execution_count": 83,
     "metadata": {},
     "output_type": "execute_result"
    }
   ],
   "source": [
    "(mask.multiply(hdul[1].data) *u.Unit(hdul[1].header['BUNIT']) * pixelarea).sum().to(u.Jy)"
   ]
  },
  {
   "cell_type": "code",
   "execution_count": 84,
   "id": "436d3554-1afe-4592-bf9d-bfce5428633e",
   "metadata": {},
   "outputs": [
    {
     "data": {
      "text/latex": [
       "$290.87757 \\; \\mathrm{Jy}$"
      ],
      "text/plain": [
       "<Quantity 290.87757409 Jy>"
      ]
     },
     "execution_count": 84,
     "metadata": {},
     "output_type": "execute_result"
    }
   ],
   "source": [
    "her500 = (mask.multiply(hdul[1].data - bg) *u.Unit(hdul[1].header['BUNIT']) * pixelarea).sum().to(u.Jy)\n",
    "her500"
   ]
  },
  {
   "cell_type": "code",
   "execution_count": 85,
   "id": "9eba0b78-657f-411b-8264-1f47f52d7160",
   "metadata": {},
   "outputs": [
    {
     "data": {
      "text/latex": [
       "$0.51606839 \\; \\mathrm{Jy}$"
      ],
      "text/plain": [
       "<Quantity 0.51606839 Jy>"
      ]
     },
     "execution_count": 85,
     "metadata": {},
     "output_type": "execute_result"
    }
   ],
   "source": [
    "(mask.multiply(hdul[1].data) *u.Unit(hdul[1].header['BUNIT']) * pixelarea).std().to(u.Jy)"
   ]
  },
  {
   "cell_type": "markdown",
   "id": "85622dd2-c05b-499d-a2f3-fc595e9e6017",
   "metadata": {},
   "source": [
    "## Bolocam and ATLASGAL"
   ]
  },
  {
   "cell_type": "markdown",
   "id": "828a0413-e9aa-4d15-90d5-9fd8c9f49ecb",
   "metadata": {},
   "source": [
    "##### Bolocam"
   ]
  },
  {
   "cell_type": "code",
   "execution_count": 86,
   "id": "676b6792-e452-4b1a-9d6c-91e5e38d13ae",
   "metadata": {},
   "outputs": [
    {
     "data": {
      "text/plain": [
       "'/orange/adamginsburg/galactic_plane_surveys/bolocam/v2.0_ds2_l006_13pca_map20_crop.fits'"
      ]
     },
     "execution_count": 86,
     "metadata": {},
     "output_type": "execute_result"
    }
   ],
   "source": [
    "bolo_1 = '/orange/adamginsburg/galactic_plane_surveys/bolocam/data/BOLOCAM_GPS/images/v2/INNER_GALAXY/map/v2.0_ds2_l006_13pca_map20.fits'\n",
    "#v2.0_ds2_l004_13pca_map20.fits'\n",
    "'/orange/adamginsburg/galactic_plane_surveys/bolocam/v2.0_ds2_l004_13pca_map20_crop.fits'\n",
    "#bolo_2 = ''\n",
    "'/orange/adamginsburg/galactic_plane_surveys/bolocam/v2.0_ds2_l006_13pca_map20_crop.fits'\n",
    "\n",
    "# 1.1 mm\n"
   ]
  },
  {
   "cell_type": "code",
   "execution_count": 87,
   "id": "76534f7c-9fda-48b6-badd-d722f8cc5915",
   "metadata": {},
   "outputs": [],
   "source": [
    "reg_bolo = regions.Regions.read('/orange/adamginsburg/cmz/g5/code/bolonoise.reg')\n",
    "r0_bolo = reg_bolo[0]\n",
    "bgreg_bolo = regions.RectangleAnnulusSkyRegion(center=reg_bolo[0].center, inner_width=reg_bolo[0].width, inner_height=reg_bolo[0].height, outer_width=reg_bolo[0].width*2, outer_height=reg_bolo[0].height*2)\n"
   ]
  },
  {
   "cell_type": "code",
   "execution_count": 88,
   "id": "d5298056-2677-4bad-81d8-341eaac7411b",
   "metadata": {},
   "outputs": [],
   "source": [
    "hdul = fits.open(bolo_1)\n",
    "ww = wcs.WCS(hdul[0].header)"
   ]
  },
  {
   "cell_type": "code",
   "execution_count": 89,
   "id": "a41bad0c-e91f-4f2e-b92a-ff113befdc05",
   "metadata": {},
   "outputs": [
    {
     "data": {
      "text/plain": [
       "'Jy/Beam'"
      ]
     },
     "execution_count": 89,
     "metadata": {},
     "output_type": "execute_result"
    }
   ],
   "source": [
    "hdul[0].header['BUNIT'] "
   ]
  },
  {
   "cell_type": "code",
   "execution_count": 90,
   "id": "caeca11e-26e8-4b4a-bbf3-5aacdc138bf2",
   "metadata": {},
   "outputs": [
    {
     "data": {
      "text/plain": [
       "23.8027621852"
      ]
     },
     "execution_count": 90,
     "metadata": {},
     "output_type": "execute_result"
    }
   ],
   "source": [
    "hdul[0].header['PPBEAM']"
   ]
  },
  {
   "cell_type": "code",
   "execution_count": null,
   "id": "dc5fbdb7-22db-44d0-9b38-4da9dc0d0357",
   "metadata": {},
   "outputs": [],
   "source": []
  },
  {
   "cell_type": "code",
   "execution_count": 91,
   "id": "7b298f6b-cc90-4818-828e-e8cf0d514fcd",
   "metadata": {},
   "outputs": [],
   "source": [
    "pixelarea = ww.proj_plane_pixel_area().to(u.sr)\n",
    "#pixelarea = 1*u.pixel"
   ]
  },
  {
   "cell_type": "code",
   "execution_count": 92,
   "id": "bdece0c5-1b84-4d5e-bf0e-6bb66943f63a",
   "metadata": {},
   "outputs": [
    {
     "data": {
      "text/latex": [
       "$1.2184695 \\times 10^{-9} \\; \\mathrm{sr}$"
      ],
      "text/plain": [
       "<Quantity 1.21846951e-09 sr>"
      ]
     },
     "execution_count": 92,
     "metadata": {},
     "output_type": "execute_result"
    }
   ],
   "source": [
    "pixelarea"
   ]
  },
  {
   "cell_type": "code",
   "execution_count": 93,
   "id": "914d77f7-e031-4fce-8c1d-48dd0202b261",
   "metadata": {},
   "outputs": [],
   "source": [
    "# preg is short for pixel region\n",
    "preg = r0.to_pixel(ww)\n",
    "mask = preg.to_mask()"
   ]
  },
  {
   "cell_type": "code",
   "execution_count": 95,
   "id": "b427fef1-2704-4862-811a-e82571558467",
   "metadata": {},
   "outputs": [
    {
     "data": {
      "text/plain": [
       "<matplotlib.image.AxesImage at 0x2b680cc71dc0>"
      ]
     },
     "execution_count": 95,
     "metadata": {},
     "output_type": "execute_result"
    },
    {
     "data": {
      "image/png": "[encoded data removed]",
      "text/plain": [
       "<Figure size 432x288 with 1 Axes>"
      ]
     },
     "metadata": {
      "needs_background": "light"
     },
     "output_type": "display_data"
    }
   ],
   "source": [
    "pl.axis('off')\n",
    "pl.imshow(mask.multiply(hdul[0].data))\n",
    "#pl.savefig('plots/bolocam.png')"
   ]
  },
  {
   "cell_type": "code",
   "execution_count": 96,
   "id": "3b807337-1b55-4a4d-aed4-6cad881466f9",
   "metadata": {},
   "outputs": [
    {
     "data": {
      "text/plain": [
       "-0.0783226653933525"
      ]
     },
     "execution_count": 96,
     "metadata": {},
     "output_type": "execute_result"
    },
    {
     "data": {
      "image/png": "[encoded data removed]",
      "text/plain": [
       "<Figure size 432x288 with 1 Axes>"
      ]
     },
     "metadata": {
      "needs_background": "light"
     },
     "output_type": "display_data"
    }
   ],
   "source": [
    "bgpreg = bgreg.to_pixel(ww)\n",
    "bgmask = bgpreg.to_mask()\n",
    "pl.imshow(bgmask.multiply(hdul[0].data))\n",
    "bgim = bgmask.multiply(hdul[0].data)\n",
    "bg = np.nanpercentile(bgim[bgim!=0], 10)\n",
    "bg"
   ]
  },
  {
   "cell_type": "code",
   "execution_count": null,
   "id": "436d739f-24a6-459f-a363-c4370baee379",
   "metadata": {},
   "outputs": [],
   "source": []
  },
  {
   "cell_type": "code",
   "execution_count": 97,
   "id": "609f6268-3087-4649-912b-dd7b0fe14472",
   "metadata": {
    "tags": []
   },
   "outputs": [
    {
     "data": {
      "text/latex": [
       "$3.5317852 \\; \\mathrm{Jy}$"
      ],
      "text/plain": [
       "<Quantity 3.53178516 Jy>"
      ]
     },
     "execution_count": 97,
     "metadata": {},
     "output_type": "execute_result"
    }
   ],
   "source": [
    "#(mask.multiply(hdul[0].data) *u.Unit(hdul[0].header['BUNIT']) * pixelarea).sum().to(u.Jy)\n",
    "\n",
    "(mask.multiply(hdul[0].data) / hdul[0].header['PPBEAM']).sum() * u.Jy"
   ]
  },
  {
   "cell_type": "code",
   "execution_count": 98,
   "id": "f287bacd-3e5f-40bd-a6cc-33736c4670de",
   "metadata": {},
   "outputs": [
    {
     "data": {
      "text/latex": [
       "$11.132809 \\; \\mathrm{Jy}$"
      ],
      "text/plain": [
       "<Quantity 11.13280861 Jy>"
      ]
     },
     "execution_count": 98,
     "metadata": {},
     "output_type": "execute_result"
    }
   ],
   "source": [
    "bolo11 = (mask.multiply(hdul[0].data - bg) / hdul[0].header['PPBEAM']).sum() * u.Jy\n",
    "bolo11"
   ]
  },
  {
   "cell_type": "code",
   "execution_count": 99,
   "id": "10e29b09-5ddd-44a5-b2eb-359ffe3970db",
   "metadata": {},
   "outputs": [],
   "source": [
    "#beam"
   ]
  },
  {
   "cell_type": "code",
   "execution_count": 100,
   "id": "10f78f2f-3679-49b3-9cd3-bdc9b48ae06c",
   "metadata": {},
   "outputs": [
    {
     "data": {
      "text/latex": [
       "$0.0038061461 \\; \\mathrm{Jy}$"
      ],
      "text/plain": [
       "<Quantity 0.00380615 Jy>"
      ]
     },
     "execution_count": 100,
     "metadata": {},
     "output_type": "execute_result"
    }
   ],
   "source": [
    "(mask.multiply(hdul[0].data) / hdul[0].header['PPBEAM']).std() * u.Jy"
   ]
  },
  {
   "cell_type": "code",
   "execution_count": null,
   "id": "7fe3fbfb-0cad-45d5-949d-4a4da9522909",
   "metadata": {},
   "outputs": [],
   "source": []
  },
  {
   "cell_type": "code",
   "execution_count": null,
   "id": "155702b2-a2b7-4f2c-866d-115bb53fcdd6",
   "metadata": {},
   "outputs": [],
   "source": []
  },
  {
   "cell_type": "code",
   "execution_count": null,
   "id": "1232d0e7-57e9-452b-8a08-f9b374fe2737",
   "metadata": {},
   "outputs": [],
   "source": []
  },
  {
   "cell_type": "code",
   "execution_count": null,
   "id": "33f9bf49-3a52-4786-a87e-4772c0ef33b0",
   "metadata": {},
   "outputs": [],
   "source": []
  },
  {
   "cell_type": "markdown",
   "id": "5695e2ae-4daf-42b1-be65-a60ec839d1c1",
   "metadata": {},
   "source": [
    "##### ATLASGAL"
   ]
  },
  {
   "cell_type": "code",
   "execution_count": 101,
   "id": "ac04371a-8a04-47bf-beb5-4f4e320cf04b",
   "metadata": {},
   "outputs": [],
   "source": [
    "atlas = '/orange/adamginsburg/galactic_plane_surveys/atlasgal/AG-Laboca-Planck.4.5.fits'\n",
    "# Planck 353 GHz Survey\n",
    "# 850 microns"
   ]
  },
  {
   "cell_type": "code",
   "execution_count": 102,
   "id": "bda3a9c2-d102-4362-9b5a-4115dcbdcacd",
   "metadata": {},
   "outputs": [
    {
     "name": "stderr",
     "output_type": "stream",
     "text": [
      "WARNING: VerifyWarning: Invalid 'BLANK' keyword in header.  The 'BLANK' keyword is only applicable to integer data, and will be ignored in this HDU. [astropy.io.fits.hdu.image]\n"
     ]
    }
   ],
   "source": [
    "agalhdul = hdul = fits.open(atlas)\n",
    "agalww = ww = wcs.WCS(hdul[0].header)"
   ]
  },
  {
   "cell_type": "code",
   "execution_count": 103,
   "id": "55344990-18ff-4185-b3a2-7fccdf1619cf",
   "metadata": {},
   "outputs": [
    {
     "data": {
      "text/plain": [
       "'JY/BEAM'"
      ]
     },
     "execution_count": 103,
     "metadata": {},
     "output_type": "execute_result"
    }
   ],
   "source": [
    "hdul[0].header['BUNIT']"
   ]
  },
  {
   "cell_type": "code",
   "execution_count": null,
   "id": "336ae3ed-3ee3-42ed-900a-bdf882f7b8f9",
   "metadata": {},
   "outputs": [],
   "source": []
  },
  {
   "cell_type": "code",
   "execution_count": 104,
   "id": "719c943f-1638-4e48-8ee9-9c09dc41330e",
   "metadata": {
    "tags": []
   },
   "outputs": [],
   "source": [
    "beam = radio_beam.Beam.from_fits_header(hdul[0].header)"
   ]
  },
  {
   "cell_type": "code",
   "execution_count": 105,
   "id": "e1066149-78b2-4238-bb56-3e12e6f0d01e",
   "metadata": {},
   "outputs": [
    {
     "data": {
      "text/latex": [
       "$1.1744228 \\times 10^{-8} \\; \\mathrm{sr}$"
      ],
      "text/plain": [
       "<Quantity 1.17442275e-08 sr>"
      ]
     },
     "execution_count": 105,
     "metadata": {},
     "output_type": "execute_result"
    }
   ],
   "source": [
    "beam.sr"
   ]
  },
  {
   "cell_type": "code",
   "execution_count": 106,
   "id": "20539189-e8a1-40e6-8cb0-d092e9c750e8",
   "metadata": {},
   "outputs": [
    {
     "data": {
      "text/latex": [
       "$2.6813453 \\times 10^{-10} \\; \\mathrm{sr}$"
      ],
      "text/plain": [
       "<Quantity 2.68134526e-10 sr>"
      ]
     },
     "execution_count": 106,
     "metadata": {},
     "output_type": "execute_result"
    }
   ],
   "source": [
    "pixelarea = ww.proj_plane_pixel_area().to(u.sr)\n",
    "pixelarea"
   ]
  },
  {
   "cell_type": "code",
   "execution_count": 107,
   "id": "dc47b021-06be-4aa1-982c-a1a5063d0995",
   "metadata": {},
   "outputs": [],
   "source": [
    "# preg is short for pixel region\n",
    "preg = r0.to_pixel(ww)\n",
    "mask = preg.to_mask()"
   ]
  },
  {
   "cell_type": "code",
   "execution_count": 111,
   "id": "1c4cfb38-aa10-4fda-b8bb-09b948505abc",
   "metadata": {},
   "outputs": [
    {
     "data": {
      "text/plain": [
       "<matplotlib.image.AxesImage at 0x2b680b93be50>"
      ]
     },
     "execution_count": 111,
     "metadata": {},
     "output_type": "execute_result"
    },
    {
     "data": {
      "image/png": "[encoded data removed]",
      "text/plain": [
       "<Figure size 432x288 with 1 Axes>"
      ]
     },
     "metadata": {
      "needs_background": "light"
     },
     "output_type": "display_data"
    }
   ],
   "source": [
    "pl.axis('off')\n",
    "pl.imshow(mask.multiply(hdul[0].data))\n",
    "#pl.savefig('plots/atlasgal.png')"
   ]
  },
  {
   "cell_type": "code",
   "execution_count": 112,
   "id": "4202bbf5-633d-4057-9be5-4b0c06708e39",
   "metadata": {},
   "outputs": [
    {
     "data": {
      "text/latex": [
       "$158.39041 \\; \\mathrm{Jy}$"
      ],
      "text/plain": [
       "<Quantity 158.39041011 Jy>"
      ]
     },
     "execution_count": 112,
     "metadata": {},
     "output_type": "execute_result"
    }
   ],
   "source": [
    "(mask.multiply(hdul[0].data) * u.Jy / beam.sr * pixelarea).sum().to(u.Jy)"
   ]
  },
  {
   "cell_type": "code",
   "execution_count": 113,
   "id": "9143d157-d9e8-4dc8-b58d-df265c2d0291",
   "metadata": {},
   "outputs": [
    {
     "data": {
      "text/plain": [
       "0.3257963240146637"
      ]
     },
     "execution_count": 113,
     "metadata": {},
     "output_type": "execute_result"
    },
    {
     "data": {
      "image/png": "[encoded data removed]",
      "text/plain": [
       "<Figure size 432x288 with 1 Axes>"
      ]
     },
     "metadata": {
      "needs_background": "light"
     },
     "output_type": "display_data"
    }
   ],
   "source": [
    "bgpreg = bgreg.to_pixel(ww)\n",
    "bgmask = bgpreg.to_mask()\n",
    "pl.imshow(bgmask.multiply(hdul[0].data))\n",
    "bgim = bgmask.multiply(hdul[0].data)\n",
    "bg = np.nanpercentile(bgim[bgim!=0], 10)\n",
    "bg"
   ]
  },
  {
   "cell_type": "code",
   "execution_count": 114,
   "id": "2164c30d-200a-4ba8-9fa3-3a7cd2fce379",
   "metadata": {},
   "outputs": [
    {
     "data": {
      "text/plain": [
       "<matplotlib.image.AxesImage at 0x2b680b9feeb0>"
      ]
     },
     "execution_count": 114,
     "metadata": {},
     "output_type": "execute_result"
    },
    {
     "data": {
      "image/png": "[encoded data removed]",
      "text/plain": [
       "<Figure size 432x288 with 1 Axes>"
      ]
     },
     "metadata": {
      "needs_background": "light"
     },
     "output_type": "display_data"
    }
   ],
   "source": [
    "pl.imshow(bgmask.cutout(hdul[0].data))"
   ]
  },
  {
   "cell_type": "code",
   "execution_count": 115,
   "id": "d24fdecf-1ad8-4588-8072-70a485d791d7",
   "metadata": {},
   "outputs": [
    {
     "data": {
      "text/latex": [
       "$303859.15 \\; \\mathrm{Jy}$"
      ],
      "text/plain": [
       "<Quantity 303859.14976587 Jy>"
      ]
     },
     "execution_count": 115,
     "metadata": {},
     "output_type": "execute_result"
    }
   ],
   "source": [
    "(mask.multiply(hdul[0].data) * u.Jy * beam.sr / pixelarea).sum().to(u.Jy)"
   ]
  },
  {
   "cell_type": "code",
   "execution_count": 116,
   "id": "469e89e1-9889-4ce9-a44b-f47874f11db5",
   "metadata": {},
   "outputs": [
    {
     "data": {
      "text/latex": [
       "$80.429446 \\; \\mathrm{Jy}$"
      ],
      "text/plain": [
       "<Quantity 80.42944586 Jy>"
      ]
     },
     "execution_count": 116,
     "metadata": {},
     "output_type": "execute_result"
    }
   ],
   "source": [
    "atlas850 = (mask.multiply(hdul[0].data - bg) * u.Jy / beam.sr * pixelarea).sum().to(u.Jy)\n",
    "atlas850"
   ]
  },
  {
   "cell_type": "code",
   "execution_count": 117,
   "id": "51c0d69a-2107-42ca-85f8-d062f9f9138a",
   "metadata": {},
   "outputs": [
    {
     "data": {
      "text/latex": [
       "$43.799759 \\; \\mathrm{}$"
      ],
      "text/plain": [
       "<Quantity 43.79975866>"
      ]
     },
     "execution_count": 117,
     "metadata": {},
     "output_type": "execute_result"
    }
   ],
   "source": [
    "(beam.sr / pixelarea).decompose()"
   ]
  },
  {
   "cell_type": "code",
   "execution_count": 118,
   "id": "cb4bbf02-61e8-4d4f-aaa5-892abcd00576",
   "metadata": {
    "tags": []
   },
   "outputs": [
    {
     "data": {
      "text/latex": [
       "$0.0051076627 \\; \\mathrm{Jy}$"
      ],
      "text/plain": [
       "<Quantity 0.00510766 Jy>"
      ]
     },
     "execution_count": 118,
     "metadata": {},
     "output_type": "execute_result"
    }
   ],
   "source": [
    "(mask.multiply(hdul[0].data) * u.Jy / beam.sr * pixelarea).std().to(u.Jy)"
   ]
  },
  {
   "cell_type": "code",
   "execution_count": null,
   "id": "fc725e98-6d4e-43de-a7ac-bec8badb22cc",
   "metadata": {},
   "outputs": [],
   "source": []
  },
  {
   "cell_type": "markdown",
   "id": "1cf1cef3-8e5d-4312-8d3e-65dfcf18dc84",
   "metadata": {},
   "source": [
    "## PPMAP"
   ]
  },
  {
   "cell_type": "code",
   "execution_count": 119,
   "id": "3540b423-0415-4dd0-a1d5-4ae3827096e8",
   "metadata": {},
   "outputs": [],
   "source": [
    "## ...which file?\n",
    "ppmap = '/orange/adamginsburg/galactic_plane_surveys/higal/PPMAP_Results/'"
   ]
  },
  {
   "cell_type": "code",
   "execution_count": 142,
   "id": "886a3172-0dba-451c-a186-10f91f208d03",
   "metadata": {},
   "outputs": [
    {
     "ename": "IsADirectoryError",
     "evalue": "[Errno 21] Is a directory: '/orange/adamginsburg/galactic_plane_surveys/higal/PPMAP_Results/'",
     "output_type": "error",
     "traceback": [
      "\u001b[0;31m---------------------------------------------------------------------------\u001b[0m",
      "\u001b[0;31mIsADirectoryError\u001b[0m                         Traceback (most recent call last)",
      "\u001b[0;32m/scratch/local/46750417/ipykernel_119823/278564739.py\u001b[0m in \u001b[0;36m<module>\u001b[0;34m\u001b[0m\n\u001b[0;32m----> 1\u001b[0;31m \u001b[0mppmaphdul\u001b[0m \u001b[0;34m=\u001b[0m \u001b[0mhdul\u001b[0m \u001b[0;34m=\u001b[0m \u001b[0mfits\u001b[0m\u001b[0;34m.\u001b[0m\u001b[0mopen\u001b[0m\u001b[0;34m(\u001b[0m\u001b[0mppmap\u001b[0m\u001b[0;34m)\u001b[0m\u001b[0;34m\u001b[0m\u001b[0;34m\u001b[0m\u001b[0m\n\u001b[0m\u001b[1;32m      2\u001b[0m \u001b[0mppmapww\u001b[0m \u001b[0;34m=\u001b[0m \u001b[0mww\u001b[0m \u001b[0;34m=\u001b[0m \u001b[0mwcs\u001b[0m\u001b[0;34m.\u001b[0m\u001b[0mWCS\u001b[0m\u001b[0;34m(\u001b[0m\u001b[0mhdul\u001b[0m\u001b[0;34m[\u001b[0m\u001b[0;36m0\u001b[0m\u001b[0;34m]\u001b[0m\u001b[0;34m.\u001b[0m\u001b[0mheader\u001b[0m\u001b[0;34m)\u001b[0m\u001b[0;34m\u001b[0m\u001b[0;34m\u001b[0m\u001b[0m\n",
      "\u001b[0;32m/blue/adamginsburg/adamginsburg/repos/astropy/astropy/io/fits/hdu/hdulist.py\u001b[0m in \u001b[0;36mfitsopen\u001b[0;34m(name, mode, memmap, save_backup, cache, lazy_load_hdus, ignore_missing_simple, **kwargs)\u001b[0m\n\u001b[1;32m    173\u001b[0m         \u001b[0;32mraise\u001b[0m \u001b[0mValueError\u001b[0m\u001b[0;34m(\u001b[0m\u001b[0;34mf'Empty filename: {name!r}'\u001b[0m\u001b[0;34m)\u001b[0m\u001b[0;34m\u001b[0m\u001b[0;34m\u001b[0m\u001b[0m\n\u001b[1;32m    174\u001b[0m \u001b[0;34m\u001b[0m\u001b[0m\n\u001b[0;32m--> 175\u001b[0;31m     return HDUList.fromfile(name, mode, memmap, save_backup, cache,\n\u001b[0m\u001b[1;32m    176\u001b[0m                             lazy_load_hdus, ignore_missing_simple, **kwargs)\n\u001b[1;32m    177\u001b[0m \u001b[0;34m\u001b[0m\u001b[0m\n",
      "\u001b[0;32m/blue/adamginsburg/adamginsburg/repos/astropy/astropy/io/fits/hdu/hdulist.py\u001b[0m in \u001b[0;36mfromfile\u001b[0;34m(cls, fileobj, mode, memmap, save_backup, cache, lazy_load_hdus, ignore_missing_simple, **kwargs)\u001b[0m\n\u001b[1;32m    408\u001b[0m         \"\"\"\n\u001b[1;32m    409\u001b[0m \u001b[0;34m\u001b[0m\u001b[0m\n\u001b[0;32m--> 410\u001b[0;31m         return cls._readfrom(fileobj=fileobj, mode=mode, memmap=memmap,\n\u001b[0m\u001b[1;32m    411\u001b[0m                              \u001b[0msave_backup\u001b[0m\u001b[0;34m=\u001b[0m\u001b[0msave_backup\u001b[0m\u001b[0;34m,\u001b[0m \u001b[0mcache\u001b[0m\u001b[0;34m=\u001b[0m\u001b[0mcache\u001b[0m\u001b[0;34m,\u001b[0m\u001b[0;34m\u001b[0m\u001b[0;34m\u001b[0m\u001b[0m\n\u001b[1;32m    412\u001b[0m                              \u001b[0mignore_missing_simple\u001b[0m\u001b[0;34m=\u001b[0m\u001b[0mignore_missing_simple\u001b[0m\u001b[0;34m,\u001b[0m\u001b[0;34m\u001b[0m\u001b[0;34m\u001b[0m\u001b[0m\n",
      "\u001b[0;32m/blue/adamginsburg/adamginsburg/repos/astropy/astropy/io/fits/hdu/hdulist.py\u001b[0m in \u001b[0;36m_readfrom\u001b[0;34m(cls, fileobj, data, mode, memmap, cache, lazy_load_hdus, ignore_missing_simple, **kwargs)\u001b[0m\n\u001b[1;32m   1058\u001b[0m             \u001b[0;32mif\u001b[0m \u001b[0;32mnot\u001b[0m \u001b[0misinstance\u001b[0m\u001b[0;34m(\u001b[0m\u001b[0mfileobj\u001b[0m\u001b[0;34m,\u001b[0m \u001b[0m_File\u001b[0m\u001b[0;34m)\u001b[0m\u001b[0;34m:\u001b[0m\u001b[0;34m\u001b[0m\u001b[0;34m\u001b[0m\u001b[0m\n\u001b[1;32m   1059\u001b[0m                 \u001b[0;31m# instantiate a FITS file object (ffo)\u001b[0m\u001b[0;34m\u001b[0m\u001b[0;34m\u001b[0m\u001b[0m\n\u001b[0;32m-> 1060\u001b[0;31m                 \u001b[0mfileobj\u001b[0m \u001b[0;34m=\u001b[0m \u001b[0m_File\u001b[0m\u001b[0;34m(\u001b[0m\u001b[0mfileobj\u001b[0m\u001b[0;34m,\u001b[0m \u001b[0mmode\u001b[0m\u001b[0;34m=\u001b[0m\u001b[0mmode\u001b[0m\u001b[0;34m,\u001b[0m \u001b[0mmemmap\u001b[0m\u001b[0;34m=\u001b[0m\u001b[0mmemmap\u001b[0m\u001b[0;34m,\u001b[0m \u001b[0mcache\u001b[0m\u001b[0;34m=\u001b[0m\u001b[0mcache\u001b[0m\u001b[0;34m)\u001b[0m\u001b[0;34m\u001b[0m\u001b[0;34m\u001b[0m\u001b[0m\n\u001b[0m\u001b[1;32m   1061\u001b[0m             \u001b[0;31m# The Astropy mode is determined by the _File initializer if the\u001b[0m\u001b[0;34m\u001b[0m\u001b[0;34m\u001b[0m\u001b[0m\n\u001b[1;32m   1062\u001b[0m             \u001b[0;31m# supplied mode was None\u001b[0m\u001b[0;34m\u001b[0m\u001b[0;34m\u001b[0m\u001b[0m\n",
      "\u001b[0;32m/blue/adamginsburg/adamginsburg/repos/astropy/astropy/io/fits/file.py\u001b[0m in \u001b[0;36m__init__\u001b[0;34m(self, fileobj, mode, memmap, overwrite, cache)\u001b[0m\n\u001b[1;32m    168\u001b[0m             \u001b[0mself\u001b[0m\u001b[0;34m.\u001b[0m\u001b[0m_open_fileobj\u001b[0m\u001b[0;34m(\u001b[0m\u001b[0mfileobj\u001b[0m\u001b[0;34m,\u001b[0m \u001b[0mmode\u001b[0m\u001b[0;34m,\u001b[0m \u001b[0moverwrite\u001b[0m\u001b[0;34m)\u001b[0m\u001b[0;34m\u001b[0m\u001b[0;34m\u001b[0m\u001b[0m\n\u001b[1;32m    169\u001b[0m         \u001b[0;32melif\u001b[0m \u001b[0misinstance\u001b[0m\u001b[0;34m(\u001b[0m\u001b[0mfileobj\u001b[0m\u001b[0;34m,\u001b[0m \u001b[0;34m(\u001b[0m\u001b[0mstr\u001b[0m\u001b[0;34m,\u001b[0m \u001b[0mbytes\u001b[0m\u001b[0;34m)\u001b[0m\u001b[0;34m)\u001b[0m\u001b[0;34m:\u001b[0m\u001b[0;34m\u001b[0m\u001b[0;34m\u001b[0m\u001b[0m\n\u001b[0;32m--> 170\u001b[0;31m             \u001b[0mself\u001b[0m\u001b[0;34m.\u001b[0m\u001b[0m_open_filename\u001b[0m\u001b[0;34m(\u001b[0m\u001b[0mfileobj\u001b[0m\u001b[0;34m,\u001b[0m \u001b[0mmode\u001b[0m\u001b[0;34m,\u001b[0m \u001b[0moverwrite\u001b[0m\u001b[0;34m)\u001b[0m\u001b[0;34m\u001b[0m\u001b[0;34m\u001b[0m\u001b[0m\n\u001b[0m\u001b[1;32m    171\u001b[0m         \u001b[0;32melse\u001b[0m\u001b[0;34m:\u001b[0m\u001b[0;34m\u001b[0m\u001b[0;34m\u001b[0m\u001b[0m\n\u001b[1;32m    172\u001b[0m             \u001b[0mself\u001b[0m\u001b[0;34m.\u001b[0m\u001b[0m_open_filelike\u001b[0m\u001b[0;34m(\u001b[0m\u001b[0mfileobj\u001b[0m\u001b[0;34m,\u001b[0m \u001b[0mmode\u001b[0m\u001b[0;34m,\u001b[0m \u001b[0moverwrite\u001b[0m\u001b[0;34m)\u001b[0m\u001b[0;34m\u001b[0m\u001b[0;34m\u001b[0m\u001b[0m\n",
      "\u001b[0;32m/blue/adamginsburg/adamginsburg/repos/astropy/astropy/io/fits/file.py\u001b[0m in \u001b[0;36m_open_filename\u001b[0;34m(self, filename, mode, overwrite)\u001b[0m\n\u001b[1;32m    549\u001b[0m \u001b[0;34m\u001b[0m\u001b[0m\n\u001b[1;32m    550\u001b[0m         \u001b[0;32mif\u001b[0m \u001b[0mos\u001b[0m\u001b[0;34m.\u001b[0m\u001b[0mpath\u001b[0m\u001b[0;34m.\u001b[0m\u001b[0mexists\u001b[0m\u001b[0;34m(\u001b[0m\u001b[0mself\u001b[0m\u001b[0;34m.\u001b[0m\u001b[0mname\u001b[0m\u001b[0;34m)\u001b[0m\u001b[0;34m:\u001b[0m\u001b[0;34m\u001b[0m\u001b[0;34m\u001b[0m\u001b[0m\n\u001b[0;32m--> 551\u001b[0;31m             \u001b[0;32mwith\u001b[0m \u001b[0mfileobj_open\u001b[0m\u001b[0;34m(\u001b[0m\u001b[0mself\u001b[0m\u001b[0;34m.\u001b[0m\u001b[0mname\u001b[0m\u001b[0;34m,\u001b[0m \u001b[0;34m'rb'\u001b[0m\u001b[0;34m)\u001b[0m \u001b[0;32mas\u001b[0m \u001b[0mf\u001b[0m\u001b[0;34m:\u001b[0m\u001b[0;34m\u001b[0m\u001b[0;34m\u001b[0m\u001b[0m\n\u001b[0m\u001b[1;32m    552\u001b[0m                 \u001b[0mmagic\u001b[0m \u001b[0;34m=\u001b[0m \u001b[0mf\u001b[0m\u001b[0;34m.\u001b[0m\u001b[0mread\u001b[0m\u001b[0;34m(\u001b[0m\u001b[0;36m4\u001b[0m\u001b[0;34m)\u001b[0m\u001b[0;34m\u001b[0m\u001b[0;34m\u001b[0m\u001b[0m\n\u001b[1;32m    553\u001b[0m         \u001b[0;32melse\u001b[0m\u001b[0;34m:\u001b[0m\u001b[0;34m\u001b[0m\u001b[0;34m\u001b[0m\u001b[0m\n",
      "\u001b[0;32m/blue/adamginsburg/adamginsburg/repos/astropy/astropy/io/fits/util.py\u001b[0m in \u001b[0;36mfileobj_open\u001b[0;34m(filename, mode)\u001b[0m\n\u001b[1;32m    386\u001b[0m     \"\"\"\n\u001b[1;32m    387\u001b[0m \u001b[0;34m\u001b[0m\u001b[0m\n\u001b[0;32m--> 388\u001b[0;31m     \u001b[0;32mreturn\u001b[0m \u001b[0mopen\u001b[0m\u001b[0;34m(\u001b[0m\u001b[0mfilename\u001b[0m\u001b[0;34m,\u001b[0m \u001b[0mmode\u001b[0m\u001b[0;34m,\u001b[0m \u001b[0mbuffering\u001b[0m\u001b[0;34m=\u001b[0m\u001b[0;36m0\u001b[0m\u001b[0;34m)\u001b[0m\u001b[0;34m\u001b[0m\u001b[0;34m\u001b[0m\u001b[0m\n\u001b[0m\u001b[1;32m    389\u001b[0m \u001b[0;34m\u001b[0m\u001b[0m\n\u001b[1;32m    390\u001b[0m \u001b[0;34m\u001b[0m\u001b[0m\n",
      "\u001b[0;31mIsADirectoryError\u001b[0m: [Errno 21] Is a directory: '/orange/adamginsburg/galactic_plane_surveys/higal/PPMAP_Results/'"
     ]
    }
   ],
   "source": [
    "ppmaphdul = hdul = fits.open(ppmap)\n",
    "ppmapww = ww = wcs.WCS(hdul[0].header)"
   ]
  },
  {
   "cell_type": "code",
   "execution_count": null,
   "id": "7fe86f15-a513-446d-8a7f-14524c670664",
   "metadata": {},
   "outputs": [],
   "source": []
  },
  {
   "cell_type": "code",
   "execution_count": null,
   "id": "e73c3634-c75e-4905-85a8-ee453446473b",
   "metadata": {},
   "outputs": [],
   "source": []
  },
  {
   "cell_type": "code",
   "execution_count": null,
   "id": "47192144-29c6-43ff-b1a9-589ffe592b37",
   "metadata": {},
   "outputs": [],
   "source": []
  },
  {
   "cell_type": "code",
   "execution_count": null,
   "id": "0b6c0bbf-d225-4265-ad1c-d6c831a504f9",
   "metadata": {},
   "outputs": [],
   "source": []
  },
  {
   "cell_type": "code",
   "execution_count": null,
   "id": "79b4a067-5874-4dde-8084-87f8652e0e49",
   "metadata": {},
   "outputs": [],
   "source": []
  },
  {
   "cell_type": "markdown",
   "id": "02ff8274-f155-4d65-8891-2d2a9fbec4f9",
   "metadata": {},
   "source": [
    "## SED Fitting"
   ]
  },
  {
   "cell_type": "code",
   "execution_count": 120,
   "id": "940f7f73-7933-4c56-ab6a-87e473b23489",
   "metadata": {},
   "outputs": [
    {
     "data": {
      "text/plain": [
       "(<Quantity 0.84927042 mm>, <Quantity 50.280185 Jy>)"
      ]
     },
     "execution_count": 120,
     "metadata": {},
     "output_type": "execute_result"
    }
   ],
   "source": [
    "(160*u.micron, 659.89016*u.Jy) # pacsfn_1\n",
    "(70*u.micron, 8.9645548*u.Jy) # pacsfn_1\n",
    "(350*u.micron, 531.67255*u.Jy) # herfn_2\n",
    "(250*u.micron, 1104.3927*u.Jy) # herfn_1\n",
    "(500*u.micron, 203.23191*u.Jy) # herfn_3\n",
    "(1.1*u.mm, 2.4610367*u.Jy) # Bolocam\n",
    "((353 * u.GHz).to(u.mm, equivalencies=u.spectral()), 50.280185*u.Jy) # ATLASGAL"
   ]
  },
  {
   "cell_type": "code",
   "execution_count": 121,
   "id": "8a1e3a72-4ea2-4112-9302-d7ab6e340c37",
   "metadata": {},
   "outputs": [
    {
     "data": {
      "text/latex": [
       "$-1.2963902 \\; \\mathrm{\\frac{Jy}{\\mu m}}$"
      ],
      "text/plain": [
       "<Quantity -1.29639019 Jy / micron>"
      ]
     },
     "execution_count": 121,
     "metadata": {},
     "output_type": "execute_result"
    }
   ],
   "source": [
    "(1104.3927*u.Jy-2.4610367*u.Jy)/(250*u.micron-(1.1*u.mm).to(u.micron))"
   ]
  },
  {
   "cell_type": "code",
   "execution_count": 122,
   "id": "7f9a7c8c-34d3-426b-b523-d366a672cfe0",
   "metadata": {},
   "outputs": [
    {
     "data": {
      "text/latex": [
       "$-1.7589931 \\; \\mathrm{\\frac{Jy}{\\mu m}}$"
      ],
      "text/plain": [
       "<Quantity -1.75899307 Jy / micron>"
      ]
     },
     "execution_count": 122,
     "metadata": {},
     "output_type": "execute_result"
    }
   ],
   "source": [
    "(1104.3927*u.Jy-50.280185*u.Jy)/(250*u.micron-(353 * u.GHz).to(u.micron, equivalencies=u.spectral()))"
   ]
  },
  {
   "cell_type": "code",
   "execution_count": 123,
   "id": "ff62689a-527c-4d53-8875-7197749ca7b6",
   "metadata": {},
   "outputs": [
    {
     "data": {
      "text/latex": [
       "$1100 \\; \\mathrm{\\mu m}$"
      ],
      "text/plain": [
       "<Quantity 1100. micron>"
      ]
     },
     "execution_count": 123,
     "metadata": {},
     "output_type": "execute_result"
    }
   ],
   "source": [
    "(1.1*u.mm).to(u.micron)"
   ]
  },
  {
   "cell_type": "code",
   "execution_count": 124,
   "id": "820c0c85-c6c4-4831-9ccb-5440352b6f3d",
   "metadata": {},
   "outputs": [
    {
     "data": {
      "text/latex": [
       "$849.27042 \\; \\mathrm{\\mu m}$"
      ],
      "text/plain": [
       "<Quantity 849.27041926 micron>"
      ]
     },
     "execution_count": 124,
     "metadata": {},
     "output_type": "execute_result"
    }
   ],
   "source": [
    "(353 * u.GHz).to(u.micron, equivalencies=u.spectral())"
   ]
  },
  {
   "cell_type": "code",
   "execution_count": 125,
   "id": "7dec4ab1-5328-4fb3-8f2c-e51cbc9c0542",
   "metadata": {},
   "outputs": [
    {
     "data": {
      "text/plain": [
       "-4.121523670794213"
      ]
     },
     "execution_count": 125,
     "metadata": {},
     "output_type": "execute_result"
    }
   ],
   "source": [
    "#  log(flux ratio)/log(nu ratio) = alpha\n",
    "# Bolocam\n",
    "np.log(1104.3927/2.4610367)/np.log(250/1100)"
   ]
  },
  {
   "cell_type": "code",
   "execution_count": 126,
   "id": "d8331c92-94bd-4629-9dbb-f9a0f7a25930",
   "metadata": {},
   "outputs": [
    {
     "data": {
      "text/plain": [
       "-5.597975589704405"
      ]
     },
     "execution_count": 126,
     "metadata": {},
     "output_type": "execute_result"
    }
   ],
   "source": [
    "# (500*u.micron, 203.23191*u.Jy) # herfn_3\n",
    "np.log(203.23191/2.4610367)/np.log(500/1100)"
   ]
  },
  {
   "cell_type": "code",
   "execution_count": 127,
   "id": "38af0af4-5e32-4151-97dd-f1680e77ad2f",
   "metadata": {},
   "outputs": [
    {
     "data": {
      "text/plain": [
       "-2.524515304988999"
      ]
     },
     "execution_count": 127,
     "metadata": {},
     "output_type": "execute_result"
    }
   ],
   "source": [
    "# ATLASGAL\n",
    "np.log(1104.3927/50.280185)/np.log(250/850)"
   ]
  },
  {
   "cell_type": "code",
   "execution_count": 128,
   "id": "71ec82f6-6202-443c-98a7-358d87ac0b3d",
   "metadata": {},
   "outputs": [
    {
     "data": {
      "text/plain": [
       "-2.632232028487509"
      ]
     },
     "execution_count": 128,
     "metadata": {},
     "output_type": "execute_result"
    }
   ],
   "source": [
    "np.log(203.23191/50.280185)/np.log(500/850)"
   ]
  },
  {
   "cell_type": "code",
   "execution_count": 129,
   "id": "c8ea49fc-6eeb-40c3-aacf-86131431c8d1",
   "metadata": {},
   "outputs": [
    {
     "data": {
      "text/plain": [
       "-11.701659239883302"
      ]
     },
     "execution_count": 129,
     "metadata": {},
     "output_type": "execute_result"
    }
   ],
   "source": [
    "np.log(50.280185/2.4610367)/np.log(850/1100)"
   ]
  },
  {
   "cell_type": "code",
   "execution_count": 130,
   "id": "101e69ad-996f-445a-953b-e6f03938526b",
   "metadata": {},
   "outputs": [
    {
     "data": {
      "text/latex": [
       "$1293.3409 \\; \\mathrm{Jy}$"
      ],
      "text/plain": [
       "<Quantity 1293.34087112 Jy>"
      ]
     },
     "execution_count": 130,
     "metadata": {},
     "output_type": "execute_result"
    }
   ],
   "source": [
    "pacs160"
   ]
  },
  {
   "cell_type": "code",
   "execution_count": 131,
   "id": "e9802557-36c3-428b-9cbe-105df268a26a",
   "metadata": {},
   "outputs": [
    {
     "data": {
      "text/latex": [
       "$139.69879 \\; \\mathrm{Jy}$"
      ],
      "text/plain": [
       "<Quantity 139.69878765 Jy>"
      ]
     },
     "execution_count": 131,
     "metadata": {},
     "output_type": "execute_result"
    }
   ],
   "source": [
    "pacs70"
   ]
  },
  {
   "cell_type": "code",
   "execution_count": 132,
   "id": "72bda5a8-2135-461b-8f87-039426fa912f",
   "metadata": {},
   "outputs": [
    {
     "data": {
      "text/latex": [
       "$696.32904 \\; \\mathrm{Jy}$"
      ],
      "text/plain": [
       "<Quantity 696.32904341 Jy>"
      ]
     },
     "execution_count": 132,
     "metadata": {},
     "output_type": "execute_result"
    }
   ],
   "source": [
    "her350"
   ]
  },
  {
   "cell_type": "code",
   "execution_count": 133,
   "id": "90d94faa-1507-4992-8d24-e8d1b998bf72",
   "metadata": {},
   "outputs": [
    {
     "data": {
      "text/latex": [
       "$1296.7746 \\; \\mathrm{Jy}$"
      ],
      "text/plain": [
       "<Quantity 1296.77460881 Jy>"
      ]
     },
     "execution_count": 133,
     "metadata": {},
     "output_type": "execute_result"
    }
   ],
   "source": [
    "her250"
   ]
  },
  {
   "cell_type": "code",
   "execution_count": 134,
   "id": "5cd73950-a60f-423d-a67a-4266b58130de",
   "metadata": {},
   "outputs": [
    {
     "data": {
      "text/latex": [
       "$290.87757 \\; \\mathrm{Jy}$"
      ],
      "text/plain": [
       "<Quantity 290.87757409 Jy>"
      ]
     },
     "execution_count": 134,
     "metadata": {},
     "output_type": "execute_result"
    }
   ],
   "source": [
    "her500"
   ]
  },
  {
   "cell_type": "code",
   "execution_count": 135,
   "id": "bf4ad9c0-35a0-42d2-a9a1-b93a6075dc47",
   "metadata": {},
   "outputs": [
    {
     "data": {
      "text/latex": [
       "$11.132809 \\; \\mathrm{Jy}$"
      ],
      "text/plain": [
       "<Quantity 11.13280861 Jy>"
      ]
     },
     "execution_count": 135,
     "metadata": {},
     "output_type": "execute_result"
    }
   ],
   "source": [
    "bolo11"
   ]
  },
  {
   "cell_type": "code",
   "execution_count": 136,
   "id": "0c3770e7-a539-4c82-a711-cb470d3c00b8",
   "metadata": {},
   "outputs": [
    {
     "data": {
      "text/latex": [
       "$80.429446 \\; \\mathrm{Jy}$"
      ],
      "text/plain": [
       "<Quantity 80.42944586 Jy>"
      ]
     },
     "execution_count": 136,
     "metadata": {},
     "output_type": "execute_result"
    }
   ],
   "source": [
    "atlas850"
   ]
  },
  {
   "cell_type": "code",
   "execution_count": 137,
   "id": "4d446baf-0ade-4bf4-a7e0-97f548147cfa",
   "metadata": {},
   "outputs": [],
   "source": [
    "sed = [(160*u.micron, pacs160, 'pacs', '160 um'), # pacsfn_1\n",
    "(70*u.micron, pacs70, 'pacs', '70 um'), # pacsfn_1\n",
    "(350*u.micron, her350, 'Herschel', '350 um'), # herfn_2\n",
    "(250*u.micron, her250, 'Herschel', '250 um'), # herfn_1\n",
    "(500*u.micron, her500, 'Herschel', '500 um'), # herfn_3\n",
    "((1.1*u.mm).to(u.micron), bolo11, 'Bolocam' ,'1.1 mm'), # Bolocam\n",
    "(850*u.micron, atlas850, 'ATLASGAL', '850 um')] # ATLASGAL\n",
    "#((353 * u.GHz).to(u.micron, equivalencies=u.spectral()), atlas850, 'ATLASGAL', '850 um')] # ATLASGAL"
   ]
  },
  {
   "cell_type": "code",
   "execution_count": 141,
   "id": "dcaa83f2-a10e-4431-93a3-008b7f8aa9b2",
   "metadata": {},
   "outputs": [
    {
     "name": "stdout",
     "output_type": "stream",
     "text": [
      "1293.3408711236984 Jy\n",
      "139.69878764504287 Jy\n",
      "696.3290434110337 Jy\n",
      "1296.7746088093395 Jy\n",
      "290.8775740884424 Jy\n",
      "11.132808608750626 Jy\n",
      "80.42944585935663 Jy\n"
     ]
    }
   ],
   "source": [
    "for s in sed: print(s[1])"
   ]
  },
  {
   "cell_type": "code",
   "execution_count": 117,
   "id": "8a4ebafe-86a5-492c-89a4-937d8b4c5f68",
   "metadata": {},
   "outputs": [],
   "source": [
    "#sed = [pacs160, pacs70, her350, her250, her500, bolo11, atlas850]"
   ]
  },
  {
   "cell_type": "code",
   "execution_count": 118,
   "id": "c47c599d-de6b-41ba-8e76-7811cc895b50",
   "metadata": {},
   "outputs": [
    {
     "data": {
      "text/latex": [
       "$849.27042 \\; \\mathrm{\\mu m}$"
      ],
      "text/plain": [
       "<Quantity 849.27041926 micron>"
      ]
     },
     "execution_count": 118,
     "metadata": {},
     "output_type": "execute_result"
    }
   ],
   "source": [
    "(353 * u.GHz).to(u.micron, equivalencies=u.spectral())"
   ]
  },
  {
   "cell_type": "code",
   "execution_count": 119,
   "id": "c3fa998b-56dc-489b-b87b-95daa5f9bf42",
   "metadata": {},
   "outputs": [],
   "source": [
    "freq = (np.linspace(70, 1100, num=100)*u.micron)#.to(u.GHz, equivalencies=u.spectral())\n",
    "tau = 1"
   ]
  },
  {
   "cell_type": "code",
   "execution_count": 120,
   "id": "646f80ed-6bbb-4928-8df0-c58270f3ae83",
   "metadata": {},
   "outputs": [],
   "source": [
    "import astropy.constants as const\n",
    "def planck_freq(nu, T):\n",
    "    nu = nu.to(u.Hz, equivalencies=u.spectral())\n",
    "    return (2 * const.h * nu**3 / const.c**2 ) * (np.exp(const.h*nu/(const.k_B*T)) - 1)**(-1)\n",
    "\n",
    "def planck_func(lamb, T):\n",
    "    lamb = lamb.to(u.m, equivalencies=u.spectral())\n",
    "    return (2*const.h*const.c**2 / lamb.to(u.m)**5) * (np.exp((const.h*const.c) / (lamb * const.k_B * T)) - 1)**(-1)\n",
    "\n",
    "#def Ray_Jeans():\n",
    "\n",
    "def blackbody(freq, beta, T):\n",
    "    b = planck_freq(freq, T)\n",
    "    mb = b * freq**(beta)\n",
    "    return mb\n",
    "\n",
    "#bb = blackbody(freq, 2, 10*u.K)# * u.sr**(-1) * (0.0020285287 * u.sr)"
   ]
  },
  {
   "cell_type": "code",
   "execution_count": 121,
   "id": "5ed6f6dd-cbdf-4a5a-9b88-d8a21a616075",
   "metadata": {},
   "outputs": [
    {
     "data": {
      "text/plain": [
       "<RectangleSkyRegion(center=<SkyCoord (FK5: equinox=J2000.000): (ra, dec) in deg\n",
       "    (268.26311519, -24.80525823)>, width=442.7754 arcsec, height=387.4292 arcsec, angle=0.0 deg)>"
      ]
     },
     "execution_count": 121,
     "metadata": {},
     "output_type": "execute_result"
    }
   ],
   "source": [
    "r0"
   ]
  },
  {
   "cell_type": "code",
   "execution_count": 122,
   "id": "82728ffd-7475-48cd-857d-cd82b51ff3c7",
   "metadata": {},
   "outputs": [],
   "source": [
    "from astropy.modeling import models\n",
    "from astropy import units as u\n",
    "freq = (np.geomspace(70, 1100, num=100)*u.micron)#.to(u.GHz, equivalencies=u.spectral())\n",
    "bb = models.BlackBody(temperature=10*u.K)\n",
    "bb = bb(freq.to(u.Hz, equivalencies=u.spectral()))\n",
    "# 10−23 erg⋅s−1⋅cm−2⋅Hz−1\n",
    "#help(r0)\n",
    "area = (r0.height*r0.width).to(u.sr)\n",
    "bb = (bb*area).to(u.Jy)\n",
    "beta=1\n",
    "nu=freq.to(u.Hz, equivalencies=u.spectral())\n",
    "#mbb = bb*(nu/nu.min())**beta"
   ]
  },
  {
   "cell_type": "code",
   "execution_count": 123,
   "id": "d2f6a8a4-ea5e-4cc1-84ad-a5c38c84bd9b",
   "metadata": {},
   "outputs": [
    {
     "data": {
      "text/latex": [
       "$47.651144 \\; \\mathrm{arcmin^{2}}$"
      ],
      "text/plain": [
       "<Quantity 47.65114417 arcmin2>"
      ]
     },
     "execution_count": 123,
     "metadata": {},
     "output_type": "execute_result"
    }
   ],
   "source": [
    "area.to(u.arcmin**2)"
   ]
  },
  {
   "cell_type": "code",
   "execution_count": 124,
   "id": "3c70d33c-e4a5-48e2-a36b-4a5378f2ee0b",
   "metadata": {},
   "outputs": [
    {
     "data": {
      "text/plain": [
       "(1, 5000.0)"
      ]
     },
     "execution_count": 124,
     "metadata": {},
     "output_type": "execute_result"
    },
    {
     "data": {
      "image/png": "[encoded data removed]",
      "text/plain": [
       "<Figure size 432x288 with 1 Axes>"
      ]
     },
     "metadata": {
      "needs_background": "light"
     },
     "output_type": "display_data"
    }
   ],
   "source": [
    "for point in sed: \n",
    "    #pl.scatter(point[0].to(u.GHz, equivalencies=u.spectral()), point[1], label=point[2])\n",
    "    pl.scatter(point[0], point[1], label=point[2])\n",
    "    #pl.legend()\n",
    "  \n",
    "pl.yscale('log')\n",
    "pl.xscale('log')\n",
    "pl.xlabel('Wavelength ($\\mu$m)')\n",
    "#pl.xlabel('Frequency (GHz)')\n",
    "pl.ylabel('Jy')\n",
    "bb = planck_freq(freq.to(u.Hz, u.spectral()), 20*u.K)*5e16\n",
    "#pl.plot()\n",
    "pl.plot(freq.to(u.micron, equivalencies=u.spectral()), bb*(nu/nu.min())**2)\n",
    "pl.plot(freq.to(u.micron, equivalencies=u.spectral()), bb*(nu/nu.min())**1)\n",
    "pl.plot(freq.to(u.micron, equivalencies=u.spectral()), bb)\n",
    "pl.plot(freq.to(u.um, u.spectral()), (nu/nu.min())**2 * 10)\n",
    "pl.plot(freq.to(u.um, u.spectral()), (nu/nu.min())**4 * 10)\n",
    "pl.title('SED')\n",
    "pl.ylim(1,5e3)"
   ]
  },
  {
   "cell_type": "code",
   "execution_count": 125,
   "id": "8f928073-401a-4521-9842-a81d792f2c98",
   "metadata": {},
   "outputs": [
    {
     "data": {
      "text/latex": [
       "$[1.993255,~2.4310249,~2.9420946,~3.5339231,~4.2138673,~4.9890243,~5.8660637,~6.8510552,~7.949296,~9.1651439,~10.501859,~11.961462,~13.544611,~15.250506,~17.076813,~19.019626,~21.073457,~23.23126,~25.484485,~27.823164,~30.236028,~32.710646,~35.23359,~37.790614,~40.366851,~42.947016,~45.515614,~48.057145,~50.55631,~52.998198,~55.368472,~57.653527,~59.840642,~61.9181,~63.875296,~65.702815,~67.392498,~68.937474,~70.332179,~71.572358,~72.655039,~73.578499,~74.342216,~74.946802,~75.393934,~75.686269,~75.827364,~75.821577,~75.673984,~75.390276,~74.976673,~74.439831,~73.786753,~73.024711,~72.161161,~71.203672,~70.159861,~69.037329,~67.843603,~66.586091,~65.272037,~63.908479,~62.502225,~61.059818,~59.58752,~58.091291,~56.576781,~55.049315,~53.513892,~51.975184,~50.437532,~48.904953,~47.381146,~45.869497,~44.373088,~42.89471,~41.436871,~40.00181,~38.591509,~37.207707,~35.851911,~34.525412,~33.229298,~31.964466,~30.731637,~29.531368,~28.364063,~27.229987,~26.129279,~25.061958,~24.027941,~23.027046,~22.059006,~21.123476,~20.220044,~19.348235,~18.507523,~17.697335,~16.917058,~16.166044] \\; \\mathrm{\\frac{Hz^{3}\\,s^{3}\\,J}{m^{2}}}$"
      ],
      "text/plain": [
       "<Quantity [ 1.99325497,  2.43102492,  2.94209464,  3.53392307,  4.21386728,\n",
       "            4.9890243 ,  5.86606369,  6.85105515,  7.94929605,  9.16514387,\n",
       "           10.50185887, 11.96146181, 13.54461149, 15.2505063 , 17.07681304,\n",
       "           19.01962593, 21.0734572 , 23.23126027, 25.48448502, 27.82316409,\n",
       "           30.23602799, 32.71064605, 35.23358964, 37.79061353, 40.36685068,\n",
       "           42.94701598, 45.51561387, 48.05714535, 50.5563099 , 52.9981981 ,\n",
       "           55.36847157, 57.65352703, 59.84064196, 61.91810014, 63.87529577,\n",
       "           65.7028155 , 67.39249831, 68.93747374, 70.33217921, 71.5723579 ,\n",
       "           72.65503853, 73.57849904, 74.34221608, 74.94680232, 75.3939338 ,\n",
       "           75.68626926, 75.82736363, 75.82157744, 75.67398402, 75.3902761 ,\n",
       "           74.97667312, 74.43983076, 73.7867535 , 73.02471124, 72.16116071,\n",
       "           71.20367211, 70.15986147, 69.03732892, 67.84360308, 66.58609142,\n",
       "           65.27203671, 63.9084793 , 62.50222494, 61.05981803, 59.58751984,\n",
       "           58.09129146, 56.57678099, 55.04931482, 53.5138923 , 51.97518383,\n",
       "           50.43753159, 48.90495296, 47.38114595, 45.86949658, 44.37308779,\n",
       "           42.89470968, 41.43687071, 40.00180981, 38.59150903, 37.20770666,\n",
       "           35.8519106 , 34.52541184, 33.22929791, 31.96446628, 30.73163748,\n",
       "           29.53136799, 28.36406269, 27.22998701, 26.12927855, 25.06195824,\n",
       "           24.02794101, 23.02704592, 22.05900575, 21.12347609, 20.22004387,\n",
       "           19.34823531, 18.50752348, 17.69733524, 16.9170577 , 16.16604427] Hz3 J s3 / m2>"
      ]
     },
     "execution_count": 125,
     "metadata": {},
     "output_type": "execute_result"
    }
   ],
   "source": [
    "bb"
   ]
  },
  {
   "cell_type": "code",
   "execution_count": 126,
   "id": "61e5fa41-23c1-4a33-ba93-1610e0be6a63",
   "metadata": {},
   "outputs": [
    {
     "data": {
      "text/plain": [
       "(<Quantity 850. micron>, <Quantity 18.15454738 Jy>, 'ATLASGAL', '850 um')"
      ]
     },
     "execution_count": 126,
     "metadata": {},
     "output_type": "execute_result"
    }
   ],
   "source": [
    "point"
   ]
  },
  {
   "cell_type": "code",
   "execution_count": null,
   "id": "afcf62f6-adc2-48cf-9ff7-786964927ed1",
   "metadata": {},
   "outputs": [],
   "source": []
  },
  {
   "cell_type": "code",
   "execution_count": null,
   "id": "6d4b8d43-9b36-46f7-8420-e9db511b6fb2",
   "metadata": {},
   "outputs": [],
   "source": []
  },
  {
   "cell_type": "code",
   "execution_count": 127,
   "id": "e14245e4-8787-42c9-919a-3143136ed936",
   "metadata": {},
   "outputs": [],
   "source": [
    "#u.Unit(hdul[0].header['BUNIT']) * pixelarea\n",
    "\n",
    "# erg/s/cm2/Angstrom/steradian\n"
   ]
  },
  {
   "cell_type": "code",
   "execution_count": null,
   "id": "c60b969f-4612-4df8-910b-7f1a8c4a7c47",
   "metadata": {},
   "outputs": [],
   "source": []
  },
  {
   "cell_type": "code",
   "execution_count": 128,
   "id": "a4b364b0-3147-46e6-a398-9fc969412c32",
   "metadata": {},
   "outputs": [],
   "source": [
    "# for bolocam (and maybe ATLASGAL?)\n",
    "import radio_beam "
   ]
  },
  {
   "cell_type": "code",
   "execution_count": 129,
   "id": "b7edf3d2-27c8-480a-8911-7285a82b8977",
   "metadata": {},
   "outputs": [],
   "source": [
    "from spectral_cube import SpectralCube"
   ]
  },
  {
   "cell_type": "code",
   "execution_count": 130,
   "id": "ce45e5f2-2482-40ca-83fa-51c6358f86a9",
   "metadata": {},
   "outputs": [
    {
     "name": "stderr",
     "output_type": "stream",
     "text": [
      "/blue/adamginsburg/adamginsburg/repos/casa-formats-io/casa_formats_io/casa_dask.py:247: RuntimeWarning: divide by zero encountered in long_scalars\n",
      "  factors = [f for f in range(stacks[dim] + 1) if stacks[dim] % f == 0]\n",
      "WARNING: StokesWarning: Cube is a Stokes cube, returning spectral cube for I component [spectral_cube.io.core]\n"
     ]
    }
   ],
   "source": [
    "cube = SpectralCube.read('../G5/sum/spw17_12CO/g5.12CO.spw17.im', format='casa_image')"
   ]
  },
  {
   "cell_type": "code",
   "execution_count": 131,
   "id": "f791b4cc-bc61-4d47-80d2-39907157dddf",
   "metadata": {},
   "outputs": [],
   "source": [
    "beam = cube.beam"
   ]
  },
  {
   "cell_type": "code",
   "execution_count": 132,
   "id": "99d154cd-b9ea-4561-863a-2b7662f19eca",
   "metadata": {},
   "outputs": [
    {
     "data": {
      "text/latex": [
       "$[10.1141,~10.11409,~10.114079,~\\dots,~10.092218,~10.092208,~10.092197] \\; \\mathrm{K}$"
      ],
      "text/plain": [
       "<Quantity [10.11410048, 10.11408977, 10.11407905, ..., 10.09221839,\n",
       "           10.09220771, 10.09219703] K>"
      ]
     },
     "execution_count": 132,
     "metadata": {},
     "output_type": "execute_result"
    }
   ],
   "source": [
    "beam.jtok(cube.spectral_axis) * 350 "
   ]
  },
  {
   "cell_type": "code",
   "execution_count": 133,
   "id": "2490235c-d03d-4a8e-a6e3-f20087557cea",
   "metadata": {},
   "outputs": [
    {
     "data": {
      "text/latex": [
       "Beam: BMAJ=$28.2287919999996^{''}$ BMIN=$28.2287919999996^{''}$ BPA=$30.19542724110654^\\circ$"
      ],
      "text/plain": [
       "Beam: BMAJ=28.2287919999996 arcsec BMIN=28.2287919999996 arcsec BPA=30.19542724110654 deg"
      ]
     },
     "execution_count": 133,
     "metadata": {},
     "output_type": "execute_result"
    }
   ],
   "source": [
    "beam"
   ]
  },
  {
   "cell_type": "code",
   "execution_count": 134,
   "id": "8b788243-7ebf-4958-b267-355ca23c9a91",
   "metadata": {},
   "outputs": [
    {
     "data": {
      "text/plain": [
       "WCS Keywords\n",
       "\n",
       "Number of WCS axes: 2\n",
       "CTYPE : 'GLON-TAN'  'GLAT-TAN'  \n",
       "CRVAL : 4.5  0.0  \n",
       "CRPIX : 1324.0  1527.0  \n",
       "PC1_1 PC1_2  : 1.0  0.0  \n",
       "PC2_1 PC2_2  : 0.0  1.0  \n",
       "CDELT : -0.000938207719922  0.000938207719922  \n",
       "NAXIS : 2647  3054"
      ]
     },
     "execution_count": 134,
     "metadata": {},
     "output_type": "execute_result"
    }
   ],
   "source": [
    "agalww"
   ]
  },
  {
   "cell_type": "code",
   "execution_count": 135,
   "id": "5824cfd4-32cb-46e4-a194-b674f5007c8b",
   "metadata": {},
   "outputs": [
    {
     "data": {
      "text/plain": [
       "<SkyCoord (Galactic): (l, b) in deg\n",
       "    [(5.48373485, -0.43198972), (5.48391308,  3.64186539),\n",
       "     (1.94669156,  3.64246849), (1.95356697, -0.43138927)]>"
      ]
     },
     "execution_count": 135,
     "metadata": {},
     "output_type": "execute_result"
    }
   ],
   "source": [
    "coordinates.SkyCoord([(x*u.deg) for x in cube.wcs.celestial.calc_footprint(agalhdul[0].header)], frame='galactic')"
   ]
  },
  {
   "cell_type": "code",
   "execution_count": 136,
   "id": "7e9d0ddc-53fa-470f-acff-77ba4ad5be1d",
   "metadata": {},
   "outputs": [],
   "source": [
    "# why didn't this work?  The world may never know.\n",
    "footprint = regions.PolygonSkyRegion(coordinates.SkyCoord([(x*u.deg) for x in cube.wcs.celestial.calc_footprint(agalhdul[0].header)], frame='galactic'))"
   ]
  },
  {
   "cell_type": "code",
   "execution_count": 137,
   "id": "70f873e7-b96a-4c79-91eb-65ce9eb59dff",
   "metadata": {},
   "outputs": [
    {
     "data": {
      "text/plain": [
       "<CompoundSkyRegion(region1=Region: RectangleSkyRegion\n",
       "center: <SkyCoord (Galactic): (l, b) in deg\n",
       "    (5.443749, -0.33346)>\n",
       "width: 277.0856 arcsec\n",
       "height: 671.9766 arcsec\n",
       "angle: 0.0 deg, region2=Region: RectangleSkyRegion\n",
       "center: <SkyCoord (Galactic): (l, b) in deg\n",
       "    (5.339672, -0.407246)>\n",
       "width: 481.3272 arcsec\n",
       "height: 154.4402 arcsec\n",
       "angle: 0.0 deg, operator=<built-in function or_>)>"
      ]
     },
     "execution_count": 137,
     "metadata": {},
     "output_type": "execute_result"
    }
   ],
   "source": [
    "footprint = regions.Regions.read('footprint.reg')\n",
    "footprint = footprint[0] | footprint[1]\n",
    "footprint"
   ]
  },
  {
   "cell_type": "code",
   "execution_count": 138,
   "id": "6f84dc07-df2c-4b1e-b13b-915472dcb05f",
   "metadata": {},
   "outputs": [],
   "source": [
    "footprint_pix = footprint.to_pixel(agalww)"
   ]
  },
  {
   "cell_type": "code",
   "execution_count": 139,
   "id": "c7e0aa83-ea98-4473-b2c9-13ea437bf17b",
   "metadata": {},
   "outputs": [
    {
     "data": {
      "text/plain": [
       "<CompoundPixelRegion(region1=Region: RectanglePixelRegion\n",
       "center: PixCoord(x=317.00277879021996, y=1170.5254080618492)\n",
       "width: 82.05141383527044\n",
       "height: 198.98771388414983\n",
       "angle: -3.739444309758255e-10 deg, region2=Region: RectanglePixelRegion\n",
       "center: PixCoord(x=427.9614072493372, y=1091.8780178410116)\n",
       "width: 142.53038755997534\n",
       "height: 45.7327605022947\n",
       "angle: 5.851234163856134e-09 deg, operator=<built-in function or_>)>"
      ]
     },
     "execution_count": 139,
     "metadata": {},
     "output_type": "execute_result"
    }
   ],
   "source": [
    "footprint_pix"
   ]
  },
  {
   "cell_type": "code",
   "execution_count": 140,
   "id": "2cc2bc44-a8ac-409d-aff6-686626bf750d",
   "metadata": {},
   "outputs": [
    {
     "data": {
      "text/plain": [
       "<matplotlib.image.AxesImage at 0x2b29a1c4b9a0>"
      ]
     },
     "execution_count": 140,
     "metadata": {},
     "output_type": "execute_result"
    },
    {
     "data": {
      "image/png": "[encoded data removed]",
      "text/plain": [
       "<Figure size 432x288 with 1 Axes>"
      ]
     },
     "metadata": {
      "needs_background": "light"
     },
     "output_type": "display_data"
    }
   ],
   "source": [
    "pl.imshow(footprint_pix.to_mask().multiply(agalhdul[0].data), origin='lower')"
   ]
  },
  {
   "cell_type": "code",
   "execution_count": 141,
   "id": "8fc8ccd7-9e72-4aee-a819-4b7df20b9c62",
   "metadata": {},
   "outputs": [
    {
     "name": "stdout",
     "output_type": "stream",
     "text": [
      "bigreg.reg  footprint.reg  g5-highvelo.reg  g5-lowvelo.reg  noisy.reg\n"
     ]
    }
   ],
   "source": [
    "ls *.reg"
   ]
  },
  {
   "cell_type": "code",
   "execution_count": null,
   "id": "86464a2b-8d7c-4575-a038-3e9020c19f38",
   "metadata": {},
   "outputs": [],
   "source": []
  },
  {
   "cell_type": "code",
   "execution_count": null,
   "id": "4a6ebf9e-8556-4fd5-98b5-7034aec4bc47",
   "metadata": {},
   "outputs": [],
   "source": []
  },
  {
   "cell_type": "code",
   "execution_count": null,
   "id": "d65a3947-1990-4c66-abdc-384c693e34be",
   "metadata": {},
   "outputs": [],
   "source": []
  },
  {
   "cell_type": "code",
   "execution_count": 142,
   "id": "d685e541-b7e5-499f-8bbb-292b42b19aeb",
   "metadata": {},
   "outputs": [],
   "source": [
    "import dust_emissivity"
   ]
  },
  {
   "cell_type": "code",
   "execution_count": 143,
   "id": "7acc41cb-da86-4acd-96b4-255c928951d5",
   "metadata": {},
   "outputs": [
    {
     "data": {
      "text/plain": [
       "\u001b[0;31mSignature:\u001b[0m\n",
       "\u001b[0mdust_emissivity\u001b[0m\u001b[0;34m.\u001b[0m\u001b[0mdust\u001b[0m\u001b[0;34m.\u001b[0m\u001b[0mmassofsnu\u001b[0m\u001b[0;34m(\u001b[0m\u001b[0;34m\u001b[0m\n",
       "\u001b[0;34m\u001b[0m    \u001b[0mnu\u001b[0m\u001b[0;34m,\u001b[0m\u001b[0;34m\u001b[0m\n",
       "\u001b[0;34m\u001b[0m    \u001b[0msnu\u001b[0m\u001b[0;34m,\u001b[0m\u001b[0;34m\u001b[0m\n",
       "\u001b[0;34m\u001b[0m    \u001b[0mdistance\u001b[0m\u001b[0;34m=\u001b[0m\u001b[0;34m<\u001b[0m\u001b[0mQuantity\u001b[0m \u001b[0;36m1.\u001b[0m \u001b[0mkpc\u001b[0m\u001b[0;34m>\u001b[0m\u001b[0;34m,\u001b[0m\u001b[0;34m\u001b[0m\n",
       "\u001b[0;34m\u001b[0m    \u001b[0mtemperature\u001b[0m\u001b[0;34m=\u001b[0m\u001b[0;34m<\u001b[0m\u001b[0mQuantity\u001b[0m \u001b[0;36m20.\u001b[0m \u001b[0mK\u001b[0m\u001b[0;34m>\u001b[0m\u001b[0;34m,\u001b[0m\u001b[0;34m\u001b[0m\n",
       "\u001b[0;34m\u001b[0m    \u001b[0mmuh2\u001b[0m\u001b[0;34m=\u001b[0m\u001b[0;36m2.8\u001b[0m\u001b[0;34m,\u001b[0m\u001b[0;34m\u001b[0m\n",
       "\u001b[0;34m\u001b[0m    \u001b[0mbeta\u001b[0m\u001b[0;34m=\u001b[0m\u001b[0;36m1.75\u001b[0m\u001b[0;34m,\u001b[0m\u001b[0;34m\u001b[0m\n",
       "\u001b[0;34m\u001b[0m    \u001b[0mbeamomega\u001b[0m\u001b[0;34m=\u001b[0m\u001b[0;34m<\u001b[0m\u001b[0mQuantity\u001b[0m \u001b[0;36m1.\u001b[0m \u001b[0msr\u001b[0m\u001b[0;34m>\u001b[0m\u001b[0;34m,\u001b[0m\u001b[0;34m\u001b[0m\n",
       "\u001b[0;34m\u001b[0m\u001b[0;34m)\u001b[0m\u001b[0;34m\u001b[0m\u001b[0;34m\u001b[0m\u001b[0m\n",
       "\u001b[0;31mDocstring:\u001b[0m <no docstring>\n",
       "\u001b[0;31mFile:\u001b[0m      /blue/adamginsburg/adamginsburg/repos/dust_emissivity/dust_emissivity/dust.py\n",
       "\u001b[0;31mType:\u001b[0m      function\n"
      ]
     },
     "metadata": {},
     "output_type": "display_data"
    }
   ],
   "source": [
    "dust_emissivity.dust.massofsnu?"
   ]
  },
  {
   "cell_type": "code",
   "execution_count": 144,
   "id": "a3975297-ce4e-482a-868d-4f693f2be1fa",
   "metadata": {},
   "outputs": [
    {
     "data": {
      "text/latex": [
       "$8812.072 \\; \\mathrm{M_{\\odot}}$"
      ],
      "text/plain": [
       "<Quantity 8812.07200452 solMass>"
      ]
     },
     "execution_count": 144,
     "metadata": {},
     "output_type": "execute_result"
    }
   ],
   "source": [
    "dust_emissivity.dust.massofsnu(271.1*u.GHz, 4.7052907*u.Jy, 7*u.kpc, temperature=10*u.K)"
   ]
  },
  {
   "cell_type": "code",
   "execution_count": 145,
   "id": "1162e8dc-2040-470e-b8dc-3e1c7ad792f5",
   "metadata": {},
   "outputs": [
    {
     "data": {
      "text/latex": [
       "$3021.3818 \\; \\mathrm{M_{\\odot}}$"
      ],
      "text/plain": [
       "<Quantity 3021.38184981 solMass>"
      ]
     },
     "execution_count": 145,
     "metadata": {},
     "output_type": "execute_result"
    }
   ],
   "source": [
    "dust_emissivity.dust.massofsnu(271.1*u.GHz, 4.7052907*u.Jy, 7*u.kpc, temperature=20*u.K)"
   ]
  },
  {
   "cell_type": "code",
   "execution_count": 146,
   "id": "04ab20f9-7224-43e4-9a78-81942ca3c042",
   "metadata": {},
   "outputs": [
    {
     "data": {
      "text/latex": [
       "$4682.0021 \\; \\mathrm{M_{\\odot}}$"
      ],
      "text/plain": [
       "<Quantity 4682.00208202 solMass>"
      ]
     },
     "execution_count": 146,
     "metadata": {},
     "output_type": "execute_result"
    }
   ],
   "source": [
    "dust_emissivity.dust.massofsnu(271.1*u.GHz, 2.5*u.Jy, 7*u.kpc, temperature=10*u.K)"
   ]
  },
  {
   "cell_type": "code",
   "execution_count": 147,
   "id": "1f109e27-8e2a-4713-b5e3-40af48c9e8be",
   "metadata": {},
   "outputs": [
    {
     "data": {
      "text/latex": [
       "$4682.0021 \\; \\mathrm{M_{\\odot}}$"
      ],
      "text/plain": [
       "<Quantity 4682.00208202 solMass>"
      ]
     },
     "execution_count": 147,
     "metadata": {},
     "output_type": "execute_result"
    }
   ],
   "source": [
    "dust_emissivity.dust.massofsnu(271.1*u.GHz, 2.5*u.Jy, 7*u.kpc, temperature=10*u.K, beta=1.0)"
   ]
  },
  {
   "cell_type": "code",
   "execution_count": 148,
   "id": "d669ea6a-2248-4cd4-aea1-1a248eb8d058",
   "metadata": {},
   "outputs": [
    {
     "data": {
      "text/latex": [
       "$4682.0021 \\; \\mathrm{M_{\\odot}}$"
      ],
      "text/plain": [
       "<Quantity 4682.00208202 solMass>"
      ]
     },
     "execution_count": 148,
     "metadata": {},
     "output_type": "execute_result"
    }
   ],
   "source": [
    "dust_emissivity.dust.massofsnu(271.1*u.GHz, 2.5*u.Jy, 7*u.kpc, temperature=10*u.K, beta=2.0)"
   ]
  },
  {
   "cell_type": "code",
   "execution_count": 149,
   "id": "1e00fd96-1c06-41a2-ab97-9c8ba009fb8f",
   "metadata": {},
   "outputs": [
    {
     "data": {
      "text/latex": [
       "$344.58903 \\; \\mathrm{GHz}$"
      ],
      "text/plain": [
       "<Quantity 344.58903218 GHz>"
      ]
     },
     "execution_count": 149,
     "metadata": {},
     "output_type": "execute_result"
    }
   ],
   "source": [
    "(870*u.um).to(u.GHz, u.spectral())"
   ]
  },
  {
   "cell_type": "code",
   "execution_count": 150,
   "id": "10db1614-e6bf-45f1-a1da-c924b8bcf50b",
   "metadata": {},
   "outputs": [
    {
     "data": {
      "text/latex": [
       "$44466.042 \\; \\mathrm{M_{\\odot}}$"
      ],
      "text/plain": [
       "<Quantity 44466.04165556 solMass>"
      ]
     },
     "execution_count": 150,
     "metadata": {},
     "output_type": "execute_result"
    }
   ],
   "source": [
    "dust_emissivity.dust.massofsnu(345*u.GHz, 50*u.Jy, 7*u.kpc, temperature=10*u.K, beta=2.0)"
   ]
  },
  {
   "cell_type": "code",
   "execution_count": 151,
   "id": "3d9a6eef-2fb5-4c28-99d2-70aa3a931d53",
   "metadata": {},
   "outputs": [
    {
     "data": {
      "text/latex": [
       "$56587.18 \\; \\mathrm{M_{\\odot}}$"
      ],
      "text/plain": [
       "<Quantity 56587.17953215 solMass>"
      ]
     },
     "execution_count": 151,
     "metadata": {},
     "output_type": "execute_result"
    }
   ],
   "source": [
    "dust_emissivity.dust.massofsnu(345*u.GHz, 50*u.Jy, 7*u.kpc, temperature=10*u.K, beta=1.0)"
   ]
  },
  {
   "cell_type": "code",
   "execution_count": 152,
   "id": "71e6c41a-6c53-4c14-94bb-0d4833420477",
   "metadata": {},
   "outputs": [
    {
     "data": {
      "text/latex": [
       "$17207.921 \\; \\mathrm{M_{\\odot}}$"
      ],
      "text/plain": [
       "<Quantity 17207.92081284 solMass>"
      ]
     },
     "execution_count": 152,
     "metadata": {},
     "output_type": "execute_result"
    }
   ],
   "source": [
    "dust_emissivity.dust.massofsnu(345*u.GHz, 50*u.Jy, 7*u.kpc, temperature=20*u.K, beta=1.0)"
   ]
  },
  {
   "cell_type": "code",
   "execution_count": 153,
   "id": "8a0e5062-7354-4a0d-8ead-fba550657ac1",
   "metadata": {},
   "outputs": [
    {
     "data": {
      "text/latex": [
       "$13521.934 \\; \\mathrm{M_{\\odot}}$"
      ],
      "text/plain": [
       "<Quantity 13521.9342967 solMass>"
      ]
     },
     "execution_count": 153,
     "metadata": {},
     "output_type": "execute_result"
    }
   ],
   "source": [
    "dust_emissivity.dust.massofsnu(345*u.GHz, 50*u.Jy, 7*u.kpc, temperature=20*u.K, beta=2.0)"
   ]
  },
  {
   "cell_type": "code",
   "execution_count": 154,
   "id": "7396dfb9-f83f-49b5-b4be-2cb3d9216c7d",
   "metadata": {},
   "outputs": [],
   "source": [
    "pacs160_1 = 358.38372 * u.Jy\n",
    "pacs70_1 = 31.272129 * u.Jy\n",
    "her350_1 = 184.0481 * u.Jy\n",
    "her250_1 = 320.71168 * u.Jy\n",
    "her500_1 = 78.398848 * u.Jy\n",
    "bolo11_1 = 4.7052907 * u.Jy\n",
    "atlas850_1 = 22.663 * u.Jy"
   ]
  },
  {
   "cell_type": "code",
   "execution_count": 155,
   "id": "79479b4b-346f-4261-a5e6-b0cd2867abfe",
   "metadata": {},
   "outputs": [],
   "source": [
    "sed_1 = [(160*u.micron, pacs160_1, 'pacs', '160 um'), # pacsfn_1\n",
    "(70*u.micron, pacs70_1, 'pacs', '70 um'), # pacsfn_1\n",
    "(350*u.micron, her350_1, 'Herschel', '350 um'), # herfn_2\n",
    "(250*u.micron, her250_1, 'Herschel', '250 um'), # herfn_1\n",
    "(500*u.micron, her500_1, 'Herschel', '500 um'), # herfn_3\n",
    "((1.1*u.mm).to(u.micron), bolo11_1, 'Bolocam' ,'1.1 mm'), # Bolocam\n",
    "(850*u.micron, atlas850_1, 'ATLASGAL', '850 um')] # ATLASGAL\n",
    "#((353 * u.GHz).to(u.micron, equivalencies=u.spectral()), atlas850_1, 'ATLASGAL', '850 um')] # ATLASGAL"
   ]
  },
  {
   "cell_type": "code",
   "execution_count": 156,
   "id": "464ac5e2-8552-4a52-9f14-580aefd0c0c1",
   "metadata": {},
   "outputs": [
    {
     "data": {
      "text/plain": [
       "[(<Quantity 160. micron>, <Quantity 690.54000925 Jy>, 'pacs', '160 um'),\n",
       " (<Quantity 70. micron>, <Quantity 191.99579668 Jy>, 'pacs', '70 um'),\n",
       " (<Quantity 350. micron>, <Quantity 157.12776298 Jy>, 'Herschel', '350 um'),\n",
       " (<Quantity 250. micron>, <Quantity 361.35561246 Jy>, 'Herschel', '250 um'),\n",
       " (<Quantity 500. micron>, <Quantity 54.66479363 Jy>, 'Herschel', '500 um'),\n",
       " (<Quantity 1100. micron>, <Quantity nan Jy>, 'Bolocam', '1.1 mm'),\n",
       " (<Quantity 850. micron>, <Quantity 18.15454738 Jy>, 'ATLASGAL', '850 um')]"
      ]
     },
     "execution_count": 156,
     "metadata": {},
     "output_type": "execute_result"
    }
   ],
   "source": [
    "sed"
   ]
  },
  {
   "cell_type": "code",
   "execution_count": 157,
   "id": "1bed4473-a9e0-4675-b76b-b8913067a88a",
   "metadata": {
    "tags": []
   },
   "outputs": [
    {
     "ename": "UnitConversionError",
     "evalue": "'Jy' (spectral flux density) and 'erg / (cm2 Hz s sr)' are not convertible",
     "output_type": "error",
     "traceback": [
      "\u001b[0;31m---------------------------------------------------------------------------\u001b[0m",
      "\u001b[0;31mUnitConversionError\u001b[0m                       Traceback (most recent call last)",
      "\u001b[0;32m/scratch/local/44348575/ipykernel_94727/279836379.py\u001b[0m in \u001b[0;36m<module>\u001b[0;34m\u001b[0m\n\u001b[0;32m----> 1\u001b[0;31m modfit = dust_emissivity.fit_sed.fit_modified_bb(xdata=u.Quantity([p[0] for p in sed]).to(u.Hz, u.spectral()),\n\u001b[0m\u001b[1;32m      2\u001b[0m                                         \u001b[0mflux\u001b[0m\u001b[0;34m=\u001b[0m\u001b[0mu\u001b[0m\u001b[0;34m.\u001b[0m\u001b[0mQuantity\u001b[0m\u001b[0;34m(\u001b[0m\u001b[0;34m[\u001b[0m\u001b[0mp\u001b[0m\u001b[0;34m[\u001b[0m\u001b[0;36m1\u001b[0m\u001b[0;34m]\u001b[0m \u001b[0;32mfor\u001b[0m \u001b[0mp\u001b[0m \u001b[0;32min\u001b[0m \u001b[0msed\u001b[0m\u001b[0;34m]\u001b[0m\u001b[0;34m)\u001b[0m\u001b[0;34m,\u001b[0m\u001b[0;34m\u001b[0m\u001b[0;34m\u001b[0m\u001b[0m\n\u001b[1;32m      3\u001b[0m                                         \u001b[0merror\u001b[0m\u001b[0;34m=\u001b[0m\u001b[0mu\u001b[0m\u001b[0;34m.\u001b[0m\u001b[0mQuantity\u001b[0m\u001b[0;34m(\u001b[0m\u001b[0;34m[\u001b[0m\u001b[0;36m1\u001b[0m\u001b[0;34m*\u001b[0m\u001b[0mu\u001b[0m\u001b[0;34m.\u001b[0m\u001b[0mJy\u001b[0m \u001b[0;32mfor\u001b[0m \u001b[0mp\u001b[0m \u001b[0;32min\u001b[0m \u001b[0msed\u001b[0m\u001b[0;34m]\u001b[0m\u001b[0;34m)\u001b[0m\u001b[0;34m,\u001b[0m\u001b[0;34m\u001b[0m\u001b[0;34m\u001b[0m\u001b[0m\n\u001b[1;32m      4\u001b[0m                                         \u001b[0mguesses\u001b[0m\u001b[0;34m=\u001b[0m\u001b[0;34m[\u001b[0m\u001b[0;36m50\u001b[0m\u001b[0;34m*\u001b[0m\u001b[0mu\u001b[0m\u001b[0;34m.\u001b[0m\u001b[0mK\u001b[0m\u001b[0;34m,\u001b[0m \u001b[0;36m2\u001b[0m\u001b[0;34m,\u001b[0m \u001b[0;36m1e22\u001b[0m\u001b[0;34m*\u001b[0m\u001b[0mu\u001b[0m\u001b[0;34m.\u001b[0m\u001b[0mcm\u001b[0m\u001b[0;34m**\u001b[0m\u001b[0;34m-\u001b[0m\u001b[0;36m2\u001b[0m\u001b[0;34m]\u001b[0m\u001b[0;34m,\u001b[0m\u001b[0;34m\u001b[0m\u001b[0;34m\u001b[0m\u001b[0m\n\u001b[1;32m      5\u001b[0m                                         \u001b[0mfitter\u001b[0m\u001b[0;34m=\u001b[0m\u001b[0;34m'lmfit'\u001b[0m\u001b[0;34m\u001b[0m\u001b[0;34m\u001b[0m\u001b[0m\n",
      "\u001b[0;32m/blue/adamginsburg/adamginsburg/repos/dust_emissivity/dust_emissivity/fit_sed.py\u001b[0m in \u001b[0;36mfit_modified_bb\u001b[0;34m(xdata, flux, error, guesses, fitter, return_error, **kwargs)\u001b[0m\n\u001b[1;32m     61\u001b[0m     \u001b[0mbbunit\u001b[0m \u001b[0;34m=\u001b[0m \u001b[0mu\u001b[0m\u001b[0;34m.\u001b[0m\u001b[0merg\u001b[0m\u001b[0;34m/\u001b[0m\u001b[0mu\u001b[0m\u001b[0;34m.\u001b[0m\u001b[0mcm\u001b[0m\u001b[0;34m**\u001b[0m\u001b[0;36m2\u001b[0m\u001b[0;34m/\u001b[0m\u001b[0mu\u001b[0m\u001b[0;34m.\u001b[0m\u001b[0ms\u001b[0m\u001b[0;34m/\u001b[0m\u001b[0mu\u001b[0m\u001b[0;34m.\u001b[0m\u001b[0mHz\u001b[0m\u001b[0;34m/\u001b[0m\u001b[0mu\u001b[0m\u001b[0;34m.\u001b[0m\u001b[0msr\u001b[0m\u001b[0;34m\u001b[0m\u001b[0;34m\u001b[0m\u001b[0m\n\u001b[1;32m     62\u001b[0m     \u001b[0mx\u001b[0m \u001b[0;34m=\u001b[0m \u001b[0mxdata\u001b[0m\u001b[0;34m.\u001b[0m\u001b[0mto\u001b[0m\u001b[0;34m(\u001b[0m\u001b[0mu\u001b[0m\u001b[0;34m.\u001b[0m\u001b[0mHz\u001b[0m\u001b[0;34m)\u001b[0m\u001b[0;34m.\u001b[0m\u001b[0mvalue\u001b[0m\u001b[0;34m\u001b[0m\u001b[0;34m\u001b[0m\u001b[0m\n\u001b[0;32m---> 63\u001b[0;31m     \u001b[0mfx\u001b[0m \u001b[0;34m=\u001b[0m \u001b[0mflux\u001b[0m\u001b[0;34m.\u001b[0m\u001b[0mto\u001b[0m\u001b[0;34m(\u001b[0m\u001b[0mbbunit\u001b[0m\u001b[0;34m)\u001b[0m\u001b[0;34m.\u001b[0m\u001b[0mvalue\u001b[0m\u001b[0;34m\u001b[0m\u001b[0;34m\u001b[0m\u001b[0m\n\u001b[0m\u001b[1;32m     64\u001b[0m     \u001b[0merr\u001b[0m \u001b[0;34m=\u001b[0m \u001b[0merror\u001b[0m\u001b[0;34m.\u001b[0m\u001b[0mto\u001b[0m\u001b[0;34m(\u001b[0m\u001b[0mbbunit\u001b[0m\u001b[0;34m)\u001b[0m\u001b[0;34m.\u001b[0m\u001b[0mvalue\u001b[0m \u001b[0;32mif\u001b[0m \u001b[0merror\u001b[0m \u001b[0;32mis\u001b[0m \u001b[0;32mnot\u001b[0m \u001b[0;32mNone\u001b[0m \u001b[0;32melse\u001b[0m \u001b[0;32mNone\u001b[0m\u001b[0;34m\u001b[0m\u001b[0;34m\u001b[0m\u001b[0m\n\u001b[1;32m     65\u001b[0m \u001b[0;34m\u001b[0m\u001b[0m\n",
      "\u001b[0;32m/blue/adamginsburg/adamginsburg/repos/astropy/astropy/units/quantity.py\u001b[0m in \u001b[0;36mto\u001b[0;34m(self, unit, equivalencies, copy)\u001b[0m\n\u001b[1;32m    844\u001b[0m             \u001b[0;31m# Avoid using to_value to ensure that we make a copy. We also\u001b[0m\u001b[0;34m\u001b[0m\u001b[0;34m\u001b[0m\u001b[0m\n\u001b[1;32m    845\u001b[0m             \u001b[0;31m# don't want to slow down this method (esp. the scalar case).\u001b[0m\u001b[0;34m\u001b[0m\u001b[0;34m\u001b[0m\u001b[0m\n\u001b[0;32m--> 846\u001b[0;31m             \u001b[0mvalue\u001b[0m \u001b[0;34m=\u001b[0m \u001b[0mself\u001b[0m\u001b[0;34m.\u001b[0m\u001b[0m_to_value\u001b[0m\u001b[0;34m(\u001b[0m\u001b[0munit\u001b[0m\u001b[0;34m,\u001b[0m \u001b[0mequivalencies\u001b[0m\u001b[0;34m)\u001b[0m\u001b[0;34m\u001b[0m\u001b[0;34m\u001b[0m\u001b[0m\n\u001b[0m\u001b[1;32m    847\u001b[0m         \u001b[0;32melse\u001b[0m\u001b[0;34m:\u001b[0m\u001b[0;34m\u001b[0m\u001b[0;34m\u001b[0m\u001b[0m\n\u001b[1;32m    848\u001b[0m             \u001b[0;31m# to_value only copies if necessary\u001b[0m\u001b[0;34m\u001b[0m\u001b[0;34m\u001b[0m\u001b[0m\n",
      "\u001b[0;32m/blue/adamginsburg/adamginsburg/repos/astropy/astropy/units/quantity.py\u001b[0m in \u001b[0;36m_to_value\u001b[0;34m(self, unit, equivalencies)\u001b[0m\n\u001b[1;32m    798\u001b[0m         \u001b[0;32mif\u001b[0m \u001b[0;32mnot\u001b[0m \u001b[0mself\u001b[0m\u001b[0;34m.\u001b[0m\u001b[0mdtype\u001b[0m\u001b[0;34m.\u001b[0m\u001b[0mnames\u001b[0m \u001b[0;32mor\u001b[0m \u001b[0misinstance\u001b[0m\u001b[0;34m(\u001b[0m\u001b[0mself\u001b[0m\u001b[0;34m.\u001b[0m\u001b[0munit\u001b[0m\u001b[0;34m,\u001b[0m \u001b[0mStructuredUnit\u001b[0m\u001b[0;34m)\u001b[0m\u001b[0;34m:\u001b[0m\u001b[0;34m\u001b[0m\u001b[0;34m\u001b[0m\u001b[0m\n\u001b[1;32m    799\u001b[0m             \u001b[0;31m# Standard path, let unit to do work.\u001b[0m\u001b[0;34m\u001b[0m\u001b[0;34m\u001b[0m\u001b[0m\n\u001b[0;32m--> 800\u001b[0;31m             return self.unit.to(unit, self.view(np.ndarray),\n\u001b[0m\u001b[1;32m    801\u001b[0m                                 equivalencies=equivalencies)\n\u001b[1;32m    802\u001b[0m \u001b[0;34m\u001b[0m\u001b[0m\n",
      "\u001b[0;32m/blue/adamginsburg/adamginsburg/repos/astropy/astropy/units/core.py\u001b[0m in \u001b[0;36mto\u001b[0;34m(self, other, value, equivalencies)\u001b[0m\n\u001b[1;32m   1129\u001b[0m             \u001b[0;32mreturn\u001b[0m \u001b[0mUNITY\u001b[0m\u001b[0;34m\u001b[0m\u001b[0;34m\u001b[0m\u001b[0m\n\u001b[1;32m   1130\u001b[0m         \u001b[0;32melse\u001b[0m\u001b[0;34m:\u001b[0m\u001b[0;34m\u001b[0m\u001b[0;34m\u001b[0m\u001b[0m\n\u001b[0;32m-> 1131\u001b[0;31m             return self._get_converter(Unit(other),\n\u001b[0m\u001b[1;32m   1132\u001b[0m                                        equivalencies=equivalencies)(value)\n\u001b[1;32m   1133\u001b[0m \u001b[0;34m\u001b[0m\u001b[0m\n",
      "\u001b[0;32m/blue/adamginsburg/adamginsburg/repos/astropy/astropy/units/core.py\u001b[0m in \u001b[0;36m_get_converter\u001b[0;34m(self, other, equivalencies)\u001b[0m\n\u001b[1;32m   1060\u001b[0m                             \u001b[0;32mpass\u001b[0m\u001b[0;34m\u001b[0m\u001b[0;34m\u001b[0m\u001b[0m\n\u001b[1;32m   1061\u001b[0m \u001b[0;34m\u001b[0m\u001b[0m\n\u001b[0;32m-> 1062\u001b[0;31m             \u001b[0;32mraise\u001b[0m \u001b[0mexc\u001b[0m\u001b[0;34m\u001b[0m\u001b[0;34m\u001b[0m\u001b[0m\n\u001b[0m\u001b[1;32m   1063\u001b[0m \u001b[0;34m\u001b[0m\u001b[0m\n\u001b[1;32m   1064\u001b[0m     \u001b[0;32mdef\u001b[0m \u001b[0m_to\u001b[0m\u001b[0;34m(\u001b[0m\u001b[0mself\u001b[0m\u001b[0;34m,\u001b[0m \u001b[0mother\u001b[0m\u001b[0;34m)\u001b[0m\u001b[0;34m:\u001b[0m\u001b[0;34m\u001b[0m\u001b[0;34m\u001b[0m\u001b[0m\n",
      "\u001b[0;32m/blue/adamginsburg/adamginsburg/repos/astropy/astropy/units/core.py\u001b[0m in \u001b[0;36m_get_converter\u001b[0;34m(self, other, equivalencies)\u001b[0m\n\u001b[1;32m   1045\u001b[0m         \u001b[0;31m# if that doesn't work, maybe we can do it with equivalencies?\u001b[0m\u001b[0;34m\u001b[0m\u001b[0;34m\u001b[0m\u001b[0m\n\u001b[1;32m   1046\u001b[0m         \u001b[0;32mtry\u001b[0m\u001b[0;34m:\u001b[0m\u001b[0;34m\u001b[0m\u001b[0;34m\u001b[0m\u001b[0m\n\u001b[0;32m-> 1047\u001b[0;31m             return self._apply_equivalencies(\n\u001b[0m\u001b[1;32m   1048\u001b[0m                 self, other, self._normalize_equivalencies(equivalencies))\n\u001b[1;32m   1049\u001b[0m         \u001b[0;32mexcept\u001b[0m \u001b[0mUnitsError\u001b[0m \u001b[0;32mas\u001b[0m \u001b[0mexc\u001b[0m\u001b[0;34m:\u001b[0m\u001b[0;34m\u001b[0m\u001b[0;34m\u001b[0m\u001b[0m\n",
      "\u001b[0;32m/blue/adamginsburg/adamginsburg/repos/astropy/astropy/units/core.py\u001b[0m in \u001b[0;36m_apply_equivalencies\u001b[0;34m(self, unit, other, equivalencies)\u001b[0m\n\u001b[1;32m   1021\u001b[0m         \u001b[0mother_str\u001b[0m \u001b[0;34m=\u001b[0m \u001b[0mget_err_str\u001b[0m\u001b[0;34m(\u001b[0m\u001b[0mother\u001b[0m\u001b[0;34m)\u001b[0m\u001b[0;34m\u001b[0m\u001b[0;34m\u001b[0m\u001b[0m\n\u001b[1;32m   1022\u001b[0m \u001b[0;34m\u001b[0m\u001b[0m\n\u001b[0;32m-> 1023\u001b[0;31m         raise UnitConversionError(\n\u001b[0m\u001b[1;32m   1024\u001b[0m             f\"{unit_str} and {other_str} are not convertible\")\n\u001b[1;32m   1025\u001b[0m \u001b[0;34m\u001b[0m\u001b[0m\n",
      "\u001b[0;31mUnitConversionError\u001b[0m: 'Jy' (spectral flux density) and 'erg / (cm2 Hz s sr)' are not convertible"
     ]
    }
   ],
   "source": [
    "modfit = dust_emissivity.fit_sed.fit_modified_bb(xdata=u.Quantity([p[0] for p in sed]).to(u.Hz, u.spectral()),\n",
    "                                        flux=u.Quantity([p[1] for p in sed]),\n",
    "                                        error=u.Quantity([1*u.Jy for p in sed]),\n",
    "                                        guesses=[50*u.K, 2, 1e22*u.cm**-2],\n",
    "                                        fitter='lmfit'\n",
    "                                       )"
   ]
  },
  {
   "cell_type": "code",
   "execution_count": null,
   "id": "5123c3a7-59c8-44b1-af6f-512563072a07",
   "metadata": {},
   "outputs": [],
   "source": [
    "modfit"
   ]
  },
  {
   "cell_type": "code",
   "execution_count": null,
   "id": "2acaba35-c532-4810-ba5f-df8f61903877",
   "metadata": {},
   "outputs": [],
   "source": [
    "sed_1"
   ]
  },
  {
   "cell_type": "code",
   "execution_count": null,
   "id": "e19d348f-7fd6-4894-88fb-e0da3f492a8b",
   "metadata": {},
   "outputs": [],
   "source": [
    "modfit_1 = dust_emissivity.fit_sed.fit_modified_bb(xdata=u.Quantity([p[0] for p in sed_1]).to(u.Hz, u.spectral()),\n",
    "                                        flux=u.Quantity([p[1] for p in sed_1]),\n",
    "                                        error=u.Quantity([1*u.Jy for p in sed_1]),\n",
    "                                        guesses=[50*u.K, 2, 1e22*u.cm**-2],\n",
    "                                        fitter='lmfit'\n",
    "                                       )"
   ]
  },
  {
   "cell_type": "code",
   "execution_count": null,
   "id": "6abe525a-5b90-4dac-bed3-b209f6c4ef28",
   "metadata": {},
   "outputs": [],
   "source": [
    "modfit_1"
   ]
  },
  {
   "cell_type": "code",
   "execution_count": null,
   "id": "d32c237b-fe24-4bb6-9c9b-9fd9317ab624",
   "metadata": {},
   "outputs": [],
   "source": [
    "flux=u.Quantity([p[1] for p in sed])\n",
    "error=u.Quantity([(1*u.Jy) for p in sed])"
   ]
  },
  {
   "cell_type": "code",
   "execution_count": null,
   "id": "95748561-216c-43c3-8e7f-e1d22bb347d5",
   "metadata": {
    "tags": []
   },
   "outputs": [],
   "source": [
    "#help(dust_emissivity.fit_sed.fit_modified_bb)"
   ]
  },
  {
   "cell_type": "code",
   "execution_count": null,
   "id": "22ff9355-4414-4ee1-9ea7-b76360410d5e",
   "metadata": {},
   "outputs": [],
   "source": [
    "(1*u.Jy).to(u.erg/u.second/u.cm**2/u.Hz)"
   ]
  },
  {
   "cell_type": "code",
   "execution_count": null,
   "id": "a3c6c055-d85d-433e-b5e7-24352e472ace",
   "metadata": {},
   "outputs": [],
   "source": [
    "modfit"
   ]
  },
  {
   "cell_type": "code",
   "execution_count": null,
   "id": "41eb7918-20e4-4ce0-8807-52db71079b91",
   "metadata": {},
   "outputs": [],
   "source": [
    "pl.plot(freq.to(u.Hz, u.spectral()), \n",
    "          dust_emissivity.blackbody.modified_blackbody(freq.to(u.Hz, u.spectral()), \n",
    "                                                       temperature=modfit[0], beta=modfit[1],column=modfit[2]))\n",
    "pl.scatter(u.Quantity([p[0] for p in sed_1]).to(u.Hz, u.spectral()), u.Quantity([p[1] for p in sed_1]))\n",
    "pl.yscale('log')\n",
    "pl.xscale('log')"
   ]
  },
  {
   "cell_type": "code",
   "execution_count": null,
   "id": "ed68322d-cc76-489f-82cd-9b7778dee45f",
   "metadata": {},
   "outputs": [],
   "source": [
    "pl.scatter(u.Quantity([p[0] for p in sed_1]).to(u.micron, u.spectral()), u.Quantity([p[1] for p in sed_1]))\n",
    "pl.yscale('log')\n",
    "pl.xscale('log')\n",
    "pl.plot(freq.to(u.micron, u.spectral()), \n",
    "          dust_emissivity.blackbody.modified_blackbody(freq.to(u.Hz, u.spectral()), \n",
    "                                                       temperature=modfit_1[0], beta=modfit_1[1],column=1e22*u.cm**-2))"
   ]
  },
  {
   "cell_type": "code",
   "execution_count": null,
   "id": "6b79dbc5-c306-4f09-bb2a-9fcc8d59222f",
   "metadata": {},
   "outputs": [],
   "source": [
    "# modified_blackbody(frequencies, temperature, beta=0, column=1e22*u.cm**-2)\n",
    "pl.loglog(freq.to(u.Hz, u.spectral()), \n",
    "          dust_emissivity.blackbody.modified_blackbody(freq.to(u.Hz, u.spectral()), \n",
    "                                                       temperature=modfit_1[0], beta=modfit_1[1],column=modfit_1[2]))"
   ]
  },
  {
   "cell_type": "code",
   "execution_count": null,
   "id": "76008cb9-fc72-45e7-97e5-c246c26e1e9c",
   "metadata": {},
   "outputs": [],
   "source": [
    "modfit_laptop = [12.76225787 * u.K, 2.524787732161178, 7.08477196e+15 / u.cm**2]"
   ]
  },
  {
   "cell_type": "code",
   "execution_count": null,
   "id": "a8d4179f-d9df-4352-a562-12f6db4a7b25",
   "metadata": {},
   "outputs": [],
   "source": [
    "pl.loglog(freq.to(u.Hz, u.spectral()), \n",
    "          dust_emissivity.blackbody.modified_blackbody(freq.to(u.Hz, u.spectral()), \n",
    "                                                       temperature=modfit_laptop[0], beta=modfit_laptop[1],column=modfit_laptop[2]))\n",
    "#pl.loglog(freq.to(u.Hz, u.spectral()), u.Quantity([p[1] for p in sed]))"
   ]
  },
  {
   "cell_type": "code",
   "execution_count": null,
   "id": "bf5f852d-a89b-4471-ba98-d64f724bbda2",
   "metadata": {},
   "outputs": [],
   "source": [
    "freq"
   ]
  },
  {
   "cell_type": "code",
   "execution_count": null,
   "id": "905ea7f6-9d52-4e68-ab72-b97533c6ea69",
   "metadata": {},
   "outputs": [],
   "source": [
    "#python -c \"import dust_emissivity; print(dust_emissivity.__version__)\"\n",
    "print(dust_emissivity.__version__)"
   ]
  },
  {
   "cell_type": "code",
   "execution_count": null,
   "id": "01e25710-b2d2-4643-af64-06735fa4ab6b",
   "metadata": {},
   "outputs": [],
   "source": [
    "import astropy\n",
    "print(astropy.__version__)"
   ]
  },
  {
   "cell_type": "code",
   "execution_count": null,
   "id": "e7a80034-2869-4fb1-b7c6-8962f40414a2",
   "metadata": {},
   "outputs": [],
   "source": [
    "import scipy\n",
    "print(scipy.__version__)"
   ]
  },
  {
   "cell_type": "code",
   "execution_count": null,
   "id": "0d83de02-fa9e-4efb-97ad-2acc0235c0f8",
   "metadata": {},
   "outputs": [],
   "source": [
    "pwd"
   ]
  },
  {
   "cell_type": "code",
   "execution_count": null,
   "id": "6e8be1ad-7c30-4030-b91b-0cd88b8b2fc1",
   "metadata": {},
   "outputs": [],
   "source": [
    "import lmfit\n",
    "print(lmfit.__version__)"
   ]
  },
  {
   "cell_type": "code",
   "execution_count": null,
   "id": "87e7dc9c-a140-48ac-a74a-51e6a4065dc5",
   "metadata": {
    "tags": []
   },
   "outputs": [],
   "source": [
    "for row in sed:\n",
    "    for item in row:\n",
    "        print(item, type(item))"
   ]
  },
  {
   "cell_type": "code",
   "execution_count": null,
   "id": "58ecd724-b6e1-483d-9554-0ea9497b7e97",
   "metadata": {
    "tags": []
   },
   "outputs": [],
   "source": [
    "for row in sed_1:\n",
    "    for item in row:\n",
    "        print(item, type(item))"
   ]
  },
  {
   "cell_type": "code",
   "execution_count": null,
   "id": "7ce3b683-6331-4bda-9cb3-3b5db4c9bb59",
   "metadata": {},
   "outputs": [],
   "source": [
    "print(u.Quantity([np.round(p[0]) for p in sed]).to(u.Hz, u.spectral()))\n",
    "print(u.Quantity([np.round(p[1]) for p in sed]))"
   ]
  },
  {
   "cell_type": "code",
   "execution_count": null,
   "id": "a95c00d2-3bc5-4da4-93e3-7760c2f622c5",
   "metadata": {},
   "outputs": [],
   "source": [
    "print(u.Quantity([p[0] for p in sed_1]).to(u.Hz, u.spectral()))\n",
    "print(u.Quantity([p[1] for p in sed_1]))"
   ]
  },
  {
   "cell_type": "code",
   "execution_count": null,
   "id": "477bddfc-5ed7-47c4-9297-967cb4e5c328",
   "metadata": {},
   "outputs": [],
   "source": [
    "modfit_what = dust_emissivity.fit_sed.fit_modified_bb(xdata=u.Quantity([p[0] for p in sed_1]).to(u.Hz, u.spectral()),\n",
    "                                        flux=u.Quantity([p[1] for p in sed_1]),\n",
    "                                        error=u.Quantity([1*u.Jy for p in sed_1]),\n",
    "                                        guesses=[50*u.K, 2, 1e22*u.cm**-2],\n",
    "                                        fitter='lmfit'\n",
    "                                       )\n",
    "modfit_what"
   ]
  },
  {
   "cell_type": "code",
   "execution_count": null,
   "id": "a0976bbe-d2f1-4768-8a48-7a9f1f1e2fb9",
   "metadata": {},
   "outputs": [],
   "source": [
    "modfit_what2 = dust_emissivity.fit_sed.fit_modified_bb(xdata=u.Quantity([p[0] for p in sed]).to(u.Hz, u.spectral()),\n",
    "                                        flux=u.Quantity([p[1]*1.00001 for p in sed]),\n",
    "                                        error=u.Quantity([1*u.Jy for p in sed]),\n",
    "                                        guesses=[50*u.K, 2, 1e22*u.cm**-2],\n",
    "                                        fitter='lmfit'\n",
    "                                       )\n",
    "modfit_what2"
   ]
  },
  {
   "cell_type": "code",
   "execution_count": null,
   "id": "083a843d-b3e4-4c3d-9705-604a902f8f3c",
   "metadata": {},
   "outputs": [],
   "source": [
    "[p[1]*1.00001 for p in sed]"
   ]
  },
  {
   "cell_type": "code",
   "execution_count": null,
   "id": "0ce55427-4fb0-46ab-941a-c91208cfd678",
   "metadata": {},
   "outputs": [],
   "source": [
    "[p[1] for p in sed]"
   ]
  },
  {
   "cell_type": "code",
   "execution_count": null,
   "id": "82c92bd1-084a-480b-a5e9-3c04665ebda1",
   "metadata": {},
   "outputs": [],
   "source": [
    "[np.round(p[0]) for p in sed_1]"
   ]
  },
  {
   "cell_type": "code",
   "execution_count": null,
   "id": "e22ffe6b-1196-4d31-82b6-44a2ff6e919a",
   "metadata": {},
   "outputs": [],
   "source": []
  }
 ],
 "metadata": {
  "kernelspec": {
   "display_name": "Python 3 (ipykernel)",
   "language": "python",
   "name": "python3"
  },
  "language_info": {
   "codemirror_mode": {
    "name": "ipython",
    "version": 3
   },
   "file_extension": ".py",
   "mimetype": "text/x-python",
   "name": "python",
   "nbconvert_exporter": "python",
   "pygments_lexer": "ipython3",
   "version": "3.9.13"
  }
 },
 "nbformat": 4,
 "nbformat_minor": 5
}
