{
 "cells": [
  {
   "cell_type": "code",
   "execution_count": 1,
   "id": "2071400e-bdf4-48f1-a32d-7196a70699bf",
   "metadata": {},
   "outputs": [],
   "source": [
    "import glue_jupyter as gj\n",
    "import matplotlib.pyplot as plt"
   ]
  },
  {
   "cell_type": "code",
   "execution_count": 2,
   "id": "f5030799-2091-4d25-b444-7b17bf0708d8",
   "metadata": {},
   "outputs": [],
   "source": [
    "%matplotlib widget"
   ]
  },
  {
   "cell_type": "code",
   "execution_count": 3,
   "id": "d8ab05f6-e3a1-4cd1-9211-27c38d34f0f0",
   "metadata": {},
   "outputs": [
    {
     "name": "stderr",
     "output_type": "stream",
     "text": [
      "/blue/adamginsburg/adamginsburg/repos/glue/glue/external/echo/__init__.py:3: UserWarning: glue.external.echo is deprecated, import from echo directly instead\n",
      "  warnings.warn('glue.external.echo is deprecated, import from echo directly instead')\n"
     ]
    }
   ],
   "source": [
    "app = gj.jglue()"
   ]
  },
  {
   "cell_type": "code",
   "execution_count": 3,
   "id": "3e7f4b56-57e1-44d1-a19f-e612da270e46",
   "metadata": {},
   "outputs": [],
   "source": [
    "cube = app.load_data('g5.12CO.spw17.fits')"
   ]
  },
  {
   "cell_type": "code",
   "execution_count": 4,
   "id": "93aed5f6-cc13-4aba-b510-7b79eccf8aeb",
   "metadata": {},
   "outputs": [
    {
     "data": {
      "application/vnd.jupyter.widget-view+json": {
       "model_id": "223a78137bd84e6892792682c39280ce",
       "version_major": 2,
       "version_minor": 0
      },
      "text/plain": [
       "LayoutWidget(controls={'toolbar_selection_tools': BasicJupyterToolbar(tools_data={'ipyvolume:lasso': {'tooltip…"
      ]
     },
     "metadata": {},
     "output_type": "display_data"
    },
    {
     "data": {
      "text/plain": [
       "<glue_jupyter.ipyvolume.volume.viewer.IpyvolumeVolumeView at 0x2b70603030a0>"
      ]
     },
     "execution_count": 4,
     "metadata": {},
     "output_type": "execute_result"
    }
   ],
   "source": [
    "app.volshow(data=cube)"
   ]
  },
  {
   "cell_type": "code",
   "execution_count": null,
   "id": "ac591fc0-6198-45eb-9e60-e05622d3f8a8",
   "metadata": {},
   "outputs": [],
   "source": []
  }
 ],
 "metadata": {
  "kernelspec": {
   "display_name": "Python 3 (ipykernel)",
   "language": "python",
   "name": "python3"
  },
  "language_info": {
   "codemirror_mode": {
    "name": "ipython",
    "version": 3
   },
   "file_extension": ".py",
   "mimetype": "text/x-python",
   "name": "python",
   "nbconvert_exporter": "python",
   "pygments_lexer": "ipython3",
   "version": "3.9.7"
  }
 },
 "nbformat": 4,
 "nbformat_minor": 5
}
