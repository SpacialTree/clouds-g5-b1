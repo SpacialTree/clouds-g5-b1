{
 "cells": [
  {
   "cell_type": "code",
   "execution_count": 19,
   "id": "b4e23a04-c078-4ac8-8040-00e5f752f64d",
   "metadata": {},
   "outputs": [],
   "source": [
    "import pyradex\n",
    "import numpy as np\n",
    "import astropy.units as u\n",
    "import matplotlib.pyplot as plt\n",
    "plt.rcParams['figure.facecolor']='w'"
   ]
  },
  {
   "cell_type": "code",
   "execution_count": 20,
   "id": "7d361d46-0f39-4bae-a233-a7d58c0e244b",
   "metadata": {},
   "outputs": [
    {
     "data": {
      "text/plain": [
       "['/orange/adamginsburg/miniconda3/envs/python39/lib/python3.9/site-packages/pyradex']"
      ]
     },
     "execution_count": 20,
     "metadata": {},
     "output_type": "execute_result"
    }
   ],
   "source": [
    "pyradex.__path__"
   ]
  },
  {
   "cell_type": "code",
   "execution_count": 21,
   "id": "702bf1f7-d86d-433f-bd8a-0d38095b7cbc",
   "metadata": {},
   "outputs": [],
   "source": [
    "data = '/orange/adamginsburg/cmz/g5/code/'"
   ]
  },
  {
   "cell_type": "code",
   "execution_count": 22,
   "id": "1314aec9-b022-40e9-bb9e-2e50c2256f7c",
   "metadata": {},
   "outputs": [
    {
     "data": {
      "text/plain": [
       "'/orange/adamginsburg/miniconda3/envs/python39/bin/python'"
      ]
     },
     "execution_count": 22,
     "metadata": {},
     "output_type": "execute_result"
    }
   ],
   "source": [
    "import sys\n",
    "sys.executable"
   ]
  },
  {
   "cell_type": "code",
   "execution_count": 23,
   "id": "25a8d80d-4ac5-4c8e-b95e-5adc2ee370c7",
   "metadata": {},
   "outputs": [
    {
     "name": "stderr",
     "output_type": "stream",
     "text": [
      "WARNING: Assuming the density is n(H_2). [pyradex.core]\n",
      "/orange/adamginsburg/miniconda3/envs/python39/lib/python3.9/site-packages/pyradex/core.py:542: UserWarning: Using a default ortho-to-para ratio (which will only affect species for which independent ortho & para collision rates are given)\n",
      "  warnings.warn(\"Using a default ortho-to-para ratio (which \"\n"
     ]
    }
   ],
   "source": [
    "R = pyradex.Radex(density=10**5, column=10**15, temperature=50, species='sio', datapath=data)"
   ]
  },
  {
   "cell_type": "code",
   "execution_count": 24,
   "id": "07e28cad-c5b3-4aa5-8f23-1559be48dbbd",
   "metadata": {},
   "outputs": [
    {
     "name": "stderr",
     "output_type": "stream",
     "text": [
      "/orange/adamginsburg/miniconda3/envs/python39/lib/python3.9/site-packages/pyradex/core.py:968: RuntimeWarning: invalid value encountered in true_divide\n",
      "  frac_level_diff = level_diff/self.level_population\n",
      "WARNING: AstropyDeprecationWarning: The inputs to `brightness_temperature` have changed. Frequency is now the first input, and angular area is the second, optional input. [astropy.units.equivalencies]\n"
     ]
    },
    {
     "data": {
      "text/html": [
       "<div><i>Table length=20</i>\n",
       "<table id=\"table47758659321920\" class=\"table-striped table-bordered table-condensed\">\n",
       "<thead><tr><th>Tex</th><th>tau</th><th>frequency</th><th>upperstateenergy</th><th>upperlevel</th><th>lowerlevel</th><th>upperlevelpop</th><th>lowerlevelpop</th><th>brightness</th><th>T_B</th></tr></thead>\n",
       "<thead><tr><th>K</th><th></th><th>GHz</th><th>K</th><th></th><th></th><th></th><th></th><th>erg / (cm2 Hz s sr)</th><th>K</th></tr></thead>\n",
       "<thead><tr><th>float64</th><th>float64</th><th>float64</th><th>float64</th><th>bytes6</th><th>bytes6</th><th>float64</th><th>float64</th><th>float64</th><th>float64</th></tr></thead>\n",
       "<tr><td>43.00127043761652</td><td>1.6551126000974052</td><td>43.423853</td><td>2.08</td><td>01</td><td>00</td><td>0.08887736421923301</td><td>0.031096939370898864</td><td>1.8814463305880553e-14</td><td>32.47605365459304</td></tr>\n",
       "<tr><td>38.87877786030384</td><td>6.776549531318966</td><td>86.846985</td><td>6.25</td><td>02</td><td>01</td><td>0.1330701596849882</td><td>0.08887736421923301</td><td>8.257497311145349e-14</td><td>35.63420519567343</td></tr>\n",
       "<tr><td>37.340311997153876</td><td>13.843238069818273</td><td>130.268683</td><td>12.5</td><td>03</td><td>02</td><td>0.15757756362185393</td><td>0.1330701596849882</td><td>1.7516230636607365e-13</td><td>33.59609010935477</td></tr>\n",
       "<tr><td>37.58801347625897</td><td>20.1529917602968</td><td>173.688238</td><td>20.84</td><td>04</td><td>03</td><td>0.16230317399422695</td><td>0.15757756362185393</td><td>3.073500959343751e-13</td><td>33.16046879773295</td></tr>\n",
       "<tr><td>36.18337967090943</td><td>25.386539729231924</td><td>217.104919</td><td>31.26</td><td>05</td><td>04</td><td>0.14873642779677212</td><td>0.16230317399422695</td><td>4.4875517508389066e-13</td><td>30.98833701318935</td></tr>\n",
       "<tr><td>33.51212300554245</td><td>28.42799825707387</td><td>260.518009</td><td>43.76</td><td>06</td><td>05</td><td>0.1210428844252477</td><td>0.14873642779677212</td><td>5.738125559477095e-13</td><td>27.518367974592817</td></tr>\n",
       "<tr><td>29.562182976653645</td><td>28.566256610346066</td><td>303.926812</td><td>58.35</td><td>07</td><td>06</td><td>0.08527102613157889</td><td>0.1210428844252477</td><td>6.469563663579779e-13</td><td>22.79633808098519</td></tr>\n",
       "<tr><td>24.270021493757877</td><td>25.43467910467738</td><td>347.330581</td><td>75.02</td><td>08</td><td>07</td><td>0.04862666783083065</td><td>0.08527102613157889</td><td>6.243387188244012e-13</td><td>16.84466393116842</td></tr>\n",
       "<tr><td>17.9407230793653</td><td>18.787824978339522</td><td>390.728631</td><td>93.77</td><td>09</td><td>08</td><td>0.019109279304423483</td><td>0.04862666783083065</td><td>4.760644179573459e-13</td><td>10.149470338438322</td></tr>\n",
       "<tr><td>12.327633352016502</td><td>9.2313583198246</td><td>434.120218</td><td>114.6</td><td>10</td><td>09</td><td>0.003896931916487397</td><td>0.019109279304423483</td><td>2.723271071224652e-13</td><td>4.703259867462964</td></tr>\n",
       "<tr><td>9.028588435853798</td><td>2.1165525894261155</td><td>477.504635</td><td>137.52</td><td>11</td><td>10</td><td>0.0003372015797760192</td><td>0.003896931916487397</td><td>1.2080733290093796e-13</td><td>1.7245120799255027</td></tr>\n",
       "<tr><td>11.336345434950275</td><td>0.17620777896751225</td><td>520.881187</td><td>162.52</td><td>12</td><td>11</td><td>4.0403250404407386e-05</td><td>0.0003372015797760192</td><td>4.167265836377032e-14</td><td>0.4999217007303331</td></tr>\n",
       "<tr><td>18.662274525439337</td><td>0.018110530772826736</td><td>564.249098</td><td>189.6</td><td>13</td><td>12</td><td>1.0224944523856482e-05</td><td>4.0403250404407386e-05</td><td>1.454685604294231e-14</td><td>0.14871525549452</td></tr>\n",
       "<tr><td>21.264971660003923</td><td>0.004455645988704638</td><td>607.607719</td><td>218.76</td><td>14</td><td>13</td><td>2.78705125200321e-06</td><td>1.0224944523856482e-05</td><td>5.000528684488013e-15</td><td>0.04408567405930072</td></tr>\n",
       "<tr><td>22.188434559698436</td><td>0.0012267247511957037</td><td>650.95629</td><td>250.0</td><td>15</td><td>14</td><td>7.288317528932284e-07</td><td>2.78705125200321e-06</td><td>1.614841142844157e-15</td><td>0.012403786367217581</td></tr>\n",
       "<tr><td>22.918630347532385</td><td>0.0003247326221445022</td><td>694.294114</td><td>283.32</td><td>16</td><td>15</td><td>1.8128792048655494e-07</td><td>7.288317528932284e-07</td><td>4.88530158972442e-16</td><td>0.003298621917150412</td></tr>\n",
       "<tr><td>23.599749117026015</td><td>8.171601144834894e-05</td><td>737.620462</td><td>318.72</td><td>17</td><td>16</td><td>4.290102895084982e-08</td><td>1.8128792048655494e-07</td><td>1.388757804192125e-16</td><td>0.0008307851564600045</td></tr>\n",
       "<tr><td>24.17809073361704</td><td>1.958266336001464e-05</td><td>780.934648</td><td>356.2</td><td>18</td><td>17</td><td>9.624760931550455e-09</td><td>4.290102895084982e-08</td><td>3.704610742103023e-17</td><td>0.00019771577695101698</td></tr>\n",
       "<tr><td>23.698298801769916</td><td>4.519659897618835e-06</td><td>824.2359</td><td>395.76</td><td>19</td><td>18</td><td>1.9113073923531206e-09</td><td>9.624760931550455e-09</td><td>8.662373284063449e-18</td><td>4.1501325634804e-05</td></tr>\n",
       "<tr><td>22.68989207929122</td><td>9.28309376935288e-07</td><td>867.5235458</td><td>437.39</td><td>20</td><td>19</td><td>3.207320330689684e-10</td><td>1.9113073923531206e-09</td><td>1.6974743004721564e-18</td><td>7.34122936961071e-06</td></tr>\n",
       "</table></div>"
      ],
      "text/plain": [
       "<Table length=20>\n",
       "       Tex                  tau           frequency  upperstateenergy ...     upperlevelpop          lowerlevelpop            brightness                T_B          \n",
       "        K                                    GHz            K         ...                                                erg / (cm2 Hz s sr)             K           \n",
       "     float64              float64          float64       float64      ...        float64                float64                float64                float64        \n",
       "------------------ --------------------- ----------- ---------------- ... ---------------------- ---------------------- ---------------------- ----------------------\n",
       " 43.00127043761652    1.6551126000974052   43.423853             2.08 ...    0.08887736421923301   0.031096939370898864 1.8814463305880553e-14      32.47605365459304\n",
       " 38.87877786030384     6.776549531318966   86.846985             6.25 ...     0.1330701596849882    0.08887736421923301  8.257497311145349e-14      35.63420519567343\n",
       "37.340311997153876    13.843238069818273  130.268683             12.5 ...    0.15757756362185393     0.1330701596849882 1.7516230636607365e-13      33.59609010935477\n",
       " 37.58801347625897      20.1529917602968  173.688238            20.84 ...    0.16230317399422695    0.15757756362185393  3.073500959343751e-13      33.16046879773295\n",
       " 36.18337967090943    25.386539729231924  217.104919            31.26 ...    0.14873642779677212    0.16230317399422695 4.4875517508389066e-13      30.98833701318935\n",
       " 33.51212300554245     28.42799825707387  260.518009            43.76 ...     0.1210428844252477    0.14873642779677212  5.738125559477095e-13     27.518367974592817\n",
       "29.562182976653645    28.566256610346066  303.926812            58.35 ...    0.08527102613157889     0.1210428844252477  6.469563663579779e-13      22.79633808098519\n",
       "24.270021493757877     25.43467910467738  347.330581            75.02 ...    0.04862666783083065    0.08527102613157889  6.243387188244012e-13      16.84466393116842\n",
       "  17.9407230793653    18.787824978339522  390.728631            93.77 ...   0.019109279304423483    0.04862666783083065  4.760644179573459e-13     10.149470338438322\n",
       "12.327633352016502       9.2313583198246  434.120218            114.6 ...   0.003896931916487397   0.019109279304423483  2.723271071224652e-13      4.703259867462964\n",
       " 9.028588435853798    2.1165525894261155  477.504635           137.52 ...  0.0003372015797760192   0.003896931916487397 1.2080733290093796e-13     1.7245120799255027\n",
       "11.336345434950275   0.17620777896751225  520.881187           162.52 ... 4.0403250404407386e-05  0.0003372015797760192  4.167265836377032e-14     0.4999217007303331\n",
       "18.662274525439337  0.018110530772826736  564.249098            189.6 ... 1.0224944523856482e-05 4.0403250404407386e-05  1.454685604294231e-14       0.14871525549452\n",
       "21.264971660003923  0.004455645988704638  607.607719           218.76 ...   2.78705125200321e-06 1.0224944523856482e-05  5.000528684488013e-15    0.04408567405930072\n",
       "22.188434559698436 0.0012267247511957037   650.95629            250.0 ...  7.288317528932284e-07   2.78705125200321e-06  1.614841142844157e-15   0.012403786367217581\n",
       "22.918630347532385 0.0003247326221445022  694.294114           283.32 ... 1.8128792048655494e-07  7.288317528932284e-07   4.88530158972442e-16   0.003298621917150412\n",
       "23.599749117026015 8.171601144834894e-05  737.620462           318.72 ...  4.290102895084982e-08 1.8128792048655494e-07  1.388757804192125e-16  0.0008307851564600045\n",
       " 24.17809073361704 1.958266336001464e-05  780.934648            356.2 ...  9.624760931550455e-09  4.290102895084982e-08  3.704610742103023e-17 0.00019771577695101698\n",
       "23.698298801769916 4.519659897618835e-06    824.2359           395.76 ... 1.9113073923531206e-09  9.624760931550455e-09  8.662373284063449e-18    4.1501325634804e-05\n",
       " 22.68989207929122  9.28309376935288e-07 867.5235458           437.39 ...  3.207320330689684e-10 1.9113073923531206e-09 1.6974743004721564e-18   7.34122936961071e-06"
      ]
     },
     "execution_count": 24,
     "metadata": {},
     "output_type": "execute_result"
    }
   ],
   "source": [
    "Tlvg = R(escapeProbGeom='lvg')\n",
    "Tlvg"
   ]
  },
  {
   "cell_type": "markdown",
   "id": "bf2f16c9-2c78-4ccb-9391-2f120ad0eb95",
   "metadata": {},
   "source": [
    "\\begin{equation}\n",
    "    N_{\\ce{SiO}} = 1.54 \\times 10^{10} \\times T \\times \\exp(31.26/T) \\times I_{\\ce{SiO} (5-4)} \n",
    "    %# N_sio(total) [cm^-2] = (1.54e10)*(T*exp(31.26/T))*I_sio54(K km/s)\n",
    "    \\label{eq:siocoldense}\n",
    "\\end{equation}"
   ]
  },
  {
   "cell_type": "code",
   "execution_count": 5,
   "id": "fc51c027-aff6-48b6-8818-54545b2dd966",
   "metadata": {},
   "outputs": [],
   "source": [
    "def Nsio(T, I):\n",
    "    return 1.54e10 * T * np.exp(31.26/T) * I\n",
    "def I(T, Nsio):\n",
    "    return Nsio / (1.54e10 * T * np.exp(31.26/T))"
   ]
  },
  {
   "cell_type": "code",
   "execution_count": 6,
   "id": "6f3c500c-52d7-45f6-b2b0-543a9f5c7b2a",
   "metadata": {},
   "outputs": [
    {
     "name": "stderr",
     "output_type": "stream",
     "text": [
      "WARNING: Assuming the density is n(H_2). [pyradex.core]\n",
      "WARNING: Assuming the density is n(H_2). [pyradex.core]\n",
      "WARNING: Assuming the density is n(H_2). [pyradex.core]\n",
      "WARNING: Assuming the density is n(H_2). [pyradex.core]\n",
      "WARNING: Assuming the density is n(H_2). [pyradex.core]\n",
      "WARNING: Assuming the density is n(H_2). [pyradex.core]\n",
      "WARNING: Assuming the density is n(H_2). [pyradex.core]\n",
      "WARNING: Assuming the density is n(H_2). [pyradex.core]\n",
      "WARNING: Assuming the density is n(H_2). [pyradex.core]\n",
      "WARNING: Assuming the density is n(H_2). [pyradex.core]\n"
     ]
    },
    {
     "data": {
      "text/plain": [
       "[0.008046827077233478,\n",
       " 0.044108222588507974,\n",
       " 0.2804410921545421,\n",
       " 2.0344422760116134,\n",
       " 8.057223901181704,\n",
       " 18.85903399225379,\n",
       " 30.98833701318935,\n",
       " 39.563062693965634,\n",
       " 43.22498670952838,\n",
       " 44.364137127235054]"
      ]
     },
     "execution_count": 6,
     "metadata": {},
     "output_type": "execute_result"
    }
   ],
   "source": [
    "densities = np.logspace(1, 7, 10)\n",
    "TBs = [R(density=density)['T_B'][4] for density in densities]\n",
    "TBs"
   ]
  },
  {
   "cell_type": "code",
   "execution_count": 7,
   "id": "1d18c230-5824-418e-9b93-5f68fe2ce4e9",
   "metadata": {},
   "outputs": [
    {
     "data": {
      "text/plain": [
       "[<matplotlib.lines.Line2D at 0x2b6fa47e1070>]"
      ]
     },
     "execution_count": 7,
     "metadata": {},
     "output_type": "execute_result"
    },
    {
     "data": {
      "image/png": "[encoded data removed]",
      "text/plain": [
       "<Figure size 432x288 with 1 Axes>"
      ]
     },
     "metadata": {},
     "output_type": "display_data"
    }
   ],
   "source": [
    "plt.semilogx(densities, TBs)"
   ]
  },
  {
   "cell_type": "code",
   "execution_count": null,
   "id": "088bba83-db52-4b57-a8cf-f31d5707bcd3",
   "metadata": {},
   "outputs": [],
   "source": []
  },
  {
   "cell_type": "code",
   "execution_count": 8,
   "id": "f3fc5bae-42d8-4374-9940-84e2e751a697",
   "metadata": {},
   "outputs": [
    {
     "name": "stderr",
     "output_type": "stream",
     "text": [
      "WARNING: Assuming the density is n(H_2). [pyradex.core]\n",
      "/orange/adamginsburg/miniconda3/envs/python39/lib/python3.9/site-packages/pyradex/core.py:542: UserWarning: Using a default ortho-to-para ratio (which will only affect species for which independent ortho & para collision rates are given)\n",
      "  warnings.warn(\"Using a default ortho-to-para ratio (which \"\n",
      "/orange/adamginsburg/miniconda3/envs/python39/lib/python3.9/site-packages/pyradex/core.py:968: RuntimeWarning: invalid value encountered in true_divide\n",
      "  frac_level_diff = level_diff/self.level_population\n",
      "WARNING: AstropyDeprecationWarning: The inputs to `brightness_temperature` have changed. Frequency is now the first input, and angular area is the second, optional input. [astropy.units.equivalencies]\n",
      "WARNING: Assuming the density is n(H_2). [pyradex.core]\n",
      "WARNING: Assuming the density is n(H_2). [pyradex.core]\n",
      "WARNING: Assuming the density is n(H_2). [pyradex.core]\n",
      "WARNING: Assuming the density is n(H_2). [pyradex.core]\n",
      "WARNING: Assuming the density is n(H_2). [pyradex.core]\n",
      "WARNING: Assuming the density is n(H_2). [pyradex.core]\n",
      "WARNING: Assuming the density is n(H_2). [pyradex.core]\n",
      "WARNING: Assuming the density is n(H_2). [pyradex.core]\n",
      "WARNING: Assuming the density is n(H_2). [pyradex.core]\n"
     ]
    },
    {
     "data": {
      "text/plain": [
       "[<matplotlib.lines.Line2D at 0x2b6fb253d880>]"
      ]
     },
     "execution_count": 8,
     "metadata": {},
     "output_type": "execute_result"
    },
    {
     "data": {
      "image/png": "[encoded data removed]",
      "text/plain": [
       "<Figure size 432x288 with 1 Axes>"
      ]
     },
     "metadata": {},
     "output_type": "display_data"
    }
   ],
   "source": [
    "tems = np.linspace(15, 100, 10)\n",
    "density = 1e6\n",
    "TBs = [R(density=density, temperature=tem, column=1e15)['T_B'][4] for tem in tems]\n",
    "plt.plot(tems, I(tems, 1e15))\n",
    "plt.plot(tems, np.array(TBs)*10)"
   ]
  },
  {
   "cell_type": "code",
   "execution_count": null,
   "id": "536b7fa6-31a9-4ece-9157-d081918c0518",
   "metadata": {},
   "outputs": [],
   "source": []
  },
  {
   "cell_type": "code",
   "execution_count": null,
   "id": "2f5cee74-6cb7-4db0-8bd9-e8e47492de52",
   "metadata": {},
   "outputs": [],
   "source": []
  },
  {
   "cell_type": "code",
   "execution_count": 9,
   "id": "39879a2e-1dcf-43a7-bd3f-80a4bc104818",
   "metadata": {},
   "outputs": [
    {
     "data": {
      "text/plain": [
       "[<matplotlib.lines.Line2D at 0x2b6fade01610>]"
      ]
     },
     "execution_count": 9,
     "metadata": {},
     "output_type": "execute_result"
    },
    {
     "data": {
      "image/png": "[encoded data removed]",
      "text/plain": [
       "<Figure size 432x288 with 1 Axes>"
      ]
     },
     "metadata": {},
     "output_type": "display_data"
    }
   ],
   "source": [
    "Tlvg\n",
    "\n",
    "plt.plot(Tlvg['upperstateenergy'],Tlvg['upperlevelpop'])\n",
    "#plt.yscale('log')"
   ]
  },
  {
   "cell_type": "code",
   "execution_count": 10,
   "id": "aa32bff6-8c7f-4f07-9a42-89a15eb59634",
   "metadata": {},
   "outputs": [],
   "source": [
    "densities = np.linspace(10**2, 10**8, 10) # cm-3\n",
    "column_densities = np.linspace(10**(22), 10**(23), 10)\n",
    "temperatures = np.linspace(10, 100, 10)"
   ]
  },
  {
   "cell_type": "markdown",
   "id": "4a6726eb-a4dd-4e57-8214-7354a93ce4be",
   "metadata": {},
   "source": [
    "Ra = pyradex.Radex(total_density=10**2, column=10**17, temperature=50, species='SiO', datapath=data)"
   ]
  },
  {
   "cell_type": "code",
   "execution_count": 11,
   "id": "0bd533f9-0e99-4142-b2fb-8e45c4f6308c",
   "metadata": {},
   "outputs": [],
   "source": [
    "import sys"
   ]
  },
  {
   "cell_type": "code",
   "execution_count": 12,
   "id": "09c3a7ef-7f54-4d6c-ac2a-0e5e2cf7407d",
   "metadata": {},
   "outputs": [
    {
     "data": {
      "text/plain": [
       "'3.9.7 (default, Sep 16 2021, 13:09:58) \\n[GCC 7.5.0]'"
      ]
     },
     "execution_count": 12,
     "metadata": {},
     "output_type": "execute_result"
    }
   ],
   "source": [
    "sys.version"
   ]
  },
  {
   "cell_type": "code",
   "execution_count": null,
   "id": "a67814b0-a2b9-4df0-bb5b-eaa8d348ac47",
   "metadata": {},
   "outputs": [],
   "source": []
  }
 ],
 "metadata": {
  "kernelspec": {
   "display_name": "Py 3.9",
   "language": "python",
   "name": "python39"
  },
  "language_info": {
   "codemirror_mode": {
    "name": "ipython",
    "version": 3
   },
   "file_extension": ".py",
   "mimetype": "text/x-python",
   "name": "python",
   "nbconvert_exporter": "python",
   "pygments_lexer": "ipython3",
   "version": "3.9.7"
  }
 },
 "nbformat": 4,
 "nbformat_minor": 5
}
