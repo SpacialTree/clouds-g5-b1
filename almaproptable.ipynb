{
 "cells": [
  {
   "cell_type": "code",
   "execution_count": 3,
   "id": "a7f9488f-e0e2-40fe-8ed2-10bd511175be",
   "metadata": {},
   "outputs": [],
   "source": [
    "from astropy import units as u\n",
    "from astropy import constants as const\n",
    "import numpy as np\n",
    "from astropy.table import Table\n",
    "from astroquery.lamda import Lamda\n",
    "from astroquery.splatalogue import Splatalogue\n",
    "from astropy.io import ascii"
   ]
  },
  {
   "cell_type": "code",
   "execution_count": 35,
   "id": "8cbc7196-a13e-41fb-9241-064c979c09a5",
   "metadata": {},
   "outputs": [
    {
     "data": {
      "text/plain": [
       "2.908573212376933e-05"
      ]
     },
     "execution_count": 35,
     "metadata": {},
     "output_type": "execute_result"
    }
   ],
   "source": [
    "10**Splatalogue.query_lines(85*u.GHz, 110*u.GHz, chemical_name=\" SiO \")[-1]['Log<sub>10</sub> (A<sub>ij</sub>)']"
   ]
  },
  {
   "cell_type": "code",
   "execution_count": 39,
   "id": "a0340b1f-a193-4352-b455-536d3d3f518f",
   "metadata": {},
   "outputs": [
    {
     "data": {
      "text/html": [
       "<i>Row index=16</i>\n",
       "<table id=\"table139754555099792\">\n",
       "<thead><tr><th>Species</th><th>Chemical Name</th><th>Freq-GHz(rest frame,redshifted)</th><th>Freq Err(rest frame,redshifted)</th><th>Meas Freq-GHz(rest frame,redshifted)</th><th>Meas Freq Err(rest frame,redshifted)</th><th>Resolved QNs</th><th>CDMS/JPL Intensity</th><th>S&lt;sub&gt;ij&lt;/sub&gt;&amp;#956;&lt;sup&gt;2&lt;/sup&gt; (D&lt;sup&gt;2&lt;/sup&gt;)</th><th>S&lt;sub&gt;ij&lt;/sub&gt;</th><th>Log&lt;sub&gt;10&lt;/sub&gt; (A&lt;sub&gt;ij&lt;/sub&gt;)</th><th>Lovas/AST Intensity</th><th>E_L (cm^-1)</th><th>E_L (K)</th><th>E_U (cm^-1)</th><th>E_U (K)</th><th>Linelist</th></tr></thead>\n",
       "<thead><tr><th>str6</th><th>str16</th><th>float64</th><th>float64</th><th>float64</th><th>float64</th><th>str3</th><th>float64</th><th>float64</th><th>float64</th><th>float64</th><th>str5</th><th>float64</th><th>float64</th><th>float64</th><th>float64</th><th>str5</th></tr></thead>\n",
       "<tr><td>SiOv=0</td><td>Silicon Monoxide</td><td>86.846995</td><td>6e-06</td><td>86.84696</td><td>0.0001</td><td>2-1</td><td>0.0</td><td>19.07396</td><td>2.0</td><td>-4.53632</td><td>--</td><td>1.448</td><td>2.08334</td><td>4.3449</td><td>6.25131</td><td>SLAIM</td></tr>\n",
       "</table>"
      ],
      "text/plain": [
       "<Row index=16>\n",
       "Species  Chemical Name   Freq-GHz(rest frame,redshifted) Freq Err(rest frame,redshifted) Meas Freq-GHz(rest frame,redshifted) Meas Freq Err(rest frame,redshifted) Resolved QNs CDMS/JPL Intensity S<sub>ij</sub>&#956;<sup>2</sup> (D<sup>2</sup>) S<sub>ij</sub> Log<sub>10</sub> (A<sub>ij</sub>) Lovas/AST Intensity E_L (cm^-1) E_L (K) E_U (cm^-1) E_U (K) Linelist\n",
       "  str6       str16                   float64                         float64                           float64                              float64                    str3          float64                           float64                         float64                  float64                      str5          float64   float64   float64   float64   str5  \n",
       "------- ---------------- ------------------------------- ------------------------------- ------------------------------------ ------------------------------------ ------------ ------------------ ------------------------------------------------ -------------- --------------------------------- ------------------- ----------- ------- ----------- ------- --------\n",
       " SiOv=0 Silicon Monoxide                       86.846995                           6e-06                             86.84696                               0.0001          2-1                0.0                                         19.07396            2.0                          -4.53632                  --       1.448 2.08334      4.3449 6.25131    SLAIM"
      ]
     },
     "execution_count": 39,
     "metadata": {},
     "output_type": "execute_result"
    }
   ],
   "source": [
    "Splatalogue.query_lines(85*u.GHz, 110*u.GHz, chemical_name=\" SiO \")[-1]"
   ]
  },
  {
   "cell_type": "code",
   "execution_count": 29,
   "id": "6a42e74e-3a26-4f40-b285-b699b12a7bd0",
   "metadata": {},
   "outputs": [
    {
     "data": {
      "text/plain": [
       "3.751e-11"
      ]
     },
     "execution_count": 29,
     "metadata": {},
     "output_type": "execute_result"
    }
   ],
   "source": [
    "collrates_sio, radtransitions_sio, enlevels_sio = Lamda.query(mol='sio-h2')\n",
    "collrates_sio['PH2'][1]['C_ij(T=60)']"
   ]
  },
  {
   "cell_type": "code",
   "execution_count": 37,
   "id": "155ddfad-b4dc-4e0b-a7b6-377efa984af5",
   "metadata": {},
   "outputs": [
    {
     "data": {
      "text/plain": [
       "775412.7465680973"
      ]
     },
     "execution_count": 37,
     "metadata": {},
     "output_type": "execute_result"
    }
   ],
   "source": [
    "10**Splatalogue.query_lines(85*u.GHz, 110*u.GHz, chemical_name=\" SiO \")[-1]['Log<sub>10</sub> (A<sub>ij</sub>)'] / collrates_sio['PH2'][1]['C_ij(T=60)']"
   ]
  },
  {
   "cell_type": "code",
   "execution_count": 36,
   "id": "d2ccf92c-fc1d-4064-9298-8e62fa9275fb",
   "metadata": {},
   "outputs": [
    {
     "data": {
      "text/plain": [
       "9.024642356989244e-06"
      ]
     },
     "execution_count": 36,
     "metadata": {},
     "output_type": "execute_result"
    }
   ],
   "source": [
    "10**Splatalogue.query_lines(87*u.GHz, 88*u.GHz, chemical_name=\" HNCO \")[-10]['Log<sub>10</sub> (A<sub>ij</sub>)']"
   ]
  },
  {
   "cell_type": "code",
   "execution_count": 33,
   "id": "dabd9146-f9c6-4943-939a-16f0fefd8b9f",
   "metadata": {},
   "outputs": [
    {
     "data": {
      "text/plain": [
       "6.72e-11"
      ]
     },
     "execution_count": 33,
     "metadata": {},
     "output_type": "execute_result"
    }
   ],
   "source": [
    "collrates_hnco, radtransitions_hnco, enlevels_hnco = Lamda.query(mol='hnco')\n",
    "collrates_hnco['PH2'][9]['C_ij(T=60)']"
   ]
  },
  {
   "cell_type": "code",
   "execution_count": 38,
   "id": "8c30b2da-316b-4a37-a461-146814823cd3",
   "metadata": {},
   "outputs": [
    {
     "data": {
      "text/plain": [
       "134295.2731694828"
      ]
     },
     "execution_count": 38,
     "metadata": {},
     "output_type": "execute_result"
    }
   ],
   "source": [
    "10**Splatalogue.query_lines(87*u.GHz, 88*u.GHz, chemical_name=\" HNCO \")[-10]['Log<sub>10</sub> (A<sub>ij</sub>)']/collrates_hnco['PH2'][9]['C_ij(T=60)']"
   ]
  },
  {
   "cell_type": "code",
   "execution_count": 40,
   "id": "ad87a68b-5163-4f38-8575-0c33fdd5b48d",
   "metadata": {},
   "outputs": [
    {
     "data": {
      "text/html": [
       "<i>Row index=70</i>\n",
       "<table id=\"table139754552695200\">\n",
       "<thead><tr><th>Species</th><th>Chemical Name</th><th>Freq-GHz(rest frame,redshifted)</th><th>Freq Err(rest frame,redshifted)</th><th>Meas Freq-GHz(rest frame,redshifted)</th><th>Meas Freq Err(rest frame,redshifted)</th><th>Resolved QNs</th><th>CDMS/JPL Intensity</th><th>S&lt;sub&gt;ij&lt;/sub&gt;&amp;#956;&lt;sup&gt;2&lt;/sup&gt; (D&lt;sup&gt;2&lt;/sup&gt;)</th><th>S&lt;sub&gt;ij&lt;/sub&gt;</th><th>Log&lt;sub&gt;10&lt;/sub&gt; (A&lt;sub&gt;ij&lt;/sub&gt;)</th><th>Lovas/AST Intensity</th><th>E_L (cm^-1)</th><th>E_L (K)</th><th>E_U (cm^-1)</th><th>E_U (K)</th><th>Linelist</th></tr></thead>\n",
       "<thead><tr><th>str7</th><th>str14</th><th>float64</th><th>float64</th><th>float64</th><th>float64</th><th>str19</th><th>float64</th><th>float64</th><th>float64</th><th>float64</th><th>str5</th><th>float64</th><th>float64</th><th>float64</th><th>float64</th><th>str5</th></tr></thead>\n",
       "<tr><td>HNCOv=0</td><td>Isocyanic Acid</td><td>87.925238</td><td>4e-06</td><td>87.925252</td><td>3e-05</td><td>4(0,4)-3(0,3)</td><td>0.0</td><td>10.26562</td><td>4.0</td><td>-5.04457</td><td>--</td><td>4.399</td><td>6.32914</td><td>7.33187</td><td>10.54887</td><td>SLAIM</td></tr>\n",
       "</table>"
      ],
      "text/plain": [
       "<Row index=70>\n",
       "Species Chemical Name  Freq-GHz(rest frame,redshifted) Freq Err(rest frame,redshifted) Meas Freq-GHz(rest frame,redshifted) Meas Freq Err(rest frame,redshifted)  Resolved QNs CDMS/JPL Intensity S<sub>ij</sub>&#956;<sup>2</sup> (D<sup>2</sup>) S<sub>ij</sub> Log<sub>10</sub> (A<sub>ij</sub>) Lovas/AST Intensity E_L (cm^-1) E_L (K) E_U (cm^-1) E_U (K)  Linelist\n",
       "  str7      str14                  float64                         float64                           float64                              float64                    str19          float64                           float64                         float64                  float64                      str5          float64   float64   float64   float64    str5  \n",
       "------- -------------- ------------------------------- ------------------------------- ------------------------------------ ------------------------------------ ------------- ------------------ ------------------------------------------------ -------------- --------------------------------- ------------------- ----------- ------- ----------- -------- --------\n",
       "HNCOv=0 Isocyanic Acid                       87.925238                           4e-06                            87.925252                                3e-05 4(0,4)-3(0,3)                0.0                                         10.26562            4.0                          -5.04457                  --       4.399 6.32914     7.33187 10.54887    SLAIM"
      ]
     },
     "execution_count": 40,
     "metadata": {},
     "output_type": "execute_result"
    }
   ],
   "source": [
    "Splatalogue.query_lines(87*u.GHz, 88*u.GHz, chemical_name=\" HNCO \")[-10]"
   ]
  },
  {
   "cell_type": "code",
   "execution_count": 11,
   "id": "3167d814-fba1-47ac-99d3-3054458daa12",
   "metadata": {},
   "outputs": [
    {
     "data": {
      "text/html": [
       "<div><i>Table length=28</i>\n",
       "<table id=\"table139755568533216\" class=\"table-striped table-bordered table-condensed\">\n",
       "<thead><tr><th>Species</th><th>Chemical Name</th><th>Freq-GHz(rest frame,redshifted)</th><th>Freq Err(rest frame,redshifted)</th><th>Meas Freq-GHz(rest frame,redshifted)</th><th>Meas Freq Err(rest frame,redshifted)</th><th>Resolved QNs</th><th>CDMS/JPL Intensity</th><th>S&lt;sub&gt;ij&lt;/sub&gt;&amp;#956;&lt;sup&gt;2&lt;/sup&gt; (D&lt;sup&gt;2&lt;/sup&gt;)</th><th>S&lt;sub&gt;ij&lt;/sub&gt;</th><th>Log&lt;sub&gt;10&lt;/sub&gt; (A&lt;sub&gt;ij&lt;/sub&gt;)</th><th>Lovas/AST Intensity</th><th>E_L (cm^-1)</th><th>E_L (K)</th><th>E_U (cm^-1)</th><th>E_U (K)</th><th>Linelist</th></tr></thead>\n",
       "<thead><tr><th>str13</th><th>str15</th><th>float64</th><th>float64</th><th>float64</th><th>float64</th><th>str9</th><th>float64</th><th>float64</th><th>float64</th><th>float64</th><th>str5</th><th>float64</th><th>float64</th><th>float64</th><th>float64</th><th>str5</th></tr></thead>\n",
       "<tr><td>SO3&amp;Sigma;v=1</td><td>Sulfur Monoxide</td><td>85.406095</td><td>4e-06</td><td>85.40627</td><td>8e-06</td><td>2(2)-1(1)</td><td>0.0</td><td>0.0</td><td>0.0</td><td>0.0</td><td>--</td><td>10.614</td><td>15.27109</td><td>13.46284</td><td>19.36991</td><td>SLAIM</td></tr>\n",
       "<tr><td>SO3&amp;Sigma;v=1</td><td>Sulfur Monoxide</td><td>85.406096</td><td>0.0005026</td><td>--</td><td>--</td><td>2(2)-1(1)</td><td>-6.0265</td><td>3.60394</td><td>1.5</td><td>-5.28179</td><td>--</td><td>1122.1149</td><td>1614.46375</td><td>1124.96374</td><td>1618.56257</td><td>JPL</td></tr>\n",
       "<tr><td>SO3&amp;Sigma;v=1</td><td>Sulfur Monoxide</td><td>--</td><td>--</td><td>85.406277</td><td>8e-05</td><td>2(2)-1(1)</td><td>-6.035</td><td>3.53431</td><td>1.5</td><td>-5.29026</td><td>--</td><td>1122.1144</td><td>1614.46303</td><td>1124.96325</td><td>1618.56186</td><td>CDMS</td></tr>\n",
       "<tr><td>SO3&amp;Sigma;v=0</td><td>Sulfur Monoxide</td><td>--</td><td>--</td><td>86.09395</td><td>0.0001</td><td>2(2)-1(1)</td><td>-3.7129</td><td>3.534</td><td>1.5</td><td>-5.27985</td><td>&lt;1.7</td><td>10.552</td><td>15.18189</td><td>13.42379</td><td>19.31372</td><td>CDMS</td></tr>\n",
       "<tr><td>SO3&amp;Sigma;v=0</td><td>Sulfur Monoxide</td><td>--</td><td>--</td><td>86.09395</td><td>0.0001</td><td>2(2)-1(1)</td><td>-3.7043</td><td>3.60443</td><td>1.5</td><td>-5.27128</td><td>&lt;1.7</td><td>10.552</td><td>15.18189</td><td>13.42379</td><td>19.31372</td><td>JPL</td></tr>\n",
       "<tr><td>SO3&amp;Sigma;v=0</td><td>Sulfur Monoxide</td><td>86.093983</td><td>4e-06</td><td>--</td><td>--</td><td>2(2)-1(1)</td><td>0.0</td><td>0.0</td><td>0.0</td><td>0.0</td><td>&lt;1.7</td><td>0.0</td><td>0.0</td><td>0.0</td><td>0.0</td><td>Lovas</td></tr>\n",
       "<tr><td>SO3&amp;Sigma;v=0</td><td>Sulfur Monoxide</td><td>86.093983</td><td>4e-06</td><td>86.09395</td><td>1e-05</td><td>2(2)-1(1)</td><td>0.0</td><td>0.0</td><td>0.0</td><td>0.0</td><td>--</td><td>10.552</td><td>15.18189</td><td>13.42379</td><td>19.31372</td><td>SLAIM</td></tr>\n",
       "<tr><td>SO3&amp;Sigma;v=1</td><td>Sulfur Monoxide</td><td>98.3175545</td><td>2.72e-05</td><td>--</td><td>--</td><td>4(5)-4(4)</td><td>-6.5642</td><td>0.8394</td><td>0.356</td><td>-5.98645</td><td>--</td><td>1134.9339</td><td>1632.90733</td><td>1138.21342</td><td>1637.6258</td><td>CDMS</td></tr>\n",
       "<tr><td>SO3&amp;Sigma;v=1</td><td>Sulfur Monoxide</td><td>98.317606</td><td>2.9e-05</td><td>--</td><td>--</td><td>4(5)-4(4)</td><td>0.0</td><td>0.0</td><td>0.0</td><td>0.0</td><td>--</td><td>23.434</td><td>33.7161</td><td>26.71352</td><td>38.43458</td><td>SLAIM</td></tr>\n",
       "<tr><td>SO3&amp;Sigma;v=1</td><td>Sulfur Monoxide</td><td>98.3180964</td><td>0.0015506</td><td>--</td><td>--</td><td>4(5)-4(4)</td><td>-6.5556</td><td>0.85613</td><td>0.356</td><td>-5.97787</td><td>--</td><td>1134.9344</td><td>1632.90805</td><td>1138.21394</td><td>1637.62654</td><td>JPL</td></tr>\n",
       "<tr><td>SO3&amp;Sigma;v=1</td><td>Sulfur Monoxide</td><td>98.7580084</td><td>0.0010452</td><td>--</td><td>--</td><td>3(2)-2(1)</td><td>-5.5937</td><td>7.0502</td><td>2.935</td><td>-4.94725</td><td>--</td><td>1114.5902</td><td>1603.63745</td><td>1117.88441</td><td>1608.37706</td><td>JPL</td></tr>\n",
       "<tr><td>SO3&amp;Sigma;v=1</td><td>Sulfur Monoxide</td><td>--</td><td>--</td><td>98.758182</td><td>8e-05</td><td>3(2)-2(1)</td><td>-5.6022</td><td>6.914</td><td>2.934</td><td>-4.95572</td><td>--</td><td>1114.5902</td><td>1603.63745</td><td>1117.88442</td><td>1608.37707</td><td>CDMS</td></tr>\n",
       "<tr><td>SO3&amp;Sigma;v=1</td><td>Sulfur Monoxide</td><td>98.758192</td><td>3.3e-05</td><td>98.75818</td><td>8e-06</td><td>3(2)-2(1)</td><td>0.0</td><td>0.0</td><td>0.0</td><td>0.0</td><td>--</td><td>3.09</td><td>4.4458</td><td>6.38422</td><td>9.18541</td><td>SLAIM</td></tr>\n",
       "<tr><td>SO3&amp;Sigma;v=0</td><td>Sulfur Monoxide</td><td>--</td><td>--</td><td>99.29987</td><td>0.0001</td><td>3(2)-2(1)</td><td>-3.2826</td><td>6.91115</td><td>2.933</td><td>-4.94877</td><td>1.59m</td><td>3.0999</td><td>4.46004</td><td>6.41219</td><td>9.22565</td><td>CDMS</td></tr>\n",
       "<tr><td>SO3&amp;Sigma;v=0</td><td>Sulfur Monoxide</td><td>--</td><td>--</td><td>99.29987</td><td>0.0001</td><td>3(2)-2(1)</td><td>-3.274</td><td>7.04889</td><td>2.934</td><td>-4.9402</td><td>1.59m</td><td>3.0999</td><td>4.46004</td><td>6.41219</td><td>9.22565</td><td>JPL</td></tr>\n",
       "<tr><td>SO3&amp;Sigma;v=0</td><td>Sulfur Monoxide</td><td>99.299905</td><td>1.4e-05</td><td>--</td><td>--</td><td>3(2)-2(1)</td><td>0.0</td><td>0.0</td><td>0.0</td><td>0.0</td><td>1.59m</td><td>0.0</td><td>0.0</td><td>0.0</td><td>0.0</td><td>Lovas</td></tr>\n",
       "<tr><td>SO3&amp;Sigma;v=0</td><td>Sulfur Monoxide</td><td>99.299905</td><td>1.4e-05</td><td>99.29987</td><td>1e-05</td><td>3(2)-2(1)</td><td>0.0</td><td>0.0</td><td>0.0</td><td>0.0</td><td>--</td><td>3.1</td><td>4.46018</td><td>6.41229</td><td>9.2258</td><td>SLAIM</td></tr>\n",
       "<tr><td>SO3&amp;Sigma;v=0</td><td>Sulfur Monoxide</td><td>100.029565</td><td>2.9e-05</td><td>--</td><td>--</td><td>4(5)-4(4)</td><td>0.0</td><td>0.0</td><td>0.0</td><td>0.0</td><td>0.38m</td><td>0.0</td><td>0.0</td><td>0.0</td><td>0.0</td><td>Lovas</td></tr>\n",
       "<tr><td>SO3&amp;Sigma;v=0</td><td>Sulfur Monoxide</td><td>100.029565</td><td>2.9e-05</td><td>100.02964</td><td>1.5e-05</td><td>4(5)-4(4)</td><td>0.0</td><td>0.0</td><td>0.0</td><td>0.0</td><td>--</td><td>23.475</td><td>33.77509</td><td>26.81163</td><td>38.57573</td><td>SLAIM</td></tr>\n",
       "<tr><td>SO3&amp;Sigma;v=0</td><td>Sulfur Monoxide</td><td>--</td><td>--</td><td>100.02964</td><td>0.00015</td><td>4(5)-4(4)</td><td>-4.2359</td><td>0.83628</td><td>0.355</td><td>-5.96557</td><td>0.38m</td><td>23.4748</td><td>33.77481</td><td>26.81143</td><td>38.57544</td><td>CDMS</td></tr>\n",
       "<tr><td>SO3&amp;Sigma;v=0</td><td>Sulfur Monoxide</td><td>--</td><td>--</td><td>100.02964</td><td>0.00015</td><td>4(5)-4(4)</td><td>-4.2274</td><td>0.85275</td><td>0.355</td><td>-5.9571</td><td>0.38m</td><td>23.4748</td><td>33.77481</td><td>26.81143</td><td>38.57544</td><td>JPL</td></tr>\n",
       "<tr><td>SO3&amp;Sigma;v=1</td><td>Sulfur Monoxide</td><td>108.115407</td><td>3.1e-05</td><td>108.1156</td><td>1e-05</td><td>2(3)-1(2)</td><td>0.0</td><td>0.0</td><td>0.0</td><td>0.0</td><td>--</td><td>11.04</td><td>15.88401</td><td>14.64634</td><td>21.0727</td><td>SLAIM</td></tr>\n",
       "<tr><td>SO3&amp;Sigma;v=1</td><td>Sulfur Monoxide</td><td>108.1154184</td><td>0.0005852</td><td>--</td><td>--</td><td>2(3)-1(2)</td><td>-5.8206</td><td>3.62705</td><td>1.51</td><td>-4.97182</td><td>--</td><td>1122.5402</td><td>1615.07566</td><td>1126.14654</td><td>1620.26435</td><td>JPL</td></tr>\n",
       "<tr><td>SO3&amp;Sigma;v=1</td><td>Sulfur Monoxide</td><td>--</td><td>--</td><td>108.115605</td><td>0.0001</td><td>2(3)-1(2)</td><td>-5.8291</td><td>3.55697</td><td>1.51</td><td>-4.98029</td><td>--</td><td>1122.5397</td><td>1615.07494</td><td>1126.14605</td><td>1620.26364</td><td>CDMS</td></tr>\n",
       "<tr><td>SO3&amp;Sigma;v=0</td><td>Sulfur Monoxide</td><td>109.252212</td><td>1.2e-05</td><td>--</td><td>--</td><td>2(3)-1(2)</td><td>0.0</td><td>0.0</td><td>0.0</td><td>0.0</td><td>2.42m</td><td>0.0</td><td>0.0</td><td>0.0</td><td>0.0</td><td>Lovas</td></tr>\n",
       "<tr><td>SO3&amp;Sigma;v=0</td><td>Sulfur Monoxide</td><td>109.252212</td><td>1.2e-05</td><td>109.2521</td><td>1e-05</td><td>2(3)-1(2)</td><td>0.0</td><td>0.0</td><td>0.0</td><td>0.0</td><td>--</td><td>10.987</td><td>15.80775</td><td>14.63126</td><td>21.051</td><td>SLAIM</td></tr>\n",
       "<tr><td>SO3&amp;Sigma;v=0</td><td>Sulfur Monoxide</td><td>--</td><td>--</td><td>109.25222</td><td>0.0001</td><td>2(3)-1(2)</td><td>-3.5047</td><td>3.55844</td><td>1.51</td><td>-4.96649</td><td>2.42m</td><td>10.9871</td><td>15.8079</td><td>14.63136</td><td>21.05114</td><td>CDMS</td></tr>\n",
       "<tr><td>SO3&amp;Sigma;v=0</td><td>Sulfur Monoxide</td><td>--</td><td>--</td><td>109.25222</td><td>0.0001</td><td>2(3)-1(2)</td><td>-3.4962</td><td>3.62852</td><td>1.51</td><td>-4.95802</td><td>2.42m</td><td>10.9871</td><td>15.8079</td><td>14.63136</td><td>21.05114</td><td>JPL</td></tr>\n",
       "</table></div>"
      ],
      "text/plain": [
       "<Table length=28>\n",
       "   Species     Chemical Name  Freq-GHz(rest frame,redshifted) Freq Err(rest frame,redshifted) ...  E_L (K)   E_U (cm^-1)  E_U (K)   Linelist\n",
       "    str13          str15                  float64                         float64             ...  float64     float64    float64     str5  \n",
       "------------- --------------- ------------------------------- ------------------------------- ... ---------- ----------- ---------- --------\n",
       "SO3&Sigma;v=1 Sulfur Monoxide                       85.406095                           4e-06 ...   15.27109    13.46284   19.36991    SLAIM\n",
       "SO3&Sigma;v=1 Sulfur Monoxide                       85.406096                       0.0005026 ... 1614.46375  1124.96374 1618.56257      JPL\n",
       "SO3&Sigma;v=1 Sulfur Monoxide                              --                              -- ... 1614.46303  1124.96325 1618.56186     CDMS\n",
       "SO3&Sigma;v=0 Sulfur Monoxide                              --                              -- ...   15.18189    13.42379   19.31372     CDMS\n",
       "SO3&Sigma;v=0 Sulfur Monoxide                              --                              -- ...   15.18189    13.42379   19.31372      JPL\n",
       "SO3&Sigma;v=0 Sulfur Monoxide                       86.093983                           4e-06 ...        0.0         0.0        0.0    Lovas\n",
       "SO3&Sigma;v=0 Sulfur Monoxide                       86.093983                           4e-06 ...   15.18189    13.42379   19.31372    SLAIM\n",
       "SO3&Sigma;v=1 Sulfur Monoxide                      98.3175545                        2.72e-05 ... 1632.90733  1138.21342  1637.6258     CDMS\n",
       "SO3&Sigma;v=1 Sulfur Monoxide                       98.317606                         2.9e-05 ...    33.7161    26.71352   38.43458    SLAIM\n",
       "SO3&Sigma;v=1 Sulfur Monoxide                      98.3180964                       0.0015506 ... 1632.90805  1138.21394 1637.62654      JPL\n",
       "SO3&Sigma;v=1 Sulfur Monoxide                      98.7580084                       0.0010452 ... 1603.63745  1117.88441 1608.37706      JPL\n",
       "SO3&Sigma;v=1 Sulfur Monoxide                              --                              -- ... 1603.63745  1117.88442 1608.37707     CDMS\n",
       "SO3&Sigma;v=1 Sulfur Monoxide                       98.758192                         3.3e-05 ...     4.4458     6.38422    9.18541    SLAIM\n",
       "SO3&Sigma;v=0 Sulfur Monoxide                              --                              -- ...    4.46004     6.41219    9.22565     CDMS\n",
       "SO3&Sigma;v=0 Sulfur Monoxide                              --                              -- ...    4.46004     6.41219    9.22565      JPL\n",
       "SO3&Sigma;v=0 Sulfur Monoxide                       99.299905                         1.4e-05 ...        0.0         0.0        0.0    Lovas\n",
       "SO3&Sigma;v=0 Sulfur Monoxide                       99.299905                         1.4e-05 ...    4.46018     6.41229     9.2258    SLAIM\n",
       "SO3&Sigma;v=0 Sulfur Monoxide                      100.029565                         2.9e-05 ...        0.0         0.0        0.0    Lovas\n",
       "SO3&Sigma;v=0 Sulfur Monoxide                      100.029565                         2.9e-05 ...   33.77509    26.81163   38.57573    SLAIM\n",
       "SO3&Sigma;v=0 Sulfur Monoxide                              --                              -- ...   33.77481    26.81143   38.57544     CDMS\n",
       "SO3&Sigma;v=0 Sulfur Monoxide                              --                              -- ...   33.77481    26.81143   38.57544      JPL\n",
       "SO3&Sigma;v=1 Sulfur Monoxide                      108.115407                         3.1e-05 ...   15.88401    14.64634    21.0727    SLAIM\n",
       "SO3&Sigma;v=1 Sulfur Monoxide                     108.1154184                       0.0005852 ... 1615.07566  1126.14654 1620.26435      JPL\n",
       "SO3&Sigma;v=1 Sulfur Monoxide                              --                              -- ... 1615.07494  1126.14605 1620.26364     CDMS\n",
       "SO3&Sigma;v=0 Sulfur Monoxide                      109.252212                         1.2e-05 ...        0.0         0.0        0.0    Lovas\n",
       "SO3&Sigma;v=0 Sulfur Monoxide                      109.252212                         1.2e-05 ...   15.80775    14.63126     21.051    SLAIM\n",
       "SO3&Sigma;v=0 Sulfur Monoxide                              --                              -- ...    15.8079    14.63136   21.05114     CDMS\n",
       "SO3&Sigma;v=0 Sulfur Monoxide                              --                              -- ...    15.8079    14.63136   21.05114      JPL"
      ]
     },
     "execution_count": 11,
     "metadata": {},
     "output_type": "execute_result"
    }
   ],
   "source": [
    "Splatalogue.query_lines(85*u.GHz, 110*u.GHz, chemical_name=\" SO \")"
   ]
  },
  {
   "cell_type": "code",
   "execution_count": 13,
   "id": "ff55aad9-039e-4e34-ac0b-fb052640de7f",
   "metadata": {},
   "outputs": [
    {
     "data": {
      "text/html": [
       "<div><i>Table length=736</i>\n",
       "<table id=\"table139754553802704\" class=\"table-striped table-bordered table-condensed\">\n",
       "<thead><tr><th>Species</th><th>Chemical Name</th><th>Freq-GHz(rest frame,redshifted)</th><th>Freq Err(rest frame,redshifted)</th><th>Meas Freq-GHz(rest frame,redshifted)</th><th>Meas Freq Err(rest frame,redshifted)</th><th>Resolved QNs</th><th>CDMS/JPL Intensity</th><th>S&lt;sub&gt;ij&lt;/sub&gt;&amp;#956;&lt;sup&gt;2&lt;/sup&gt; (D&lt;sup&gt;2&lt;/sup&gt;)</th><th>S&lt;sub&gt;ij&lt;/sub&gt;</th><th>Log&lt;sub&gt;10&lt;/sub&gt; (A&lt;sub&gt;ij&lt;/sub&gt;)</th><th>Lovas/AST Intensity</th><th>E_L (cm^-1)</th><th>E_L (K)</th><th>E_U (cm^-1)</th><th>E_U (K)</th><th>Linelist</th></tr></thead>\n",
       "<thead><tr><th>str11</th><th>str8</th><th>float64</th><th>float64</th><th>float64</th><th>float64</th><th>str32</th><th>float64</th><th>float64</th><th>float64</th><th>float64</th><th>str5</th><th>float64</th><th>float64</th><th>float64</th><th>float64</th><th>str5</th></tr></thead>\n",
       "<tr><td>CH3OHvt=0-2</td><td>Methanol</td><td>85.006683</td><td>0.010997</td><td>--</td><td>--</td><td>23(a3)-23(a5)E1vt=2-vt=1</td><td>-10.6706</td><td>0.00413</td><td>0.0</td><td>-9.20149</td><td>--</td><td>1435.434</td><td>2065.25745</td><td>1438.26952</td><td>2069.33711</td><td>JPL</td></tr>\n",
       "<tr><td>CH3OHvt=0-2</td><td>Methanol</td><td>85.009903</td><td>0.029034</td><td>--</td><td>--</td><td>36(17)+-35(15)-vt=0-vt=1</td><td>-10.6103</td><td>0.09891</td><td>0.0</td><td>-8.31476</td><td>--</td><td>2068.546</td><td>2976.15916</td><td>2071.38163</td><td>2980.23897</td><td>JPL</td></tr>\n",
       "<tr><td>CH3OHvt=0-2</td><td>Methanol</td><td>85.075413</td><td>0.001313</td><td>--</td><td>--</td><td>31(-13,19)-30(-11,19)E,vt=0-vt=1</td><td>-9.7681</td><td>0.09773</td><td>0.0</td><td>-8.55602</td><td>--</td><td>1377.7635</td><td>1982.28295</td><td>1380.60131</td><td>1986.3659</td><td>CDMS</td></tr>\n",
       "<tr><td>CH3OHvt=0-2</td><td>Methanol</td><td>85.075413</td><td>0.001313</td><td>--</td><td>--</td><td>31(13)-30(11)E1vt=0-vt=1</td><td>-9.7781</td><td>0.02443</td><td>0.0</td><td>-8.55599</td><td>--</td><td>1377.764</td><td>1982.28366</td><td>1380.60181</td><td>1986.36662</td><td>JPL</td></tr>\n",
       "<tr><td>CH3OHvt=0-2</td><td>Methanol</td><td>85.145088</td><td>3.1e-05</td><td>--</td><td>--</td><td>17(-2,16)-16(-3,14)E,vt=2</td><td>-6.5828</td><td>4.568</td><td>0.0</td><td>-6.62999</td><td>--</td><td>650.4376</td><td>935.82923</td><td>653.27773</td><td>939.91553</td><td>CDMS</td></tr>\n",
       "<tr><td>CH3OHvt=0-2</td><td>Methanol</td><td>85.145088</td><td>3.1e-05</td><td>--</td><td>--</td><td>17(2)-16(3)E1vt=2</td><td>-6.5928</td><td>1.14208</td><td>0.0</td><td>-6.62996</td><td>--</td><td>650.438</td><td>935.82981</td><td>653.27813</td><td>939.91611</td><td>JPL</td></tr>\n",
       "<tr><td>CH3OHvt=0-2</td><td>Methanol</td><td>85.166754</td><td>0.031298</td><td>--</td><td>--</td><td>35(a3)-34(a4)E1vt=1</td><td>-10.1203</td><td>0.10006</td><td>0.0</td><td>-7.99424</td><td>--</td><td>1836.466</td><td>2642.24973</td><td>1839.30686</td><td>2646.33706</td><td>JPL</td></tr>\n",
       "<tr><td>CH3OHvt=0-2</td><td>Methanol</td><td>85.173266</td><td>0.014196</td><td>--</td><td>--</td><td>26(a0)-26(a2)E1vt=2</td><td>-11.589</td><td>0.00049</td><td>0.0</td><td>-10.18141</td><td>--</td><td>1430.538</td><td>2058.21324</td><td>1433.37907</td><td>2062.30089</td><td>JPL</td></tr>\n",
       "<tr><td>CH3OHvt=0-2</td><td>Methanol</td><td>85.174001</td><td>2.3e-05</td><td>--</td><td>--</td><td>24(0,24)-23(3,21)A,vt=0</td><td>-10.6558</td><td>0.00017</td><td>0.0</td><td>-11.20501</td><td>--</td><td>479.4961</td><td>689.88396</td><td>482.3372</td><td>693.97165</td><td>CDMS</td></tr>\n",
       "<tr><td>CH3OHvt=0-2</td><td>Methanol</td><td>85.174001</td><td>2.3e-05</td><td>--</td><td>--</td><td>24(0)+-23(3)+vt=0</td><td>-10.9669</td><td>2e-05</td><td>0.0</td><td>-11.50608</td><td>--</td><td>479.496</td><td>689.88382</td><td>482.3371</td><td>693.9715</td><td>JPL</td></tr>\n",
       "<tr><td>CH3OHvt=0-2</td><td>Methanol</td><td>--</td><td>--</td><td>85.346076</td><td>7e-06</td><td>14(0,4)-14(1,3),vt=1</td><td>0.0</td><td>5.13452</td><td>0.0</td><td>-5.8924</td><td>--</td><td>800.802</td><td>1152.16958</td><td>803.64884</td><td>1156.26552</td><td>CDMS</td></tr>\n",
       "<tr><td>CH3OHvt=0-2</td><td>Methanol</td><td>85.346097</td><td>4.1e-05</td><td>--</td><td>--</td><td>14(-10,4)-14(-11,3)E,vt=1</td><td>-6.2466</td><td>20.27999</td><td>0.0</td><td>-5.89791</td><td>--</td><td>800.8018</td><td>1152.16853</td><td>803.64864</td><td>1156.26448</td><td>CDMS</td></tr>\n",
       "<tr><td>CH3OHvt=0-2</td><td>Methanol</td><td>85.346097</td><td>4.1e-05</td><td>--</td><td>--</td><td>14(10)-14(11)E1vt=1</td><td>-6.2566</td><td>5.07036</td><td>0.0</td><td>-5.89787</td><td>--</td><td>800.802</td><td>1152.16882</td><td>803.64884</td><td>1156.26476</td><td>JPL</td></tr>\n",
       "<tr><td>CH3OHvt=0-2</td><td>Methanol</td><td>85.355421</td><td>0.004315</td><td>--</td><td>--</td><td>14(10,4)-14(11,3)vt=1</td><td>0.0</td><td>5.135</td><td>0.0</td><td>-5.89222</td><td>--</td><td>800.802</td><td>1152.16958</td><td>803.64915</td><td>1156.26597</td><td>SLAIM</td></tr>\n",
       "<tr><td>CH3OHvt=0-2</td><td>Methanol</td><td>85.488831</td><td>0.175469</td><td>--</td><td>--</td><td>28(18)-29(15)E1vt=1-vt=2</td><td>-13.7538</td><td>5e-05</td><td>0.0</td><td>-11.1845</td><td>--</td><td>2002.685</td><td>2881.40041</td><td>2005.5366</td><td>2885.50321</td><td>JPL</td></tr>\n",
       "<tr><td>...</td><td>...</td><td>...</td><td>...</td><td>...</td><td>...</td><td>...</td><td>...</td><td>...</td><td>...</td><td>...</td><td>...</td><td>...</td><td>...</td><td>...</td><td>...</td><td>...</td></tr>\n",
       "<tr><td>CH3OHvt=0-2</td><td>Methanol</td><td>109.405476</td><td>0.000146</td><td>--</td><td>--</td><td>30(5,26)-29(4,25)A,vt=1</td><td>-6.4946</td><td>21.48048</td><td>0.0</td><td>-5.87229</td><td>--</td><td>1035.0279</td><td>1489.16571</td><td>1038.67727</td><td>1494.41631</td><td>CDMS</td></tr>\n",
       "<tr><td>CH3OHvt=0-2</td><td>Methanol</td><td>109.405476</td><td>0.000146</td><td>--</td><td>--</td><td>30(5)+-29(4)+vt=1</td><td>-6.5045</td><td>5.37174</td><td>0.0</td><td>-5.87216</td><td>--</td><td>1035.028</td><td>1489.16585</td><td>1038.67737</td><td>1494.41645</td><td>JPL</td></tr>\n",
       "<tr><td>CH3OHvt=0-2</td><td>Methanol</td><td>109.412725</td><td>0.000146</td><td>--</td><td>--</td><td>30(5,25)-29(4,26)A,vt=1</td><td>-6.4945</td><td>21.48257</td><td>0.0</td><td>-5.87217</td><td>--</td><td>1035.0277</td><td>1489.16542</td><td>1038.67732</td><td>1494.41637</td><td>CDMS</td></tr>\n",
       "<tr><td>CH3OHvt=0-2</td><td>Methanol</td><td>109.412725</td><td>0.000146</td><td>--</td><td>--</td><td>30(5)--29(4)-vt=1</td><td>-6.5045</td><td>5.37103</td><td>0.0</td><td>-5.87214</td><td>--</td><td>1035.028</td><td>1489.16585</td><td>1038.67762</td><td>1494.4168</td><td>JPL</td></tr>\n",
       "<tr><td>CH3OHvt=0-2</td><td>Methanol</td><td>109.499417</td><td>0.000658</td><td>--</td><td>--</td><td>27(1,26)-28(4,25)A,vt=2</td><td>-10.4554</td><td>0.00289</td><td>0.0</td><td>-9.69677</td><td>--</td><td>1078.7107</td><td>1552.01515</td><td>1082.36321</td><td>1557.27026</td><td>CDMS</td></tr>\n",
       "<tr><td>CH3OHvt=0-2</td><td>Methanol</td><td>109.499417</td><td>0.000658</td><td>--</td><td>--</td><td>27(1)--28(4)-vt=2</td><td>-10.6937</td><td>0.00043</td><td>0.0</td><td>-9.92504</td><td>--</td><td>1078.711</td><td>1552.01558</td><td>1082.36351</td><td>1557.27069</td><td>JPL</td></tr>\n",
       "<tr><td>CH3OHvt=0-2</td><td>Methanol</td><td>109.504928</td><td>0.001232</td><td>--</td><td>--</td><td>14(11,4)-15(14,1)A,vt=1-vt=0</td><td>-10.502</td><td>0.00096</td><td>0.0</td><td>-9.89655</td><td>--</td><td>871.6978</td><td>1254.17148</td><td>875.35049</td><td>1259.42685</td><td>CDMS</td></tr>\n",
       "<tr><td>CH3OHvt=0-2</td><td>Methanol</td><td>109.504928</td><td>0.001232</td><td>--</td><td>--</td><td>14(11,3)-15(14,2)A,vt=1-vt=0</td><td>-10.502</td><td>0.00096</td><td>0.0</td><td>-9.89655</td><td>--</td><td>871.6978</td><td>1254.17148</td><td>875.35049</td><td>1259.42685</td><td>CDMS</td></tr>\n",
       "<tr><td>CH3OHvt=0-2</td><td>Methanol</td><td>109.504928</td><td>0.001232</td><td>--</td><td>--</td><td>14(11)+-15(14)-vt=1-vt=0</td><td>-10.211</td><td>0.00048</td><td>0.0</td><td>-9.89655</td><td>--</td><td>871.698</td><td>1254.17176</td><td>875.35069</td><td>1259.42714</td><td>JPL</td></tr>\n",
       "<tr><td>CH3OHvt=0-2</td><td>Methanol</td><td>109.595966</td><td>0.000323</td><td>--</td><td>--</td><td>37(4,34)-38(1,38)E,vt=0</td><td>-9.8877</td><td>0.01806</td><td>0.0</td><td>-9.03514</td><td>--</td><td>1188.2907</td><td>1709.67542</td><td>1191.94643</td><td>1714.93517</td><td>CDMS</td></tr>\n",
       "<tr><td>CH3OHvt=0-2</td><td>Methanol</td><td>109.595966</td><td>0.000323</td><td>--</td><td>--</td><td>37(-4)-38(-1)E2vt=0</td><td>-9.8977</td><td>0.00451</td><td>0.0</td><td>-9.03511</td><td>--</td><td>1188.291</td><td>1709.67585</td><td>1191.94673</td><td>1714.9356</td><td>JPL</td></tr>\n",
       "<tr><td>CH3OHvt=0-2</td><td>Methanol</td><td>109.613783</td><td>7.7e-05</td><td>--</td><td>--</td><td>33(-6,28)-32(-7,26)E,vt=0</td><td>-6.194</td><td>40.44659</td><td>0.0</td><td>-5.63572</td><td>--</td><td>1023.4489</td><td>1472.5062</td><td>1027.10522</td><td>1477.7668</td><td>CDMS</td></tr>\n",
       "<tr><td>CH3OHvt=0-2</td><td>Methanol</td><td>109.613783</td><td>7.7e-05</td><td>--</td><td>--</td><td>33(6)-32(7)E1vt=0</td><td>-6.2041</td><td>10.11004</td><td>0.0</td><td>-5.63579</td><td>--</td><td>1023.449</td><td>1472.50635</td><td>1027.10532</td><td>1477.76695</td><td>JPL</td></tr>\n",
       "<tr><td>CH3OHvt=0-2</td><td>Methanol</td><td>109.759122</td><td>0.025209</td><td>--</td><td>--</td><td>31(a3)-31(a5)E1vt=2-vt=1</td><td>-10.8573</td><td>0.00872</td><td>0.0</td><td>-8.6715</td><td>--</td><td>1786.918</td><td>2570.96162</td><td>1790.57917</td><td>2576.22919</td><td>JPL</td></tr>\n",
       "<tr><td>CH3OHvt=0-2</td><td>Methanol</td><td>109.911105</td><td>0.000112</td><td>--</td><td>--</td><td>12(2,11)-13(-2,11),vt=1</td><td>0.0</td><td>0.0</td><td>0.0</td><td>-13.73177</td><td>--</td><td>399.772</td><td>575.1798</td><td>403.43824</td><td>580.45468</td><td>CDMS</td></tr>\n",
       "<tr><td>CH3OHvt=0-2</td><td>Methanol</td><td>109.911105</td><td>0.000112</td><td>--</td><td>--</td><td>12(2,11)-13(-2,11)vt=1</td><td>0.0</td><td>0.0</td><td>0.0</td><td>-13.73175</td><td>--</td><td>399.772</td><td>575.1798</td><td>403.43824</td><td>580.45468</td><td>SLAIM</td></tr>\n",
       "</table></div>"
      ],
      "text/plain": [
       "<Table length=736>\n",
       "  Species   Chemical Name Freq-GHz(rest frame,redshifted) Freq Err(rest frame,redshifted) ...  E_L (K)   E_U (cm^-1)  E_U (K)   Linelist\n",
       "   str11         str8                 float64                         float64             ...  float64     float64    float64     str5  \n",
       "----------- ------------- ------------------------------- ------------------------------- ... ---------- ----------- ---------- --------\n",
       "CH3OHvt=0-2      Methanol                       85.006683                        0.010997 ... 2065.25745  1438.26952 2069.33711      JPL\n",
       "CH3OHvt=0-2      Methanol                       85.009903                        0.029034 ... 2976.15916  2071.38163 2980.23897      JPL\n",
       "CH3OHvt=0-2      Methanol                       85.075413                        0.001313 ... 1982.28295  1380.60131  1986.3659     CDMS\n",
       "CH3OHvt=0-2      Methanol                       85.075413                        0.001313 ... 1982.28366  1380.60181 1986.36662      JPL\n",
       "CH3OHvt=0-2      Methanol                       85.145088                         3.1e-05 ...  935.82923   653.27773  939.91553     CDMS\n",
       "CH3OHvt=0-2      Methanol                       85.145088                         3.1e-05 ...  935.82981   653.27813  939.91611      JPL\n",
       "CH3OHvt=0-2      Methanol                       85.166754                        0.031298 ... 2642.24973  1839.30686 2646.33706      JPL\n",
       "CH3OHvt=0-2      Methanol                       85.173266                        0.014196 ... 2058.21324  1433.37907 2062.30089      JPL\n",
       "CH3OHvt=0-2      Methanol                       85.174001                         2.3e-05 ...  689.88396    482.3372  693.97165     CDMS\n",
       "CH3OHvt=0-2      Methanol                       85.174001                         2.3e-05 ...  689.88382    482.3371   693.9715      JPL\n",
       "CH3OHvt=0-2      Methanol                              --                              -- ... 1152.16958   803.64884 1156.26552     CDMS\n",
       "CH3OHvt=0-2      Methanol                       85.346097                         4.1e-05 ... 1152.16853   803.64864 1156.26448     CDMS\n",
       "CH3OHvt=0-2      Methanol                       85.346097                         4.1e-05 ... 1152.16882   803.64884 1156.26476      JPL\n",
       "CH3OHvt=0-2      Methanol                       85.355421                        0.004315 ... 1152.16958   803.64915 1156.26597    SLAIM\n",
       "CH3OHvt=0-2      Methanol                       85.488831                        0.175469 ... 2881.40041   2005.5366 2885.50321      JPL\n",
       "        ...           ...                             ...                             ... ...        ...         ...        ...      ...\n",
       "CH3OHvt=0-2      Methanol                      109.405476                        0.000146 ... 1489.16571  1038.67727 1494.41631     CDMS\n",
       "CH3OHvt=0-2      Methanol                      109.405476                        0.000146 ... 1489.16585  1038.67737 1494.41645      JPL\n",
       "CH3OHvt=0-2      Methanol                      109.412725                        0.000146 ... 1489.16542  1038.67732 1494.41637     CDMS\n",
       "CH3OHvt=0-2      Methanol                      109.412725                        0.000146 ... 1489.16585  1038.67762  1494.4168      JPL\n",
       "CH3OHvt=0-2      Methanol                      109.499417                        0.000658 ... 1552.01515  1082.36321 1557.27026     CDMS\n",
       "CH3OHvt=0-2      Methanol                      109.499417                        0.000658 ... 1552.01558  1082.36351 1557.27069      JPL\n",
       "CH3OHvt=0-2      Methanol                      109.504928                        0.001232 ... 1254.17148   875.35049 1259.42685     CDMS\n",
       "CH3OHvt=0-2      Methanol                      109.504928                        0.001232 ... 1254.17148   875.35049 1259.42685     CDMS\n",
       "CH3OHvt=0-2      Methanol                      109.504928                        0.001232 ... 1254.17176   875.35069 1259.42714      JPL\n",
       "CH3OHvt=0-2      Methanol                      109.595966                        0.000323 ... 1709.67542  1191.94643 1714.93517     CDMS\n",
       "CH3OHvt=0-2      Methanol                      109.595966                        0.000323 ... 1709.67585  1191.94673  1714.9356      JPL\n",
       "CH3OHvt=0-2      Methanol                      109.613783                         7.7e-05 ...  1472.5062  1027.10522  1477.7668     CDMS\n",
       "CH3OHvt=0-2      Methanol                      109.613783                         7.7e-05 ... 1472.50635  1027.10532 1477.76695      JPL\n",
       "CH3OHvt=0-2      Methanol                      109.759122                        0.025209 ... 2570.96162  1790.57917 2576.22919      JPL\n",
       "CH3OHvt=0-2      Methanol                      109.911105                        0.000112 ...   575.1798   403.43824  580.45468     CDMS\n",
       "CH3OHvt=0-2      Methanol                      109.911105                        0.000112 ...   575.1798   403.43824  580.45468    SLAIM"
      ]
     },
     "execution_count": 13,
     "metadata": {},
     "output_type": "execute_result"
    }
   ],
   "source": [
    "Splatalogue.query_lines(85*u.GHz, 110*u.GHz, chemical_name=\" CH3OH \")"
   ]
  },
  {
   "cell_type": "code",
   "execution_count": 15,
   "id": "9bce9824-acd3-407c-9d08-9f9ca28a2b1c",
   "metadata": {},
   "outputs": [
    {
     "data": {
      "text/html": [
       "<div><i>Table length=192</i>\n",
       "<table id=\"table139754552308832\" class=\"table-striped table-bordered table-condensed\">\n",
       "<thead><tr><th>Species</th><th>Chemical Name</th><th>Freq-GHz(rest frame,redshifted)</th><th>Freq Err(rest frame,redshifted)</th><th>Meas Freq-GHz(rest frame,redshifted)</th><th>Meas Freq Err(rest frame,redshifted)</th><th>Resolved QNs</th><th>CDMS/JPL Intensity</th><th>S&lt;sub&gt;ij&lt;/sub&gt;&amp;#956;&lt;sup&gt;2&lt;/sup&gt; (D&lt;sup&gt;2&lt;/sup&gt;)</th><th>S&lt;sub&gt;ij&lt;/sub&gt;</th><th>Log&lt;sub&gt;10&lt;/sub&gt; (A&lt;sub&gt;ij&lt;/sub&gt;)</th><th>Lovas/AST Intensity</th><th>E_L (cm^-1)</th><th>E_L (K)</th><th>E_U (cm^-1)</th><th>E_U (K)</th><th>Linelist</th></tr></thead>\n",
       "<thead><tr><th>str20</th><th>str14</th><th>float64</th><th>float64</th><th>float64</th><th>float64</th><th>str15</th><th>float64</th><th>float64</th><th>float64</th><th>float64</th><th>str5</th><th>float64</th><th>float64</th><th>float64</th><th>float64</th><th>str5</th></tr></thead>\n",
       "<tr><td>HC3Nv7=1</td><td>Cyanoacetylene</td><td>90.2179121</td><td>0.0008481</td><td>--</td><td>--</td><td>J=119,l=1f-1e</td><td>-10.023</td><td>0.23188</td><td>0.017</td><td>-8.08132</td><td>--</td><td>2391.3766</td><td>3440.63771</td><td>2394.38595</td><td>3444.96746</td><td>CDMS</td></tr>\n",
       "<tr><td>HC3Nv2=1</td><td>Cyanoacetylene</td><td>90.5477451</td><td>3.2e-06</td><td>--</td><td>--</td><td>10-9</td><td>-7.0404</td><td>134.44169</td><td>9.7</td><td>-4.25712</td><td>--</td><td>2287.5869</td><td>3291.30834</td><td>2290.60725</td><td>3295.65392</td><td>CDMS</td></tr>\n",
       "<tr><td>HC3Nv3=1</td><td>Cyanoacetylene</td><td>90.7002808</td><td>1.09e-05</td><td>--</td><td>--</td><td>10-9</td><td>-6.6335</td><td>134.43765</td><td>9.7</td><td>-4.25494</td><td>--</td><td>2092.9209</td><td>3011.229</td><td>2095.94634</td><td>3015.5819</td><td>CDMS</td></tr>\n",
       "<tr><td>HC3Nv4=1</td><td>Cyanoacetylene</td><td>90.853805</td><td>3.7e-06</td><td>--</td><td>--</td><td>10-9</td><td>-4.105</td><td>134.25022</td><td>9.6</td><td>-4.25334</td><td>--</td><td>879.36</td><td>1265.19561</td><td>882.39056</td><td>1269.55588</td><td>CDMS</td></tr>\n",
       "<tr><td>HC3Nv=0</td><td>Cyanoacetylene</td><td>90.9774431</td><td>1.8e-06</td><td>--</td><td>--</td><td>J=10-9,F=10-10</td><td>-4.7619</td><td>0.46422</td><td>0.033</td><td>-6.71276</td><td>--</td><td>13.6565</td><td>19.64854</td><td>16.69118</td><td>24.01475</td><td>CDMS</td></tr>\n",
       "<tr><td>HC3Nv=0</td><td>Cyanoacetylene</td><td>90.9789838</td><td>1e-06</td><td>--</td><td>--</td><td>J=10-9,F=9-8</td><td>-2.8102</td><td>41.53454</td><td>2.983</td><td>-4.71759</td><td>1.77</td><td>13.6565</td><td>19.64854</td><td>16.69123</td><td>24.01482</td><td>CDMS</td></tr>\n",
       "<tr><td>HC3Nv=0</td><td>Cyanoacetylene</td><td>90.978989</td><td>3e-06</td><td>90.979023</td><td>2e-05</td><td>J=10-9</td><td>0.0</td><td>139.05441</td><td>10.0</td><td>-4.23627</td><td>--</td><td>13.656</td><td>19.64782</td><td>16.69073</td><td>24.0141</td><td>SLAIM</td></tr>\n",
       "<tr><td>HC3Nv=0</td><td>Cyanoacetylene</td><td>90.978989</td><td>3e-06</td><td>--</td><td>--</td><td>J=10-9</td><td>0.0</td><td>0.0</td><td>0.0</td><td>0.0</td><td>1.77</td><td>0.0</td><td>0.0</td><td>0.0</td><td>0.0</td><td>Lovas</td></tr>\n",
       "<tr><td>HC3Nv=0</td><td>Cyanoacetylene</td><td>90.9789948</td><td>1e-06</td><td>--</td><td>--</td><td>J=10-9,F=10-9</td><td>-2.7663</td><td>45.95249</td><td>3.3</td><td>-4.71715</td><td>1.77</td><td>13.6564</td><td>19.6484</td><td>16.69113</td><td>24.01468</td><td>CDMS</td></tr>\n",
       "<tr><td>HC3Nv=0</td><td>Cyanoacetylene</td><td>90.9790024</td><td>1e-06</td><td>--</td><td>--</td><td>J=10-9,F=11-10</td><td>-2.7224</td><td>50.84043</td><td>3.651</td><td>-4.71276</td><td>1.77</td><td>13.6565</td><td>19.64854</td><td>16.69123</td><td>24.01482</td><td>CDMS</td></tr>\n",
       "<tr><td>HC3Nv=0</td><td>Cyanoacetylene</td><td>--</td><td>--</td><td>90.979023</td><td>2e-05</td><td>J=10-9</td><td>-2.2848</td><td>139.25442</td><td>10.0</td><td>-4.23565</td><td>1.77</td><td>13.6565</td><td>19.64854</td><td>16.69123</td><td>24.01482</td><td>CDMS</td></tr>\n",
       "<tr><td>HC3Nv=0</td><td>Cyanoacetylene</td><td>--</td><td>--</td><td>90.979023</td><td>2e-05</td><td>J=10-9</td><td>-2.2866</td><td>138.67058</td><td>9.999</td><td>-4.23748</td><td>--</td><td>13.6565</td><td>19.64854</td><td>16.69123</td><td>24.01482</td><td>JPL</td></tr>\n",
       "<tr><td>HC3Nv=0</td><td>Cyanoacetylene</td><td>90.9791386</td><td>3.3e-06</td><td>--</td><td>--</td><td>J=10-9,F=9-10</td><td>-7.3627</td><td>0.00116</td><td>0.0</td><td>-9.27009</td><td>1.77</td><td>13.6565</td><td>19.64854</td><td>16.69124</td><td>24.01483</td><td>CDMS</td></tr>\n",
       "<tr><td>HC3Nv=0</td><td>Cyanoacetylene</td><td>90.9806903</td><td>1.8e-06</td><td>--</td><td>--</td><td>J=10-9,F=9-9</td><td>-4.7619</td><td>0.46419</td><td>0.033</td><td>-6.66928</td><td>--</td><td>13.6564</td><td>19.6484</td><td>16.69119</td><td>24.01476</td><td>CDMS</td></tr>\n",
       "<tr><td>HC3Nv5=1</td><td>Cyanoacetylene</td><td>90.987005</td><td>5.8e-05</td><td>90.98697</td><td>0.0002</td><td>J=10-9,l=1e</td><td>0.0</td><td>136.55858</td><td>9.9</td><td>-4.24402</td><td>0.43</td><td>676.87</td><td>973.85934</td><td>679.905</td><td>978.22601</td><td>SLAIM</td></tr>\n",
       "<tr><td>...</td><td>...</td><td>...</td><td>...</td><td>...</td><td>...</td><td>...</td><td>...</td><td>...</td><td>...</td><td>...</td><td>...</td><td>...</td><td>...</td><td>...</td><td>...</td><td>...</td></tr>\n",
       "<tr><td>HC3Nv6=1,v7=1</td><td>Cyanoacetylene</td><td>--</td><td>--</td><td>109.740155</td><td>1.5e-05</td><td>J=12-11,l=0-</td><td>-3.5622</td><td>165.79072</td><td>0.0</td><td>-3.99135</td><td>--</td><td>741.1935</td><td>1066.41905</td><td>744.85404</td><td>1071.68578</td><td>CDMS</td></tr>\n",
       "<tr><td>HC3Nv6=1,v7=1</td><td>Cyanoacetylene</td><td>--</td><td>--</td><td>109.74977</td><td>1.5e-05</td><td>J=12-11,l=2-</td><td>-3.5746</td><td>161.20463</td><td>0.0</td><td>-4.00342</td><td>--</td><td>741.3342</td><td>1066.62149</td><td>744.99506</td><td>1071.88868</td><td>CDMS</td></tr>\n",
       "<tr><td>HC3Nv6=1,v7=1</td><td>Cyanoacetylene</td><td>--</td><td>--</td><td>109.752612</td><td>1.5e-05</td><td>J=12-11,l=2+</td><td>-3.5746</td><td>161.19647</td><td>0.0</td><td>-4.00341</td><td>--</td><td>741.3344</td><td>1066.62178</td><td>744.99535</td><td>1071.88911</td><td>CDMS</td></tr>\n",
       "<tr><td>HC3Nv4=1,v7=2/v5=20e</td><td>Cyanoacetylene</td><td>109.7682332</td><td>9.7e-06</td><td>--</td><td>--</td><td>J=12-11,v7=22-</td><td>-4.8377</td><td>157.83427</td><td>11.668</td><td>-4.01237</td><td>--</td><td>1343.439</td><td>1932.89793</td><td>1347.10047</td><td>1938.16594</td><td>CDMS</td></tr>\n",
       "<tr><td>HC3Nv4=1,v7=2/v5=20e</td><td>Cyanoacetylene</td><td>109.772647</td><td>9.7e-06</td><td>--</td><td>--</td><td>J=12-11,v7=22+</td><td>-4.8377</td><td>157.82194</td><td>11.667</td><td>-4.01236</td><td>--</td><td>1343.4394</td><td>1932.89851</td><td>1347.10102</td><td>1938.16673</td><td>CDMS</td></tr>\n",
       "<tr><td>HC3Nv4=1,v7=2/v5=20e</td><td>Cyanoacetylene</td><td>109.7750764</td><td>1.66e-05</td><td>--</td><td>--</td><td>J=12-11,v4=1</td><td>-4.8203</td><td>162.33602</td><td>12.0</td><td>-4.00008</td><td>--</td><td>1340.9748</td><td>1929.35252</td><td>1344.6365</td><td>1934.62086</td><td>CDMS</td></tr>\n",
       "<tr><td>HC3Nv7=2</td><td>Cyanoacetylene</td><td>109.862778</td><td>4e-06</td><td>--</td><td>--</td><td>J=12-11,l=0</td><td>0.0</td><td>0.0</td><td>0.0</td><td>0.0</td><td>0.02b</td><td>0.0</td><td>0.0</td><td>0.0</td><td>0.0</td><td>Lovas</td></tr>\n",
       "<tr><td>HC3Nv7=2</td><td>Cyanoacetylene</td><td>109.8627782</td><td>2.2e-06</td><td>--</td><td>--</td><td>J=12-11,l=0</td><td>-2.9891</td><td>165.50934</td><td>11.999</td><td>-3.99063</td><td>0.02b</td><td>466.155</td><td>670.6892</td><td>469.81963</td><td>675.96176</td><td>CDMS</td></tr>\n",
       "<tr><td>HC3Nv7=2</td><td>Cyanoacetylene</td><td>109.862828</td><td>4.6e-05</td><td>--</td><td>--</td><td>J=12-11,l=0</td><td>0.0</td><td>165.52555</td><td>12.0</td><td>-3.99058</td><td>0.02b</td><td>463.52</td><td>666.89805</td><td>467.18463</td><td>672.1706</td><td>SLAIM</td></tr>\n",
       "<tr><td>HC3Nv7=2</td><td>Cyanoacetylene</td><td>109.865854</td><td>5.5e-05</td><td>--</td><td>--</td><td>J=12-11,l=2e</td><td>0.0</td><td>160.93222</td><td>11.667</td><td>-4.00276</td><td>b</td><td>465.34</td><td>669.51661</td><td>469.00473</td><td>674.78931</td><td>SLAIM</td></tr>\n",
       "<tr><td>HC3Nv7=2</td><td>Cyanoacetylene</td><td>109.865961</td><td>1.7e-06</td><td>--</td><td>--</td><td>J=12-11,l=2e</td><td>-3.006</td><td>160.92966</td><td>11.667</td><td>-4.00278</td><td>b</td><td>468.4301</td><td>673.96255</td><td>472.09483</td><td>679.23525</td><td>CDMS</td></tr>\n",
       "<tr><td>HC3Nv7=2</td><td>Cyanoacetylene</td><td>109.865961</td><td>3e-06</td><td>--</td><td>--</td><td>J=12-11,l=2e</td><td>0.0</td><td>0.0</td><td>0.0</td><td>0.0</td><td>b</td><td>0.0</td><td>0.0</td><td>0.0</td><td>0.0</td><td>Lovas</td></tr>\n",
       "<tr><td>HC3Nv7=2</td><td>Cyanoacetylene</td><td>109.870188</td><td>4.7e-05</td><td>--</td><td>--</td><td>J=12-11,l=2f</td><td>0.0</td><td>160.93222</td><td>11.667</td><td>-4.00271</td><td>b</td><td>465.34</td><td>669.51661</td><td>469.00487</td><td>674.78952</td><td>SLAIM</td></tr>\n",
       "<tr><td>HC3Nv7=2</td><td>Cyanoacetylene</td><td>109.87029</td><td>3e-05</td><td>--</td><td>--</td><td>J=12-11,l=2f</td><td>0.0</td><td>0.0</td><td>0.0</td><td>0.0</td><td>b</td><td>0.0</td><td>0.0</td><td>0.0</td><td>0.0</td><td>Lovas</td></tr>\n",
       "<tr><td>HC3Nv7=2</td><td>Cyanoacetylene</td><td>109.8702902</td><td>1.7e-06</td><td>--</td><td>--</td><td>J=12-11,l=2f</td><td>-3.006</td><td>160.91727</td><td>11.666</td><td>-4.00276</td><td>b</td><td>468.4304</td><td>673.96298</td><td>472.09528</td><td>679.23589</td><td>CDMS</td></tr>\n",
       "<tr><td>HC3Nv6=1,v7=2</td><td>Cyanoacetylene</td><td>109.99</td><td>0.002</td><td>--</td><td>--</td><td>J=12-11,l=1e-</td><td>0.0</td><td>0.0</td><td>0.0</td><td>0.0</td><td>1.4f</td><td>0.0</td><td>0.0</td><td>0.0</td><td>0.0</td><td>Lovas</td></tr>\n",
       "</table></div>"
      ],
      "text/plain": [
       "<Table length=192>\n",
       "      Species        Chemical Name  Freq-GHz(rest frame,redshifted) Freq Err(rest frame,redshifted) ...  E_L (K)   E_U (cm^-1)  E_U (K)   Linelist\n",
       "       str20             str14                  float64                         float64             ...  float64     float64    float64     str5  \n",
       "-------------------- -------------- ------------------------------- ------------------------------- ... ---------- ----------- ---------- --------\n",
       "            HC3Nv7=1 Cyanoacetylene                      90.2179121                       0.0008481 ... 3440.63771  2394.38595 3444.96746     CDMS\n",
       "            HC3Nv2=1 Cyanoacetylene                      90.5477451                         3.2e-06 ... 3291.30834  2290.60725 3295.65392     CDMS\n",
       "            HC3Nv3=1 Cyanoacetylene                      90.7002808                        1.09e-05 ...   3011.229  2095.94634  3015.5819     CDMS\n",
       "            HC3Nv4=1 Cyanoacetylene                       90.853805                         3.7e-06 ... 1265.19561   882.39056 1269.55588     CDMS\n",
       "             HC3Nv=0 Cyanoacetylene                      90.9774431                         1.8e-06 ...   19.64854    16.69118   24.01475     CDMS\n",
       "             HC3Nv=0 Cyanoacetylene                      90.9789838                           1e-06 ...   19.64854    16.69123   24.01482     CDMS\n",
       "             HC3Nv=0 Cyanoacetylene                       90.978989                           3e-06 ...   19.64782    16.69073    24.0141    SLAIM\n",
       "             HC3Nv=0 Cyanoacetylene                       90.978989                           3e-06 ...        0.0         0.0        0.0    Lovas\n",
       "             HC3Nv=0 Cyanoacetylene                      90.9789948                           1e-06 ...    19.6484    16.69113   24.01468     CDMS\n",
       "             HC3Nv=0 Cyanoacetylene                      90.9790024                           1e-06 ...   19.64854    16.69123   24.01482     CDMS\n",
       "             HC3Nv=0 Cyanoacetylene                              --                              -- ...   19.64854    16.69123   24.01482     CDMS\n",
       "             HC3Nv=0 Cyanoacetylene                              --                              -- ...   19.64854    16.69123   24.01482      JPL\n",
       "             HC3Nv=0 Cyanoacetylene                      90.9791386                         3.3e-06 ...   19.64854    16.69124   24.01483     CDMS\n",
       "             HC3Nv=0 Cyanoacetylene                      90.9806903                         1.8e-06 ...    19.6484    16.69119   24.01476     CDMS\n",
       "            HC3Nv5=1 Cyanoacetylene                       90.987005                         5.8e-05 ...  973.85934     679.905  978.22601    SLAIM\n",
       "                 ...            ...                             ...                             ... ...        ...         ...        ...      ...\n",
       "       HC3Nv6=1,v7=1 Cyanoacetylene                              --                              -- ... 1066.41905   744.85404 1071.68578     CDMS\n",
       "       HC3Nv6=1,v7=1 Cyanoacetylene                              --                              -- ... 1066.62149   744.99506 1071.88868     CDMS\n",
       "       HC3Nv6=1,v7=1 Cyanoacetylene                              --                              -- ... 1066.62178   744.99535 1071.88911     CDMS\n",
       "HC3Nv4=1,v7=2/v5=20e Cyanoacetylene                     109.7682332                         9.7e-06 ... 1932.89793  1347.10047 1938.16594     CDMS\n",
       "HC3Nv4=1,v7=2/v5=20e Cyanoacetylene                      109.772647                         9.7e-06 ... 1932.89851  1347.10102 1938.16673     CDMS\n",
       "HC3Nv4=1,v7=2/v5=20e Cyanoacetylene                     109.7750764                        1.66e-05 ... 1929.35252   1344.6365 1934.62086     CDMS\n",
       "            HC3Nv7=2 Cyanoacetylene                      109.862778                           4e-06 ...        0.0         0.0        0.0    Lovas\n",
       "            HC3Nv7=2 Cyanoacetylene                     109.8627782                         2.2e-06 ...   670.6892   469.81963  675.96176     CDMS\n",
       "            HC3Nv7=2 Cyanoacetylene                      109.862828                         4.6e-05 ...  666.89805   467.18463   672.1706    SLAIM\n",
       "            HC3Nv7=2 Cyanoacetylene                      109.865854                         5.5e-05 ...  669.51661   469.00473  674.78931    SLAIM\n",
       "            HC3Nv7=2 Cyanoacetylene                      109.865961                         1.7e-06 ...  673.96255   472.09483  679.23525     CDMS\n",
       "            HC3Nv7=2 Cyanoacetylene                      109.865961                           3e-06 ...        0.0         0.0        0.0    Lovas\n",
       "            HC3Nv7=2 Cyanoacetylene                      109.870188                         4.7e-05 ...  669.51661   469.00487  674.78952    SLAIM\n",
       "            HC3Nv7=2 Cyanoacetylene                       109.87029                           3e-05 ...        0.0         0.0        0.0    Lovas\n",
       "            HC3Nv7=2 Cyanoacetylene                     109.8702902                         1.7e-06 ...  673.96298   472.09528  679.23589     CDMS\n",
       "       HC3Nv6=1,v7=2 Cyanoacetylene                          109.99                           0.002 ...        0.0         0.0        0.0    Lovas"
      ]
     },
     "execution_count": 15,
     "metadata": {},
     "output_type": "execute_result"
    }
   ],
   "source": [
    "Splatalogue.query_lines(90*u.GHz, 110*u.GHz, chemical_name=\" HC3N \")"
   ]
  },
  {
   "cell_type": "code",
   "execution_count": null,
   "id": "289d4e07-8e76-4396-bfe1-c7ae981044b4",
   "metadata": {},
   "outputs": [],
   "source": []
  },
  {
   "cell_type": "code",
   "execution_count": null,
   "id": "f49af6ad-b7b8-4364-b656-1504b93ff2f4",
   "metadata": {},
   "outputs": [],
   "source": []
  }
 ],
 "metadata": {
  "kernelspec": {
   "display_name": "Python 3 (ipykernel)",
   "language": "python",
   "name": "python3"
  },
  "language_info": {
   "codemirror_mode": {
    "name": "ipython",
    "version": 3
   },
   "file_extension": ".py",
   "mimetype": "text/x-python",
   "name": "python",
   "nbconvert_exporter": "python",
   "pygments_lexer": "ipython3",
   "version": "3.9.7"
  }
 },
 "nbformat": 4,
 "nbformat_minor": 5
}
