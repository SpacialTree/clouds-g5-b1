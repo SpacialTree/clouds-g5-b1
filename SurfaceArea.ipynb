{
 "cells": [
  {
   "cell_type": "code",
   "execution_count": 19,
   "id": "a106fc0d-a34b-4f07-bcbb-1728a1cb1042",
   "metadata": {},
   "outputs": [],
   "source": [
    "from astropy import units as u\n",
    "from astropy import constants as const\n",
    "from matplotlib import pyplot as plt\n",
    "import numpy as np\n",
    "import regions\n",
    "from astropy.io import fits\n",
    "from astropy import wcs\n",
    "from spectral_cube import SpectralCube\n",
    "from spectral_cube import Projection\n",
    "import dust_emissivity\n",
    "from astropy.table import Table\n",
    "from astropy.convolution import Gaussian1DKernel\n",
    "from scipy.ndimage import binary_dilation\n"
   ]
  },
  {
   "cell_type": "code",
   "execution_count": 20,
   "id": "9d2f69d7-1c9b-46bf-bfed-f92a706a06b8",
   "metadata": {},
   "outputs": [
    {
     "name": "stderr",
     "output_type": "stream",
     "text": [
      "WARNING: VerifyWarning: Invalid 'BLANK' keyword in header.  The 'BLANK' keyword is only applicable to integer data, and will be ignored in this HDU. [astropy.io.fits.hdu.image]\n"
     ]
    }
   ],
   "source": [
    "#cube_nh3 = SpectralCube.read('/orange/adamginsburg/cmz/g5/code/testimages/nh3_33_cutout_g5.4.fits').with_spectral_unit(u.km / u.second, velocity_convention='radio')"
   ]
  },
  {
   "cell_type": "code",
   "execution_count": 31,
   "id": "d70b4319-a2cb-430d-922c-166f9adad092",
   "metadata": {},
   "outputs": [
    {
     "name": "stderr",
     "output_type": "stream",
     "text": [
      "/blue/adamginsburg/adamginsburg/repos/casa-formats-io/casa_formats_io/casa_dask.py:247: RuntimeWarning: divide by zero encountered in long_scalars\n",
      "  factors = [f for f in range(stacks[dim] + 1) if stacks[dim] % f == 0]\n",
      "WARNING: BeamWarning: No beam information found in CASA image. [spectral_cube.io.casa_image]\n"
     ]
    }
   ],
   "source": [
    "cube_nh3 = SpectralCube.read('/orange/adamginsburg/cmz/g5/G5/hopsdata/G5subim.im', format='casa')#.with_spectral_unit(u.km / u.second, velocity_convention='radio')"
   ]
  },
  {
   "cell_type": "code",
   "execution_count": 48,
   "id": "518e6e63-9e70-4d2b-bb7f-288ee3f0c70e",
   "metadata": {},
   "outputs": [
    {
     "data": {
      "text/plain": [
       "FILENAME= '/orange/adamginsburg/cmz/g5/G5/hopsdata/G5subim.im'                  \n",
       "BUNIT   = 'K       '                                                            \n",
       "NAXIS   =                    3                                                  \n",
       "NAXIS1  =                   72                                                  \n",
       "NAXIS2  =                   70                                                  \n",
       "NAXIS3  =                  931                                                  \n",
       "WCSAXES =                    3 / Number of coordinate axes                      \n",
       "CRPIX1  =                139.0 / Pixel coordinate of reference point            \n",
       "CRPIX2  =                 61.0 / Pixel coordinate of reference point            \n",
       "CRPIX3  =                  1.0 / Pixel coordinate of reference point            \n",
       "CDELT1  =  -0.0083333339448597 / [deg] Coordinate increment at reference point  \n",
       "CDELT2  =     0.00833333394328 / [deg] Coordinate increment at reference point  \n",
       "CDELT3  =      -33982.50592804 / [Hz] Coordinate increment at reference point   \n",
       "CUNIT1  = 'deg'                / Units of coordinate increment and value        \n",
       "CUNIT2  = 'deg'                / Units of coordinate increment and value        \n",
       "CUNIT3  = 'Hz'                 / Units of coordinate increment and value        \n",
       "CTYPE1  = 'GLON-CAR'           / galactic longitude, plate caree projection     \n",
       "CTYPE2  = 'GLAT-CAR'           / galactic latitude, plate caree projection      \n",
       "CTYPE3  = 'FREQ'               / Frequency (linear)                             \n",
       "CRVAL1  =        4.50009550012 / [deg] Coordinate value at reference point      \n",
       "CRVAL2  =    -0.00111728914947 / [deg] Coordinate value at reference point      \n",
       "CRVAL3  =      23885921956.831 / [Hz] Coordinate value at reference point       \n",
       "LONPOLE =                180.0 / [deg] Native longitude of celestial pole       \n",
       "LATPOLE =      89.998882710851 / [deg] Native latitude of celestial pole        \n",
       "RESTFRQ =        23870129600.0 / [Hz] Line rest frequency                       \n",
       "TIMESYS = 'UTC'                / Time scale                                     \n",
       "MJDREF  =                  0.0 / [d] MJD of fiducial time                       \n",
       "SPECSYS = 'LSRK'               / Reference frame of spectral coordinates        "
      ]
     },
     "execution_count": 48,
     "metadata": {},
     "output_type": "execute_result"
    }
   ],
   "source": [
    "cube_nh3.header"
   ]
  },
  {
   "cell_type": "code",
   "execution_count": 44,
   "id": "aa0b3ebb-df45-4bfe-be07-d1407cef2b66",
   "metadata": {},
   "outputs": [
    {
     "data": {
      "text/plain": [
       "WCS Keywords\n",
       "\n",
       "Number of WCS axes: 3\n",
       "CTYPE : 'GLON-CAR'  'GLAT-CAR'  'FREQ'  \n",
       "CRVAL : 4.50009550012  -0.00111728914947  23885921956.831  \n",
       "CRPIX : 139.0  61.0  1.0  \n",
       "PC1_1 PC1_2 PC1_3  : 1.0  0.0  0.0  \n",
       "PC2_1 PC2_2 PC2_3  : 0.0  1.0  0.0  \n",
       "PC3_1 PC3_2 PC3_3  : 0.0  0.0  1.0  \n",
       "CDELT : -0.0083333339448597  0.00833333394328  -33982.50592804  \n",
       "NAXIS : 72  70  931"
      ]
     },
     "execution_count": 44,
     "metadata": {},
     "output_type": "execute_result"
    }
   ],
   "source": [
    "wcs.WCS(cube_nh3.header)"
   ]
  },
  {
   "cell_type": "code",
   "execution_count": 49,
   "id": "88d36d44-becc-42d2-a881-644145448e59",
   "metadata": {},
   "outputs": [
    {
     "data": {
      "text/latex": [
       "$6.9444455 \\times 10^{-5} \\; \\mathrm{deg^{2}}$"
      ],
      "text/plain": [
       "<Quantity 6.94444546e-05 deg2>"
      ]
     },
     "execution_count": 49,
     "metadata": {},
     "output_type": "execute_result"
    }
   ],
   "source": [
    "(wcs.utils.proj_plane_pixel_area(wcs.WCS(cube_nh3.header))*u.deg**2)"
   ]
  },
  {
   "cell_type": "code",
   "execution_count": 59,
   "id": "9d3cacfa-1370-4c4b-a018-d8103c038d3e",
   "metadata": {},
   "outputs": [
    {
     "data": {
      "text/plain": [
       "<matplotlib.contour.QuadContourSet at 0x2b1bd80c3fa0>"
      ]
     },
     "execution_count": 59,
     "metadata": {},
     "output_type": "execute_result"
    },
    {
     "data": {
      "image/png": "[encoded data removed]",
      "text/plain": [
       "<Figure size 432x288 with 1 Axes>"
      ]
     },
     "metadata": {
      "needs_background": "light"
     },
     "output_type": "display_data"
    }
   ],
   "source": [
    "plt.imshow(cube_nh3.moment0().value)#.moment0().quicklook()\n",
    "plt.gca().invert_yaxis()\n",
    "plt.contour(cube_nh3.moment0().value, levels=[2000], colors='white', alpha=0.5)"
   ]
  },
  {
   "cell_type": "code",
   "execution_count": 60,
   "id": "0d86cb4f-a0d9-4912-88e1-080a3d8421ab",
   "metadata": {},
   "outputs": [
    {
     "data": {
      "image/png": "[encoded data removed]",
      "text/plain": [
       "<Figure size 432x288 with 1 Axes>"
      ]
     },
     "metadata": {
      "needs_background": "light"
     },
     "output_type": "display_data"
    }
   ],
   "source": [
    "mask = cube_nh3.moment0().value > 50\n",
    "plt.imshow(mask)\n",
    "plt.gca().invert_yaxis()\n"
   ]
  },
  {
   "cell_type": "code",
   "execution_count": 64,
   "id": "2e2e6ea6-8ae6-4397-a954-d3102b6d6189",
   "metadata": {},
   "outputs": [
    {
     "data": {
      "text/latex": [
       "$4.2011825 \\times 10^{-5} \\; \\mathrm{rad^{2}}$"
      ],
      "text/plain": [
       "<Quantity 4.20118253e-05 rad2>"
      ]
     },
     "execution_count": 64,
     "metadata": {},
     "output_type": "execute_result"
    }
   ],
   "source": [
    "(np.sum(mask)*(wcs.utils.proj_plane_pixel_area(wcs.WCS(cube_nh3.header))*u.deg**2)).to(u.rad**2)"
   ]
  },
  {
   "cell_type": "code",
   "execution_count": 28,
   "id": "8fe63380-7458-4ab0-beb9-fdd83ef27892",
   "metadata": {},
   "outputs": [],
   "source": [
    "#nh3cube = SpectralCube.read('/orange/adamginsburg/cmz/g5/code/testimages/nh3_33_cutout_g5.4.fits')\n",
    "#nh3mask = binary_dilation((nh3cube > 0.25*nh3cube.unit).include(),\n",
    "#                          iterations=2)\n",
    "#m0_nh3 = nh3cube.with_mask(nh3mask).moment0()\n",
    "#m0_nh3.quicklook()"
   ]
  },
  {
   "cell_type": "code",
   "execution_count": 24,
   "id": "42e93e4b-e9f0-4a53-86f6-e823921883f5",
   "metadata": {},
   "outputs": [
    {
     "data": {
      "text/plain": [
       "'/orange/adamginsburg/cmz/g5/code/clouds-g5-b1'"
      ]
     },
     "execution_count": 24,
     "metadata": {},
     "output_type": "execute_result"
    }
   ],
   "source": [
    "pwd"
   ]
  },
  {
   "cell_type": "code",
   "execution_count": 27,
   "id": "056ee8ee-ecce-4a2f-b741-66fc09e5f348",
   "metadata": {},
   "outputs": [
    {
     "name": "stdout",
     "output_type": "stream",
     "text": [
      "\u001b[0m\u001b[01;32mG003.9-009.8-NH3-33-cube.fits\u001b[0m*       \u001b[01;34mG5subim.mom0.3.im\u001b[0m/  \u001b[01;32mimmoments.last\u001b[0m*\n",
      "\u001b[01;34mG003.9-009.8-NH3-33-cube.im\u001b[0m/         \u001b[01;34mG5subim.mom1.1.im\u001b[0m/  \u001b[01;32mimportfits.last\u001b[0m*\n",
      "\u001b[01;34mG003.9-009.8-NH3-33-cube.mom1.1.im\u001b[0m/  \u001b[01;34mG5subim.mom1.2.im\u001b[0m/  \u001b[01;32mimsubimage.last\u001b[0m*\n",
      "\u001b[01;34mG003.9-009.8-NH3-33-cube.mom1.2.im\u001b[0m/  \u001b[01;34mG5subim.mom1.3.im\u001b[0m/  \u001b[01;34mmom1.test.im\u001b[0m/\n",
      "\u001b[01;34mG003.9-009.8-NH3-33-cube.mom1.im\u001b[0m/    \u001b[01;34mG5subim.mom1.4.im\u001b[0m/  \u001b[01;32mmom1.test.im.rstr\u001b[0m*\n",
      "\u001b[01;34mG5subim.im\u001b[0m/                          \u001b[01;34mG5subim.mom1.im\u001b[0m/    \u001b[01;32mviewer.last\u001b[0m*\n",
      "\u001b[01;34mG5subim.mom0.1.im\u001b[0m/                   \u001b[01;34mhopsNH3-33-pv.im\u001b[0m/\n",
      "\u001b[01;34mG5subim.mom0.2.im\u001b[0m/                   \u001b[01;32mimmath.last\u001b[0m*\n"
     ]
    }
   ],
   "source": [
    "ls /orange/adamginsburg/cmz/g5/G5/hopsdata/"
   ]
  },
  {
   "cell_type": "code",
   "execution_count": null,
   "id": "cb927902-dc1a-4f6f-bb0b-076ad594f98e",
   "metadata": {},
   "outputs": [],
   "source": []
  }
 ],
 "metadata": {
  "kernelspec": {
   "display_name": "Python 3 (ipykernel)",
   "language": "python",
   "name": "python3"
  },
  "language_info": {
   "codemirror_mode": {
    "name": "ipython",
    "version": 3
   },
   "file_extension": ".py",
   "mimetype": "text/x-python",
   "name": "python",
   "nbconvert_exporter": "python",
   "pygments_lexer": "ipython3",
   "version": "3.9.13"
  }
 },
 "nbformat": 4,
 "nbformat_minor": 5
}
