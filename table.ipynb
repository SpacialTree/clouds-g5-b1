{
 "cells": [
  {
   "cell_type": "code",
   "execution_count": 39,
   "id": "87210d06-b741-415f-bca1-10276ecea25c",
   "metadata": {},
   "outputs": [],
   "source": [
    "from astropy.table import QTable\n",
    "import astropy.units as u\n",
    "import numpy as np\n",
    "from astropy.table import Table\n",
    "from astroquery.lamda import Lamda\n",
    "from astroquery.splatalogue import Splatalogue"
   ]
  },
  {
   "cell_type": "code",
   "execution_count": 31,
   "id": "e70acff8-b568-4d17-87de-5c64d2ca614d",
   "metadata": {
    "tags": []
   },
   "outputs": [
    {
     "data": {
      "text/plain": [
       "{'catom': 'http://home.strw.leidenuniv.nl/~moldata/datafiles/catom.dat',\n",
       " 'c+': 'http://home.strw.leidenuniv.nl/~moldata/datafiles/c+.dat',\n",
       " 'c+@uv': 'http://home.strw.leidenuniv.nl/~moldata/datafiles/c+@uv.dat',\n",
       " 'oatom@lique': 'http://home.strw.leidenuniv.nl/~moldata/datafiles/oatom@lique.dat',\n",
       " 'n+': 'http://home.strw.leidenuniv.nl/~moldata/datafiles/n+.dat',\n",
       " 'arh+': 'http://home.strw.leidenuniv.nl/~moldata/datafiles/arh+.dat',\n",
       " 'cf+': 'http://home.strw.leidenuniv.nl/~moldata/datafiles/cf+.dat',\n",
       " 'ch-nohfs': 'http://home.strw.leidenuniv.nl/~moldata/datafiles/ch-nohfs.dat',\n",
       " 'ch-h2': 'http://home.strw.leidenuniv.nl/~moldata/datafiles/ch-h2.dat',\n",
       " 'ch-h': 'http://home.strw.leidenuniv.nl/~moldata/datafiles/ch-h.dat',\n",
       " 'cn': 'http://home.strw.leidenuniv.nl/~moldata/datafiles/cn.dat',\n",
       " 'cn-hfs': 'http://home.strw.leidenuniv.nl/~moldata/datafiles/cn-hfs.dat',\n",
       " 'co': 'http://home.strw.leidenuniv.nl/~moldata/datafiles/co.dat',\n",
       " '13co': 'http://home.strw.leidenuniv.nl/~moldata/datafiles/13co.dat',\n",
       " 'c17o': 'http://home.strw.leidenuniv.nl/~moldata/datafiles/c17o.dat',\n",
       " 'c18o': 'http://home.strw.leidenuniv.nl/~moldata/datafiles/c18o.dat',\n",
       " 'cs@lique': 'http://home.strw.leidenuniv.nl/~moldata/datafiles/cs@lique.dat',\n",
       " 'hcl': 'http://www.strw.leidenuniv.nl/~moldata/datafiles/hcl.dat',\n",
       " 'hd': 'http://home.strw.leidenuniv.nl/~moldata/datafiles/hd.dat',\n",
       " 'hf': 'http://home.strw.leidenuniv.nl/~moldata/datafiles/hf.dat',\n",
       " 'no': 'http://home.strw.leidenuniv.nl/~moldata/datafiles/no.dat',\n",
       " 'oh': 'http://home.strw.leidenuniv.nl/~moldata/datafiles/oh.dat',\n",
       " 'oh@hfs': 'http://home.strw.leidenuniv.nl/~moldata/datafiles/oh@hfs.dat',\n",
       " 'oh+': 'http://home.strw.leidenuniv.nl/~moldata/datafiles/oh+.dat',\n",
       " 'o2': 'http://home.strw.leidenuniv.nl/~moldata/datafiles/o2.dat',\n",
       " 'pn-h2': 'http://home.strw.leidenuniv.nl/~moldata/datafiles/pn-h2.dat',\n",
       " 'PO_hfs': 'http://home.strw.leidenuniv.nl/~moldata/datafiles/PO_hfs.dat',\n",
       " 'sio-h2': 'http://www.strw.leidenuniv.nl/~moldata/datafiles/sio-h2.dat',\n",
       " 'sio-h2-highT': 'http://www.strw.leidenuniv.nl/~moldata/datafiles/sio-h2-highT.dat',\n",
       " 'sis': 'http://home.strw.leidenuniv.nl/~moldata/datafiles/sis.dat',\n",
       " 'so@lique': 'http://home.strw.leidenuniv.nl/~moldata/datafiles/so@lique.dat',\n",
       " 'c2h_h2_e': 'http://home.strw.leidenuniv.nl/~moldata/datafiles/c2h_h2_e.dat',\n",
       " 'c2h_oph2': 'http://home.strw.leidenuniv.nl/~moldata/datafiles/c2h_oph2.dat',\n",
       " 'ch2_h2_ortho': 'http://home.strw.leidenuniv.nl/~moldata/datafiles/ch2_h2_ortho.dat',\n",
       " 'ch2_h2_para': 'http://home.strw.leidenuniv.nl/~moldata/datafiles/ch2_h2_para.dat',\n",
       " 'o-h2d+': 'http://home.strw.leidenuniv.nl/~moldata/datafiles/o-h2d+.dat',\n",
       " 'p-h2d+': 'http://home.strw.leidenuniv.nl/~moldata/datafiles/p-h2d+.dat',\n",
       " 'o-d2h+': 'http://home.strw.leidenuniv.nl/~moldata/datafiles/o-d2h+.dat',\n",
       " 'p-d2h+': 'http://home.strw.leidenuniv.nl/~moldata/datafiles/p-d2h+.dat',\n",
       " 'hcn': 'http://www.strw.leidenuniv.nl/~moldata/datafiles/hcn.dat',\n",
       " 'hcn@xpol': 'http://www.strw.leidenuniv.nl/~moldata/datafiles/hcn@xpol.dat',\n",
       " 'hcn@hfs': 'http://www.strw.leidenuniv.nl/~moldata/datafiles/hcn@hfs.dat',\n",
       " 'hco+@xpol': 'http://home.strw.leidenuniv.nl/~moldata/datafiles/hco+@xpol.dat',\n",
       " 'h13co+@xpol': 'http://home.strw.leidenuniv.nl/~moldata/datafiles/h13co+@xpol.dat',\n",
       " 'hc17o+@xpol': 'http://home.strw.leidenuniv.nl/~moldata/datafiles/hc17o+@xpol.dat',\n",
       " 'hc18o+@xpol': 'http://home.strw.leidenuniv.nl/~moldata/datafiles/hc18o+@xpol.dat',\n",
       " 'dco+@xpol': 'http://home.strw.leidenuniv.nl/~moldata/datafiles/dco+@xpol.dat',\n",
       " 'hcs+@xpol': 'http://home.strw.leidenuniv.nl/~moldata/datafiles/hcs+@xpol.dat',\n",
       " 'hdo': 'http://home.strw.leidenuniv.nl/~moldata/datafiles/hdo.dat',\n",
       " 'ph2o@daniel': 'http://home.strw.leidenuniv.nl/~moldata/datafiles/ph2o@daniel.dat',\n",
       " 'oh2o@daniel': 'http://home.strw.leidenuniv.nl/~moldata/datafiles/oh2o@daniel.dat',\n",
       " 'ph2o@rovib': 'http://home.strw.leidenuniv.nl/~moldata/datafiles/ph2o@rovib.dat',\n",
       " 'oh2o@rovib': 'http://home.strw.leidenuniv.nl/~moldata/datafiles/oh2o@rovib.dat',\n",
       " 'ph2s': 'http://home.strw.leidenuniv.nl/~moldata/datafiles/ph2s.dat',\n",
       " 'oh2s': 'http://home.strw.leidenuniv.nl/~moldata/datafiles/oh2s.dat',\n",
       " 'hnc': 'http://home.strw.leidenuniv.nl/~moldata/datafiles/hnc.dat',\n",
       " 'n2h+@xpol': 'http://home.strw.leidenuniv.nl/~moldata/datafiles/n2h+@xpol.dat',\n",
       " 'n2h+_hfs': 'http://home.strw.leidenuniv.nl/~moldata/datafiles/n2h+_hfs.dat',\n",
       " 'ocs@xpol': 'http://home.strw.leidenuniv.nl/~moldata/datafiles/ocs@xpol.dat',\n",
       " 'o-sic2': 'http://home.strw.leidenuniv.nl/~moldata/datafiles/o-sic2.dat',\n",
       " 'so2@lowT': 'http://home.strw.leidenuniv.nl/~moldata/datafiles/so2@lowT.dat',\n",
       " 'so2@highT': 'http://home.strw.leidenuniv.nl/~moldata/datafiles/so2@highT.dat',\n",
       " 'e-ch3oh': 'http://home.strw.leidenuniv.nl/~moldata/datafiles/e-ch3oh.dat',\n",
       " 'ch3oh_a': 'http://home.strw.leidenuniv.nl/~moldata/datafiles/ch3oh_a.dat',\n",
       " 'ch3cn': 'http://home.strw.leidenuniv.nl/~moldata/datafiles/ch3cn.dat',\n",
       " 'p-c3h2': 'http://home.strw.leidenuniv.nl/~moldata/datafiles/p-c3h2.dat',\n",
       " 'o-c3h2': 'http://home.strw.leidenuniv.nl/~moldata/datafiles/o-c3h2.dat',\n",
       " 'hc3n-h2': 'http://www.strw.leidenuniv.nl/~moldata/datafiles/hc3n-h2.dat',\n",
       " 'hc3n-h2-hfs': 'http://www.strw.leidenuniv.nl/~moldata/datafiles/hc3n-h2-hfs.dat',\n",
       " 'ph2co-h2': 'http://home.strw.leidenuniv.nl/~moldata/datafiles/ph2co-h2.dat',\n",
       " 'oh2co-h2': 'http://home.strw.leidenuniv.nl/~moldata/datafiles/oh2co-h2.dat',\n",
       " 'ph2cs': 'http://home.strw.leidenuniv.nl/~moldata/datafiles/ph2cs.dat',\n",
       " 'oh2cs': 'http://home.strw.leidenuniv.nl/~moldata/datafiles/oh2cs.dat',\n",
       " 'p-h3o+': 'http://home.strw.leidenuniv.nl/~moldata/datafiles/p-h3o+.dat',\n",
       " 'o-h3o+': 'http://home.strw.leidenuniv.nl/~moldata/datafiles/o-h3o+.dat',\n",
       " 'hnco': 'http://home.strw.leidenuniv.nl/~moldata/datafiles/hnco.dat',\n",
       " 'p-nh3': 'http://home.strw.leidenuniv.nl/~moldata/datafiles/p-nh3.dat',\n",
       " 'o-nh3': 'http://home.strw.leidenuniv.nl/~moldata/datafiles/o-nh3.dat',\n",
       " 'p-nh2d': 'http://home.strw.leidenuniv.nl/~moldata/datafiles/p-nh2d.dat',\n",
       " 'o-nh2d': 'http://home.strw.leidenuniv.nl/~moldata/datafiles/o-nh2d.dat'}"
      ]
     },
     "execution_count": 31,
     "metadata": {},
     "output_type": "execute_result"
    }
   ],
   "source": [
    "Lamda.molecule_dict"
   ]
  },
  {
   "cell_type": "code",
   "execution_count": 67,
   "id": "1124ffb2-dae6-48bc-ad6b-35ec22fee720",
   "metadata": {},
   "outputs": [],
   "source": [
    "h2co_321_220_A = 10**Splatalogue.query_lines(218.5*u.GHz, 218.8*u.GHz, chemical_name=\" H2CO \")[2]['Log<sub>10</sub> (A<sub>ij</sub>)']"
   ]
  },
  {
   "cell_type": "code",
   "execution_count": 71,
   "id": "068a177b-8003-4fe7-9e1f-8d806e4cc385",
   "metadata": {},
   "outputs": [],
   "source": [
    "h2co_322_221_A = 10**Splatalogue.query_lines(218.3*u.GHz, 218.5*u.GHz, chemical_name=\" H2CO \")[2]['Log<sub>10</sub> (A<sub>ij</sub>)']"
   ]
  },
  {
   "cell_type": "code",
   "execution_count": 52,
   "id": "ef603df4-7979-45b2-b115-abafd3060188",
   "metadata": {},
   "outputs": [
    {
     "data": {
      "text/plain": [
       "6.91e-07"
      ]
     },
     "execution_count": 52,
     "metadata": {},
     "output_type": "execute_result"
    }
   ],
   "source": [
    "radtransitions[1]['EinsteinA']"
   ]
  },
  {
   "cell_type": "code",
   "execution_count": 96,
   "id": "fd834786-45ad-43b4-b571-8439eab53ddb",
   "metadata": {},
   "outputs": [],
   "source": [
    "collrates, radtransitions, enlevels = Lamda.query(mol='co')\n",
    "collrates_h2co, radtransitions_h2co, enlevels_h2co = Lamda.query(mol='ph2co-h2')\n",
    "collrates_ocs, radtransitions_ocs, enlevels_ocs = Lamda.query(mol='ocs@xpol')\n",
    "collrates_hc3n, radtransitions_hc3n, enlevels_hc3n = Lamda.query(mol='hc3n-h2')"
   ]
  },
  {
   "cell_type": "code",
   "execution_count": 114,
   "id": "92947d4f-77ee-4d2e-8309-e27db74dc2d8",
   "metadata": {
    "tags": []
   },
   "outputs": [
    {
     "data": {
      "text/plain": [
       "4.71e-11"
      ]
     },
     "execution_count": 114,
     "metadata": {},
     "output_type": "execute_result"
    }
   ],
   "source": [
    "collrates_hc3n['PH2'][299]['C_ij(T=60)']#['H2'][170]['C_ij(T=60)']#['PH2']#[5]['C_ij(T=60)']#[2]['C_ij(T=60)']# transition 24-23 aka 25-24"
   ]
  },
  {
   "cell_type": "code",
   "execution_count": 119,
   "id": "1f2e2cbc-d80f-4cb0-99c4-a0390183c29d",
   "metadata": {
    "tags": []
   },
   "outputs": [
    {
     "data": {
      "text/plain": [
       "0.000826"
      ]
     },
     "execution_count": 119,
     "metadata": {},
     "output_type": "execute_result"
    }
   ],
   "source": [
    "radtransitions_hc3n[23]['EinsteinA']#[1]['EinsteinA']"
   ]
  },
  {
   "cell_type": "code",
   "execution_count": 7,
   "id": "d38bba00-7c8f-4606-a80c-649921d43e87",
   "metadata": {},
   "outputs": [],
   "source": [
    "#t.add_row(['\\ce{OCS} $J=18\\shortrightarrow17$', 218.90*u.GHz, 960, 321.2*u.km/u.second, 0.774*u.km/u.second])\n",
    "#t.add_row(['\\ce{CH3OH} $J=4_{2,2}\\shortrightarrow3_{1,2}$', 218.44*u.GHz, 960, 321.9*u.km/u.second, 0.671*u.km/u.second])\n",
    "#t.add_row(['\\ce{p-H2CO} $J=3_{22}\\shortrightarrow2_{21}$', 218.48*u.GHz, 960, 321.9*u.km/u.second, 0.671*u.km/u.second])"
   ]
  },
  {
   "cell_type": "code",
   "execution_count": 9,
   "id": "944878a8-af69-4e8b-8953-e4e0e6d4941c",
   "metadata": {},
   "outputs": [],
   "source": [
    "names = ('Molecule and Transition',\n",
    "         'Center Rest Frequency', \n",
    "        'Eff. Ch. #', \n",
    "        'Velocity Bandwidth',\n",
    "        'Velocity Resolution')\n",
    "\n",
    "spw = [ '\\ce{^12CO} $J=2\\shortrightarrow1$',\n",
    "        'H(30)$\\alpha$',\n",
    "        '\\ce{H2CO} $J=3_{2,1}\\shortrightarrow2_{2,0}$',\n",
    "         '\\ce{OCS} $J=18\\shortrightarrow17$', # OCS\n",
    "        '\\ce{HC3N} v=0 $J=24\\shortrightarrow23$',\n",
    "         '\\ce{CH3OH} $J=4_{2,2}\\shortrightarrow3_{1,2}$', # CH3OH\n",
    "         '\\ce{p-H2CO} $J=3_{2,2}\\shortrightarrow2_{2,1}$', # extra H2CO\n",
    "        '\\ce{H2CO} $J=3_{0,3}\\shortrightarrow2_{0,2}$',\n",
    "        'SiO v=0 $J=5\\shortrightarrow4$',\n",
    "        '\\ce{^13CO} $J=2\\shortrightarrow1$',\n",
    "        '\\ce{C^18O} $J=2\\shortrightarrow1$']\n",
    "\n",
    "freq = [230.54,    # 12 CO\n",
    "       231.90,  # H30\n",
    "       218.76,   # H2CO 321-220\n",
    "        218.90, # OCS\n",
    "       218.32,  # HC3N\n",
    "        218.44, # CH3OH\n",
    "        218.48, # extra H2CO\n",
    "       218.22,  # H2CO 303-202\n",
    "       217.10,  # SiO 5-4\n",
    "       220.40,  # 13CO\n",
    "       219.56  # C18O\n",
    "       ] * u.GHz\n",
    "\n",
    "ncrit = [radtransitions[1]['EinsteinA']/collrates['PH2'][2]['C_ij(T=60)'], # co 2-1\n",
    "        '-',\n",
    "        h2co_321_220_A/collrates_h2co['PH2'][5]['C_ij(T=60)'], # H2CO 321-220\n",
    "        radtransitions_ocs[17]['EinsteinA']/collrates_ocs['H2'][170]['C_ij(T=60)'], # OCS 18-17\n",
    "        radtransitions_hc3n[23]['EinsteinA']/collrates_hc3n['PH2'][299]['C_ij(T=60)'], # 24-23\n",
    "        ch3oh, # 422-312\n",
    "        h2co_322_221_A/collrates_h2co['PH2'][5]['C_ij(T=60)'], # H2CO 322 - 221\n",
    "        radtransitions_h2co[2]['EinsteinA']/collrates_h2co['PH2'][5]['C_ij(T=60)'], # H2CO 303-202\n",
    "        sio, # 5-4\n",
    "        13co, #13CO 2-1\n",
    "        c18o # C18O 2-1\n",
    "        ]*u.cm**(-3)\n",
    "\n",
    "ch = [3840, #12 CO  \n",
    "     3840,  #H30   \n",
    "     960,   # H2CO 322-221   \n",
    "      960,\n",
    "     960,   # HC3N   \n",
    "      960,\n",
    "      960,\n",
    "     960,   # H2CO 303-202     \n",
    "     960,   # SiO 5-4 \n",
    "     1920,  # 13CO  \n",
    "     1920]  # C18O  \n",
    "\n",
    "band = [304.8, #12 CO\n",
    "       2424.2, #H30\n",
    "       321.2,  # H2CO 322-221  \n",
    "        321.2,\n",
    "       321.9,  # HC3N  \n",
    "        321.9,\n",
    "        321.9,\n",
    "       322.0,  # H2CO 303-202  \n",
    "       323.7,  # SiO 5-4  \n",
    "       318.8,  # 13CO  \n",
    "       320.1   #C18O\n",
    "       ]*u.km/u.second\n",
    "\n",
    "reso = [0.159, #12 CO \n",
    "       1.263,  #H30   \n",
    "       0.774,  # H2CO 322-221   \n",
    "        0.774,\n",
    "       0.671,  # HC3N    \n",
    "        0.671,\n",
    "        0.671,\n",
    "       0.671,  # H2CO 303-202   \n",
    "       0.674,  # SiO 5-4  \n",
    "       0.332,  # 13CO  \n",
    "       0.333   # C18O  \n",
    "        ] *u.km/u.second\n",
    "    "
   ]
  },
  {
   "cell_type": "code",
   "execution_count": 10,
   "id": "005d8311-5a3f-4b9c-ba7a-6e5be5108715",
   "metadata": {},
   "outputs": [
    {
     "data": {
      "text/html": [
       "<div><i>Table length=11</i>\n",
       "<table id=\"table47962961714960\" class=\"table-striped table-bordered table-condensed\">\n",
       "<thead><tr><th>Molecule and Transition</th><th>Center Rest Frequency</th><th>Eff. Ch. #</th><th>Velocity Bandwidth</th><th>Velocity Resolution</th></tr></thead>\n",
       "<thead><tr><th></th><th>GHz</th><th></th><th>km / s</th><th>km / s</th></tr></thead>\n",
       "<thead><tr><th>str45</th><th>float64</th><th>int64</th><th>float64</th><th>float64</th></tr></thead>\n",
       "<tr><td>\\ce{^12CO} $J=2\\shortrightarrow1$</td><td>230.54</td><td>3840</td><td>304.8</td><td>0.159</td></tr>\n",
       "<tr><td>H(30)$\u0007lpha$</td><td>231.9</td><td>3840</td><td>2424.2</td><td>1.263</td></tr>\n",
       "<tr><td>\\ce{H2CO} $J=3_{2,2}\\shortrightarrow2_{2,1}$</td><td>218.76</td><td>960</td><td>321.2</td><td>0.774</td></tr>\n",
       "<tr><td>\\ce{OCS} $J=18\\shortrightarrow17$</td><td>218.9</td><td>960</td><td>321.2</td><td>0.774</td></tr>\n",
       "<tr><td>\\ce{HC3N} v=0 $J=24\\shortrightarrow23$</td><td>218.32</td><td>960</td><td>321.9</td><td>0.671</td></tr>\n",
       "<tr><td>\\ce{CH3OH} $J=4_{2,2}\\shortrightarrow3_{1,2}$</td><td>218.44</td><td>960</td><td>321.9</td><td>0.671</td></tr>\n",
       "<tr><td>\\ce{p-H2CO} $J=3_{22}\\shortrightarrow2_{21}$</td><td>218.48</td><td>960</td><td>321.9</td><td>0.671</td></tr>\n",
       "<tr><td>\\ce{H2CO} $J=3_{0,3}\\shortrightarrow2_{0,2}$</td><td>218.22</td><td>960</td><td>322.0</td><td>0.671</td></tr>\n",
       "<tr><td>SiO v=0 $J=5\\shortrightarrow4$</td><td>217.1</td><td>960</td><td>323.7</td><td>0.674</td></tr>\n",
       "<tr><td>\\ce{^13CO} $J=2\\shortrightarrow1$</td><td>220.4</td><td>1920</td><td>318.8</td><td>0.332</td></tr>\n",
       "<tr><td>\\ce{C^18O} $J=2\\shortrightarrow1$</td><td>219.56</td><td>1920</td><td>320.1</td><td>0.333</td></tr>\n",
       "</table></div>"
      ],
      "text/plain": [
       "<Table length=11>\n",
       "           Molecule and Transition            Center Rest Frequency Eff. Ch. # Velocity Bandwidth Velocity Resolution\n",
       "                                                       GHz                           km / s              km / s      \n",
       "                    str45                            float64          int64         float64             float64      \n",
       "--------------------------------------------- --------------------- ---------- ------------------ -------------------\n",
       "            \\ce{^12CO} $J=2\\shortrightarrow1$                230.54       3840              304.8               0.159\n",
       "                                 H(30)$\u0007lpha$                 231.9       3840             2424.2               1.263\n",
       " \\ce{H2CO} $J=3_{2,2}\\shortrightarrow2_{2,1}$                218.76        960              321.2               0.774\n",
       "            \\ce{OCS} $J=18\\shortrightarrow17$                 218.9        960              321.2               0.774\n",
       "       \\ce{HC3N} v=0 $J=24\\shortrightarrow23$                218.32        960              321.9               0.671\n",
       "\\ce{CH3OH} $J=4_{2,2}\\shortrightarrow3_{1,2}$                218.44        960              321.9               0.671\n",
       " \\ce{p-H2CO} $J=3_{22}\\shortrightarrow2_{21}$                218.48        960              321.9               0.671\n",
       " \\ce{H2CO} $J=3_{0,3}\\shortrightarrow2_{0,2}$                218.22        960              322.0               0.671\n",
       "               SiO v=0 $J=5\\shortrightarrow4$                 217.1        960              323.7               0.674\n",
       "            \\ce{^13CO} $J=2\\shortrightarrow1$                 220.4       1920              318.8               0.332\n",
       "            \\ce{C^18O} $J=2\\shortrightarrow1$                219.56       1920              320.1               0.333"
      ]
     },
     "execution_count": 10,
     "metadata": {},
     "output_type": "execute_result"
    }
   ],
   "source": [
    "Table([spw, freq, ch, band, reso],names=names)"
   ]
  },
  {
   "cell_type": "code",
   "execution_count": 20,
   "id": "22116890-b622-496a-bdeb-c318565976b4",
   "metadata": {},
   "outputs": [
    {
     "data": {
      "text/plain": [
       "8"
      ]
     },
     "execution_count": 20,
     "metadata": {},
     "output_type": "execute_result"
    }
   ],
   "source": [
    "len(freq)"
   ]
  },
  {
   "cell_type": "code",
   "execution_count": 3,
   "id": "5231f57b-c2c5-4c5c-9abe-6a6c86d4bae9",
   "metadata": {},
   "outputs": [],
   "source": [
    "# 12CO\n",
    "row1 = [spw[0], freq[0], ch[0], band[0], reso[0]]\n",
    "row2 = [spw[1], freq[1], ch[1], band[1], reso[1]]"
   ]
  },
  {
   "cell_type": "code",
   "execution_count": 5,
   "id": "25d3f3ec-2b62-45a5-8713-239cb0a44fa1",
   "metadata": {
    "collapsed": true,
    "jupyter": {
     "outputs_hidden": true
    },
    "tags": []
   },
   "outputs": [
    {
     "ename": "ValueError",
     "evalue": "masked should be one of True, False, None",
     "output_type": "error",
     "traceback": [
      "\u001b[0;31m---------------------------------------------------------------------------\u001b[0m",
      "\u001b[0;31mValueError\u001b[0m                                Traceback (most recent call last)",
      "\u001b[0;32m/scratch/local/57092384/ipykernel_163037/3953668204.py\u001b[0m in \u001b[0;36m<module>\u001b[0;34m\u001b[0m\n\u001b[1;32m      4\u001b[0m \u001b[0;31m#d = [10, 20, 30] * u.m / u.s\u001b[0m\u001b[0;34m\u001b[0m\u001b[0;34m\u001b[0m\u001b[0m\n\u001b[1;32m      5\u001b[0m \u001b[0;34m\u001b[0m\u001b[0m\n\u001b[0;32m----> 6\u001b[0;31m t = QTable(spw, [freq, ch, band, reso],\n\u001b[0m\u001b[1;32m      7\u001b[0m            \u001b[0mnames\u001b[0m\u001b[0;34m=\u001b[0m\u001b[0mnames\u001b[0m\u001b[0;34m,\u001b[0m\u001b[0;34m\u001b[0m\u001b[0;34m\u001b[0m\u001b[0m\n\u001b[1;32m      8\u001b[0m            meta={'name': 'first table'})\n",
      "\u001b[0;32m/blue/adamginsburg/adamginsburg/repos/astropy/astropy/table/table.py\u001b[0m in \u001b[0;36m__init__\u001b[0;34m(self, data, masked, names, dtype, meta, copy, rows, copy_indices, units, descriptions, **kwargs)\u001b[0m\n\u001b[1;32m    663\u001b[0m \u001b[0;34m\u001b[0m\u001b[0m\n\u001b[1;32m    664\u001b[0m         \u001b[0;31m# Set up a placeholder empty table\u001b[0m\u001b[0;34m\u001b[0m\u001b[0;34m\u001b[0m\u001b[0m\n\u001b[0;32m--> 665\u001b[0;31m         \u001b[0mself\u001b[0m\u001b[0;34m.\u001b[0m\u001b[0m_set_masked\u001b[0m\u001b[0;34m(\u001b[0m\u001b[0mmasked\u001b[0m\u001b[0;34m)\u001b[0m\u001b[0;34m\u001b[0m\u001b[0;34m\u001b[0m\u001b[0m\n\u001b[0m\u001b[1;32m    666\u001b[0m         \u001b[0mself\u001b[0m\u001b[0;34m.\u001b[0m\u001b[0mcolumns\u001b[0m \u001b[0;34m=\u001b[0m \u001b[0mself\u001b[0m\u001b[0;34m.\u001b[0m\u001b[0mTableColumns\u001b[0m\u001b[0;34m(\u001b[0m\u001b[0;34m)\u001b[0m\u001b[0;34m\u001b[0m\u001b[0;34m\u001b[0m\u001b[0m\n\u001b[1;32m    667\u001b[0m         \u001b[0mself\u001b[0m\u001b[0;34m.\u001b[0m\u001b[0mformatter\u001b[0m \u001b[0;34m=\u001b[0m \u001b[0mself\u001b[0m\u001b[0;34m.\u001b[0m\u001b[0mTableFormatter\u001b[0m\u001b[0;34m(\u001b[0m\u001b[0;34m)\u001b[0m\u001b[0;34m\u001b[0m\u001b[0;34m\u001b[0m\u001b[0m\n",
      "\u001b[0;32m/blue/adamginsburg/adamginsburg/repos/astropy/astropy/table/table.py\u001b[0m in \u001b[0;36m_set_masked\u001b[0;34m(self, masked)\u001b[0m\n\u001b[1;32m   2001\u001b[0m             \u001b[0mself\u001b[0m\u001b[0;34m.\u001b[0m\u001b[0m_masked\u001b[0m \u001b[0;34m=\u001b[0m \u001b[0mmasked\u001b[0m\u001b[0;34m\u001b[0m\u001b[0;34m\u001b[0m\u001b[0m\n\u001b[1;32m   2002\u001b[0m         \u001b[0;32melse\u001b[0m\u001b[0;34m:\u001b[0m\u001b[0;34m\u001b[0m\u001b[0;34m\u001b[0m\u001b[0m\n\u001b[0;32m-> 2003\u001b[0;31m             \u001b[0;32mraise\u001b[0m \u001b[0mValueError\u001b[0m\u001b[0;34m(\u001b[0m\u001b[0;34m\"masked should be one of True, False, None\"\u001b[0m\u001b[0;34m)\u001b[0m\u001b[0;34m\u001b[0m\u001b[0;34m\u001b[0m\u001b[0m\n\u001b[0m\u001b[1;32m   2004\u001b[0m \u001b[0;34m\u001b[0m\u001b[0m\n\u001b[1;32m   2005\u001b[0m         \u001b[0mself\u001b[0m\u001b[0;34m.\u001b[0m\u001b[0m_column_class\u001b[0m \u001b[0;34m=\u001b[0m \u001b[0mself\u001b[0m\u001b[0;34m.\u001b[0m\u001b[0mMaskedColumn\u001b[0m \u001b[0;32mif\u001b[0m \u001b[0mself\u001b[0m\u001b[0;34m.\u001b[0m\u001b[0m_masked\u001b[0m \u001b[0;32melse\u001b[0m \u001b[0mself\u001b[0m\u001b[0;34m.\u001b[0m\u001b[0mColumn\u001b[0m\u001b[0;34m\u001b[0m\u001b[0;34m\u001b[0m\u001b[0m\n",
      "\u001b[0;31mValueError\u001b[0m: masked should be one of True, False, None"
     ]
    }
   ],
   "source": [
    "#a = np.array([1, 4, 5], dtype=np.int32)\n",
    "#b = [2.0, 5.0, 8.5]\n",
    "#c = ['x', 'y', 'z']\n",
    "#d = [10, 20, 30] * u.m / u.s\n",
    "\n",
    "t = QTable(spw, [freq, ch, band, reso],\n",
    "           names=names,\n",
    "           meta={'name': 'first table'})"
   ]
  },
  {
   "cell_type": "code",
   "execution_count": null,
   "id": "3fdccde0-ed1f-47cf-9342-f47866819d5e",
   "metadata": {},
   "outputs": [],
   "source": []
  },
  {
   "cell_type": "code",
   "execution_count": 32,
   "id": "ba25c113-278f-45f2-a706-e13f3d5c3744",
   "metadata": {
    "collapsed": true,
    "jupyter": {
     "outputs_hidden": true
    },
    "tags": []
   },
   "outputs": [
    {
     "ename": "ValueError",
     "evalue": "Unable to insert row because of exception in column 'Molecule and Transition':\nCannot parse \"\\ce{OCS} $J=18\\shortrightarrow17$\" as a Quantity. It does not start with a number.",
     "output_type": "error",
     "traceback": [
      "\u001b[0;31m---------------------------------------------------------------------------\u001b[0m",
      "\u001b[0;31mAttributeError\u001b[0m                            Traceback (most recent call last)",
      "\u001b[0;32m/blue/adamginsburg/adamginsburg/repos/astropy/astropy/units/quantity.py\u001b[0m in \u001b[0;36m_to_own_unit\u001b[0;34m(self, value, check_precision)\u001b[0m\n\u001b[1;32m   1505\u001b[0m         \u001b[0;32mtry\u001b[0m\u001b[0;34m:\u001b[0m\u001b[0;34m\u001b[0m\u001b[0;34m\u001b[0m\u001b[0m\n\u001b[0;32m-> 1506\u001b[0;31m             \u001b[0m_value\u001b[0m \u001b[0;34m=\u001b[0m \u001b[0mvalue\u001b[0m\u001b[0;34m.\u001b[0m\u001b[0mto_value\u001b[0m\u001b[0;34m(\u001b[0m\u001b[0mself\u001b[0m\u001b[0;34m.\u001b[0m\u001b[0munit\u001b[0m\u001b[0;34m)\u001b[0m\u001b[0;34m\u001b[0m\u001b[0;34m\u001b[0m\u001b[0m\n\u001b[0m\u001b[1;32m   1507\u001b[0m         \u001b[0;32mexcept\u001b[0m \u001b[0mAttributeError\u001b[0m\u001b[0;34m:\u001b[0m\u001b[0;34m\u001b[0m\u001b[0;34m\u001b[0m\u001b[0m\n",
      "\u001b[0;31mAttributeError\u001b[0m: 'str' object has no attribute 'to_value'",
      "\nDuring handling of the above exception, another exception occurred:\n",
      "\u001b[0;31mAttributeError\u001b[0m                            Traceback (most recent call last)",
      "\u001b[0;32m/blue/adamginsburg/adamginsburg/repos/astropy/astropy/units/quantity.py\u001b[0m in \u001b[0;36m__new__\u001b[0;34m(cls, value, unit, dtype, copy, order, subok, ndmin)\u001b[0m\n\u001b[1;32m    447\u001b[0m                 \u001b[0;32mtry\u001b[0m\u001b[0;34m:\u001b[0m\u001b[0;34m\u001b[0m\u001b[0;34m\u001b[0m\u001b[0m\n\u001b[0;32m--> 448\u001b[0;31m                     \u001b[0mvalue\u001b[0m \u001b[0;34m=\u001b[0m \u001b[0mfloat\u001b[0m\u001b[0;34m(\u001b[0m\u001b[0mv\u001b[0m\u001b[0;34m.\u001b[0m\u001b[0mgroup\u001b[0m\u001b[0;34m(\u001b[0m\u001b[0;34m)\u001b[0m\u001b[0;34m)\u001b[0m\u001b[0;34m\u001b[0m\u001b[0;34m\u001b[0m\u001b[0m\n\u001b[0m\u001b[1;32m    449\u001b[0m \u001b[0;34m\u001b[0m\u001b[0m\n",
      "\u001b[0;31mAttributeError\u001b[0m: 'NoneType' object has no attribute 'group'",
      "\nDuring handling of the above exception, another exception occurred:\n",
      "\u001b[0;31mTypeError\u001b[0m                                 Traceback (most recent call last)",
      "\u001b[0;32m/blue/adamginsburg/adamginsburg/repos/astropy/astropy/table/table.py\u001b[0m in \u001b[0;36minsert_row\u001b[0;34m(self, index, vals, mask)\u001b[0m\n\u001b[1;32m   3052\u001b[0m \u001b[0;34m\u001b[0m\u001b[0m\n\u001b[0;32m-> 3053\u001b[0;31m                 \u001b[0mnewcol\u001b[0m \u001b[0;34m=\u001b[0m \u001b[0mcol\u001b[0m\u001b[0;34m.\u001b[0m\u001b[0minsert\u001b[0m\u001b[0;34m(\u001b[0m\u001b[0mindex\u001b[0m\u001b[0;34m,\u001b[0m \u001b[0mval\u001b[0m\u001b[0;34m,\u001b[0m \u001b[0maxis\u001b[0m\u001b[0;34m=\u001b[0m\u001b[0;36m0\u001b[0m\u001b[0;34m)\u001b[0m\u001b[0;34m\u001b[0m\u001b[0;34m\u001b[0m\u001b[0m\n\u001b[0m\u001b[1;32m   3054\u001b[0m \u001b[0;34m\u001b[0m\u001b[0m\n",
      "\u001b[0;32m/blue/adamginsburg/adamginsburg/repos/astropy/astropy/units/quantity.py\u001b[0m in \u001b[0;36minsert\u001b[0;34m(self, obj, values, axis)\u001b[0m\n\u001b[1;32m   1871\u001b[0m         \"\"\"\n\u001b[0;32m-> 1872\u001b[0;31m         \u001b[0mout_array\u001b[0m \u001b[0;34m=\u001b[0m \u001b[0mnp\u001b[0m\u001b[0;34m.\u001b[0m\u001b[0minsert\u001b[0m\u001b[0;34m(\u001b[0m\u001b[0mself\u001b[0m\u001b[0;34m.\u001b[0m\u001b[0mvalue\u001b[0m\u001b[0;34m,\u001b[0m \u001b[0mobj\u001b[0m\u001b[0;34m,\u001b[0m \u001b[0mself\u001b[0m\u001b[0;34m.\u001b[0m\u001b[0m_to_own_unit\u001b[0m\u001b[0;34m(\u001b[0m\u001b[0mvalues\u001b[0m\u001b[0;34m)\u001b[0m\u001b[0;34m,\u001b[0m \u001b[0maxis\u001b[0m\u001b[0;34m)\u001b[0m\u001b[0;34m\u001b[0m\u001b[0;34m\u001b[0m\u001b[0m\n\u001b[0m\u001b[1;32m   1873\u001b[0m         \u001b[0;32mreturn\u001b[0m \u001b[0mself\u001b[0m\u001b[0;34m.\u001b[0m\u001b[0m_new_view\u001b[0m\u001b[0;34m(\u001b[0m\u001b[0mout_array\u001b[0m\u001b[0;34m)\u001b[0m\u001b[0;34m\u001b[0m\u001b[0;34m\u001b[0m\u001b[0m\n",
      "\u001b[0;32m/blue/adamginsburg/adamginsburg/repos/astropy/astropy/units/quantity.py\u001b[0m in \u001b[0;36m_to_own_unit\u001b[0;34m(self, value, check_precision)\u001b[0m\n\u001b[1;32m   1520\u001b[0m             \u001b[0;32mtry\u001b[0m\u001b[0;34m:\u001b[0m\u001b[0;34m\u001b[0m\u001b[0;34m\u001b[0m\u001b[0m\n\u001b[0;32m-> 1521\u001b[0;31m                 \u001b[0mas_quantity\u001b[0m \u001b[0;34m=\u001b[0m \u001b[0mQuantity\u001b[0m\u001b[0;34m(\u001b[0m\u001b[0mvalue\u001b[0m\u001b[0;34m)\u001b[0m\u001b[0;34m\u001b[0m\u001b[0;34m\u001b[0m\u001b[0m\n\u001b[0m\u001b[1;32m   1522\u001b[0m                 \u001b[0m_value\u001b[0m \u001b[0;34m=\u001b[0m \u001b[0mas_quantity\u001b[0m\u001b[0;34m.\u001b[0m\u001b[0mto_value\u001b[0m\u001b[0;34m(\u001b[0m\u001b[0mself\u001b[0m\u001b[0;34m.\u001b[0m\u001b[0munit\u001b[0m\u001b[0;34m)\u001b[0m\u001b[0;34m\u001b[0m\u001b[0;34m\u001b[0m\u001b[0m\n",
      "\u001b[0;32m/blue/adamginsburg/adamginsburg/repos/astropy/astropy/units/quantity.py\u001b[0m in \u001b[0;36m__new__\u001b[0;34m(cls, value, unit, dtype, copy, order, subok, ndmin)\u001b[0m\n\u001b[1;32m    450\u001b[0m                 \u001b[0;32mexcept\u001b[0m \u001b[0mException\u001b[0m\u001b[0;34m:\u001b[0m\u001b[0;34m\u001b[0m\u001b[0;34m\u001b[0m\u001b[0m\n\u001b[0;32m--> 451\u001b[0;31m                     raise TypeError('Cannot parse \"{}\" as a {}. It does not '\n\u001b[0m\u001b[1;32m    452\u001b[0m                                     \u001b[0;34m'start with a number.'\u001b[0m\u001b[0;34m\u001b[0m\u001b[0;34m\u001b[0m\u001b[0m\n",
      "\u001b[0;31mTypeError\u001b[0m: Cannot parse \"\\ce{OCS} $J=18\\shortrightarrow17$\" as a Quantity. It does not start with a number.",
      "\nThe above exception was the direct cause of the following exception:\n",
      "\u001b[0;31mValueError\u001b[0m                                Traceback (most recent call last)",
      "\u001b[0;32m/scratch/local/57092384/ipykernel_159513/586363419.py\u001b[0m in \u001b[0;36m<module>\u001b[0;34m\u001b[0m\n\u001b[1;32m      1\u001b[0m \u001b[0;31m# OCS\u001b[0m\u001b[0;34m\u001b[0m\u001b[0;34m\u001b[0m\u001b[0m\n\u001b[0;32m----> 2\u001b[0;31m \u001b[0mt\u001b[0m\u001b[0;34m.\u001b[0m\u001b[0madd_row\u001b[0m\u001b[0;34m(\u001b[0m\u001b[0;34m[\u001b[0m\u001b[0;34m'\\ce{OCS} $J=18\\shortrightarrow17$'\u001b[0m\u001b[0;34m,\u001b[0m \u001b[0;36m218.90\u001b[0m\u001b[0;34m*\u001b[0m\u001b[0mu\u001b[0m\u001b[0;34m.\u001b[0m\u001b[0mGHz\u001b[0m\u001b[0;34m,\u001b[0m \u001b[0;36m960\u001b[0m\u001b[0;34m,\u001b[0m \u001b[0;36m321.2\u001b[0m\u001b[0;34m*\u001b[0m\u001b[0mu\u001b[0m\u001b[0;34m.\u001b[0m\u001b[0mkm\u001b[0m\u001b[0;34m/\u001b[0m\u001b[0mu\u001b[0m\u001b[0;34m.\u001b[0m\u001b[0msecond\u001b[0m\u001b[0;34m,\u001b[0m \u001b[0;36m0.774\u001b[0m\u001b[0;34m*\u001b[0m\u001b[0mu\u001b[0m\u001b[0;34m.\u001b[0m\u001b[0mkm\u001b[0m\u001b[0;34m/\u001b[0m\u001b[0mu\u001b[0m\u001b[0;34m.\u001b[0m\u001b[0msecond\u001b[0m\u001b[0;34m]\u001b[0m\u001b[0;34m)\u001b[0m\u001b[0;34m\u001b[0m\u001b[0;34m\u001b[0m\u001b[0m\n\u001b[0m",
      "\u001b[0;32m/blue/adamginsburg/adamginsburg/repos/astropy/astropy/table/table.py\u001b[0m in \u001b[0;36madd_row\u001b[0;34m(self, vals, mask)\u001b[0m\n\u001b[1;32m   2948\u001b[0m              \u001b[0;36m3\u001b[0m   \u001b[0;36m6\u001b[0m   \u001b[0;36m9\u001b[0m\u001b[0;34m\u001b[0m\u001b[0;34m\u001b[0m\u001b[0m\n\u001b[1;32m   2949\u001b[0m         \"\"\"\n\u001b[0;32m-> 2950\u001b[0;31m         \u001b[0mself\u001b[0m\u001b[0;34m.\u001b[0m\u001b[0minsert_row\u001b[0m\u001b[0;34m(\u001b[0m\u001b[0mlen\u001b[0m\u001b[0;34m(\u001b[0m\u001b[0mself\u001b[0m\u001b[0;34m)\u001b[0m\u001b[0;34m,\u001b[0m \u001b[0mvals\u001b[0m\u001b[0;34m,\u001b[0m \u001b[0mmask\u001b[0m\u001b[0;34m)\u001b[0m\u001b[0;34m\u001b[0m\u001b[0;34m\u001b[0m\u001b[0m\n\u001b[0m\u001b[1;32m   2951\u001b[0m \u001b[0;34m\u001b[0m\u001b[0m\n\u001b[1;32m   2952\u001b[0m     \u001b[0;32mdef\u001b[0m \u001b[0minsert_row\u001b[0m\u001b[0;34m(\u001b[0m\u001b[0mself\u001b[0m\u001b[0;34m,\u001b[0m \u001b[0mindex\u001b[0m\u001b[0;34m,\u001b[0m \u001b[0mvals\u001b[0m\u001b[0;34m=\u001b[0m\u001b[0;32mNone\u001b[0m\u001b[0;34m,\u001b[0m \u001b[0mmask\u001b[0m\u001b[0;34m=\u001b[0m\u001b[0;32mNone\u001b[0m\u001b[0;34m)\u001b[0m\u001b[0;34m:\u001b[0m\u001b[0;34m\u001b[0m\u001b[0;34m\u001b[0m\u001b[0m\n",
      "\u001b[0;32m/blue/adamginsburg/adamginsburg/repos/astropy/astropy/table/table.py\u001b[0m in \u001b[0;36minsert_row\u001b[0;34m(self, index, vals, mask)\u001b[0m\n\u001b[1;32m   3070\u001b[0m \u001b[0;34m\u001b[0m\u001b[0m\n\u001b[1;32m   3071\u001b[0m             \u001b[0;32mexcept\u001b[0m \u001b[0mException\u001b[0m \u001b[0;32mas\u001b[0m \u001b[0merr\u001b[0m\u001b[0;34m:\u001b[0m\u001b[0;34m\u001b[0m\u001b[0;34m\u001b[0m\u001b[0m\n\u001b[0;32m-> 3072\u001b[0;31m                 raise ValueError(\"Unable to insert row because of exception in column '{}':\\n{}\"\n\u001b[0m\u001b[1;32m   3073\u001b[0m                                  .format(name, err)) from err\n\u001b[1;32m   3074\u001b[0m \u001b[0;34m\u001b[0m\u001b[0m\n",
      "\u001b[0;31mValueError\u001b[0m: Unable to insert row because of exception in column 'Molecule and Transition':\nCannot parse \"\\ce{OCS} $J=18\\shortrightarrow17$\" as a Quantity. It does not start with a number."
     ]
    }
   ],
   "source": [
    "# OCS\n",
    "t.add_row(['\\ce{OCS} $J=18\\shortrightarrow17$', 218.90*u.GHz, 960, 321.2*u.km/u.second, 0.774*u.km/u.second])"
   ]
  },
  {
   "cell_type": "code",
   "execution_count": 24,
   "id": "fc40f9e0-f1b2-4336-8e73-b8d597f076a3",
   "metadata": {},
   "outputs": [],
   "source": [
    "# HC3N\n",
    "t.add_row([freq[3], spw[3], ch[3], band[3], reso[3]])"
   ]
  },
  {
   "cell_type": "code",
   "execution_count": 25,
   "id": "1ba250c4-145f-445f-973a-81fb1185cbdd",
   "metadata": {},
   "outputs": [],
   "source": [
    "# CH3OH\n",
    "t.add_row(['\\ce{CH3OH} $J=4_{2,2}\\shortrightarrow3_{1,2}$', 218.44*u.GHz, 960, 321.9*u.km/u.second, 0.671*u.km/u.second])"
   ]
  },
  {
   "cell_type": "code",
   "execution_count": 26,
   "id": "3eb5e248-0bb6-4a93-a498-c393a9518eaf",
   "metadata": {},
   "outputs": [],
   "source": [
    "# extra H2CO\n",
    "t.add_row(['\\ce{p-H2CO} $J=3_{22}\\shortrightarrow2_{21}$', 218.48*u.GHz, 960, 321.9*u.km/u.second, 0.671*u.km/u.second])"
   ]
  },
  {
   "cell_type": "code",
   "execution_count": 27,
   "id": "38c3ddf4-cca2-435d-afe3-236dda50436a",
   "metadata": {},
   "outputs": [],
   "source": [
    "# H2CO 303-202\n",
    "t.add_row([freq[4], spw[4], ch[4], band[4], reso[4]])\n",
    "# SiO 5-4\n",
    "t.add_row([freq[5], spw[5], ch[5], band[5], reso[5]])\n",
    "# 13CO\n",
    "t.add_row([freq[6], spw[6], ch[6], band[6], reso[6]])\n",
    "# C18O\n",
    "t.add_row([freq[7], spw[7], ch[7], band[7], reso[7]])\n"
   ]
  },
  {
   "cell_type": "code",
   "execution_count": 28,
   "id": "17621fc7-3b02-42d9-bb8d-3c1ce03a172f",
   "metadata": {},
   "outputs": [],
   "source": [
    "from astropy.io import ascii\n"
   ]
  },
  {
   "cell_type": "code",
   "execution_count": 29,
   "id": "213af901-0728-4c86-8f42-5d3db8758320",
   "metadata": {},
   "outputs": [
    {
     "name": "stdout",
     "output_type": "stream",
     "text": [
      "\\begin{table}\n",
      "\\begin{tabular}{ccccc}\n",
      "Molecule and Transition & Center Rest Frequency & Eff. Ch. # & Velocity Bandwidth & Velocity Resolution \\\\\n",
      "$\\mathrm{GHz}$ &  &  & $\\mathrm{km\\,s^{-1}}$ & $\\mathrm{km\\,s^{-1}}$ \\\\\n",
      "230.54 & \\ce{^12CO} $J=2\\shortrightarrow1$ & 3840 & 304.8 & 0.159 \\\\\n",
      "231.9 & H(30)$\u0007lpha$ & 3840 & 2424.2 & 1.263 \\\\\n",
      "218.76 & \\ce{H2CO} $J=3_{2,2}\\shortrightarrow2_{2,1}$ & 960 & 321.2 & 0.774 \\\\\n",
      "218.9 & \\ce{OCS} $J=18\\shortrightarrow17$ & 960 & 321.2 & 0.774 \\\\\n",
      "218.32 & \\ce{HC3N} v=0 $J=24\\shortrightarrow23$ & 960 & 321.9 & 0.671 \\\\\n",
      "218.44 & \\ce{CH3OH} $J=4_{2,2}\\shortrightarrow3_{1,2}$ & 960 & 321.9 & 0.671 \\\\\n",
      "218.48 & \\ce{p-H2CO} $J=3_{22}\\shortrightarrow2_{21}$ & 960 & 321.9 & 0.671 \\\\\n",
      "218.22 & \\ce{H2CO} $J=3_{0,3}\\shortrightarrow2_{0,2}$ & 960 & 322.0 & 0.671 \\\\\n",
      "217.1 & SiO v=0 $J=5\\shortrightarrow4$ & 960 & 323.7 & 0.674 \\\\\n",
      "220.4 & \\ce{^13CO} $J=2\\shortrightarrow1$ & 1920 & 318.8 & 0.332 \\\\\n",
      "219.56 & \\ce{C^18O} $J=2\\shortrightarrow1$ & 1920 & 320.1 & 0.333 \\\\\n",
      "\\end{tabular}\n",
      "\\end{table}\n"
     ]
    }
   ],
   "source": [
    "ascii.write(t, format='latex')"
   ]
  },
  {
   "cell_type": "markdown",
   "id": "3f2fe105-f08d-429e-982c-006035848994",
   "metadata": {
    "jupyter": {
     "source_hidden": true
    },
    "tags": []
   },
   "source": [
    "\\begin{table*}[ht!]\n",
    "\\centering\n",
    "\\caption{Correlator Configuration - The observation parameters of each spectral window. \n",
    " \\label{test table}}\n",
    "\n",
    "\\begin{tabular}{|l|l|l|l|l|l|} \n",
    "\\hline\n",
    "\\label{tab:obs}\n",
    "\\centering\n",
    "\\begin{tabular}[c]{@{}l@{}}Center Rest \\\\Freq (GHz)\\end{tabular} & Spectral Window Name           & Eff. Ch \\# & \\begin{tabular}[c]{@{}l@{}}Vel. Bandwidth\\\\(km/s)\\end{tabular} & \\begin{tabular}[c]{@{}l@{}}Vel. Resolution\\\\(km/s)\\end{tabular}  \\\\ \n",
    "\\hline\n",
    "230.538000                                                       & CO 2-1         & 3840       & 304.8                                                          & 0.159                                                            \\\\ \n",
    "\\hline\n",
    "231.900928                                                       & H(30)              & 3840       & 2424.2                                                         & 1.263                                                            \\\\ \n",
    "\\hline\n",
    "218.760066                                                       & H$_2$CO 3(2,2)-2(2,1) & 960        & 321.2                                                          & 0.774                                                            \\\\ \n",
    "\\hline\n",
    "218.324723                                                       & HC$_3$N v=0 J=24-23   & 960        & 321.9                                                          & 0.671                                                            \\\\ \n",
    "\\hline\n",
    "218.222192                                                       & H$_2$CO 3(0,3)-2(0,2) & 960        & 322.0                                                          & 0.671                                                            \\\\ \n",
    "\\hline\n",
    "217.104980                                                       & SiO v=0 5-4        & 960        & 323.7                                                          & 0.674                                                            \\\\ \n",
    "\\hline\n",
    "220.398684                                                       & 13CO 2-1       & 1920       & 318.8                                                          & 0.332                                                            \\\\ \n",
    "\\hline\n",
    "219.560358                                                       & C18O 2-1           & 1920       & 320.1                                                          & 0.333                                                            \\\\\n",
    "\\hline\n",
    "\\end{tabular}\n",
    "\n",
    "\\end{table*}"
   ]
  }
 ],
 "metadata": {
  "kernelspec": {
   "display_name": "Python 3 (ipykernel)",
   "language": "python",
   "name": "python3"
  },
  "language_info": {
   "codemirror_mode": {
    "name": "ipython",
    "version": 3
   },
   "file_extension": ".py",
   "mimetype": "text/x-python",
   "name": "python",
   "nbconvert_exporter": "python",
   "pygments_lexer": "ipython3",
   "version": "3.9.13"
  }
 },
 "nbformat": 4,
 "nbformat_minor": 5
}
