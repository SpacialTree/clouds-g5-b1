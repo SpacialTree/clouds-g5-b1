{
 "cells": [
  {
   "cell_type": "code",
   "execution_count": 1,
   "id": "87210d06-b741-415f-bca1-10276ecea25c",
   "metadata": {},
   "outputs": [],
   "source": [
    "from astropy.table import QTable\n",
    "import astropy.units as u\n",
    "import numpy as np\n"
   ]
  },
  {
   "cell_type": "code",
   "execution_count": 26,
   "id": "944878a8-af69-4e8b-8953-e4e0e6d4941c",
   "metadata": {},
   "outputs": [],
   "source": [
    "names = ('Center Rest Frequency', \n",
    "         'Molecule and Transition',\n",
    "        'Eff. Ch. #', \n",
    "        'Velocity Bandwidth',\n",
    "        'Velocity Resolution')\n",
    "freq = [230.538,    # 12 CO\n",
    "       231.900928,  # H30\n",
    "       218.76006,   # H2CO 322-221\n",
    "       218.324723,  # HC3N\n",
    "       218.222192,  # H2CO 303-202\n",
    "       217.104980,  # SiO 5-4\n",
    "       220.398684,  # 13CO\n",
    "       219.560358  # C18O\n",
    "       ] * u.GHz\n",
    "\n",
    "spw = [ '\\ce{^12CO} $J=2\\shortrightarrow1$',\n",
    "        'H(30)$\\alpha$',\n",
    "        '\\ce{H2CO} $J=3_{2,2}\\shortrightarrow2_{2,1}$',\n",
    "        '\\ce{HC3N} v=0 $J=24\\shortrightarrow23$',\n",
    "        '\\ce{H2CO} $J=3_{0,3}\\shortrightarrow2_{0,2}$',\n",
    "        'SiO v=0 $J=5\\shortrightarrow4$',\n",
    "        '\\ce{^13CO} $J=2\\shortrightarrow1$',\n",
    "        '\\ce{C^18O} $J=2\\shortrightarrow1$']\n",
    "\n",
    "ch = [3840, #12 CO  \n",
    "     3840,  #H30   \n",
    "     960,   # H2CO 322-221   \n",
    "     960,   # HC3N   \n",
    "     960,   # H2CO 303-202     \n",
    "     960,   # SiO 5-4 \n",
    "     1920,  # 13CO  \n",
    "     1920]  # C18O  \n",
    "\n",
    "band = [304.8, #12 CO\n",
    "       2424.2, #H30\n",
    "       321.2,  # H2CO 322-221  \n",
    "       321.9,  # HC3N  \n",
    "       322.0,  # H2CO 303-202  \n",
    "       323.7,  # SiO 5-4  \n",
    "       318.8,  # 13CO  \n",
    "       320.1   #C18O\n",
    "       ]*u.km/u.second\n",
    "\n",
    "reso = [0.159, #12 CO \n",
    "       1.263,  #H30   \n",
    "       0.774,  # H2CO 322-221   \n",
    "       0.671,  # HC3N    \n",
    "       0.671,  # H2CO 303-202   \n",
    "       0.674,  # SiO 5-4  \n",
    "       0.332,  # 13CO  \n",
    "       0.333   # C18O  \n",
    "        ] *u.km/u.second\n",
    "    "
   ]
  },
  {
   "cell_type": "code",
   "execution_count": 18,
   "id": "22116890-b622-496a-bdeb-c318565976b4",
   "metadata": {},
   "outputs": [
    {
     "data": {
      "text/plain": [
       "8"
      ]
     },
     "execution_count": 18,
     "metadata": {},
     "output_type": "execute_result"
    }
   ],
   "source": [
    "len(freq)"
   ]
  },
  {
   "cell_type": "code",
   "execution_count": 36,
   "id": "5231f57b-c2c5-4c5c-9abe-6a6c86d4bae9",
   "metadata": {},
   "outputs": [],
   "source": [
    "# 12CO\n",
    "row1 = [freq[0], spw[0], ch[0], band[0], reso[0]]\n",
    "row2 = [freq[1], spw[1], ch[1], band[1], reso[1]]"
   ]
  },
  {
   "cell_type": "code",
   "execution_count": 52,
   "id": "25d3f3ec-2b62-45a5-8713-239cb0a44fa1",
   "metadata": {},
   "outputs": [],
   "source": [
    "#a = np.array([1, 4, 5], dtype=np.int32)\n",
    "#b = [2.0, 5.0, 8.5]\n",
    "#c = ['x', 'y', 'z']\n",
    "#d = [10, 20, 30] * u.m / u.s\n",
    "\n",
    "t = QTable([freq[:3], spw[:3], ch[:3], band[:3], reso[:3]],\n",
    "           names=names,\n",
    "           meta={'name': 'first table'})"
   ]
  },
  {
   "cell_type": "code",
   "execution_count": 53,
   "id": "ba25c113-278f-45f2-a706-e13f3d5c3744",
   "metadata": {},
   "outputs": [],
   "source": [
    "# OCS\n",
    "t.add_row([218.903355*u.GHz, '\\ce{OCS} $J=18\\shortrightarrow17$', 960, 321.2*u.km/u.second, 0.774*u.km/u.second])"
   ]
  },
  {
   "cell_type": "code",
   "execution_count": 54,
   "id": "fc40f9e0-f1b2-4336-8e73-b8d597f076a3",
   "metadata": {},
   "outputs": [],
   "source": [
    "# HC3N\n",
    "t.add_row([freq[3], spw[3], ch[3], band[3], reso[3]])"
   ]
  },
  {
   "cell_type": "code",
   "execution_count": 55,
   "id": "1ba250c4-145f-445f-973a-81fb1185cbdd",
   "metadata": {},
   "outputs": [],
   "source": [
    "# CH3OH\n",
    "t.add_row([218.44005*u.GHz, '\\ce{CH3OH} $J=4_{2,2}\\shortrightarrow3_{1,2}$', 960, 321.9*u.km/u.second, 0.671*u.km/u.second])"
   ]
  },
  {
   "cell_type": "code",
   "execution_count": 56,
   "id": "3eb5e248-0bb6-4a93-a498-c393a9518eaf",
   "metadata": {},
   "outputs": [],
   "source": [
    "# extra H2CO\n",
    "t.add_row([218.475632*u.GHz, '\\ce{p-H2CO} $J=3_{22}\\shortrightarrow2_{21}$', 960, 321.9*u.km/u.second, 0.671*u.km/u.second])"
   ]
  },
  {
   "cell_type": "code",
   "execution_count": 57,
   "id": "38c3ddf4-cca2-435d-afe3-236dda50436a",
   "metadata": {},
   "outputs": [],
   "source": [
    "# H2CO 303-202\n",
    "t.add_row([freq[4], spw[4], ch[4], band[4], reso[4]])\n",
    "# SiO 5-4\n",
    "t.add_row([freq[5], spw[5], ch[5], band[5], reso[5]])\n",
    "# 13CO\n",
    "t.add_row([freq[6], spw[6], ch[6], band[6], reso[6]])\n",
    "# C18O\n",
    "t.add_row([freq[7], spw[7], ch[7], band[7], reso[7]])\n"
   ]
  },
  {
   "cell_type": "code",
   "execution_count": 60,
   "id": "17621fc7-3b02-42d9-bb8d-3c1ce03a172f",
   "metadata": {},
   "outputs": [],
   "source": [
    "from astropy.io import ascii\n"
   ]
  },
  {
   "cell_type": "code",
   "execution_count": 61,
   "id": "213af901-0728-4c86-8f42-5d3db8758320",
   "metadata": {},
   "outputs": [
    {
     "name": "stdout",
     "output_type": "stream",
     "text": [
      "\\begin{table}\n",
      "\\begin{tabular}{ccccc}\n",
      "Center Rest Frequency & Molecule and Transition & Eff. Ch. # & Velocity Bandwidth & Velocity Resolution \\\\\n",
      "$\\mathrm{GHz}$ &  &  & $\\mathrm{km\\,s^{-1}}$ & $\\mathrm{km\\,s^{-1}}$ \\\\\n",
      "230.538 & \\ce{^12CO} $J=2\\shortrightarrow1$ & 3840 & 304.8 & 0.159 \\\\\n",
      "231.900928 & H(30)$\u0007lpha$ & 3840 & 2424.2 & 1.263 \\\\\n",
      "218.76006 & \\ce{H2CO} $J=3_{2,2}\\shortrightarrow2_{2,1}$ & 960 & 321.2 & 0.774 \\\\\n",
      "218.903355 & \\ce{OCS} $J=18\\shortrightarrow17$ & 960 & 321.2 & 0.774 \\\\\n",
      "218.324723 & \\ce{HC3N} v=0 $J=24\\shortrightarrow23$ & 960 & 321.9 & 0.671 \\\\\n",
      "218.44005 & \\ce{CH3OH} $J=4_{2,2}\\shortrightarrow3_{1,2}$ & 960 & 321.9 & 0.671 \\\\\n",
      "218.475632 & \\ce{p-H2CO} $J=3_{22}\\shortrightarrow2_{21}$ & 960 & 321.9 & 0.671 \\\\\n",
      "218.222192 & \\ce{H2CO} $J=3_{0,3}\\shortrightarrow2_{0,2}$ & 960 & 322.0 & 0.671 \\\\\n",
      "217.10498 & SiO v=0 $J=5\\shortrightarrow4$ & 960 & 323.7 & 0.674 \\\\\n",
      "220.398684 & \\ce{^13CO} $J=2\\shortrightarrow1$ & 1920 & 318.8 & 0.332 \\\\\n",
      "219.560358 & \\ce{C^18O} $J=2\\shortrightarrow1$ & 1920 & 320.1 & 0.333 \\\\\n",
      "\\end{tabular}\n",
      "\\end{table}\n"
     ]
    }
   ],
   "source": [
    "ascii.write(t, format='latex')"
   ]
  },
  {
   "cell_type": "markdown",
   "id": "3f2fe105-f08d-429e-982c-006035848994",
   "metadata": {
    "jupyter": {
     "source_hidden": true
    },
    "tags": []
   },
   "source": [
    "\\begin{table*}[ht!]\n",
    "\\centering\n",
    "\\caption{Correlator Configuration - The observation parameters of each spectral window. \n",
    " \\label{test table}}\n",
    "\n",
    "\\begin{tabular}{|l|l|l|l|l|l|} \n",
    "\\hline\n",
    "\\label{tab:obs}\n",
    "\\centering\n",
    "\\begin{tabular}[c]{@{}l@{}}Center Rest \\\\Freq (GHz)\\end{tabular} & Spectral Window Name           & Eff. Ch \\# & \\begin{tabular}[c]{@{}l@{}}Vel. Bandwidth\\\\(km/s)\\end{tabular} & \\begin{tabular}[c]{@{}l@{}}Vel. Resolution\\\\(km/s)\\end{tabular}  \\\\ \n",
    "\\hline\n",
    "230.538000                                                       & CO 2-1         & 3840       & 304.8                                                          & 0.159                                                            \\\\ \n",
    "\\hline\n",
    "231.900928                                                       & H(30)              & 3840       & 2424.2                                                         & 1.263                                                            \\\\ \n",
    "\\hline\n",
    "218.760066                                                       & H$_2$CO 3(2,2)-2(2,1) & 960        & 321.2                                                          & 0.774                                                            \\\\ \n",
    "\\hline\n",
    "218.324723                                                       & HC$_3$N v=0 J=24-23   & 960        & 321.9                                                          & 0.671                                                            \\\\ \n",
    "\\hline\n",
    "218.222192                                                       & H$_2$CO 3(0,3)-2(0,2) & 960        & 322.0                                                          & 0.671                                                            \\\\ \n",
    "\\hline\n",
    "217.104980                                                       & SiO v=0 5-4        & 960        & 323.7                                                          & 0.674                                                            \\\\ \n",
    "\\hline\n",
    "220.398684                                                       & 13CO 2-1       & 1920       & 318.8                                                          & 0.332                                                            \\\\ \n",
    "\\hline\n",
    "219.560358                                                       & C18O 2-1           & 1920       & 320.1                                                          & 0.333                                                            \\\\\n",
    "\\hline\n",
    "\\end{tabular}\n",
    "\n",
    "\\end{table*}"
   ]
  }
 ],
 "metadata": {
  "kernelspec": {
   "display_name": "Python 3 (ipykernel)",
   "language": "python",
   "name": "python3"
  },
  "language_info": {
   "codemirror_mode": {
    "name": "ipython",
    "version": 3
   },
   "file_extension": ".py",
   "mimetype": "text/x-python",
   "name": "python",
   "nbconvert_exporter": "python",
   "pygments_lexer": "ipython3",
   "version": "3.9.13"
  }
 },
 "nbformat": 4,
 "nbformat_minor": 5
}
