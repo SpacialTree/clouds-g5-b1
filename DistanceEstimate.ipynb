{
 "cells": [
  {
   "cell_type": "code",
   "execution_count": 109,
   "id": "f0074b94-d25b-46a2-a13d-176f4d0a9549",
   "metadata": {},
   "outputs": [],
   "source": [
    "import numpy as np\n",
    "from astropy import units as u\n",
    "from astropy import constants as const\n",
    "from matplotlib import pyplot as plt"
   ]
  },
  {
   "cell_type": "code",
   "execution_count": 132,
   "id": "283de314-9a97-4d58-9144-d752e51bdbf8",
   "metadata": {},
   "outputs": [],
   "source": [
    "d_GC = 8178 * u.pc # Distance to Galactic Center (Gravity Collab, distance to Sgr A*)\n",
    "d_GC_err = d_GC * 0.3 / 100"
   ]
  },
  {
   "cell_type": "code",
   "execution_count": null,
   "id": "6ca181a1-7568-4fd3-827b-cac2b739d011",
   "metadata": {},
   "outputs": [],
   "source": []
  },
  {
   "cell_type": "code",
   "execution_count": 133,
   "id": "ffb36d28-712c-4395-b1b6-325dcd7d2d61",
   "metadata": {},
   "outputs": [],
   "source": [
    "# alpha\n",
    "phi_Wegg = 30 * u.deg # Tilt of Galactic bar from Wegg\n",
    "phi_Sorm = 20 * u.deg # Tilt of Galactic bar used by Sormani\n",
    "phi_Wegg_err = 2*u.deg"
   ]
  },
  {
   "cell_type": "code",
   "execution_count": 125,
   "id": "57fe0a2c-6adf-4ade-b973-4e4eac9197e6",
   "metadata": {},
   "outputs": [],
   "source": [
    "beta = 5.4 * u.deg # Galactic Longitude"
   ]
  },
  {
   "cell_type": "markdown",
   "id": "20462f2d-d87e-489f-89af-2be80619520b",
   "metadata": {},
   "source": [
    "# Law of Sines\n",
    "$\\frac{sin(\\alpha)}{A}$ = $\\frac{sin(\\beta)}{B}$\n",
    "\n",
    "$A = B \\frac{sin(\\alpha)}{sin(\\beta)}$\n",
    "\n",
    "Where A is the side opposite the angle $\\alpha$"
   ]
  },
  {
   "cell_type": "code",
   "execution_count": 126,
   "id": "3b1a3c94-a801-42e1-b8f9-841a1845b993",
   "metadata": {},
   "outputs": [
    {
     "data": {
      "text/latex": [
       "$149.6 \\; \\mathrm{{}^{\\circ}}$"
      ],
      "text/plain": [
       "<Quantity 149.6 deg>"
      ]
     },
     "execution_count": 126,
     "metadata": {},
     "output_type": "execute_result"
    }
   ],
   "source": [
    "# 180 degrees in a triangle\n",
    "c = 180 * u.deg - ang - beta\n",
    "c"
   ]
  },
  {
   "cell_type": "code",
   "execution_count": 142,
   "id": "5cc3fdb0-d879-4851-bddb-e6a773db7324",
   "metadata": {},
   "outputs": [
    {
     "data": {
      "text/latex": [
       "$2.0166667 \\; \\mathrm{{}^{\\circ}}$"
      ],
      "text/plain": [
       "<Quantity 2.01666667 deg>"
      ]
     },
     "execution_count": 142,
     "metadata": {},
     "output_type": "execute_result"
    }
   ],
   "source": [
    "c_err = phi_Wegg_err + (1/60) *u.deg\n",
    "c_err"
   ]
  },
  {
   "cell_type": "code",
   "execution_count": 127,
   "id": "9924ad48-c509-4780-ac92-c32ca2addcc0",
   "metadata": {},
   "outputs": [
    {
     "data": {
      "text/latex": [
       "$1520.8823 \\; \\mathrm{pc}$"
      ],
      "text/plain": [
       "<Quantity 1520.88228274 pc>"
      ]
     },
     "execution_count": 127,
     "metadata": {},
     "output_type": "execute_result"
    }
   ],
   "source": [
    "# Distance between the GC and G5\n",
    "d_GC * np.sin(5.4*u.deg) / np.sin(c) "
   ]
  },
  {
   "cell_type": "code",
   "execution_count": 128,
   "id": "e61e855b-26f0-4454-8f3c-0e00fd8414f8",
   "metadata": {},
   "outputs": [
    {
     "data": {
      "text/latex": [
       "$8080.4885 \\; \\mathrm{pc}$"
      ],
      "text/plain": [
       "<Quantity 8080.48847709 pc>"
      ]
     },
     "execution_count": 128,
     "metadata": {},
     "output_type": "execute_result"
    }
   ],
   "source": [
    "# Distance between the Sun and G5\n",
    "d_GC * np.sin(phi_Wegg) / np.sin(c) "
   ]
  },
  {
   "cell_type": "markdown",
   "id": "d51b5f04-2933-4468-99ef-12b972398db1",
   "metadata": {},
   "source": [
    "# Error Propagation\n",
    "\n",
    "Sine\n",
    "\n",
    "$D(sin x) = sin(x + Dx) - sin(x)$\n",
    "\n",
    "Division/Multiplication\n",
    "\n",
    "$Dz = y Dx + x Dy$\n"
   ]
  },
  {
   "cell_type": "code",
   "execution_count": 131,
   "id": "5472c928-6aee-45d0-a492-6d82a126c77d",
   "metadata": {},
   "outputs": [],
   "source": [
    "def err_sin(x, Dx):\n",
    "    return np.sin(x+Dx) - np.sin(x)\n",
    "\n",
    "def err_multi(x, Dx, y, Dy):\n",
    "    return y*Dx + x*Dy\n",
    "\n",
    "def err_distance(dist, Dd, alpha, Dalpha, beta, Dbeta):\n",
    "    top = np.sin(alpha)\n",
    "    bottom = np.sin(beta)\n",
    "    top_err = err_sin(alpha, Dalpha)\n",
    "    bottom_err = err_sin(beta, Dbeta)\n",
    "    div = top/bottom\n",
    "    div_err = err_multi(top, top_err, bottom, bottom_err)\n",
    "    calc_dist = dist * div\n",
    "    print(calc_dist)\n",
    "    return err_multi(div, div_err, dist, Dd)"
   ]
  },
  {
   "cell_type": "code",
   "execution_count": 143,
   "id": "aa7e53e6-5b95-4fcd-afa2-104e45e91111",
   "metadata": {},
   "outputs": [
    {
     "name": "stdout",
     "output_type": "stream",
     "text": [
      "1520.8822827374308 pc\n"
     ]
    },
    {
     "data": {
      "text/latex": [
       "$-17.839596 \\; \\mathrm{pc}$"
      ],
      "text/plain": [
       "<Quantity -17.83959588 pc>"
      ]
     },
     "execution_count": 143,
     "metadata": {},
     "output_type": "execute_result"
    }
   ],
   "source": [
    "# Distance between the GC and G5\n",
    "err_distance(d_GC, d_GC_err, 5.4*u.deg, 1*u.arcmin, c, c_err)"
   ]
  },
  {
   "cell_type": "code",
   "execution_count": 145,
   "id": "f9c00208-92c9-4842-8e7e-4d3a2b230f42",
   "metadata": {},
   "outputs": [
    {
     "name": "stdout",
     "output_type": "stream",
     "text": [
      "8080.488477090903 pc\n"
     ]
    },
    {
     "data": {
      "text/latex": [
       "$22.666633 \\; \\mathrm{pc}$"
      ],
      "text/plain": [
       "<Quantity 22.66663301 pc>"
      ]
     },
     "execution_count": 145,
     "metadata": {},
     "output_type": "execute_result"
    }
   ],
   "source": [
    "# Distance between the Sun and G5\n",
    "err_distance(d_GC, d_GC_err, phi_Wegg, phi_Wegg_err, c, c_err)"
   ]
  },
  {
   "cell_type": "code",
   "execution_count": 146,
   "id": "1dc798e6-08c4-42dc-9bb2-67cc69bce636",
   "metadata": {},
   "outputs": [
    {
     "name": "stdout",
     "output_type": "stream",
     "text": [
      "test\n"
     ]
    }
   ],
   "source": [
    "print('test')"
   ]
  },
  {
   "cell_type": "code",
   "execution_count": 147,
   "id": "3c39d8aa-37f8-4c01-8c3d-3abf418ba031",
   "metadata": {},
   "outputs": [
    {
     "ename": "NameError",
     "evalue": "name 'git' is not defined",
     "output_type": "error",
     "traceback": [
      "\u001b[0;31m---------------------------------------------------------------------------\u001b[0m",
      "\u001b[0;31mNameError\u001b[0m                                 Traceback (most recent call last)",
      "\u001b[0;32m/scratch/local/47148043/ipykernel_74356/2768940822.py\u001b[0m in \u001b[0;36m<module>\u001b[0;34m\u001b[0m\n\u001b[0;32m----> 1\u001b[0;31m \u001b[0mgit\u001b[0m\u001b[0;34m\u001b[0m\u001b[0;34m\u001b[0m\u001b[0m\n\u001b[0m",
      "\u001b[0;31mNameError\u001b[0m: name 'git' is not defined"
     ]
    }
   ],
   "source": [
    "git"
   ]
  },
  {
   "cell_type": "code",
   "execution_count": null,
   "id": "d62e2145-6922-48f0-bba3-f908e674e455",
   "metadata": {},
   "outputs": [],
   "source": []
  }
 ],
 "metadata": {
  "kernelspec": {
   "display_name": "Python 3 (ipykernel)",
   "language": "python",
   "name": "python3"
  },
  "language_info": {
   "codemirror_mode": {
    "name": "ipython",
    "version": 3
   },
   "file_extension": ".py",
   "mimetype": "text/x-python",
   "name": "python",
   "nbconvert_exporter": "python",
   "pygments_lexer": "ipython3",
   "version": "3.9.13"
  }
 },
 "nbformat": 4,
 "nbformat_minor": 5
}
