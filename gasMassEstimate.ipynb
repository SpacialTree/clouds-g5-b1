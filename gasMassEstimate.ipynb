{
 "cells": [
  {
   "cell_type": "code",
   "execution_count": 1,
   "id": "ff53ce75-29c7-481b-97d5-5e1d400395b5",
   "metadata": {},
   "outputs": [
    {
     "name": "stderr",
     "output_type": "stream",
     "text": [
      "fatal: detected dubious ownership in repository at '/blue/adamginsburg/adamginsburg/repos/dask'\n",
      "To add an exception for this directory, call:\n",
      "\n",
      "\tgit config --global --add safe.directory /blue/adamginsburg/adamginsburg/repos/dask\n"
     ]
    }
   ],
   "source": [
    "from spectral_cube import SpectralCube\n",
    "from pvextractor import extract_pv_slice, Path\n",
    "import pylab as pl\n",
    "import numpy as np\n",
    "from astropy.visualization import quantity_support\n",
    "from astropy import units as u\n",
    "from astropy import wcs\n",
    "from matplotlib.colors import LogNorm\n",
    "from astropy.visualization.stretch import SinhStretch\n",
    "from astropy.visualization import simple_norm\n",
    "import matplotlib.pyplot as plt\n",
    "from astropy.utils import data\n",
    "import regions\n",
    "from astropy.io import fits\n"
   ]
  },
  {
   "cell_type": "code",
   "execution_count": 2,
   "id": "2824a39f-7c10-42e1-b1e8-c2a91eb58366",
   "metadata": {},
   "outputs": [],
   "source": [
    "#mom0_17 = SpectralCube.read('/orange/adamginsburg/cmz/g5/G5/sum/spw17_12CO/g5.mom0.smK.tot.12CO.spw17.im', format='casa_image')\n",
    "#mom0_21 = SpectralCube.read('/orange/adamginsburg/cmz/g5/G5/sum/spw21_CH3OH/g5.mom0.smK.tot.CH3OH.spw21.im', format='casa_image')\n",
    "#mom0_23 = SpectralCube.read('/orange/adamginsburg/cmz/g5/G5/sum/spw23_H2CO/g5.mom0.smK.tot.H2CO.spw23.im', format='casa_image')\n",
    "#mom0_25 = SpectralCube.read('/orange/adamginsburg/cmz/g5/G5/sum/spw25_H2CO/g5.mom0.smK.tot.H2CO.spw25.im/', format='casa_image')\n",
    "#mom0_27 = SpectralCube.read('/orange/adamginsburg/cmz/g5/G5/sum/spw27_SiO/g5.mom0.smK.tot.SiO.spw27.im', format='casa_image')\n",
    "#mom0_29 = SpectralCube.read('/orange/adamginsburg/cmz/g5/G5/sum/spw29_13CO/g5.mom0.smK.tot.13CO.spw29.im', format='casa_image')\n",
    "#mom0_31 = SpectralCube.read('/orange/adamginsburg/cmz/g5/G5/sum/spw31_C18O/g5.mom0.smK.tot.C18O.spw31.im', format='casa_image')"
   ]
  },
  {
   "cell_type": "code",
   "execution_count": 3,
   "id": "4f6bdf17-7a39-4d40-9814-ce2befbf7636",
   "metadata": {},
   "outputs": [],
   "source": [
    "combo_fixednames = [\n",
    "    '/orange/adamginsburg/cmz/g5/G5/sum/newcombination/galcorrected/g5.12CO.spw17.fits',\n",
    "    'lol',\n",
    "    '/orange/adamginsburg/cmz/g5/G5/sum/newcombination/galcorrected/g5.CH3OH.spw21.fits',\n",
    "    '/orange/adamginsburg/cmz/g5/G5/sum/newcombination/galcorrected/g5.H2CO.spw23.fits',\n",
    "    '/orange/adamginsburg/cmz/g5/G5/sum/newcombination/galcorrected/g5.H2CO.spw25.fits',\n",
    "    '/orange/adamginsburg/cmz/g5/G5/sum/newcombination/galcorrected/g5.SiO.spw27.fits',\n",
    "    '/orange/adamginsburg/cmz/g5/G5/sum/newcombination/galcorrected/g5.13CO.spw29.fits',\n",
    "    '/orange/adamginsburg/cmz/g5/G5/sum/newcombination/galcorrected/g5.C18O.spw31.fits'\n",
    "    ]\n",
    "\n",
    "cube17 = SpectralCube.read(combo_fixednames[0]).with_spectral_unit(u.km/u.s, velocity_convention='radio')\n",
    "#cube21 = SpectralCube.read(combo_fixednames[2]).with_spectral_unit(u.km/u.s, velocity_convention='radio')\n",
    "#cube23 = SpectralCube.read(combo_fixednames[3]).with_spectral_unit(u.km/u.s, velocity_convention='radio')\n",
    "#cube25 = SpectralCube.read(combo_fixednames[4]).with_spectral_unit(u.km/u.s, velocity_convention='radio')\n",
    "#cube27 = SpectralCube.read(combo_fixednames[5]).with_spectral_unit(u.km/u.s, velocity_convention='radio')\n",
    "#cube29 = SpectralCube.read(combo_fixednames[6]).with_spectral_unit(u.km/u.s, velocity_convention='radio')\n",
    "#cube31 = SpectralCube.read(combo_fixednames[7]).with_spectral_unit(u.km/u.s, velocity_convention='radio')\n",
    "\n",
    "mom0_17 = cube17.with_mask(cube17>0.05*u.K).spectral_slab(0*u.km/u.second, 225*u.km/u.second).moment0()\n",
    "#mom0_21 = cube21.spectral_slab(0*u.km/u.second, 200*u.km/u.second).moment0()\n",
    "#mom0_23 = cube23.spectral_slab(0*u.km/u.second, 200*u.km/u.second).moment0()\n",
    "#mom0_25 = cube25.spectral_slab(0*u.km/u.second, 200*u.km/u.second).moment0()\n",
    "#mom0_27 = cube27.spectral_slab(0*u.km/u.second, 200*u.km/u.second).moment0()\n",
    "#mom0_29 = cube29.spectral_slab(0*u.km/u.second, 200*u.km/u.second).moment0()\n",
    "#mom0_31 = cube31.spectral_slab(0*u.km/u.second, 200*u.km/u.second).moment0()\n",
    "    "
   ]
  },
  {
   "cell_type": "code",
   "execution_count": 4,
   "id": "fc36ca06-b3c8-4cdd-b59d-2decc38caf49",
   "metadata": {},
   "outputs": [
    {
     "ename": "NameError",
     "evalue": "name 'mom0_21' is not defined",
     "output_type": "error",
     "traceback": [
      "\u001b[0;31m---------------------------------------------------------------------------\u001b[0m",
      "\u001b[0;31mNameError\u001b[0m                                 Traceback (most recent call last)",
      "\u001b[0;32m/scratch/local/53838469/ipykernel_124673/3455858236.py\u001b[0m in \u001b[0;36m<module>\u001b[0;34m\u001b[0m\n\u001b[0;32m----> 1\u001b[0;31m \u001b[0mmom0_21\u001b[0m\u001b[0;34m\u001b[0m\u001b[0;34m\u001b[0m\u001b[0m\n\u001b[0m",
      "\u001b[0;31mNameError\u001b[0m: name 'mom0_21' is not defined"
     ]
    }
   ],
   "source": [
    "mom0_21"
   ]
  },
  {
   "cell_type": "code",
   "execution_count": null,
   "id": "ba07c2ec-8302-4f83-a37e-9aa8a4b6d30a",
   "metadata": {},
   "outputs": [],
   "source": [
    "#plt.imshow(mom0_27[0].value)\n",
    "ax = pl.subplot(111, projection=mom0_27.wcs.celestial)\n",
    "ax.imshow(mom0_27[0].value)\n"
   ]
  },
  {
   "cell_type": "code",
   "execution_count": null,
   "id": "c0f3f0ae-b0ec-4d96-b44e-2a020b035d24",
   "metadata": {},
   "outputs": [],
   "source": [
    "ax = pl.subplot(111, projection=mom0_25.wcs.celestial)\n",
    "ax.imshow(mom0_25[0].value)"
   ]
  },
  {
   "cell_type": "code",
   "execution_count": null,
   "id": "19fe6c72-f324-4960-bba5-263598953be2",
   "metadata": {},
   "outputs": [],
   "source": [
    "cocube = mom0_27[0].value/mom0_25[0].value"
   ]
  },
  {
   "cell_type": "code",
   "execution_count": 5,
   "id": "c572427c-1821-4092-bb60-755c9ce866fd",
   "metadata": {},
   "outputs": [
    {
     "name": "stdout",
     "output_type": "stream",
     "text": [
      "132491.67255397653 solMass\n"
     ]
    }
   ],
   "source": [
    "from astropy import units as u\n",
    "\n",
    "#27 pc**3 * 10**5 = mass in solar masses\n",
    "\n",
    "volume = 27 * u.parsec**3\n",
    "n_dense = 10**5 * u.cm**(-3)\n",
    "mu = 2 * u.Da\n",
    "\n",
    "mass = volume * n_dense * mu \n",
    "print(mass.to('M_sun'))\n",
    "# ~ 10^5 M_sun\n",
    "# pretty big "
   ]
  },
  {
   "cell_type": "code",
   "execution_count": 6,
   "id": "a6ecc272-f467-4dff-ae83-edbd2699c8e9",
   "metadata": {},
   "outputs": [
    {
     "ename": "NameError",
     "evalue": "name 'mom0_27' is not defined",
     "output_type": "error",
     "traceback": [
      "\u001b[0;31m---------------------------------------------------------------------------\u001b[0m",
      "\u001b[0;31mNameError\u001b[0m                                 Traceback (most recent call last)",
      "\u001b[0;32m/scratch/local/53838469/ipykernel_124673/677314014.py\u001b[0m in \u001b[0;36m<module>\u001b[0;34m\u001b[0m\n\u001b[0;32m----> 1\u001b[0;31m \u001b[0max\u001b[0m \u001b[0;34m=\u001b[0m \u001b[0mpl\u001b[0m\u001b[0;34m.\u001b[0m\u001b[0msubplot\u001b[0m\u001b[0;34m(\u001b[0m\u001b[0;36m111\u001b[0m\u001b[0;34m,\u001b[0m \u001b[0mprojection\u001b[0m\u001b[0;34m=\u001b[0m\u001b[0mmom0_27\u001b[0m\u001b[0;34m.\u001b[0m\u001b[0mwcs\u001b[0m\u001b[0;34m.\u001b[0m\u001b[0mcelestial\u001b[0m\u001b[0;34m)\u001b[0m\u001b[0;34m\u001b[0m\u001b[0;34m\u001b[0m\u001b[0m\n\u001b[0m\u001b[1;32m      2\u001b[0m \u001b[0max\u001b[0m\u001b[0;34m.\u001b[0m\u001b[0mimshow\u001b[0m\u001b[0;34m(\u001b[0m\u001b[0mcocube\u001b[0m\u001b[0;34m,\u001b[0m \u001b[0mvmin\u001b[0m\u001b[0;34m=\u001b[0m\u001b[0;36m0\u001b[0m\u001b[0;34m,\u001b[0m \u001b[0mvmax\u001b[0m\u001b[0;34m=\u001b[0m\u001b[0;36m2\u001b[0m\u001b[0;34m)\u001b[0m\u001b[0;34m\u001b[0m\u001b[0;34m\u001b[0m\u001b[0m\n\u001b[1;32m      3\u001b[0m \u001b[0;34m\u001b[0m\u001b[0m\n\u001b[1;32m      4\u001b[0m \u001b[0mcocube\u001b[0m\u001b[0;34m.\u001b[0m\u001b[0mmean\u001b[0m\u001b[0;34m(\u001b[0m\u001b[0;34m)\u001b[0m\u001b[0;34m\u001b[0m\u001b[0;34m\u001b[0m\u001b[0m\n",
      "\u001b[0;31mNameError\u001b[0m: name 'mom0_27' is not defined"
     ]
    }
   ],
   "source": [
    "ax = pl.subplot(111, projection=mom0_27.wcs.celestial)\n",
    "ax.imshow(cocube, vmin=0, vmax=2)\n",
    "\n",
    "cocube.mean()"
   ]
  },
  {
   "cell_type": "markdown",
   "id": "655ba242-0666-4cb0-8b61-a584aadad311",
   "metadata": {},
   "source": [
    "$X = 2.3 \\pm 3 \\times 10^{20} {cm^{-2}(Kkms^{-1})^{-1}}$"
   ]
  },
  {
   "cell_type": "code",
   "execution_count": 7,
   "id": "4661e770-c13e-4125-bf72-db2ddfc54457",
   "metadata": {},
   "outputs": [],
   "source": [
    "# cut out below 10 km/s\n",
    "\n",
    "#cube_17 = SpectralCube.read('/orange/adamginsburg/cmz/g5/G5/sum/spw17_12CO/g5.12CO.spw17.im', format='casa_image').with_spectral_unit(u.km/u.s, velocity_convention='radio').to(u.K)\n"
   ]
  },
  {
   "cell_type": "code",
   "execution_count": 8,
   "id": "958f632b-c548-48b4-8132-1b55f4885e67",
   "metadata": {},
   "outputs": [],
   "source": [
    "# immoments(imagename='spw17_12CO/g5.12CO.spw17.im', moments=[0],\n",
    "# chans='256~1253', outfile='spw17_12CO/g5.mom0.mtot.12CO.spw17.im',includepix=[1.0,1000.0])\n",
    "#cut_cube = cube_17[256:1253, :, :]\n",
    "#old_mom0_17 = cut_cube.with_mask((cut_cube > 1.*cut_cube.unit) & (cut_cube < 1000.*cut_cube.unit)).moment0()"
   ]
  },
  {
   "cell_type": "code",
   "execution_count": 9,
   "id": "0fc3b6b4-88fa-4ea3-9cbb-661837e96b97",
   "metadata": {},
   "outputs": [],
   "source": [
    "slab = cube17.with_mask(cube17>0.05*u.K).spectral_slab(15*u.km/u.s, 225*u.km/u.s)"
   ]
  },
  {
   "cell_type": "code",
   "execution_count": 10,
   "id": "7827b35d-9ce8-40cf-ad30-06d097cf0a40",
   "metadata": {},
   "outputs": [],
   "source": [
    "new_mom0_17 = slab.moment0()"
   ]
  },
  {
   "cell_type": "code",
   "execution_count": 11,
   "id": "007d1e7d-fcc8-4e1b-bdd3-2e33fa245cd6",
   "metadata": {},
   "outputs": [],
   "source": [
    "col_density = new_mom0_17 * 2.3*10**20 * u.cm**(-2) * (u.K * u.km / u.s)**(-1) * 0.8\n",
    "\n",
    "# correction factor (due to He) Kauffmann 2008 \n",
    "# appendix refer to factor to go from number density of H2 to mass is 2.8 per H2\n",
    "# mean mass per free particle is 2.3 per free particle \n",
    "# review on X-factor (bellato?) converting from 2-1 to 1-0\n",
    "# Ash Barnes and Mattia Sormani -> mass inflow rates along bar to corroborate mass estimate \n",
    "    # determination of mass section"
   ]
  },
  {
   "cell_type": "code",
   "execution_count": 12,
   "id": "cea69854-f453-448c-a6a6-2c9327a30d90",
   "metadata": {},
   "outputs": [],
   "source": [
    "pix_area = new_mom0_17.wcs.celestial.proj_plane_pixel_area()"
   ]
  },
  {
   "cell_type": "code",
   "execution_count": 13,
   "id": "7ea70530-755b-4b7e-9ca9-09456549cd21",
   "metadata": {},
   "outputs": [],
   "source": [
    "d = 7 * u.kpc"
   ]
  },
  {
   "cell_type": "code",
   "execution_count": 14,
   "id": "3302c521-a994-414f-b8d0-c228afa63e2d",
   "metadata": {},
   "outputs": [],
   "source": [
    "pix_area_cm = (pix_area * d**2).to(u.parsec**2, equivalencies=u.dimensionless_angles()).to(u.cm**2)"
   ]
  },
  {
   "cell_type": "code",
   "execution_count": 15,
   "id": "28bd46d9-e243-4c12-b596-23eb9417ffab",
   "metadata": {},
   "outputs": [],
   "source": [
    "mass_conv = 2.8 * u.Da"
   ]
  },
  {
   "cell_type": "code",
   "execution_count": 16,
   "id": "b2eb7f91-7a71-4abc-b2f2-87cedaeaa757",
   "metadata": {},
   "outputs": [],
   "source": [
    "mass_map = (col_density * pix_area_cm * mass_conv).to(u.M_sun)"
   ]
  },
  {
   "cell_type": "code",
   "execution_count": 17,
   "id": "c6c69a6c-48bc-429e-8230-366e2c149ba7",
   "metadata": {},
   "outputs": [
    {
     "data": {
      "image/png": "[encoded data removed]",
      "text/plain": [
       "<Figure size 432x288 with 1 Axes>"
      ]
     },
     "metadata": {
      "needs_background": "light"
     },
     "output_type": "display_data"
    }
   ],
   "source": [
    "with quantity_support():\n",
    "    #np.isfinite(mass_map)\n",
    "    masked = mass_map[np.isfinite(mass_map)]\n",
    "    plt.hist(masked)\n",
    "    #plt.savefig('plots/masshist.pdf')\n",
    "    \n",
    "# mass per pixel 30-40 solar masses\n",
    "# total mass ~ 100,000"
   ]
  },
  {
   "cell_type": "code",
   "execution_count": 18,
   "id": "544b8f66-a4d2-4994-998a-25b1fc4ded19",
   "metadata": {},
   "outputs": [
    {
     "data": {
      "text/latex": [
       "$513873.84 \\; \\mathrm{M_{\\odot}}$"
      ],
      "text/plain": [
       "<Projection 513873.83622923 solMass>"
      ]
     },
     "execution_count": 18,
     "metadata": {},
     "output_type": "execute_result"
    }
   ],
   "source": [
    "np.nansum(mass_map)"
   ]
  },
  {
   "cell_type": "code",
   "execution_count": 19,
   "id": "32e65336-34e7-42c8-9e45-055f58751961",
   "metadata": {},
   "outputs": [],
   "source": [
    "#cube_17.wcs.wcs.restfrq"
   ]
  },
  {
   "cell_type": "code",
   "execution_count": 20,
   "id": "95573240-55f8-4d60-a106-cf9518d857b8",
   "metadata": {},
   "outputs": [],
   "source": [
    "#raw = SpectralCube.read('/orange/adamginsburg/cmz/g5/G5/sum/spw17_12CO/g5.mom0.tot.12CO.spw17.im', format='casa_image')\n",
    "#smooth = SpectralCube.read('/orange/adamginsburg/cmz/g5/G5/sum/spw17_12CO/g5.mom0.sm.tot.12CO.spw17.im', format='casa_image')\n"
   ]
  },
  {
   "cell_type": "code",
   "execution_count": 21,
   "id": "b514d330-2b23-4172-bef3-a21a9a044f2d",
   "metadata": {},
   "outputs": [],
   "source": [
    "#print(raw.sum())\n",
    "#print(smooth.sum()/raw.sum())"
   ]
  },
  {
   "cell_type": "code",
   "execution_count": 22,
   "id": "b669f0ea-8c05-4aa9-8be2-a71d0b6f0fb2",
   "metadata": {},
   "outputs": [],
   "source": [
    "#cube_17 = SpectralCube.read('/orange/adamginsburg/cmz/g5/G5/sum/spw17_12CO/g5.12CO.spw17.im', format='casa_image').with_spectral_unit(u.km/u.s, velocity_convention='radio').to(u.K)"
   ]
  },
  {
   "cell_type": "code",
   "execution_count": 23,
   "id": "5c93dde3-4989-4279-9c25-2d75435dbd01",
   "metadata": {},
   "outputs": [],
   "source": [
    "#cube_17.write('g5.12CO.spw17.fits', format='fits')  \n"
   ]
  },
  {
   "cell_type": "code",
   "execution_count": 24,
   "id": "78e2a311-e49a-4f7b-a1bb-d3d15d560f52",
   "metadata": {},
   "outputs": [
    {
     "data": {
      "text/plain": [
       "'/orange/adamginsburg/cmz/g5/code/clouds-g5-b1'"
      ]
     },
     "execution_count": 24,
     "metadata": {},
     "output_type": "execute_result"
    }
   ],
   "source": [
    "pwd"
   ]
  },
  {
   "cell_type": "code",
   "execution_count": 25,
   "id": "4db06364-f725-4a20-9c67-683571a089d8",
   "metadata": {},
   "outputs": [],
   "source": [
    "#reg = regions.Regions.read('/orange/adamginsburg/cmz/g5/code/bigreg.reg')\n",
    "reg = regions.Regions.read('/orange/adamginsburg/cmz/g5/code/g5-field2.reg')\n",
    "#reg = regions.Regions.read('/orange/adamginsburg/cmz/g5/code/g5-el.reg')\n",
    "r0 = reg[0]"
   ]
  },
  {
   "cell_type": "code",
   "execution_count": 26,
   "id": "ed117f85-79ed-4e79-a3f6-7686700c8e54",
   "metadata": {},
   "outputs": [],
   "source": [
    "ppmap = '/orange/adamginsburg/galactic_plane_surveys/higal/PPMAP_Results/l004_results/l004_cdens.fits'"
   ]
  },
  {
   "cell_type": "code",
   "execution_count": 27,
   "id": "9e9d07ce-fd15-4dfd-b114-104fde8a3047",
   "metadata": {},
   "outputs": [],
   "source": [
    "hdul = fits.open(ppmap)\n",
    "ww = wcs.WCS(hdul[0].header)\n",
    "preg = r0.to_pixel(ww)\n",
    "mask = preg.to_mask()\n",
    "cutout = mask.cutout(hdul[0].data)\n",
    "#pixelarea = 1*u.pixel\n",
    "cden = (mask.multiply(hdul[0].data) * (10**20) * u.cm**(-2))\n",
    "        #* u.Unit(hdul[0].header['BUNIT']))\n"
   ]
  },
  {
   "cell_type": "code",
   "execution_count": 28,
   "id": "5ac0446a-bfa5-4a7c-87a6-041de5d0b1b3",
   "metadata": {},
   "outputs": [
    {
     "data": {
      "text/latex": [
       "$\\mathrm{1 \\times 10^{20}\\,\\frac{1}{cm^{2}}}$"
      ],
      "text/plain": [
       "Unit(\"1e+20 / cm2\")"
      ]
     },
     "execution_count": 28,
     "metadata": {},
     "output_type": "execute_result"
    }
   ],
   "source": [
    "u.Unit(hdul[0].header['BUNIT'])"
   ]
  },
  {
   "cell_type": "code",
   "execution_count": 29,
   "id": "da9e9129-0111-4d21-9afe-933fc27f4490",
   "metadata": {},
   "outputs": [
    {
     "data": {
      "text/latex": [
       "$7.1943375 \\times 10^{21} \\; \\mathrm{\\frac{1}{cm^{2}}}$"
      ],
      "text/plain": [
       "<Quantity 7.19433746e+21 1 / cm2>"
      ]
     },
     "execution_count": 29,
     "metadata": {},
     "output_type": "execute_result"
    }
   ],
   "source": [
    "cden[5,5]"
   ]
  },
  {
   "cell_type": "code",
   "execution_count": 30,
   "id": "8083aa56-d29a-429d-8040-c36e8ae1988e",
   "metadata": {},
   "outputs": [
    {
     "data": {
      "text/plain": [
       "<matplotlib.colorbar.Colorbar at 0x2ab31ee306a0>"
      ]
     },
     "execution_count": 30,
     "metadata": {},
     "output_type": "execute_result"
    },
    {
     "data": {
      "image/png": "[encoded data removed]",
      "text/plain": [
       "<Figure size 432x288 with 2 Axes>"
      ]
     },
     "metadata": {
      "needs_background": "light"
     },
     "output_type": "display_data"
    }
   ],
   "source": [
    "plt.imshow(cden)\n",
    "plt.colorbar()"
   ]
  },
  {
   "cell_type": "code",
   "execution_count": 31,
   "id": "6ed5f9fc-de61-4581-b472-b3adce214b48",
   "metadata": {},
   "outputs": [
    {
     "data": {
      "text/latex": [
       "$[[8.0758171 \\times 10^{21},~8.2961472 \\times 10^{21},~8.4993942 \\times 10^{21},~\\dots,~7.25867 \\times 10^{21},~7.2397949 \\times 10^{21},~7.3745117 \\times 10^{21}],~\n",
       " [7.5611908 \\times 10^{21},~7.9064438 \\times 10^{21},~8.216935 \\times 10^{21},~\\dots,~7.2737984 \\times 10^{21},~7.284568 \\times 10^{21},~7.4058411 \\times 10^{21}],~\n",
       " [7.059758 \\times 10^{21},~7.4915718 \\times 10^{21},~7.8884903 \\times 10^{21},~\\dots,~7.1961411 \\times 10^{21},~7.2976357 \\times 10^{21},~7.4239502 \\times 10^{21}],~\n",
       " \\dots,~\n",
       " [6.484996 \\times 10^{21},~6.5517464 \\times 10^{21},~6.6829567 \\times 10^{21},~\\dots,~9.9936745 \\times 10^{21},~1.0111185 \\times 10^{22},~1.0165408 \\times 10^{22}],~\n",
       " [6.4854668 \\times 10^{21},~6.5739014 \\times 10^{21},~6.7434334 \\times 10^{21},~\\dots,~9.9206245 \\times 10^{21},~1.002046 \\times 10^{22},~1.0015114 \\times 10^{22}],~\n",
       " [0,~0,~0,~\\dots,~0,~0,~0]] \\; \\mathrm{\\frac{u}{cm^{2}}}$"
      ],
      "text/plain": [
       "<Quantity [[8.07581711e+21, 8.29614716e+21, 8.49939423e+21, ...,\n",
       "            7.25867004e+21, 7.23979492e+21, 7.37451172e+21],\n",
       "           [7.56119080e+21, 7.90644379e+21, 8.21693497e+21, ...,\n",
       "            7.27379837e+21, 7.28456802e+21, 7.40584106e+21],\n",
       "           [7.05975800e+21, 7.49157181e+21, 7.88849030e+21, ...,\n",
       "            7.19614105e+21, 7.29763565e+21, 7.42395020e+21],\n",
       "           ...,\n",
       "           [6.48499603e+21, 6.55174637e+21, 6.68295670e+21, ...,\n",
       "            9.99367447e+21, 1.01111855e+22, 1.01654076e+22],\n",
       "           [6.48546677e+21, 6.57390137e+21, 6.74343338e+21, ...,\n",
       "            9.92062454e+21, 1.00204597e+22, 1.00151138e+22],\n",
       "           [0.00000000e+00, 0.00000000e+00, 0.00000000e+00, ...,\n",
       "            0.00000000e+00, 0.00000000e+00, 0.00000000e+00]] u / cm2>"
      ]
     },
     "execution_count": 31,
     "metadata": {},
     "output_type": "execute_result"
    }
   ],
   "source": [
    "cden*u.Da"
   ]
  },
  {
   "cell_type": "code",
   "execution_count": 32,
   "id": "04776c96-180d-4e3a-ae6e-7ba78334cc87",
   "metadata": {},
   "outputs": [
    {
     "data": {
      "text/plain": [
       "<RectanglePixelRegion(center=PixCoord(x=146.7095264995031, y=499.41913751619904), width=125.51378773229975, height=26.85120716004675, angle=0.002418420779051189 deg)>"
      ]
     },
     "execution_count": 32,
     "metadata": {},
     "output_type": "execute_result"
    }
   ],
   "source": [
    "preg"
   ]
  },
  {
   "cell_type": "code",
   "execution_count": 33,
   "id": "f4193b75-1a30-4556-97f1-2b1bc312ba13",
   "metadata": {},
   "outputs": [],
   "source": [
    "pix_area_2 = wcs.WCS(hdul[0].header).celestial.proj_plane_pixel_area()"
   ]
  },
  {
   "cell_type": "code",
   "execution_count": 34,
   "id": "048afddc-2130-4a4d-9423-010bd9446cc9",
   "metadata": {},
   "outputs": [],
   "source": [
    "pix_area_cm_2 = (pix_area_2 * d**2).to(u.parsec**2, equivalencies=u.dimensionless_angles()).to(u.cm**2)"
   ]
  },
  {
   "cell_type": "code",
   "execution_count": 35,
   "id": "792274c2-d59b-44c9-a2be-801e033a5f45",
   "metadata": {},
   "outputs": [
    {
     "data": {
      "text/latex": [
       "$3.9493271 \\times 10^{35} \\; \\mathrm{cm^{2}}$"
      ],
      "text/plain": [
       "<Quantity 3.9493271e+35 cm2>"
      ]
     },
     "execution_count": 35,
     "metadata": {},
     "output_type": "execute_result"
    }
   ],
   "source": [
    "pix_area_cm_2"
   ]
  },
  {
   "cell_type": "code",
   "execution_count": 36,
   "id": "6d2b43dc-77d8-4f75-9b92-df9fd7104965",
   "metadata": {},
   "outputs": [
    {
     "data": {
      "text/latex": [
       "$2.778889 \\times 10^{-6} \\; \\mathrm{deg^{2}}$"
      ],
      "text/plain": [
       "<Quantity 2.778889e-06 deg2>"
      ]
     },
     "execution_count": 36,
     "metadata": {},
     "output_type": "execute_result"
    }
   ],
   "source": [
    "pix_area_2"
   ]
  },
  {
   "cell_type": "code",
   "execution_count": 37,
   "id": "c6bf194d-05fa-4433-b59a-a927af8df462",
   "metadata": {},
   "outputs": [
    {
     "data": {
      "text/latex": [
       "$28276.254 \\; \\mathrm{M_{\\odot}}$"
      ],
      "text/plain": [
       "<Quantity 28276.25379947 solMass>"
      ]
     },
     "execution_count": 37,
     "metadata": {},
     "output_type": "execute_result"
    }
   ],
   "source": [
    "(pix_area_cm_2 * cden*u.Da*2.8).to(u.M_sun).sum()"
   ]
  },
  {
   "cell_type": "code",
   "execution_count": 38,
   "id": "6374a346-4de5-4c33-b670-ead9b65e4362",
   "metadata": {},
   "outputs": [
    {
     "data": {
      "text/latex": [
       "$8.6789857 \\times 10^{21} \\; \\mathrm{\\frac{1}{cm^{2}}}$"
      ],
      "text/plain": [
       "<Quantity 8.67898566e+21 1 / cm2>"
      ]
     },
     "execution_count": 38,
     "metadata": {},
     "output_type": "execute_result"
    }
   ],
   "source": [
    "cden.mean()"
   ]
  },
  {
   "cell_type": "code",
   "execution_count": 39,
   "id": "c6c0cbc2-8502-4fce-b84b-424fc56085b4",
   "metadata": {},
   "outputs": [
    {
     "data": {
      "text/latex": [
       "$387.09762 \\; \\mathrm{\\frac{K\\,km}{s}}$"
      ],
      "text/plain": [
       "<Projection 387.09762129 K km / s>"
      ]
     },
     "execution_count": 39,
     "metadata": {},
     "output_type": "execute_result"
    }
   ],
   "source": [
    "np.nanmean(new_mom0_17)"
   ]
  },
  {
   "cell_type": "code",
   "execution_count": 40,
   "id": "531dbe70-dab5-4ba2-8a14-07e45bd99fa0",
   "metadata": {},
   "outputs": [
    {
     "data": {
      "text/latex": [
       "$2.802583 \\times 10^{19} \\; \\mathrm{\\frac{s}{K\\,km\\,cm^{2}}}$"
      ],
      "text/plain": [
       "<Projection 2.80258299e+19 s / (cm2 K km)>"
      ]
     },
     "execution_count": 40,
     "metadata": {},
     "output_type": "execute_result"
    }
   ],
   "source": [
    "cden.mean()/(np.nanmean(new_mom0_17)*0.8)"
   ]
  },
  {
   "cell_type": "code",
   "execution_count": 41,
   "id": "aa4ca783-966a-486a-9d2b-a86f63a3bba5",
   "metadata": {},
   "outputs": [
    {
     "data": {
      "text/latex": [
       "$0.32899887 \\; \\mathrm{\\frac{M_{\\odot}}{yr}}$"
      ],
      "text/plain": [
       "<Projection 0.32899887 solMass / yr>"
      ]
     },
     "execution_count": 41,
     "metadata": {},
     "output_type": "execute_result"
    }
   ],
   "source": [
    "2.7 * u.Msun / u.year * cden.mean()/(np.nanmean(new_mom0_17)*0.8) / (2.3*10**20 * u.cm**(-2) * (u.K * u.km / u.s)**(-1))"
   ]
  },
  {
   "cell_type": "code",
   "execution_count": null,
   "id": "22789f10-5755-44ec-8175-2448a38cd086",
   "metadata": {},
   "outputs": [],
   "source": []
  },
  {
   "cell_type": "code",
   "execution_count": null,
   "id": "a2abb897-85db-426b-90ec-ce75c584edc0",
   "metadata": {},
   "outputs": [],
   "source": []
  }
 ],
 "metadata": {
  "kernelspec": {
   "display_name": "Python 3 (ipykernel)",
   "language": "python",
   "name": "python3"
  },
  "language_info": {
   "codemirror_mode": {
    "name": "ipython",
    "version": 3
   },
   "file_extension": ".py",
   "mimetype": "text/x-python",
   "name": "python",
   "nbconvert_exporter": "python",
   "pygments_lexer": "ipython3",
   "version": "3.9.13"
  }
 },
 "nbformat": 4,
 "nbformat_minor": 5
}
