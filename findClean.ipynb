{
 "cells": [
  {
   "cell_type": "code",
   "execution_count": 17,
   "id": "0197f101-779c-4099-830e-7ccdcaa73205",
   "metadata": {},
   "outputs": [],
   "source": [
    "def find_tclean(logfile, spw=-1):\n",
    "    spw_specifier = 'spw=[\\'' + str(spw) + '\\', \\'' + str(spw) + '\\', \\'' + str(spw) + '\\']'\n",
    "\n",
    "    linenum = 0\n",
    "    for line in logfile.readlines():\n",
    "        linenum += 1\n",
    "        if spw != -1 and 'tclean(' in line:\n",
    "            if spw_specifier in line:\n",
    "                print('Line Number:', linenum)\n",
    "                print(line)\n",
    "\n",
    "        elif 'tclean(' in line:\n",
    "            print('Line Number:', linenum)\n",
    "            print(line)"
   ]
  },
  {
   "cell_type": "code",
   "execution_count": 21,
   "id": "b493e884-f4e2-4d4d-901d-9ceee0e1b1b6",
   "metadata": {
    "tags": []
   },
   "outputs": [
    {
     "name": "stdout",
     "output_type": "stream",
     "text": [
      "Line Number: 651916\n",
      "2022-06-17 15:13:53\tINFO\timmoments::pipeline.infrastructure.jobrequest::casa\tExecuting tclean(vis=['uid___A002_Xf8f6a9_X122d3_target.ms', 'uid___A002_Xf8f6a9_X12c6a_target.ms', 'uid___A002_Xfa2f45_X258d_target.ms'], field='Sgr_A_star', spw=['24', '24', '24'], antenna=['0,1,2,3,4,5,6,7,8,9&', '0,1,2,3,4,5,6,7,8,9&', '0,1,2,3,4,5,6,7,8,9&'], scan=['7,10,13,16,19', '6,9,12,15,18', '7,10,13,16,19'], intent='OBSERVE_TARGET#ON_SOURCE', datacolumn='corrected', imagename='uid___A001_X15a0_X12c.s38_0.Sgr_A_star_sci.spw24.cube.I.iter0', imsize=[216, 288], cell=['1.9arcsec'], phasecenter='ICRS 17:45:51.2039 -029.04.05.931', stokes='I', specmode='cube', nchan=3833, start='97.6664440809GHz', width='0.4882662MHz', outframe='LSRK', perchanweightdensity=True, gridder='mosaic', mosweight=True, usepointing=False, pblimit=0.2, deconvolver='hogbom', restoration=False, restoringbeam='common', pbcor=False, weighting='briggsbwtaper', robust=0.5, npixels=0, niter=0, threshold='0.0mJy', nsigma=0.0, cyclefactor=1.5, interactive=0, usemask='auto-multithresh', sidelobethreshold=3.0, noisethreshold=5.0, lownoisethreshold=2.0, negativethreshold=0.0, minbeamfrac=0.1, growiterations=75, dogrowprune=True, minpercentchange=1.0, fastnoise=False, savemodel='none', parallel=True)\n",
      "\n",
      "Line Number: 651919\n",
      "2022-06-17 15:13:53\tINFO\ttclean::::casa\ttclean( vis=['/lustre/opsw/work/pipeproc/dataproc/2021.1.00172.L_2022_06_16T20_34_28.893/SOUS_uid___A001_X1590_X30a8/GOUS_uid___A001_X1590_X30a9/MOUS_uid___A001_X15a0_X12c/working/uid___A002_Xf8f6a9_X122d3_target.ms', '/lustre/opsw/work/pipeproc/dataproc/2021.1.00172.L_2022_06_16T20_34_28.893/SOUS_uid___A001_X1590_X30a8/GOUS_uid___A001_X1590_X30a9/MOUS_uid___A001_X15a0_X12c/working/uid___A002_Xf8f6a9_X12c6a_target.ms', '/lustre/opsw/work/pipeproc/dataproc/2021.1.00172.L_2022_06_16T20_34_28.893/SOUS_uid___A001_X1590_X30a8/GOUS_uid___A001_X1590_X30a9/MOUS_uid___A001_X15a0_X12c/working/uid___A002_Xfa2f45_X258d_target.ms'], selectdata=True, field='Sgr_A_star', spw=['24', '24', '24'], timerange='', uvrange='', antenna=['0,1,2,3,4,5,6,7,8,9&', '0,1,2,3,4,5,6,7,8,9&', '0,1,2,3,4,5,6,7,8,9&'], scan=['7,10,13,16,19', '6,9,12,15,18', '7,10,13,16,19'], observation='', intent='OBSERVE_TARGET#ON_SOURCE', datacolumn='corrected', imagename='uid___A001_X15a0_X12c.s38_0.Sgr_A_star_sci.spw24.cube.I.iter0', imsize=[216, 288], cell=['1.9arcsec'], phasecenter='ICRS 17:45:51.2039 -029.04.05.931', stokes='I', projection='SIN', startmodel='', specmode='cube', reffreq='', nchan=3833, start='97.6664440809GHz', width='0.4882662MHz', outframe='LSRK', veltype='radio', restfreq=[], interpolation='linear', perchanweightdensity=True, gridder='mosaic', facets=1, psfphasecenter='', wprojplanes=1, vptable='', mosweight=True, aterm=True, psterm=False, wbawp=True, conjbeams=False, cfcache='', usepointing=False, computepastep=360.0, rotatepastep=360.0, pointingoffsetsigdev=[], pblimit=0.2, normtype='flatnoise', deconvolver='hogbom', scales=[], nterms=2, smallscalebias=0.0, restoration=False, restoringbeam='common', pbcor=False, outlierfile='', weighting='briggsbwtaper', robust=0.5, noise='1.0Jy', npixels=0, uvtaper=[''], niter=0, gain=0.1, threshold='0.0mJy', nsigma=0.0, cycleniter=-1, cyclefactor=1.5, minpsffraction=0.05, maxpsffraction=0.8, interactive=0, usemask='auto-multithresh', mask='', pbmask=0.0, sidelobethreshold=3.0, noisethreshold=5.0, lownoisethreshold=2.0, negativethreshold=0.0, smoothfactor=1.0, minbeamfrac=0.1, cutthreshold=0.01, growiterations=75, dogrowprune=True, minpercentchange=1.0, verbose=False, fastnoise=False, restart=True, savemodel='none', calcres=True, calcpsf=True, psfcutoff=0.35, parallel=True )\n",
      "\n",
      "Line Number: 656152\n",
      "2022-06-17 15:27:51\tINFO\ttclean::pipeline.infrastructure.jobrequest::casa\tExecuting tclean(vis=['uid___A002_Xf8f6a9_X122d3_target.ms', 'uid___A002_Xf8f6a9_X12c6a_target.ms', 'uid___A002_Xfa2f45_X258d_target.ms'], field='Sgr_A_star', spw=['24', '24', '24'], antenna=['0,1,2,3,4,5,6,7,8,9&', '0,1,2,3,4,5,6,7,8,9&', '0,1,2,3,4,5,6,7,8,9&'], scan=['7,10,13,16,19', '6,9,12,15,18', '7,10,13,16,19'], intent='OBSERVE_TARGET#ON_SOURCE', datacolumn='corrected', imagename='uid___A001_X15a0_X12c.s38_0.Sgr_A_star_sci.spw24.cube.I.iter1', imsize=[216, 288], cell=['1.9arcsec'], phasecenter='ICRS 17:45:51.2039 -029.04.05.931', stokes='I', specmode='cube', nchan=3833, start='97.6664440809GHz', width='0.4882662MHz', outframe='LSRK', perchanweightdensity=True, gridder='mosaic', mosweight=True, usepointing=False, pblimit=0.2, deconvolver='hogbom', restoration=True, restoringbeam='common', pbcor=True, weighting='briggsbwtaper', robust=0.5, npixels=0, niter=899999, threshold='0.139Jy', nsigma=0.0, cyclefactor=1.5, interactive=0, usemask='auto-multithresh', sidelobethreshold=3.0, noisethreshold=5.0, lownoisethreshold=2.0, negativethreshold=0.0, minbeamfrac=0.1, growiterations=75, dogrowprune=True, minpercentchange=1.0, fastnoise=False, restart=True, savemodel='none', calcres=False, calcpsf=False, parallel=True)\n",
      "\n",
      "Line Number: 656155\n",
      "2022-06-17 15:27:51\tINFO\ttclean::::casa\ttclean( vis=['/lustre/opsw/work/pipeproc/dataproc/2021.1.00172.L_2022_06_16T20_34_28.893/SOUS_uid___A001_X1590_X30a8/GOUS_uid___A001_X1590_X30a9/MOUS_uid___A001_X15a0_X12c/working/uid___A002_Xf8f6a9_X122d3_target.ms', '/lustre/opsw/work/pipeproc/dataproc/2021.1.00172.L_2022_06_16T20_34_28.893/SOUS_uid___A001_X1590_X30a8/GOUS_uid___A001_X1590_X30a9/MOUS_uid___A001_X15a0_X12c/working/uid___A002_Xf8f6a9_X12c6a_target.ms', '/lustre/opsw/work/pipeproc/dataproc/2021.1.00172.L_2022_06_16T20_34_28.893/SOUS_uid___A001_X1590_X30a8/GOUS_uid___A001_X1590_X30a9/MOUS_uid___A001_X15a0_X12c/working/uid___A002_Xfa2f45_X258d_target.ms'], selectdata=True, field='Sgr_A_star', spw=['24', '24', '24'], timerange='', uvrange='', antenna=['0,1,2,3,4,5,6,7,8,9&', '0,1,2,3,4,5,6,7,8,9&', '0,1,2,3,4,5,6,7,8,9&'], scan=['7,10,13,16,19', '6,9,12,15,18', '7,10,13,16,19'], observation='', intent='OBSERVE_TARGET#ON_SOURCE', datacolumn='corrected', imagename='uid___A001_X15a0_X12c.s38_0.Sgr_A_star_sci.spw24.cube.I.iter1', imsize=[216, 288], cell=['1.9arcsec'], phasecenter='ICRS 17:45:51.2039 -029.04.05.931', stokes='I', projection='SIN', startmodel='', specmode='cube', reffreq='', nchan=3833, start='97.6664440809GHz', width='0.4882662MHz', outframe='LSRK', veltype='radio', restfreq=[], interpolation='linear', perchanweightdensity=True, gridder='mosaic', facets=1, psfphasecenter='', wprojplanes=1, vptable='', mosweight=True, aterm=True, psterm=False, wbawp=True, conjbeams=False, cfcache='', usepointing=False, computepastep=360.0, rotatepastep=360.0, pointingoffsetsigdev=[], pblimit=0.2, normtype='flatnoise', deconvolver='hogbom', scales=[], nterms=2, smallscalebias=0.0, restoration=True, restoringbeam='common', pbcor=True, outlierfile='', weighting='briggsbwtaper', robust=0.5, noise='1.0Jy', npixels=0, uvtaper=[''], niter=899999, gain=0.1, threshold='0.139Jy', nsigma=0.0, cycleniter=-1, cyclefactor=1.5, minpsffraction=0.05, maxpsffraction=0.8, interactive=0, usemask='auto-multithresh', mask='', pbmask=0.0, sidelobethreshold=3.0, noisethreshold=5.0, lownoisethreshold=2.0, negativethreshold=0.0, smoothfactor=1.0, minbeamfrac=0.1, cutthreshold=0.01, growiterations=75, dogrowprune=True, minpercentchange=1.0, verbose=False, fastnoise=False, restart=True, savemodel='none', calcres=False, calcpsf=False, psfcutoff=0.35, parallel=True )\n",
      "\n"
     ]
    }
   ],
   "source": [
    "logfilename = '/orange/adamginsburg/web/secure/ACES/weblogs/humanreadable/Sgr_A_st_x_03_7M_0/html/stage38/casapy.log'\n",
    "\n",
    "logfile = open(logfilename, 'r')\n",
    "spw = 24 # set to -1 if you want all spw\n",
    "\n",
    "find_tclean(logfile, spw=24)\n",
    "\n",
    "logfile.close()"
   ]
  },
  {
   "cell_type": "code",
   "execution_count": 19,
   "id": "4282ac70-9e30-44e0-abc3-b7022ee13f0d",
   "metadata": {},
   "outputs": [
    {
     "data": {
      "text/plain": [
       "'/orange/adamginsburg/cmz/g5/code/clouds-g5-b1'"
      ]
     },
     "execution_count": 19,
     "metadata": {},
     "output_type": "execute_result"
    }
   ],
   "source": [
    "pwd"
   ]
  },
  {
   "cell_type": "code",
   "execution_count": null,
   "id": "18036c53-65cc-4c1f-89f3-0c4200a45d7c",
   "metadata": {},
   "outputs": [],
   "source": []
  }
 ],
 "metadata": {
  "kernelspec": {
   "display_name": "Python 3 (ipykernel)",
   "language": "python",
   "name": "python3"
  },
  "language_info": {
   "codemirror_mode": {
    "name": "ipython",
    "version": 3
   },
   "file_extension": ".py",
   "mimetype": "text/x-python",
   "name": "python",
   "nbconvert_exporter": "python",
   "pygments_lexer": "ipython3",
   "version": "3.9.13"
  }
 },
 "nbformat": 4,
 "nbformat_minor": 5
}
