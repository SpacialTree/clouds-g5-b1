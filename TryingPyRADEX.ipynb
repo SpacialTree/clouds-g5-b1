{
 "cells": [
  {
   "cell_type": "code",
   "execution_count": 5,
   "id": "b4e23a04-c078-4ac8-8040-00e5f752f64d",
   "metadata": {},
   "outputs": [],
   "source": [
    "import pyradex\n",
    "import numpy as np\n",
    "import astropy.units as u\n",
    "import matplotlib.pyplot as plt"
   ]
  },
  {
   "cell_type": "code",
   "execution_count": 6,
   "id": "d0183795-6b4c-40da-bbbb-9d5ea52f4105",
   "metadata": {},
   "outputs": [],
   "source": [
    "#help(pyradex.Radex)"
   ]
  },
  {
   "cell_type": "code",
   "execution_count": 7,
   "id": "702bf1f7-d86d-433f-bd8a-0d38095b7cbc",
   "metadata": {},
   "outputs": [],
   "source": [
    "data = '/orange/adamginsburg/cmz/g5/code/'"
   ]
  },
  {
   "cell_type": "code",
   "execution_count": 8,
   "id": "25a8d80d-4ac5-4c8e-b95e-5adc2ee370c7",
   "metadata": {},
   "outputs": [
    {
     "name": "stderr",
     "output_type": "stream",
     "text": [
      "WARNING: Assuming the density is n(H_2). [pyradex.core]\n"
     ]
    }
   ],
   "source": [
    "R = pyradex.Radex(density=10**5, column=10**15, temperature=50, species='sio', datapath=data)"
   ]
  },
  {
   "cell_type": "code",
   "execution_count": null,
   "id": "07e28cad-c5b3-4aa5-8f23-1559be48dbbd",
   "metadata": {},
   "outputs": [],
   "source": [
    "Tlvg = R(escapeProbGeom='lvg')\n",
    "Tlvg"
   ]
  },
  {
   "cell_type": "code",
   "execution_count": null,
   "id": "39879a2e-1dcf-43a7-bd3f-80a4bc104818",
   "metadata": {},
   "outputs": [],
   "source": [
    "Tlvg\n",
    "\n",
    "plt.plot(Tlvg['upperstateenergy'],Tlvg['upperlevelpop'])\n",
    "#plt.yscale('log')"
   ]
  },
  {
   "cell_type": "code",
   "execution_count": null,
   "id": "aa32bff6-8c7f-4f07-9a42-89a15eb59634",
   "metadata": {},
   "outputs": [],
   "source": [
    "densities = np.linspace(10**2, 10**8, 10) # cm-3\n",
    "column_densities = np.linspace(10**(22), 10**(23), 10)\n",
    "temperatures = np.linspace(10, 100, 10)"
   ]
  },
  {
   "cell_type": "code",
   "execution_count": null,
   "id": "dca68db4-c543-4f47-b60f-da885692c53c",
   "metadata": {},
   "outputs": [],
   "source": [
    "Ra = pyradex.Radex(total_density=10**2, column=10**22, temperature=50, species='sio', datapath=data)"
   ]
  },
  {
   "cell_type": "code",
   "execution_count": null,
   "id": "0bd533f9-0e99-4142-b2fb-8e45c4f6308c",
   "metadata": {},
   "outputs": [],
   "source": [
    "import sys"
   ]
  },
  {
   "cell_type": "code",
   "execution_count": null,
   "id": "09c3a7ef-7f54-4d6c-ac2a-0e5e2cf7407d",
   "metadata": {},
   "outputs": [],
   "source": [
    "sys.version"
   ]
  },
  {
   "cell_type": "code",
   "execution_count": null,
   "id": "a67814b0-a2b9-4df0-bb5b-eaa8d348ac47",
   "metadata": {},
   "outputs": [],
   "source": []
  }
 ],
 "metadata": {
  "kernelspec": {
   "display_name": "Python 3 (ipykernel)",
   "language": "python",
   "name": "python3"
  },
  "language_info": {
   "codemirror_mode": {
    "name": "ipython",
    "version": 3
   },
   "file_extension": ".py",
   "mimetype": "text/x-python",
   "name": "python",
   "nbconvert_exporter": "python",
   "pygments_lexer": "ipython3",
   "version": "3.9.7"
  }
 },
 "nbformat": 4,
 "nbformat_minor": 5
}
